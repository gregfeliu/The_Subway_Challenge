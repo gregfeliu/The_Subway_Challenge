{
 "cells": [
  {
   "cell_type": "markdown",
   "metadata": {},
   "source": [
    "import re\n",
    "import pandas as pd\n",
    "# ^^^ pyforest auto-imports - don't write above this line\n",
    "# Imports"
   ]
  },
  {
   "cell_type": "code",
   "execution_count": 254,
   "metadata": {
    "ExecuteTime": {
     "end_time": "2020-07-26T18:00:57.130767Z",
     "start_time": "2020-07-26T18:00:57.128526Z"
    }
   },
   "outputs": [],
   "source": [
    "# pip install dijkstar"
   ]
  },
  {
   "cell_type": "code",
   "execution_count": 255,
   "metadata": {
    "ExecuteTime": {
     "end_time": "2020-07-26T18:00:57.137127Z",
     "start_time": "2020-07-26T18:00:57.133538Z"
    }
   },
   "outputs": [],
   "source": [
    "import folium\n",
    "from collections import Counter\n",
    "import postman_problems\n",
    "from postman_problems.solver import cpp\n",
    "from postman_problems.stats import calculate_postman_solution_stats\n",
    "import networkx as nx\n",
    "import itertools\n",
    "import dwave_networkx as dnx\n",
    "import dimod\n",
    "import time\n",
    "import dijkstar"
   ]
  },
  {
   "cell_type": "markdown",
   "metadata": {},
   "source": [
    "## My Data"
   ]
  },
  {
   "cell_type": "code",
   "execution_count": 256,
   "metadata": {
    "ExecuteTime": {
     "end_time": "2020-07-26T18:00:57.148876Z",
     "start_time": "2020-07-26T18:00:57.139834Z"
    }
   },
   "outputs": [
    {
     "data": {
      "application/javascript": [
       "\n",
       "        if (window._pyforest_update_imports_cell) { window._pyforest_update_imports_cell('import re\\nimport pandas as pd'); }\n",
       "    "
      ],
      "text/plain": [
       "<IPython.core.display.Javascript object>"
      ]
     },
     "metadata": {},
     "output_type": "display_data"
    }
   ],
   "source": [
    "stations_df = pd.read_csv(\"./saved_data/final_station_df.csv\", index_col = 0)"
   ]
  },
  {
   "cell_type": "code",
   "execution_count": 257,
   "metadata": {
    "ExecuteTime": {
     "end_time": "2020-07-26T18:00:57.158018Z",
     "start_time": "2020-07-26T18:00:57.151007Z"
    }
   },
   "outputs": [
    {
     "data": {
      "application/javascript": [
       "\n",
       "        if (window._pyforest_update_imports_cell) { window._pyforest_update_imports_cell('import re\\nimport pandas as pd'); }\n",
       "    "
      ],
      "text/plain": [
       "<IPython.core.display.Javascript object>"
      ]
     },
     "metadata": {},
     "output_type": "display_data"
    }
   ],
   "source": [
    "non_unique_stations_df = pd.read_csv(\"./saved_data/non_unique_mta_stations.csv\", index_col=0)"
   ]
  },
  {
   "cell_type": "code",
   "execution_count": 258,
   "metadata": {
    "ExecuteTime": {
     "end_time": "2020-07-26T18:00:57.166218Z",
     "start_time": "2020-07-26T18:00:57.159458Z"
    }
   },
   "outputs": [
    {
     "data": {
      "application/javascript": [
       "\n",
       "        if (window._pyforest_update_imports_cell) { window._pyforest_update_imports_cell('import re\\nimport pandas as pd'); }\n",
       "    "
      ],
      "text/plain": [
       "<IPython.core.display.Javascript object>"
      ]
     },
     "metadata": {},
     "output_type": "display_data"
    }
   ],
   "source": [
    "my_edgelist = pd.read_csv('./saved_data/edge_list_df_no_req.csv', index_col=0)"
   ]
  },
  {
   "cell_type": "code",
   "execution_count": 259,
   "metadata": {
    "ExecuteTime": {
     "end_time": "2020-07-26T18:00:57.174327Z",
     "start_time": "2020-07-26T18:00:57.167723Z"
    }
   },
   "outputs": [
    {
     "data": {
      "application/javascript": [
       "\n",
       "        if (window._pyforest_update_imports_cell) { window._pyforest_update_imports_cell('import re\\nimport pandas as pd'); }\n",
       "    "
      ],
      "text/plain": [
       "<IPython.core.display.Javascript object>"
      ]
     },
     "metadata": {},
     "output_type": "display_data"
    }
   ],
   "source": [
    "node_list_df = pd.read_csv(\"./saved_data/nodelist_nyc_subway.csv\", index_col=0).reset_index()"
   ]
  },
  {
   "cell_type": "code",
   "execution_count": 260,
   "metadata": {
    "ExecuteTime": {
     "end_time": "2020-07-26T18:00:57.185377Z",
     "start_time": "2020-07-26T18:00:57.176474Z"
    }
   },
   "outputs": [
    {
     "data": {
      "text/html": [
       "<div>\n",
       "<style scoped>\n",
       "    .dataframe tbody tr th:only-of-type {\n",
       "        vertical-align: middle;\n",
       "    }\n",
       "\n",
       "    .dataframe tbody tr th {\n",
       "        vertical-align: top;\n",
       "    }\n",
       "\n",
       "    .dataframe thead th {\n",
       "        text-align: right;\n",
       "    }\n",
       "</style>\n",
       "<table border=\"1\" class=\"dataframe\">\n",
       "  <thead>\n",
       "    <tr style=\"text-align: right;\">\n",
       "      <th></th>\n",
       "      <th>station_id</th>\n",
       "      <th>X</th>\n",
       "      <th>Y</th>\n",
       "    </tr>\n",
       "  </thead>\n",
       "  <tbody>\n",
       "    <tr>\n",
       "      <th>0</th>\n",
       "      <td>101</td>\n",
       "      <td>40.889248</td>\n",
       "      <td>-73.898583</td>\n",
       "    </tr>\n",
       "    <tr>\n",
       "      <th>1</th>\n",
       "      <td>103</td>\n",
       "      <td>40.884667</td>\n",
       "      <td>-73.900870</td>\n",
       "    </tr>\n",
       "    <tr>\n",
       "      <th>2</th>\n",
       "      <td>104</td>\n",
       "      <td>40.878856</td>\n",
       "      <td>-73.904834</td>\n",
       "    </tr>\n",
       "    <tr>\n",
       "      <th>3</th>\n",
       "      <td>106</td>\n",
       "      <td>40.874561</td>\n",
       "      <td>-73.909831</td>\n",
       "    </tr>\n",
       "    <tr>\n",
       "      <th>4</th>\n",
       "      <td>107</td>\n",
       "      <td>40.869444</td>\n",
       "      <td>-73.915279</td>\n",
       "    </tr>\n",
       "    <tr>\n",
       "      <th>...</th>\n",
       "      <td>...</td>\n",
       "      <td>...</td>\n",
       "      <td>...</td>\n",
       "    </tr>\n",
       "    <tr>\n",
       "      <th>446</th>\n",
       "      <td>R43</td>\n",
       "      <td>40.629742</td>\n",
       "      <td>-74.025510</td>\n",
       "    </tr>\n",
       "    <tr>\n",
       "      <th>447</th>\n",
       "      <td>R44</td>\n",
       "      <td>40.622687</td>\n",
       "      <td>-74.028398</td>\n",
       "    </tr>\n",
       "    <tr>\n",
       "      <th>448</th>\n",
       "      <td>S01</td>\n",
       "      <td>40.680596</td>\n",
       "      <td>-73.955827</td>\n",
       "    </tr>\n",
       "    <tr>\n",
       "      <th>449</th>\n",
       "      <td>S03</td>\n",
       "      <td>40.674772</td>\n",
       "      <td>-73.957624</td>\n",
       "    </tr>\n",
       "    <tr>\n",
       "      <th>450</th>\n",
       "      <td>S04</td>\n",
       "      <td>40.670343</td>\n",
       "      <td>-73.959245</td>\n",
       "    </tr>\n",
       "  </tbody>\n",
       "</table>\n",
       "<p>451 rows × 3 columns</p>\n",
       "</div>"
      ],
      "text/plain": [
       "    station_id          X          Y\n",
       "0          101  40.889248 -73.898583\n",
       "1          103  40.884667 -73.900870\n",
       "2          104  40.878856 -73.904834\n",
       "3          106  40.874561 -73.909831\n",
       "4          107  40.869444 -73.915279\n",
       "..         ...        ...        ...\n",
       "446        R43  40.629742 -74.025510\n",
       "447        R44  40.622687 -74.028398\n",
       "448        S01  40.680596 -73.955827\n",
       "449        S03  40.674772 -73.957624\n",
       "450        S04  40.670343 -73.959245\n",
       "\n",
       "[451 rows x 3 columns]"
      ]
     },
     "execution_count": 260,
     "metadata": {},
     "output_type": "execute_result"
    }
   ],
   "source": [
    "node_list_df"
   ]
  },
  {
   "cell_type": "markdown",
   "metadata": {},
   "source": [
    "# Mini Dijkstar Attempt"
   ]
  },
  {
   "cell_type": "markdown",
   "metadata": {},
   "source": [
    "## Getting A,C,E Edges"
   ]
  },
  {
   "cell_type": "code",
   "execution_count": 154,
   "metadata": {
    "ExecuteTime": {
     "end_time": "2020-07-26T15:18:58.185677Z",
     "start_time": "2020-07-26T15:18:58.178876Z"
    }
   },
   "outputs": [],
   "source": [
    "good_indices_ace = []\n",
    "for idx, x in enumerate(my_edgelist['node1']):\n",
    "    for letter in 'A':\n",
    "        if letter in x and letter in my_edgelist['node2'][idx]:\n",
    "            if idx not in good_indices_ace:\n",
    "                good_indices_ace.append(idx)"
   ]
  },
  {
   "cell_type": "code",
   "execution_count": 155,
   "metadata": {
    "ExecuteTime": {
     "end_time": "2020-07-26T15:18:58.423259Z",
     "start_time": "2020-07-26T15:18:58.418330Z"
    }
   },
   "outputs": [],
   "source": [
    "A_edgelist = my_edgelist.iloc[good_indices_ace]"
   ]
  },
  {
   "cell_type": "code",
   "execution_count": 66,
   "metadata": {
    "ExecuteTime": {
     "end_time": "2020-07-25T23:38:19.144479Z",
     "start_time": "2020-07-25T23:38:19.133174Z"
    }
   },
   "outputs": [
    {
     "data": {
      "text/html": [
       "<div>\n",
       "<style scoped>\n",
       "    .dataframe tbody tr th:only-of-type {\n",
       "        vertical-align: middle;\n",
       "    }\n",
       "\n",
       "    .dataframe tbody tr th {\n",
       "        vertical-align: top;\n",
       "    }\n",
       "\n",
       "    .dataframe thead th {\n",
       "        text-align: right;\n",
       "    }\n",
       "</style>\n",
       "<table border=\"1\" class=\"dataframe\">\n",
       "  <thead>\n",
       "    <tr style=\"text-align: right;\">\n",
       "      <th></th>\n",
       "      <th>node1</th>\n",
       "      <th>node2</th>\n",
       "      <th>trail</th>\n",
       "      <th>color</th>\n",
       "      <th>distance</th>\n",
       "    </tr>\n",
       "  </thead>\n",
       "  <tbody>\n",
       "    <tr>\n",
       "      <th>194</th>\n",
       "      <td>A02</td>\n",
       "      <td>A03</td>\n",
       "      <td>nyc subway</td>\n",
       "      <td>red</td>\n",
       "      <td>90</td>\n",
       "    </tr>\n",
       "    <tr>\n",
       "      <th>195</th>\n",
       "      <td>A03</td>\n",
       "      <td>A05</td>\n",
       "      <td>nyc subway</td>\n",
       "      <td>red</td>\n",
       "      <td>120</td>\n",
       "    </tr>\n",
       "  </tbody>\n",
       "</table>\n",
       "</div>"
      ],
      "text/plain": [
       "    node1 node2       trail color  distance\n",
       "194   A02   A03  nyc subway   red        90\n",
       "195   A03   A05  nyc subway   red       120"
      ]
     },
     "execution_count": 66,
     "metadata": {},
     "output_type": "execute_result"
    }
   ],
   "source": [
    "AC_edgelist.head(2)"
   ]
  },
  {
   "cell_type": "code",
   "execution_count": 156,
   "metadata": {
    "ExecuteTime": {
     "end_time": "2020-07-26T15:19:03.608980Z",
     "start_time": "2020-07-26T15:19:03.604846Z"
    }
   },
   "outputs": [],
   "source": [
    "A_edgelist.reset_index(inplace=True, drop=True)"
   ]
  },
  {
   "cell_type": "code",
   "execution_count": 157,
   "metadata": {
    "ExecuteTime": {
     "end_time": "2020-07-26T15:19:09.256312Z",
     "start_time": "2020-07-26T15:19:09.244238Z"
    }
   },
   "outputs": [
    {
     "data": {
      "text/html": [
       "<div>\n",
       "<style scoped>\n",
       "    .dataframe tbody tr th:only-of-type {\n",
       "        vertical-align: middle;\n",
       "    }\n",
       "\n",
       "    .dataframe tbody tr th {\n",
       "        vertical-align: top;\n",
       "    }\n",
       "\n",
       "    .dataframe thead th {\n",
       "        text-align: right;\n",
       "    }\n",
       "</style>\n",
       "<table border=\"1\" class=\"dataframe\">\n",
       "  <thead>\n",
       "    <tr style=\"text-align: right;\">\n",
       "      <th></th>\n",
       "      <th>node1</th>\n",
       "      <th>node2</th>\n",
       "      <th>trail</th>\n",
       "      <th>color</th>\n",
       "      <th>distance</th>\n",
       "    </tr>\n",
       "  </thead>\n",
       "  <tbody>\n",
       "    <tr>\n",
       "      <th>5</th>\n",
       "      <td>112_A09</td>\n",
       "      <td>A12_D13</td>\n",
       "      <td>nyc subway</td>\n",
       "      <td>red</td>\n",
       "      <td>210</td>\n",
       "    </tr>\n",
       "    <tr>\n",
       "      <th>6</th>\n",
       "      <td>112_A09</td>\n",
       "      <td>A10</td>\n",
       "      <td>nyc subway</td>\n",
       "      <td>red</td>\n",
       "      <td>90</td>\n",
       "    </tr>\n",
       "  </tbody>\n",
       "</table>\n",
       "</div>"
      ],
      "text/plain": [
       "     node1    node2       trail color  distance\n",
       "5  112_A09  A12_D13  nyc subway   red       210\n",
       "6  112_A09      A10  nyc subway   red        90"
      ]
     },
     "execution_count": 157,
     "metadata": {},
     "output_type": "execute_result"
    }
   ],
   "source": [
    "A_edgelist[A_edgelist['node1'] == '112_A09']"
   ]
  },
  {
   "cell_type": "markdown",
   "metadata": {},
   "source": [
    "## Getting A,C,E Nodes"
   ]
  },
  {
   "cell_type": "code",
   "execution_count": 150,
   "metadata": {
    "ExecuteTime": {
     "end_time": "2020-07-26T15:18:31.482350Z",
     "start_time": "2020-07-26T15:18:31.476182Z"
    }
   },
   "outputs": [],
   "source": [
    "A_nodelist = node_list_df[node_list_df.station_id.str.contains(\"A\")]\n",
    "# C_nodelist = node_list_df[node_list_df.station_id.str.contains(\"C\")]\n",
    "# E_nodelist = node_list_df[node_list_df.station_id.str.contains(\"E\")]\n",
    "# A_nodelist = pd.concat([A_nodelist, C_nodelist])"
   ]
  },
  {
   "cell_type": "code",
   "execution_count": 172,
   "metadata": {
    "ExecuteTime": {
     "end_time": "2020-07-26T15:22:05.653208Z",
     "start_time": "2020-07-26T15:22:05.648967Z"
    }
   },
   "outputs": [],
   "source": [
    "A_nodelist.reset_index(inplace=True, drop=True)"
   ]
  },
  {
   "cell_type": "code",
   "execution_count": 151,
   "metadata": {
    "ExecuteTime": {
     "end_time": "2020-07-26T15:18:33.506343Z",
     "start_time": "2020-07-26T15:18:33.500804Z"
    }
   },
   "outputs": [
    {
     "data": {
      "text/plain": [
       "(52, 3)"
      ]
     },
     "execution_count": 151,
     "metadata": {},
     "output_type": "execute_result"
    }
   ],
   "source": [
    "A_nodelist.shape"
   ]
  },
  {
   "cell_type": "code",
   "execution_count": 167,
   "metadata": {
    "ExecuteTime": {
     "end_time": "2020-07-26T15:20:26.938406Z",
     "start_time": "2020-07-26T15:20:26.927542Z"
    }
   },
   "outputs": [
    {
     "data": {
      "text/html": [
       "<div>\n",
       "<style scoped>\n",
       "    .dataframe tbody tr th:only-of-type {\n",
       "        vertical-align: middle;\n",
       "    }\n",
       "\n",
       "    .dataframe tbody tr th {\n",
       "        vertical-align: top;\n",
       "    }\n",
       "\n",
       "    .dataframe thead th {\n",
       "        text-align: right;\n",
       "    }\n",
       "</style>\n",
       "<table border=\"1\" class=\"dataframe\">\n",
       "  <thead>\n",
       "    <tr style=\"text-align: right;\">\n",
       "      <th></th>\n",
       "      <th>station_id</th>\n",
       "      <th>X</th>\n",
       "      <th>Y</th>\n",
       "    </tr>\n",
       "  </thead>\n",
       "  <tbody>\n",
       "    <tr>\n",
       "      <th>9</th>\n",
       "      <td>112_A09</td>\n",
       "      <td>40.840556</td>\n",
       "      <td>-73.940133</td>\n",
       "    </tr>\n",
       "    <tr>\n",
       "      <th>22</th>\n",
       "      <td>125_A24</td>\n",
       "      <td>40.768247</td>\n",
       "      <td>-73.981929</td>\n",
       "    </tr>\n",
       "    <tr>\n",
       "      <th>174</th>\n",
       "      <td>A02</td>\n",
       "      <td>40.868072</td>\n",
       "      <td>-73.919899</td>\n",
       "    </tr>\n",
       "    <tr>\n",
       "      <th>175</th>\n",
       "      <td>A03</td>\n",
       "      <td>40.865491</td>\n",
       "      <td>-73.927271</td>\n",
       "    </tr>\n",
       "    <tr>\n",
       "      <th>176</th>\n",
       "      <td>A05</td>\n",
       "      <td>40.859022</td>\n",
       "      <td>-73.934180</td>\n",
       "    </tr>\n",
       "  </tbody>\n",
       "</table>\n",
       "</div>"
      ],
      "text/plain": [
       "    station_id          X          Y\n",
       "9      112_A09  40.840556 -73.940133\n",
       "22     125_A24  40.768247 -73.981929\n",
       "174        A02  40.868072 -73.919899\n",
       "175        A03  40.865491 -73.927271\n",
       "176        A05  40.859022 -73.934180"
      ]
     },
     "execution_count": 167,
     "metadata": {},
     "output_type": "execute_result"
    }
   ],
   "source": [
    "A_nodelist.head()"
   ]
  },
  {
   "cell_type": "markdown",
   "metadata": {},
   "source": [
    "## Making TSP Matrix"
   ]
  },
  {
   "cell_type": "code",
   "execution_count": 152,
   "metadata": {
    "ExecuteTime": {
     "end_time": "2020-07-26T15:18:38.505610Z",
     "start_time": "2020-07-26T15:18:38.501627Z"
    }
   },
   "outputs": [],
   "source": [
    "dijk_ace_graph = dijkstar.Graph(undirected=True)"
   ]
  },
  {
   "cell_type": "code",
   "execution_count": 158,
   "metadata": {
    "ExecuteTime": {
     "end_time": "2020-07-26T15:19:13.256265Z",
     "start_time": "2020-07-26T15:19:13.251165Z"
    }
   },
   "outputs": [],
   "source": [
    "zipped_edges = list(zip(A_edgelist['node1'], A_edgelist['node2'], A_edgelist['distance']))\n",
    "for x in zipped_edges:\n",
    "    dijk_ace_graph.add_edge(x[0], x[1], x[2])"
   ]
  },
  {
   "cell_type": "code",
   "execution_count": 159,
   "metadata": {
    "ExecuteTime": {
     "end_time": "2020-07-26T15:19:14.307538Z",
     "start_time": "2020-07-26T15:19:14.302246Z"
    }
   },
   "outputs": [
    {
     "data": {
      "text/plain": [
       "63"
      ]
     },
     "execution_count": 159,
     "metadata": {},
     "output_type": "execute_result"
    }
   ],
   "source": [
    "len(zipped_edges)"
   ]
  },
  {
   "cell_type": "markdown",
   "metadata": {},
   "source": [
    "### Find distances between all pairs"
   ]
  },
  {
   "cell_type": "code",
   "execution_count": 183,
   "metadata": {
    "ExecuteTime": {
     "end_time": "2020-07-26T15:22:48.173746Z",
     "start_time": "2020-07-26T15:22:48.165025Z"
    }
   },
   "outputs": [],
   "source": [
    "def get_indirect_distance(dijkstar_graph, nodelist):\n",
    "    distance_matrix = []\n",
    "    for i in range(len(nodelist)):\n",
    "        start_node = nodelist['station_id'][i]\n",
    "        one_node_tree = []\n",
    "        for num in range(i, len(nodelist)):\n",
    "            dest_node = nodelist['station_id'][num]\n",
    "            path = dijkstar.find_path(dijkstar_graph, start_node, dest_node)\n",
    "            path_distance = path.total_cost\n",
    "            one_node_tree.append(path_distance)\n",
    "        distance_matrix.append(one_node_tree)  # top right triangle of matrix\n",
    "    for i in range(len(distance_matrix)):\n",
    "#         print(f\"i = {i}\")\n",
    "        for x in range(i, len(distance_matrix)):\n",
    "#             print(f\"x = {x}\")\n",
    "            if distance_matrix[i][x] != 0:\n",
    "                distance_matrix[x].insert(i, distance_matrix[i][x])\n",
    "    return distance_matrix"
   ]
  },
  {
   "cell_type": "code",
   "execution_count": 184,
   "metadata": {
    "ExecuteTime": {
     "end_time": "2020-07-26T15:22:48.527136Z",
     "start_time": "2020-07-26T15:22:48.446963Z"
    }
   },
   "outputs": [],
   "source": [
    "A_dist_matrix = get_indirect_distance(dijk_ace_graph, A_nodelist)"
   ]
  },
  {
   "cell_type": "code",
   "execution_count": 185,
   "metadata": {
    "ExecuteTime": {
     "end_time": "2020-07-26T15:22:48.884705Z",
     "start_time": "2020-07-26T15:22:48.879001Z"
    }
   },
   "outputs": [
    {
     "data": {
      "text/plain": [
       "52"
      ]
     },
     "execution_count": 185,
     "metadata": {},
     "output_type": "execute_result"
    }
   ],
   "source": [
    "len(A_dist_matrix)"
   ]
  },
  {
   "cell_type": "code",
   "execution_count": 186,
   "metadata": {
    "ExecuteTime": {
     "end_time": "2020-07-26T15:22:53.434686Z",
     "start_time": "2020-07-26T15:22:53.428566Z"
    }
   },
   "outputs": [
    {
     "data": {
      "text/plain": [
       "52"
      ]
     },
     "execution_count": 186,
     "metadata": {},
     "output_type": "execute_result"
    }
   ],
   "source": [
    "len(A_dist_matrix[0])"
   ]
  },
  {
   "cell_type": "code",
   "execution_count": 187,
   "metadata": {
    "ExecuteTime": {
     "end_time": "2020-07-26T15:22:58.841351Z",
     "start_time": "2020-07-26T15:22:58.835805Z"
    }
   },
   "outputs": [
    {
     "data": {
      "text/plain": [
       "52"
      ]
     },
     "execution_count": 187,
     "metadata": {},
     "output_type": "execute_result"
    }
   ],
   "source": [
    "len(A_dist_matrix[-1])"
   ]
  },
  {
   "cell_type": "markdown",
   "metadata": {},
   "source": [
    "## Using OR Tools"
   ]
  },
  {
   "cell_type": "markdown",
   "metadata": {},
   "source": [
    "**Note**: This code was adapted from the above python file developed by Google OR-Tools. License can be found here: https://www.apache.org/licenses/LICENSE-2.0"
   ]
  },
  {
   "cell_type": "markdown",
   "metadata": {},
   "source": [
    "- This is trying to reach every stop and return to the original node"
   ]
  },
  {
   "cell_type": "code",
   "execution_count": 220,
   "metadata": {
    "ExecuteTime": {
     "end_time": "2020-07-26T15:46:00.311338Z",
     "start_time": "2020-07-26T15:46:00.265989Z"
    },
    "code_folding": [
     0
    ]
   },
   "outputs": [
    {
     "name": "stdout",
     "output_type": "stream",
     "text": [
      "Objective: 9210 seconds\n",
      "Route for vehicle 0:\n",
      " 0 -> 7 -> 8 -> 9 -> 10 -> 11 -> 12 -> 13 -> 14 -> 15 -> 16 -> 17 -> 18 -> 1 -> 19 -> 20 -> 21 -> 22 -> 23 -> 24 -> 25 -> 26 -> 27 -> 28 -> 29 -> 30 -> 31 -> 32 -> 33 -> 34 -> 35 -> 36 -> 37 -> 38 -> 39 -> 40 -> 41 -> 42 -> 43 -> 44 -> 45 -> 46 -> 47 -> 48 -> 49 -> 50 -> 51 -> 6 -> 5 -> 4 -> 3 -> 2 -> 0\n",
      "\n"
     ]
    },
    {
     "data": {
      "application/javascript": [
       "\n",
       "        if (window._pyforest_update_imports_cell) { window._pyforest_update_imports_cell('import re\\nimport pandas as pd'); }\n",
       "    "
      ],
      "text/plain": [
       "<IPython.core.display.Javascript object>"
      ]
     },
     "metadata": {},
     "output_type": "display_data"
    }
   ],
   "source": [
    "# [START import]\n",
    "from __future__ import print_function\n",
    "from ortools.constraint_solver import routing_enums_pb2\n",
    "from ortools.constraint_solver import pywrapcp\n",
    "# [END import]\n",
    "\n",
    "# [START data_model]\n",
    "def create_data_model(A_dist_matrix):\n",
    "    \"\"\"Stores the data for the problem.\"\"\"\n",
    "    data = {}\n",
    "    data['distance_matrix'] = A_dist_matrix\n",
    "    data['num_vehicles'] = 1\n",
    "    data['depot'] = 0\n",
    "    return data\n",
    "    # [END data_model]\n",
    "\n",
    "\n",
    "# [START solution_printer]\n",
    "def print_solution(manager, routing, solution):\n",
    "    \"\"\"Prints solution on console.\"\"\"\n",
    "    total_seconds = solution.ObjectiveValue()\n",
    "    print('Objective: {} seconds'.format(total_seconds))\n",
    "    index = routing.Start(0)\n",
    "    plan_output = 'Route for vehicle 0:\\n'\n",
    "    route_distance = 0\n",
    "    while not routing.IsEnd(index):\n",
    "        plan_output += ' {} ->'.format(manager.IndexToNode(index))\n",
    "        previous_index = index\n",
    "        index = solution.Value(routing.NextVar(index))\n",
    "        route_distance += routing.GetArcCostForVehicle(previous_index, index, 0)\n",
    "    plan_output += ' {}\\n'.format(manager.IndexToNode(index))\n",
    "    print(plan_output)\n",
    "    plan_output += 'Route distance: {}miles\\n'.format(route_distance)\n",
    "    return total_seconds, plan_output\n",
    "    # [END solution_printer]\n",
    "\n",
    "\n",
    "def main():\n",
    "    \"\"\"Entry point of the program.\"\"\"\n",
    "    # Instantiate the data problem.\n",
    "    # [START data]\n",
    "    data = create_data_model(A_dist_matrix)\n",
    "    # [END data]\n",
    "\n",
    "    # Create the routing index manager.\n",
    "    # [START index_manager]\n",
    "    manager = pywrapcp.RoutingIndexManager(len(data['distance_matrix']),\n",
    "                                           data['num_vehicles'], data['depot'])\n",
    "    # [END index_manager]\n",
    "\n",
    "    # Create Routing Model.\n",
    "    # [START routing_model]\n",
    "    routing = pywrapcp.RoutingModel(manager)\n",
    "\n",
    "    # [END routing_model]\n",
    "\n",
    "    # [START transit_callback]\n",
    "    def distance_callback(from_index, to_index):\n",
    "        \"\"\"Returns the distance between the two nodes.\"\"\"\n",
    "        # Convert from routing variable Index to distance matrix NodeIndex.\n",
    "        from_node = manager.IndexToNode(from_index)\n",
    "        to_node = manager.IndexToNode(to_index)\n",
    "        return data['distance_matrix'][from_node][to_node]\n",
    "\n",
    "    transit_callback_index = routing.RegisterTransitCallback(distance_callback)\n",
    "    # [END transit_callback]\n",
    "\n",
    "    # Define cost of each arc.\n",
    "    # [START arc_cost]\n",
    "    routing.SetArcCostEvaluatorOfAllVehicles(transit_callback_index)\n",
    "    # [END arc_cost]\n",
    "\n",
    "    # Setting first solution heuristic.\n",
    "    # [START parameters]\n",
    "    search_parameters = pywrapcp.DefaultRoutingSearchParameters()\n",
    "    search_parameters.first_solution_strategy = (\n",
    "        routing_enums_pb2.FirstSolutionStrategy.PATH_CHEAPEST_ARC)\n",
    "    # [END parameters]\n",
    "\n",
    "    # Solve the problem.\n",
    "    # [START solve]\n",
    "    solution = routing.SolveWithParameters(search_parameters)\n",
    "    # [END solve]\n",
    "\n",
    "    # Print solution on console.\n",
    "    # [START print_solution]\n",
    "    if solution:\n",
    "        seconds, route_list = print_solution(manager, routing, solution)\n",
    "    route_list_text_match = re.match(\".+vehicle\\s0:\\\\n\\s(.+0)\\\\n\", route_list)\n",
    "    stops_as_text = route_list_text_match.group(1)\n",
    "    list_of_stops = stops_as_text.split(\" -> \")\n",
    "    \n",
    "    return seconds, list_of_stops\n",
    "    # [END print_solution]\n",
    "\n",
    "\n",
    "if __name__ == '__main__':\n",
    "    seconds, list_of_stops = main()\n",
    "    \n",
    "# [END program]"
   ]
  },
  {
   "cell_type": "code",
   "execution_count": 311,
   "metadata": {
    "ExecuteTime": {
     "end_time": "2020-07-26T18:09:35.478961Z",
     "start_time": "2020-07-26T18:09:35.473217Z"
    }
   },
   "outputs": [
    {
     "data": {
      "text/plain": [
       "7.800000000000001"
      ]
     },
     "execution_count": 311,
     "metadata": {},
     "output_type": "execute_result"
    }
   ],
   "source": [
    ".13 * 60"
   ]
  },
  {
   "cell_type": "code",
   "execution_count": 329,
   "metadata": {
    "ExecuteTime": {
     "end_time": "2020-07-26T18:11:12.287099Z",
     "start_time": "2020-07-26T18:11:12.282160Z"
    }
   },
   "outputs": [],
   "source": [
    "def get_time_in_hrs(seconds):\n",
    "    minutes = seconds / 60\n",
    "    hours = minutes / 60\n",
    "    remainder_hour = hours % 1\n",
    "    final_minutes = round((remainder_hour * 60), 2)\n",
    "    return f\"The entire route takes {hours - remainder_hour} hours, {final_minutes} minutes\""
   ]
  },
  {
   "cell_type": "markdown",
   "metadata": {},
   "source": [
    "### Translating list of stops to station_ids"
   ]
  },
  {
   "cell_type": "code",
   "execution_count": 224,
   "metadata": {
    "ExecuteTime": {
     "end_time": "2020-07-26T15:46:18.270267Z",
     "start_time": "2020-07-26T15:46:18.265582Z"
    }
   },
   "outputs": [],
   "source": [
    "def tsp_station_ids(list_of_stops, nodelist):\n",
    "    nodes = nodelist['station_id']\n",
    "    list_of_nodes = [nodes[int(x)] for x in list_of_stops]\n",
    "    return list_of_nodes"
   ]
  },
  {
   "cell_type": "code",
   "execution_count": 225,
   "metadata": {
    "ExecuteTime": {
     "end_time": "2020-07-26T15:46:18.606024Z",
     "start_time": "2020-07-26T15:46:18.601466Z"
    }
   },
   "outputs": [],
   "source": [
    "x = tsp_station_ids(list_of_stops, A_nodelist)"
   ]
  },
  {
   "cell_type": "code",
   "execution_count": 227,
   "metadata": {
    "ExecuteTime": {
     "end_time": "2020-07-26T15:46:23.396255Z",
     "start_time": "2020-07-26T15:46:23.393231Z"
    }
   },
   "outputs": [],
   "source": [
    "# x"
   ]
  },
  {
   "cell_type": "markdown",
   "metadata": {},
   "source": [
    "### Getting station names in order"
   ]
  },
  {
   "cell_type": "code",
   "execution_count": 380,
   "metadata": {
    "ExecuteTime": {
     "end_time": "2020-07-26T18:39:02.886948Z",
     "start_time": "2020-07-26T18:39:02.873220Z"
    }
   },
   "outputs": [
    {
     "data": {
      "text/html": [
       "<div>\n",
       "<style scoped>\n",
       "    .dataframe tbody tr th:only-of-type {\n",
       "        vertical-align: middle;\n",
       "    }\n",
       "\n",
       "    .dataframe tbody tr th {\n",
       "        vertical-align: top;\n",
       "    }\n",
       "\n",
       "    .dataframe thead th {\n",
       "        text-align: right;\n",
       "    }\n",
       "</style>\n",
       "<table border=\"1\" class=\"dataframe\">\n",
       "  <thead>\n",
       "    <tr style=\"text-align: right;\">\n",
       "      <th></th>\n",
       "      <th>stop_id</th>\n",
       "      <th>stop_name</th>\n",
       "      <th>stop_lat</th>\n",
       "      <th>stop_lon</th>\n",
       "      <th>location_type</th>\n",
       "      <th>parent_station</th>\n",
       "    </tr>\n",
       "  </thead>\n",
       "  <tbody>\n",
       "    <tr>\n",
       "      <th>0</th>\n",
       "      <td>101</td>\n",
       "      <td>Van Cortlandt Park - 242 St</td>\n",
       "      <td>40.889248</td>\n",
       "      <td>-73.898583</td>\n",
       "      <td>1</td>\n",
       "      <td>NaN</td>\n",
       "    </tr>\n",
       "  </tbody>\n",
       "</table>\n",
       "</div>"
      ],
      "text/plain": [
       "  stop_id                    stop_name   stop_lat   stop_lon  location_type  \\\n",
       "0     101  Van Cortlandt Park - 242 St  40.889248 -73.898583              1   \n",
       "\n",
       "   parent_station  \n",
       "0             NaN  "
      ]
     },
     "execution_count": 380,
     "metadata": {},
     "output_type": "execute_result"
    }
   ],
   "source": [
    "non_unique_stations_df[non_unique_stations_df['stop_id'] == '101']"
   ]
  },
  {
   "cell_type": "code",
   "execution_count": 381,
   "metadata": {
    "ExecuteTime": {
     "end_time": "2020-07-26T18:39:11.493527Z",
     "start_time": "2020-07-26T18:39:11.487435Z"
    }
   },
   "outputs": [
    {
     "data": {
      "text/plain": [
       "'Van Cortlandt Park - 242 St'"
      ]
     },
     "execution_count": 381,
     "metadata": {},
     "output_type": "execute_result"
    }
   ],
   "source": [
    "non_unique_stations_df['stop_name'][0]"
   ]
  },
  {
   "cell_type": "code",
   "execution_count": 391,
   "metadata": {
    "ExecuteTime": {
     "end_time": "2020-07-26T18:43:06.647870Z",
     "start_time": "2020-07-26T18:43:06.640593Z"
    }
   },
   "outputs": [],
   "source": [
    "def get_station_names(stations_df, tsp_station_ids):\n",
    "    full_list = []\n",
    "    for mta_station in tsp_station_ids:\n",
    "        single_stations = mta_station.split(\"_\")\n",
    "        station_string = \"\"\n",
    "        counter = 0\n",
    "        for station in single_stations:\n",
    "            row = stations_df.index[stations_df['stop_id'] == station].tolist()\n",
    "            for item in row:\n",
    "                name = stations_df['stop_name'][item]\n",
    "                if counter >= 1:\n",
    "                    station_string += \" / \" + name\n",
    "                    counter += 1\n",
    "                elif counter == 0:\n",
    "                    station_string += name\n",
    "                    counter += 1\n",
    "        full_list.append(station_string)\n",
    "    return full_list"
   ]
  },
  {
   "cell_type": "markdown",
   "metadata": {},
   "source": [
    "# Applying to All the Data"
   ]
  },
  {
   "cell_type": "code",
   "execution_count": 261,
   "metadata": {
    "ExecuteTime": {
     "end_time": "2020-07-26T18:01:13.252954Z",
     "start_time": "2020-07-26T18:01:13.249347Z"
    }
   },
   "outputs": [],
   "source": [
    "nyc_graph = dijkstar.Graph(undirected=True)"
   ]
  },
  {
   "cell_type": "code",
   "execution_count": 262,
   "metadata": {
    "ExecuteTime": {
     "end_time": "2020-07-26T18:01:13.261392Z",
     "start_time": "2020-07-26T18:01:13.256300Z"
    }
   },
   "outputs": [],
   "source": [
    "nyc_zipped_edges = list(zip(my_edgelist['node1'], my_edgelist['node2'], my_edgelist['distance']))\n",
    "for x in nyc_zipped_edges:\n",
    "    nyc_graph.add_edge(x[0], x[1], x[2])"
   ]
  },
  {
   "cell_type": "code",
   "execution_count": 263,
   "metadata": {
    "ExecuteTime": {
     "end_time": "2020-07-26T18:01:44.973146Z",
     "start_time": "2020-07-26T18:01:13.264561Z"
    }
   },
   "outputs": [],
   "source": [
    "nyc_dist_matrix = get_indirect_distance(nyc_graph, node_list_df)"
   ]
  },
  {
   "cell_type": "code",
   "execution_count": 269,
   "metadata": {
    "ExecuteTime": {
     "end_time": "2020-07-26T18:02:01.158077Z",
     "start_time": "2020-07-26T18:02:01.154446Z"
    }
   },
   "outputs": [
    {
     "data": {
      "text/plain": [
       "451"
      ]
     },
     "execution_count": 269,
     "metadata": {},
     "output_type": "execute_result"
    }
   ],
   "source": [
    "len(nyc_dist_matrix)"
   ]
  },
  {
   "cell_type": "markdown",
   "metadata": {},
   "source": [
    "## Running Algorithm"
   ]
  },
  {
   "cell_type": "code",
   "execution_count": 271,
   "metadata": {
    "ExecuteTime": {
     "end_time": "2020-07-26T18:02:46.870832Z",
     "start_time": "2020-07-26T18:02:43.136465Z"
    },
    "code_folding": [
     0
    ]
   },
   "outputs": [
    {
     "name": "stdout",
     "output_type": "stream",
     "text": [
      "Objective: 76080 seconds\n",
      "Route for vehicle 0:\n",
      " 0 -> 1 -> 2 -> 3 -> 4 -> 5 -> 6 -> 7 -> 8 -> 9 -> 173 -> 174 -> 175 -> 176 -> 177 -> 10 -> 11 -> 12 -> 13 -> 14 -> 15 -> 16 -> 20 -> 19 -> 18 -> 17 -> 61 -> 60 -> 59 -> 58 -> 92 -> 91 -> 56 -> 55 -> 54 -> 53 -> 52 -> 51 -> 50 -> 49 -> 48 -> 47 -> 46 -> 45 -> 44 -> 43 -> 42 -> 41 -> 40 -> 39 -> 38 -> 114 -> 113 -> 112 -> 111 -> 110 -> 57 -> 105 -> 132 -> 131 -> 130 -> 129 -> 128 -> 127 -> 126 -> 125 -> 124 -> 123 -> 122 -> 121 -> 120 -> 119 -> 118 -> 117 -> 116 -> 115 -> 133 -> 134 -> 135 -> 136 -> 137 -> 138 -> 139 -> 140 -> 141 -> 142 -> 144 -> 145 -> 146 -> 80 -> 79 -> 78 -> 77 -> 76 -> 75 -> 74 -> 90 -> 89 -> 88 -> 87 -> 86 -> 85 -> 84 -> 83 -> 82 -> 81 -> 73 -> 72 -> 71 -> 70 -> 69 -> 37 -> 36 -> 35 -> 25 -> 26 -> 27 -> 28 -> 29 -> 30 -> 31 -> 32 -> 33 -> 34 -> 62 -> 63 -> 64 -> 65 -> 66 -> 67 -> 68 -> 109 -> 108 -> 107 -> 106 -> 152 -> 151 -> 150 -> 149 -> 148 -> 366 -> 194 -> 193 -> 192 -> 191 -> 190 -> 249 -> 286 -> 285 -> 284 -> 323 -> 322 -> 321 -> 320 -> 319 -> 318 -> 160 -> 159 -> 158 -> 157 -> 156 -> 155 -> 154 -> 153 -> 162 -> 163 -> 164 -> 165 -> 166 -> 161 -> 317 -> 316 -> 315 -> 314 -> 313 -> 312 -> 283 -> 282 -> 277 -> 278 -> 279 -> 280 -> 281 -> 311 -> 310 -> 309 -> 349 -> 350 -> 351 -> 352 -> 353 -> 354 -> 355 -> 356 -> 357 -> 358 -> 359 -> 360 -> 361 -> 380 -> 379 -> 378 -> 386 -> 385 -> 384 -> 383 -> 382 -> 381 -> 362 -> 363 -> 364 -> 365 -> 393 -> 324 -> 325 -> 326 -> 327 -> 328 -> 329 -> 330 -> 394 -> 395 -> 396 -> 397 -> 398 -> 399 -> 400 -> 442 -> 443 -> 445 -> 446 -> 447 -> 444 -> 402 -> 403 -> 404 -> 405 -> 406 -> 407 -> 408 -> 409 -> 410 -> 275 -> 238 -> 237 -> 236 -> 235 -> 234 -> 233 -> 232 -> 231 -> 230 -> 229 -> 228 -> 227 -> 441 -> 440 -> 439 -> 438 -> 437 -> 436 -> 257 -> 258 -> 450 -> 449 -> 448 -> 259 -> 260 -> 261 -> 262 -> 263 -> 264 -> 265 -> 266 -> 267 -> 268 -> 269 -> 270 -> 271 -> 272 -> 273 -> 274 -> 308 -> 307 -> 306 -> 305 -> 304 -> 303 -> 302 -> 301 -> 300 -> 299 -> 298 -> 297 -> 296 -> 295 -> 294 -> 293 -> 292 -> 291 -> 202 -> 344 -> 343 -> 342 -> 341 -> 340 -> 339 -> 348 -> 347 -> 346 -> 345 -> 338 -> 337 -> 336 -> 222 -> 221 -> 220 -> 219 -> 218 -> 217 -> 216 -> 215 -> 214 -> 213 -> 212 -> 211 -> 210 -> 209 -> 208 -> 207 -> 206 -> 205 -> 204 -> 203 -> 335 -> 334 -> 333 -> 332 -> 331 -> 392 -> 391 -> 377 -> 390 -> 389 -> 388 -> 387 -> 376 -> 375 -> 374 -> 373 -> 372 -> 371 -> 370 -> 369 -> 368 -> 367 -> 147 -> 426 -> 427 -> 428 -> 429 -> 430 -> 431 -> 432 -> 433 -> 434 -> 435 -> 256 -> 255 -> 287 -> 288 -> 289 -> 290 -> 201 -> 200 -> 401 -> 199 -> 198 -> 197 -> 276 -> 196 -> 195 -> 254 -> 253 -> 425 -> 424 -> 252 -> 251 -> 250 -> 226 -> 225 -> 411 -> 412 -> 413 -> 224 -> 223 -> 422 -> 421 -> 420 -> 419 -> 418 -> 417 -> 416 -> 415 -> 414 -> 167 -> 168 -> 169 -> 170 -> 143 -> 171 -> 24 -> 423 -> 172 -> 23 -> 21 -> 22 -> 189 -> 188 -> 187 -> 186 -> 185 -> 184 -> 183 -> 182 -> 181 -> 239 -> 240 -> 241 -> 242 -> 243 -> 244 -> 245 -> 246 -> 247 -> 93 -> 94 -> 95 -> 96 -> 97 -> 98 -> 99 -> 100 -> 101 -> 102 -> 103 -> 104 -> 248 -> 180 -> 179 -> 178 -> 0\n",
      "\n"
     ]
    },
    {
     "data": {
      "application/javascript": [
       "\n",
       "        if (window._pyforest_update_imports_cell) { window._pyforest_update_imports_cell('import re\\nimport pandas as pd'); }\n",
       "    "
      ],
      "text/plain": [
       "<IPython.core.display.Javascript object>"
      ]
     },
     "metadata": {},
     "output_type": "display_data"
    }
   ],
   "source": [
    "# [START import]\n",
    "from __future__ import print_function\n",
    "from ortools.constraint_solver import routing_enums_pb2\n",
    "from ortools.constraint_solver import pywrapcp\n",
    "# [END import]\n",
    "\n",
    "# [START data_model]\n",
    "def create_data_model(nyc_dist_matrix):\n",
    "    \"\"\"Stores the data for the problem.\"\"\"\n",
    "    data = {}\n",
    "    data['distance_matrix'] = nyc_dist_matrix\n",
    "    data['num_vehicles'] = 1\n",
    "    data['depot'] = 0\n",
    "    return data\n",
    "    # [END data_model]\n",
    "\n",
    "\n",
    "# [START solution_printer]\n",
    "def print_solution(manager, routing, solution):\n",
    "    \"\"\"Prints solution on console.\"\"\"\n",
    "    total_seconds = solution.ObjectiveValue()\n",
    "    print('Objective: {} seconds'.format(total_seconds))\n",
    "    index = routing.Start(0)\n",
    "    plan_output = 'Route for vehicle 0:\\n'\n",
    "    route_distance = 0\n",
    "    while not routing.IsEnd(index):\n",
    "        plan_output += ' {} ->'.format(manager.IndexToNode(index))\n",
    "        previous_index = index\n",
    "        index = solution.Value(routing.NextVar(index))\n",
    "        route_distance += routing.GetArcCostForVehicle(previous_index, index, 0)\n",
    "    plan_output += ' {}\\n'.format(manager.IndexToNode(index))\n",
    "    print(plan_output)\n",
    "    plan_output += 'Route distance: {}miles\\n'.format(route_distance)\n",
    "    return total_seconds, plan_output\n",
    "    # [END solution_printer]\n",
    "\n",
    "\n",
    "def main():\n",
    "    \"\"\"Entry point of the program.\"\"\"\n",
    "    # Instantiate the data problem.\n",
    "    # [START data]\n",
    "    data = create_data_model(nyc_dist_matrix)\n",
    "    # [END data]\n",
    "\n",
    "    # Create the routing index manager.\n",
    "    # [START index_manager]\n",
    "    manager = pywrapcp.RoutingIndexManager(len(data['distance_matrix']),\n",
    "                                           data['num_vehicles'], data['depot'])\n",
    "    # [END index_manager]\n",
    "\n",
    "    # Create Routing Model.\n",
    "    # [START routing_model]\n",
    "    routing = pywrapcp.RoutingModel(manager)\n",
    "\n",
    "    # [END routing_model]\n",
    "\n",
    "    # [START transit_callback]\n",
    "    def distance_callback(from_index, to_index):\n",
    "        \"\"\"Returns the distance between the two nodes.\"\"\"\n",
    "        # Convert from routing variable Index to distance matrix NodeIndex.\n",
    "        from_node = manager.IndexToNode(from_index)\n",
    "        to_node = manager.IndexToNode(to_index)\n",
    "        return data['distance_matrix'][from_node][to_node]\n",
    "\n",
    "    transit_callback_index = routing.RegisterTransitCallback(distance_callback)\n",
    "    # [END transit_callback]\n",
    "\n",
    "    # Define cost of each arc.\n",
    "    # [START arc_cost]\n",
    "    routing.SetArcCostEvaluatorOfAllVehicles(transit_callback_index)\n",
    "    # [END arc_cost]\n",
    "\n",
    "    # Setting first solution heuristic.\n",
    "    # [START parameters]\n",
    "    search_parameters = pywrapcp.DefaultRoutingSearchParameters()\n",
    "    search_parameters.first_solution_strategy = (\n",
    "        routing_enums_pb2.FirstSolutionStrategy.PATH_CHEAPEST_ARC)\n",
    "    # [END parameters]\n",
    "\n",
    "    # Solve the problem.\n",
    "    # [START solve]\n",
    "    solution = routing.SolveWithParameters(search_parameters)\n",
    "    # [END solve]\n",
    "\n",
    "    # Print solution on console.\n",
    "    # [START print_solution]\n",
    "    if solution:\n",
    "        seconds, route_list = print_solution(manager, routing, solution)\n",
    "    route_list_text_match = re.match(\".+vehicle\\s0:\\\\n\\s(.+0)\\\\n\", route_list)\n",
    "    stops_as_text = route_list_text_match.group(1)\n",
    "    list_of_stops = stops_as_text.split(\" -> \")\n",
    "    \n",
    "    return seconds, list_of_stops\n",
    "    # [END print_solution]\n",
    "\n",
    "\n",
    "if __name__ == '__main__':\n",
    "    seconds, list_of_stops = main()\n",
    "    \n",
    "# [END program]"
   ]
  },
  {
   "cell_type": "code",
   "execution_count": 334,
   "metadata": {
    "ExecuteTime": {
     "end_time": "2020-07-26T18:11:30.522342Z",
     "start_time": "2020-07-26T18:11:30.516502Z"
    }
   },
   "outputs": [
    {
     "data": {
      "text/plain": [
       "'The entire route takes 21.0 hours, 8.0 minutes'"
      ]
     },
     "execution_count": 334,
     "metadata": {},
     "output_type": "execute_result"
    }
   ],
   "source": [
    "hours = get_time_in_hrs(seconds)\n",
    "hours"
   ]
  },
  {
   "cell_type": "code",
   "execution_count": 272,
   "metadata": {
    "ExecuteTime": {
     "end_time": "2020-07-26T18:03:17.391730Z",
     "start_time": "2020-07-26T18:03:17.383178Z"
    }
   },
   "outputs": [],
   "source": [
    "full_nyc_tsp_stations = tsp_station_ids(list_of_stops, node_list_df)"
   ]
  },
  {
   "cell_type": "code",
   "execution_count": 273,
   "metadata": {
    "ExecuteTime": {
     "end_time": "2020-07-26T18:03:22.730710Z",
     "start_time": "2020-07-26T18:03:22.722611Z"
    }
   },
   "outputs": [
    {
     "data": {
      "text/plain": [
       "['101',\n",
       " '103',\n",
       " '104',\n",
       " '106',\n",
       " '107',\n",
       " '108',\n",
       " '109',\n",
       " '110',\n",
       " '111',\n",
       " '112_A09',\n",
       " 'A02',\n",
       " 'A03',\n",
       " 'A05',\n",
       " 'A06',\n",
       " 'A07',\n",
       " '113',\n",
       " '114',\n",
       " '115',\n",
       " '116',\n",
       " '117',\n",
       " '118',\n",
       " '119',\n",
       " '123',\n",
       " '122',\n",
       " '121',\n",
       " '120',\n",
       " '227',\n",
       " '226',\n",
       " '225',\n",
       " '224',\n",
       " '302',\n",
       " '301',\n",
       " '221',\n",
       " '220',\n",
       " '219',\n",
       " '218',\n",
       " '217',\n",
       " '216',\n",
       " '215',\n",
       " '214',\n",
       " '213',\n",
       " '212',\n",
       " '211',\n",
       " '210',\n",
       " '209',\n",
       " '208',\n",
       " '207',\n",
       " '206',\n",
       " '205',\n",
       " '204',\n",
       " '201',\n",
       " '505',\n",
       " '504',\n",
       " '503',\n",
       " '502',\n",
       " '501',\n",
       " '222_415',\n",
       " '416',\n",
       " '619',\n",
       " '618',\n",
       " '617',\n",
       " '616',\n",
       " '615',\n",
       " '614',\n",
       " '613',\n",
       " '612',\n",
       " '611',\n",
       " '610',\n",
       " '609',\n",
       " '608',\n",
       " '607',\n",
       " '606',\n",
       " '604',\n",
       " '603',\n",
       " '602',\n",
       " '601',\n",
       " '621',\n",
       " '622',\n",
       " '623',\n",
       " '624',\n",
       " '625',\n",
       " '626',\n",
       " '627',\n",
       " '628',\n",
       " '629',\n",
       " '630',\n",
       " '632',\n",
       " '633',\n",
       " '634',\n",
       " '247',\n",
       " '246',\n",
       " '245',\n",
       " '244',\n",
       " '243',\n",
       " '242',\n",
       " '241',\n",
       " '257',\n",
       " '256',\n",
       " '255',\n",
       " '254',\n",
       " '253',\n",
       " '252',\n",
       " '251',\n",
       " '250',\n",
       " '249',\n",
       " '248',\n",
       " '239',\n",
       " '238',\n",
       " '237',\n",
       " '236',\n",
       " '235',\n",
       " '140_142',\n",
       " '139',\n",
       " '138',\n",
       " '128',\n",
       " '129',\n",
       " '130',\n",
       " '131',\n",
       " '132',\n",
       " '133',\n",
       " '134',\n",
       " '135',\n",
       " '136',\n",
       " '137',\n",
       " '228',\n",
       " '229',\n",
       " '230',\n",
       " '231',\n",
       " '232',\n",
       " '233',\n",
       " '234',\n",
       " '423',\n",
       " '420',\n",
       " '419',\n",
       " '418',\n",
       " '640',\n",
       " '639',\n",
       " '638',\n",
       " '637',\n",
       " '636',\n",
       " 'L02',\n",
       " 'L01_A31',\n",
       " 'A30',\n",
       " 'A28',\n",
       " 'A27',\n",
       " 'A25',\n",
       " 'D14',\n",
       " 'F12',\n",
       " 'F11',\n",
       " 'F09',\n",
       " 'G21',\n",
       " 'G20',\n",
       " 'G19',\n",
       " 'G18',\n",
       " 'G16',\n",
       " 'G15',\n",
       " '710_G14',\n",
       " '709',\n",
       " '708',\n",
       " '707',\n",
       " '706',\n",
       " '705',\n",
       " '702',\n",
       " '701',\n",
       " '712',\n",
       " '713',\n",
       " '714',\n",
       " '715',\n",
       " '716',\n",
       " '711',\n",
       " 'G13',\n",
       " 'G12',\n",
       " 'G11',\n",
       " 'G10',\n",
       " 'G09',\n",
       " 'G08',\n",
       " 'F07',\n",
       " 'F06',\n",
       " 'F01',\n",
       " 'F02',\n",
       " 'F03',\n",
       " 'F04',\n",
       " 'F05',\n",
       " 'G07',\n",
       " 'G06',\n",
       " 'G05',\n",
       " 'J12',\n",
       " 'J13',\n",
       " 'J14',\n",
       " 'J15',\n",
       " 'J16',\n",
       " 'J17',\n",
       " 'J19',\n",
       " 'J20',\n",
       " 'J21',\n",
       " 'J22',\n",
       " 'J23',\n",
       " 'J24',\n",
       " 'L22_J27',\n",
       " 'L21',\n",
       " 'L20',\n",
       " 'L19',\n",
       " 'L29',\n",
       " 'L28',\n",
       " 'L27',\n",
       " 'L26',\n",
       " 'L25',\n",
       " 'L24',\n",
       " 'J28',\n",
       " 'J29',\n",
       " 'J30',\n",
       " 'J31',\n",
       " 'M11',\n",
       " 'G22',\n",
       " 'G24',\n",
       " 'G26',\n",
       " 'G28',\n",
       " 'G29',\n",
       " 'G30',\n",
       " 'M12_G31',\n",
       " 'M13',\n",
       " 'M14',\n",
       " 'M16',\n",
       " 'M18',\n",
       " 'M19',\n",
       " 'M20_Q01',\n",
       " 'M21',\n",
       " 'R39',\n",
       " 'R40',\n",
       " 'R42',\n",
       " 'R43',\n",
       " 'R44',\n",
       " 'R41',\n",
       " 'N02',\n",
       " 'N03',\n",
       " 'N04',\n",
       " 'N05',\n",
       " 'N06',\n",
       " 'N07',\n",
       " 'N08',\n",
       " 'N09',\n",
       " 'N10',\n",
       " 'D43_N12',\n",
       " 'B23',\n",
       " 'B22',\n",
       " 'B21',\n",
       " 'B20',\n",
       " 'B19',\n",
       " 'B18',\n",
       " 'B17',\n",
       " 'B16',\n",
       " 'B15',\n",
       " 'B14',\n",
       " 'B13',\n",
       " 'B12',\n",
       " 'R36',\n",
       " 'R35',\n",
       " 'R34',\n",
       " 'R33',\n",
       " 'R32',\n",
       " 'R31',\n",
       " 'D24',\n",
       " 'D25',\n",
       " 'S04',\n",
       " 'S03',\n",
       " 'S01',\n",
       " 'D26',\n",
       " 'D27',\n",
       " 'D28',\n",
       " 'D29',\n",
       " 'D30',\n",
       " 'D31',\n",
       " 'D32',\n",
       " 'D33',\n",
       " 'D34',\n",
       " 'D35',\n",
       " 'D37',\n",
       " 'D38',\n",
       " 'D39',\n",
       " 'D40',\n",
       " 'D41',\n",
       " 'D42',\n",
       " 'F39',\n",
       " 'F38',\n",
       " 'F36',\n",
       " 'F35',\n",
       " 'F34',\n",
       " 'F33',\n",
       " 'F32',\n",
       " 'F31',\n",
       " 'F30',\n",
       " 'F29',\n",
       " 'F27',\n",
       " 'F26',\n",
       " 'F25',\n",
       " 'F24',\n",
       " 'F23',\n",
       " 'F22',\n",
       " 'F21',\n",
       " 'F20',\n",
       " 'A42',\n",
       " 'H11',\n",
       " 'H10',\n",
       " 'H09',\n",
       " 'H08',\n",
       " 'H07',\n",
       " 'H06',\n",
       " 'H15',\n",
       " 'H14',\n",
       " 'H13',\n",
       " 'H12',\n",
       " 'H04_H19',\n",
       " 'H03',\n",
       " 'H01_H02',\n",
       " 'A65',\n",
       " 'A64',\n",
       " 'A63',\n",
       " 'A61',\n",
       " 'A60',\n",
       " 'A59',\n",
       " 'A57',\n",
       " 'A55',\n",
       " 'A54',\n",
       " 'A53',\n",
       " 'A52',\n",
       " 'A51',\n",
       " 'A50',\n",
       " 'A49',\n",
       " 'A48',\n",
       " 'A47',\n",
       " 'A46',\n",
       " 'A45',\n",
       " 'A44',\n",
       " 'A43',\n",
       " 'G36',\n",
       " 'G35',\n",
       " 'G34',\n",
       " 'G33',\n",
       " 'G32',\n",
       " 'M10',\n",
       " 'M09',\n",
       " 'L17_M08',\n",
       " 'M06',\n",
       " 'M05',\n",
       " 'M04',\n",
       " 'M01',\n",
       " 'L16',\n",
       " 'L15',\n",
       " 'L14',\n",
       " 'L13',\n",
       " 'L12',\n",
       " 'L11',\n",
       " 'L10',\n",
       " 'L08',\n",
       " 'L06',\n",
       " 'L05',\n",
       " '635_L03_R20',\n",
       " 'R21',\n",
       " 'R22',\n",
       " 'R23',\n",
       " 'R24',\n",
       " 'R25',\n",
       " 'R26',\n",
       " 'R27',\n",
       " 'R28',\n",
       " 'R29',\n",
       " 'R30',\n",
       " 'D22',\n",
       " 'D21',\n",
       " 'F14',\n",
       " 'F15',\n",
       " 'F16',\n",
       " 'F18',\n",
       " 'A41',\n",
       " 'A40',\n",
       " 'M23',\n",
       " 'A38_M22',\n",
       " 'A36',\n",
       " 'A34',\n",
       " 'E01',\n",
       " 'A33',\n",
       " 'A32_D20',\n",
       " 'D19',\n",
       " 'D18',\n",
       " 'R19',\n",
       " 'R18',\n",
       " 'D17_R17',\n",
       " 'D16',\n",
       " 'D15',\n",
       " 'B10',\n",
       " 'B08',\n",
       " 'Q03',\n",
       " 'Q04',\n",
       " 'Q05',\n",
       " 'B06',\n",
       " 'B04',\n",
       " 'R14',\n",
       " 'R13',\n",
       " 'R11',\n",
       " 'R08',\n",
       " 'R06',\n",
       " 'R05',\n",
       " 'R04',\n",
       " 'R03',\n",
       " 'R01',\n",
       " '718_R09',\n",
       " '719',\n",
       " '720',\n",
       " '721',\n",
       " '631_723_901',\n",
       " '724',\n",
       " '127_725_902_R16',\n",
       " 'R15',\n",
       " '726',\n",
       " '126',\n",
       " '124',\n",
       " '125_A24',\n",
       " 'A22',\n",
       " 'A21',\n",
       " 'A20',\n",
       " 'A19',\n",
       " 'A18',\n",
       " 'A17',\n",
       " 'A16',\n",
       " 'A15',\n",
       " 'A14',\n",
       " 'D01',\n",
       " 'D03',\n",
       " 'D04',\n",
       " 'D05',\n",
       " 'D06',\n",
       " 'D07',\n",
       " 'D08',\n",
       " 'D09',\n",
       " 'D10',\n",
       " '401',\n",
       " '402',\n",
       " '405',\n",
       " '406',\n",
       " '407',\n",
       " '408',\n",
       " '409',\n",
       " '410',\n",
       " '411',\n",
       " '412',\n",
       " '413',\n",
       " '414_D11',\n",
       " 'D12',\n",
       " 'A12_D13',\n",
       " 'A11',\n",
       " 'A10',\n",
       " '101']"
      ]
     },
     "execution_count": 273,
     "metadata": {},
     "output_type": "execute_result"
    }
   ],
   "source": [
    "# full_nyc_tsp_stations"
   ]
  },
  {
   "cell_type": "code",
   "execution_count": 336,
   "metadata": {
    "ExecuteTime": {
     "end_time": "2020-07-26T18:19:42.334310Z",
     "start_time": "2020-07-26T18:19:42.323746Z"
    }
   },
   "outputs": [
    {
     "data": {
      "text/html": [
       "<div>\n",
       "<style scoped>\n",
       "    .dataframe tbody tr th:only-of-type {\n",
       "        vertical-align: middle;\n",
       "    }\n",
       "\n",
       "    .dataframe tbody tr th {\n",
       "        vertical-align: top;\n",
       "    }\n",
       "\n",
       "    .dataframe thead th {\n",
       "        text-align: right;\n",
       "    }\n",
       "</style>\n",
       "<table border=\"1\" class=\"dataframe\">\n",
       "  <thead>\n",
       "    <tr style=\"text-align: right;\">\n",
       "      <th></th>\n",
       "      <th>stop_id</th>\n",
       "      <th>stop_name</th>\n",
       "      <th>stop_lat</th>\n",
       "      <th>stop_lon</th>\n",
       "      <th>location_type</th>\n",
       "      <th>parent_station</th>\n",
       "    </tr>\n",
       "  </thead>\n",
       "  <tbody>\n",
       "    <tr>\n",
       "      <th>1224</th>\n",
       "      <td>M08</td>\n",
       "      <td>Myrtle - Wyckoff Avs</td>\n",
       "      <td>40.69943</td>\n",
       "      <td>-73.912385</td>\n",
       "      <td>1</td>\n",
       "      <td>NaN</td>\n",
       "    </tr>\n",
       "  </tbody>\n",
       "</table>\n",
       "</div>"
      ],
      "text/plain": [
       "     stop_id             stop_name  stop_lat   stop_lon  location_type  \\\n",
       "1224     M08  Myrtle - Wyckoff Avs  40.69943 -73.912385              1   \n",
       "\n",
       "      parent_station  \n",
       "1224             NaN  "
      ]
     },
     "execution_count": 336,
     "metadata": {},
     "output_type": "execute_result"
    }
   ],
   "source": [
    "non_unique_stations_df[non_unique_stations_df['stop_id'].str.contains('M08')]"
   ]
  },
  {
   "cell_type": "code",
   "execution_count": 392,
   "metadata": {
    "ExecuteTime": {
     "end_time": "2020-07-26T18:43:09.459091Z",
     "start_time": "2020-07-26T18:43:09.281525Z"
    }
   },
   "outputs": [],
   "source": [
    "tsp_names = get_station_names(non_unique_stations_df, full_nyc_tsp_stations)"
   ]
  },
  {
   "cell_type": "code",
   "execution_count": 393,
   "metadata": {
    "ExecuteTime": {
     "end_time": "2020-07-26T18:43:09.539636Z",
     "start_time": "2020-07-26T18:43:09.533461Z"
    }
   },
   "outputs": [
    {
     "data": {
      "text/plain": [
       "['Van Cortlandt Park - 242 St',\n",
       " '238 St',\n",
       " '231 St',\n",
       " 'Marble Hill - 225 St',\n",
       " '215 St',\n",
       " '207 St',\n",
       " 'Dyckman St',\n",
       " '191 St',\n",
       " '181 St',\n",
       " '168 St - Washington Hts / 168 St',\n",
       " 'Inwood - 207 St',\n",
       " 'Dyckman St',\n",
       " '190 St',\n",
       " '181 St',\n",
       " '175 St',\n",
       " '157 St',\n",
       " '145 St',\n",
       " '137 St - City College',\n",
       " '125 St',\n",
       " '116 St - Columbia University',\n",
       " 'Cathedral Pkwy',\n",
       " '103 St',\n",
       " '72 St',\n",
       " '79 St',\n",
       " '86 St',\n",
       " '96 St',\n",
       " 'Central Park North (110 St)',\n",
       " '116 St',\n",
       " '125 St',\n",
       " '135 St',\n",
       " '145 St',\n",
       " 'Harlem - 148 St',\n",
       " '3 Av - 149 St',\n",
       " 'Jackson Av',\n",
       " 'Prospect Av',\n",
       " 'Intervale Av',\n",
       " 'Simpson St',\n",
       " 'Freeman St',\n",
       " '174 St',\n",
       " 'West Farms Sq - E Tremont Av',\n",
       " 'E 180 St',\n",
       " 'Bronx Park East',\n",
       " 'Pelham Pkwy',\n",
       " 'Allerton Av',\n",
       " 'Burke Av',\n",
       " 'Gun Hill Rd',\n",
       " '219 St',\n",
       " '225 St',\n",
       " '233 St',\n",
       " 'Nereid Av',\n",
       " 'Wakefield - 241 St',\n",
       " 'Morris Park',\n",
       " 'Pelham Pkwy',\n",
       " 'Gun Hill Rd',\n",
       " 'Baychester Av',\n",
       " 'Eastchester - Dyre Av',\n",
       " '149 St - Grand Concourse / 149 St - Grand Concourse',\n",
       " '138 St - Grand Concourse',\n",
       " '3 Av - 138 St',\n",
       " 'Brook Av',\n",
       " 'Cypress Av',\n",
       " \"E 143 St - St Mary's St\",\n",
       " 'E 149 St',\n",
       " 'Longwood Av',\n",
       " 'Hunts Point Av',\n",
       " 'Whitlock Av',\n",
       " 'Elder Av',\n",
       " 'Morrison Av- Sound View',\n",
       " 'St Lawrence Av',\n",
       " 'Parkchester',\n",
       " 'Castle Hill Av',\n",
       " 'Zerega Av',\n",
       " 'Westchester Sq - E Tremont Av',\n",
       " 'Middletown Rd',\n",
       " 'Buhre Av',\n",
       " 'Pelham Bay Park',\n",
       " '125 St',\n",
       " '116 St',\n",
       " '110 St',\n",
       " '103 St',\n",
       " '96 St',\n",
       " '86 St',\n",
       " '77 St',\n",
       " '68 St - Hunter College',\n",
       " '59 St',\n",
       " '51 St',\n",
       " '33 St',\n",
       " '28 St',\n",
       " '23 St',\n",
       " 'Flatbush Av - Brooklyn College',\n",
       " 'Newkirk Av',\n",
       " 'Beverly Rd',\n",
       " 'Church Av',\n",
       " 'Winthrop St',\n",
       " 'Sterling St',\n",
       " 'President St',\n",
       " 'New Lots Av',\n",
       " 'Van Siclen Av',\n",
       " 'Pennsylvania Av',\n",
       " 'Junius St',\n",
       " 'Rockaway Av',\n",
       " 'Saratoga Av',\n",
       " 'Sutter Av - Rutland Rd',\n",
       " 'Crown Hts - Utica Av',\n",
       " 'Kingston Av',\n",
       " 'Nostrand Av',\n",
       " 'Franklin Av',\n",
       " 'Eastern Pkwy - Brooklyn Museum',\n",
       " 'Grand Army Plaza',\n",
       " 'Bergen St',\n",
       " 'Atlantic Av - Barclays Ctr',\n",
       " 'South Ferry Loop / South Ferry',\n",
       " 'Rector St',\n",
       " 'WTC Cortlandt',\n",
       " '34 St - Penn Station',\n",
       " '28 St',\n",
       " '23 St',\n",
       " '18 St',\n",
       " '14 St',\n",
       " 'Christopher St - Sheridan Sq',\n",
       " 'Houston St',\n",
       " 'Canal St',\n",
       " 'Franklin St',\n",
       " 'Chambers St',\n",
       " 'Park Pl',\n",
       " 'Fulton St',\n",
       " 'Wall St',\n",
       " 'Clark St',\n",
       " 'Borough Hall',\n",
       " 'Hoyt St',\n",
       " 'Nevins St',\n",
       " 'Borough Hall',\n",
       " 'Bowling Green',\n",
       " 'Wall St',\n",
       " 'Fulton St',\n",
       " 'Brooklyn Bridge - City Hall',\n",
       " 'Canal St',\n",
       " 'Spring St',\n",
       " 'Bleecker St',\n",
       " 'Astor Pl',\n",
       " '6 Av',\n",
       " '8 Av / 14 St',\n",
       " '23 St',\n",
       " '34 St - Penn Station',\n",
       " '42 St - Port Authority Bus Terminal',\n",
       " '50 St',\n",
       " '7 Av',\n",
       " '5 Av/53 St',\n",
       " 'Lexington Av/53 St',\n",
       " 'Court Sq',\n",
       " 'Queens Plaza',\n",
       " '36 St',\n",
       " 'Steinway St',\n",
       " '46 St',\n",
       " 'Northern Blvd',\n",
       " '65 St',\n",
       " '74 St - Broadway / Jackson Hts - Roosevelt Av',\n",
       " '82 St - Jackson Hts',\n",
       " '90 St - Elmhurst Av',\n",
       " 'Junction Blvd',\n",
       " '103 St - Corona Plaza',\n",
       " '111 St',\n",
       " 'Mets - Willets Point',\n",
       " 'Flushing - Main St',\n",
       " 'Woodside - 61 St',\n",
       " '52 St',\n",
       " '46 St',\n",
       " '40 St',\n",
       " '33 St',\n",
       " '69 St',\n",
       " 'Elmhurst Av',\n",
       " 'Grand Av - Newtown',\n",
       " 'Woodhaven Blvd',\n",
       " '63 Dr - Rego Park',\n",
       " '67 Av',\n",
       " 'Forest Hills - 71 Av',\n",
       " '75 Av',\n",
       " 'Kew Gardens - Union Tpke',\n",
       " 'Jamaica - 179 St',\n",
       " '169 St',\n",
       " 'Parsons Blvd',\n",
       " 'Sutphin Blvd',\n",
       " 'Briarwood - Van Wyck Blvd',\n",
       " 'Jamaica - Van Wyck',\n",
       " 'Sutphin Blvd - Archer Av - JFK Airport',\n",
       " 'Jamaica Center - Parsons/Archer',\n",
       " '121 St',\n",
       " '111 St',\n",
       " '104 St',\n",
       " 'Woodhaven Blvd',\n",
       " '85 St - Forest Pkwy',\n",
       " '75 St',\n",
       " 'Cypress Hills',\n",
       " 'Crescent St',\n",
       " 'Norwood Av',\n",
       " 'Cleveland St',\n",
       " 'Van Siclen Av',\n",
       " 'Alabama Av',\n",
       " 'Broadway Jct / Broadway Jct',\n",
       " 'Bushwick Av - Aberdeen St',\n",
       " 'Wilson Av',\n",
       " 'Halsey St',\n",
       " 'Canarsie - Rockaway Pkwy',\n",
       " 'E 105 St',\n",
       " 'New Lots Av',\n",
       " 'Livonia Av',\n",
       " 'Sutter Av',\n",
       " 'Atlantic Av',\n",
       " 'Chauncey St',\n",
       " 'Halsey St',\n",
       " 'Gates Av',\n",
       " 'Kosciuszko St',\n",
       " 'Myrtle Av',\n",
       " 'Court Sq',\n",
       " '21 St',\n",
       " 'Greenpoint Av',\n",
       " 'Nassau Av',\n",
       " 'Metropolitan Av',\n",
       " 'Broadway',\n",
       " 'Flushing Av / Flushing Av',\n",
       " 'Lorimer St',\n",
       " 'Hewes St',\n",
       " 'Marcy Av',\n",
       " 'Essex St',\n",
       " 'Bowery',\n",
       " 'Canal St / Canal St',\n",
       " 'Chambers St',\n",
       " '45 St',\n",
       " '53 St',\n",
       " 'Bay Ridge Av',\n",
       " '77 St',\n",
       " '86 St',\n",
       " '59 St',\n",
       " '8 Av',\n",
       " 'Fort Hamilton Pkwy',\n",
       " 'New Utrecht Av',\n",
       " '18 Av',\n",
       " '20 Av',\n",
       " 'Bay Pkwy',\n",
       " 'Kings Hwy',\n",
       " 'Avenue U',\n",
       " '86 St',\n",
       " 'Coney Island - Stillwell Av / S.B. Coney Island',\n",
       " 'Bay 50 St',\n",
       " '25 Av',\n",
       " 'Bay Pkwy',\n",
       " '20 Av',\n",
       " '18 Av',\n",
       " '79 St',\n",
       " '71 St',\n",
       " '62 St',\n",
       " '55 St',\n",
       " '50 St',\n",
       " 'Fort Hamilton Pkwy',\n",
       " '9 Av',\n",
       " '36 St',\n",
       " '25 St',\n",
       " 'Prospect Av',\n",
       " '9 St',\n",
       " 'Union St',\n",
       " 'Atlantic Av - Barclays Ctr',\n",
       " 'Atlantic Av - Barclays Ctr',\n",
       " '7 Av',\n",
       " 'Botanic Garden',\n",
       " 'Park Pl',\n",
       " 'Franklin Av',\n",
       " 'Prospect Park',\n",
       " 'Parkside Av',\n",
       " 'Church Av',\n",
       " 'Beverley Rd',\n",
       " 'Cortelyou Rd',\n",
       " 'Newkirk Plaza',\n",
       " 'Avenue H',\n",
       " 'Avenue J',\n",
       " 'Avenue M',\n",
       " 'Kings Hwy',\n",
       " 'Avenue U',\n",
       " 'Neck Rd',\n",
       " 'Sheepshead Bay',\n",
       " 'Brighton Beach',\n",
       " 'Ocean Pkwy',\n",
       " 'W 8 St - NY Aquarium',\n",
       " 'Neptune Av',\n",
       " 'Avenue X',\n",
       " 'Avenue U',\n",
       " 'Kings Hwy',\n",
       " 'Avenue P',\n",
       " 'Avenue N',\n",
       " 'Bay Pkwy',\n",
       " 'Avenue I',\n",
       " '18 Av',\n",
       " 'Ditmas Av',\n",
       " 'Church Av',\n",
       " 'Fort Hamilton Pkwy',\n",
       " '15 St - Prospect Park',\n",
       " '7 Av',\n",
       " '4 Av',\n",
       " 'Smith - 9 Sts',\n",
       " 'Carroll St',\n",
       " 'Bergen St',\n",
       " 'Hoyt - Schermerhorn Sts',\n",
       " 'Far Rockaway - Mott Av',\n",
       " 'Beach 25 St',\n",
       " 'Beach 36 St',\n",
       " 'Beach 44 St',\n",
       " 'Beach 60 St',\n",
       " 'Beach 67 St',\n",
       " 'Rockaway Park - Beach 116 St',\n",
       " 'Beach 105 St',\n",
       " 'Beach 98 St',\n",
       " 'Beach 90 St',\n",
       " 'Broad Channel / Broad Channel',\n",
       " 'Howard Beach - JFK Airport',\n",
       " 'Aqueduct Racetrack / Aqueduct - N Conduit Av',\n",
       " 'Ozone Park - Lefferts Blvd',\n",
       " '111 St',\n",
       " '104 St',\n",
       " 'Rockaway Blvd',\n",
       " '88 St',\n",
       " '80 St',\n",
       " 'Grant Av',\n",
       " 'Euclid Av',\n",
       " 'Shepherd Av',\n",
       " 'Van Siclen Av',\n",
       " 'Liberty Av',\n",
       " 'Broadway Jct',\n",
       " 'Rockaway Av',\n",
       " 'Ralph Av',\n",
       " 'Utica Av',\n",
       " 'Kingston - Throop Avs',\n",
       " 'Nostrand Av',\n",
       " 'Franklin Av',\n",
       " 'Clinton - Washington Avs',\n",
       " 'Lafayette Av',\n",
       " 'Fulton St',\n",
       " 'Clinton - Washington Avs',\n",
       " 'Classon Av',\n",
       " 'Bedford - Nostrand Avs',\n",
       " 'Myrtle - Willoughby Avs',\n",
       " 'Central Av',\n",
       " 'Knickerbocker Av',\n",
       " 'Myrtle - Wyckoff Avs / Myrtle - Wyckoff Avs',\n",
       " 'Seneca Av',\n",
       " 'Forest Av',\n",
       " 'Fresh Pond Rd',\n",
       " 'Middle Village - Metropolitan Av',\n",
       " 'DeKalb Av',\n",
       " 'Jefferson St',\n",
       " 'Morgan Av',\n",
       " 'Montrose Av',\n",
       " 'Grand St',\n",
       " 'Graham Av',\n",
       " 'Lorimer St',\n",
       " 'Bedford Av',\n",
       " '1 Av',\n",
       " '3 Av',\n",
       " '14 St - Union Sq / Union Sq - 14 St / 14 St - Union Sq',\n",
       " '8 St - NYU',\n",
       " 'Prince St',\n",
       " 'Canal St',\n",
       " 'City Hall',\n",
       " 'Cortlandt St',\n",
       " 'Rector St',\n",
       " 'Whitehall St',\n",
       " 'Court St',\n",
       " 'Jay St - MetroTech',\n",
       " 'DeKalb Av',\n",
       " 'Grand St',\n",
       " 'Broadway-Lafayette St',\n",
       " '2 Av',\n",
       " 'Delancey St',\n",
       " 'East Broadway',\n",
       " 'York St',\n",
       " 'Jay St - MetroTech',\n",
       " 'High St',\n",
       " 'Broad St',\n",
       " 'Fulton St / Fulton St',\n",
       " 'Chambers St',\n",
       " 'Canal St',\n",
       " 'World Trade Center',\n",
       " 'Spring St',\n",
       " 'W 4 St / W 4 St',\n",
       " '14 St',\n",
       " '23 St',\n",
       " '23 St',\n",
       " '28 St',\n",
       " '34 St - Herald Sq / 34 St - Herald Sq',\n",
       " '42 St - Bryant Pk',\n",
       " '47-50 Sts - Rockefeller Ctr',\n",
       " '57 St',\n",
       " 'Lexington Av/63 St',\n",
       " '72 St',\n",
       " '86 St',\n",
       " '96 St',\n",
       " 'Roosevelt Island',\n",
       " '21 St - Queensbridge',\n",
       " '57 St - 7 Av',\n",
       " '5 Av/59 St',\n",
       " 'Lexington Av/59 St',\n",
       " '39 Av',\n",
       " '36 Av',\n",
       " 'Broadway',\n",
       " '30 Av',\n",
       " 'Astoria Blvd',\n",
       " 'Astoria - Ditmars Blvd',\n",
       " 'Queensboro Plaza / Queensboro Plaza',\n",
       " 'Court Sq',\n",
       " 'Hunters Point Av',\n",
       " 'Vernon Blvd - Jackson Av',\n",
       " 'Grand Central - 42 St / Grand Central - 42 St / Grand Central - 42 St',\n",
       " '5 Av',\n",
       " 'Times Sq - 42 St / Times Sq - 42 St / Times Sq - 42 St / Times Sq - 42 St',\n",
       " '49 St',\n",
       " '34 St - 11 Av',\n",
       " '50 St',\n",
       " '66 St - Lincoln Center',\n",
       " '59 St - Columbus Circle / 59 St - Columbus Circle',\n",
       " '72 St',\n",
       " '81 St - Museum of Natural History',\n",
       " '86 St',\n",
       " '96 St',\n",
       " '103 St',\n",
       " 'Cathedral Pkwy (110 St)',\n",
       " '116 St',\n",
       " '125 St',\n",
       " '135 St',\n",
       " 'Norwood - 205 St',\n",
       " 'Bedford Park Blvd',\n",
       " 'Kingsbridge Rd',\n",
       " 'Fordham Rd',\n",
       " '182-183 Sts',\n",
       " 'Tremont Av',\n",
       " '174-175 Sts',\n",
       " '170 St',\n",
       " '167 St',\n",
       " 'Woodlawn',\n",
       " 'Mosholu Pkwy',\n",
       " 'Bedford Park Blvd - Lehman College',\n",
       " 'Kingsbridge Rd',\n",
       " 'Fordham Rd',\n",
       " '183 St',\n",
       " 'Burnside Av',\n",
       " '176 St',\n",
       " 'Mt Eden Av',\n",
       " '170 St',\n",
       " '167 St',\n",
       " '161 St - Yankee Stadium / 161 St - Yankee Stadium',\n",
       " '155 St',\n",
       " '145 St / 145 St',\n",
       " '155 St',\n",
       " '163 St - Amsterdam Av',\n",
       " 'Van Cortlandt Park - 242 St']"
      ]
     },
     "execution_count": 393,
     "metadata": {},
     "output_type": "execute_result"
    }
   ],
   "source": [
    "tsp_names"
   ]
  },
  {
   "cell_type": "code",
   "execution_count": 394,
   "metadata": {
    "ExecuteTime": {
     "end_time": "2020-07-26T18:47:09.763333Z",
     "start_time": "2020-07-26T18:47:09.757993Z"
    }
   },
   "outputs": [],
   "source": [
    "possibly_duplicate_stations = [k for k, v in Counter(tsp_names).items() if v > 1]"
   ]
  },
  {
   "cell_type": "code",
   "execution_count": 396,
   "metadata": {
    "ExecuteTime": {
     "end_time": "2020-07-26T18:48:02.459093Z",
     "start_time": "2020-07-26T18:48:02.455142Z"
    }
   },
   "outputs": [],
   "source": [
    "possibly_duplicate_stations.remove('Van Cortlandt Park - 242 St') # this should be here twice"
   ]
  },
  {
   "cell_type": "code",
   "execution_count": 399,
   "metadata": {
    "ExecuteTime": {
     "end_time": "2020-07-26T18:49:22.534757Z",
     "start_time": "2020-07-26T18:49:22.481737Z"
    }
   },
   "outputs": [],
   "source": [
    "possible_duplicates_in_df = []\n",
    "for x in possibly_duplicate_stations:\n",
    "    matching_row = non_unique_stations_df[non_unique_stations_df['stop_name'] == x]\n",
    "    possible_duplicates_in_df.append(matching_row)"
   ]
  },
  {
   "cell_type": "code",
   "execution_count": 402,
   "metadata": {
    "ExecuteTime": {
     "end_time": "2020-07-26T18:49:39.322594Z",
     "start_time": "2020-07-26T18:49:39.317016Z"
    }
   },
   "outputs": [
    {
     "data": {
      "text/plain": [
       "63"
      ]
     },
     "execution_count": 402,
     "metadata": {},
     "output_type": "execute_result"
    }
   ],
   "source": [
    "len(possible_duplicates_in_df)"
   ]
  },
  {
   "cell_type": "code",
   "execution_count": 403,
   "metadata": {
    "ExecuteTime": {
     "end_time": "2020-07-26T18:50:24.799894Z",
     "start_time": "2020-07-26T18:50:24.787480Z"
    }
   },
   "outputs": [
    {
     "data": {
      "text/html": [
       "<div>\n",
       "<style scoped>\n",
       "    .dataframe tbody tr th:only-of-type {\n",
       "        vertical-align: middle;\n",
       "    }\n",
       "\n",
       "    .dataframe tbody tr th {\n",
       "        vertical-align: top;\n",
       "    }\n",
       "\n",
       "    .dataframe thead th {\n",
       "        text-align: right;\n",
       "    }\n",
       "</style>\n",
       "<table border=\"1\" class=\"dataframe\">\n",
       "  <thead>\n",
       "    <tr style=\"text-align: right;\">\n",
       "      <th></th>\n",
       "      <th>stop_id</th>\n",
       "      <th>stop_name</th>\n",
       "      <th>stop_lat</th>\n",
       "      <th>stop_lon</th>\n",
       "      <th>location_type</th>\n",
       "      <th>parent_station</th>\n",
       "    </tr>\n",
       "  </thead>\n",
       "  <tbody>\n",
       "    <tr>\n",
       "      <th>18</th>\n",
       "      <td>109</td>\n",
       "      <td>Dyckman St</td>\n",
       "      <td>40.860531</td>\n",
       "      <td>-73.925536</td>\n",
       "      <td>1</td>\n",
       "      <td>NaN</td>\n",
       "    </tr>\n",
       "    <tr>\n",
       "      <th>540</th>\n",
       "      <td>A03</td>\n",
       "      <td>Dyckman St</td>\n",
       "      <td>40.865491</td>\n",
       "      <td>-73.927271</td>\n",
       "      <td>1</td>\n",
       "      <td>NaN</td>\n",
       "    </tr>\n",
       "  </tbody>\n",
       "</table>\n",
       "</div>"
      ],
      "text/plain": [
       "    stop_id   stop_name   stop_lat   stop_lon  location_type  parent_station\n",
       "18      109  Dyckman St  40.860531 -73.925536              1             NaN\n",
       "540     A03  Dyckman St  40.865491 -73.927271              1             NaN"
      ]
     },
     "execution_count": 403,
     "metadata": {},
     "output_type": "execute_result"
    }
   ],
   "source": [
    "possible_duplicates_in_df[0]"
   ]
  },
  {
   "cell_type": "code",
   "execution_count": 450,
   "metadata": {
    "ExecuteTime": {
     "end_time": "2020-07-26T19:17:57.463286Z",
     "start_time": "2020-07-26T19:17:57.453622Z"
    }
   },
   "outputs": [],
   "source": [
    "possible_duplicates_close_lat_lon = []\n",
    "for x in possible_duplicates_in_df:\n",
    "    lat_list = [round(lat, 3) for lat in x['stop_lat']]\n",
    "    lon_list = [round(lon, 3) for lon in x['stop_lon']]\n",
    "    if len(set(lat_list)) < len(lat_list) and len(set(lon_list)) < len(lon_list):\n",
    "        possible_duplicates_close_lat_lon.append(x)\n",
    "    "
   ]
  },
  {
   "cell_type": "code",
   "execution_count": 451,
   "metadata": {
    "ExecuteTime": {
     "end_time": "2020-07-26T19:17:58.221547Z",
     "start_time": "2020-07-26T19:17:58.215492Z"
    }
   },
   "outputs": [
    {
     "data": {
      "text/plain": [
       "3"
      ]
     },
     "execution_count": 451,
     "metadata": {},
     "output_type": "execute_result"
    }
   ],
   "source": [
    "len(possible_duplicates_close_lat_lon)"
   ]
  },
  {
   "cell_type": "code",
   "execution_count": 452,
   "metadata": {
    "ExecuteTime": {
     "end_time": "2020-07-26T19:17:58.737621Z",
     "start_time": "2020-07-26T19:17:58.729910Z"
    }
   },
   "outputs": [
    {
     "data": {
      "text/html": [
       "<div>\n",
       "<style scoped>\n",
       "    .dataframe tbody tr th:only-of-type {\n",
       "        vertical-align: middle;\n",
       "    }\n",
       "\n",
       "    .dataframe tbody tr th {\n",
       "        vertical-align: top;\n",
       "    }\n",
       "\n",
       "    .dataframe thead th {\n",
       "        text-align: right;\n",
       "    }\n",
       "</style>\n",
       "<table border=\"1\" class=\"dataframe\">\n",
       "  <thead>\n",
       "    <tr style=\"text-align: right;\">\n",
       "      <th></th>\n",
       "      <th>stop_id</th>\n",
       "      <th>stop_name</th>\n",
       "      <th>stop_lat</th>\n",
       "      <th>stop_lon</th>\n",
       "      <th>location_type</th>\n",
       "      <th>parent_station</th>\n",
       "    </tr>\n",
       "  </thead>\n",
       "  <tbody>\n",
       "    <tr>\n",
       "      <th>192</th>\n",
       "      <td>229</td>\n",
       "      <td>Fulton St</td>\n",
       "      <td>40.709416</td>\n",
       "      <td>-74.006571</td>\n",
       "      <td>1</td>\n",
       "      <td>NaN</td>\n",
       "    </tr>\n",
       "    <tr>\n",
       "      <th>324</th>\n",
       "      <td>418</td>\n",
       "      <td>Fulton St</td>\n",
       "      <td>40.710368</td>\n",
       "      <td>-74.009509</td>\n",
       "      <td>1</td>\n",
       "      <td>NaN</td>\n",
       "    </tr>\n",
       "    <tr>\n",
       "      <th>621</th>\n",
       "      <td>A38</td>\n",
       "      <td>Fulton St</td>\n",
       "      <td>40.710197</td>\n",
       "      <td>-74.007691</td>\n",
       "      <td>1</td>\n",
       "      <td>NaN</td>\n",
       "    </tr>\n",
       "    <tr>\n",
       "      <th>1041</th>\n",
       "      <td>G36</td>\n",
       "      <td>Fulton St</td>\n",
       "      <td>40.687119</td>\n",
       "      <td>-73.975375</td>\n",
       "      <td>1</td>\n",
       "      <td>NaN</td>\n",
       "    </tr>\n",
       "    <tr>\n",
       "      <th>1260</th>\n",
       "      <td>M22</td>\n",
       "      <td>Fulton St</td>\n",
       "      <td>40.710374</td>\n",
       "      <td>-74.007582</td>\n",
       "      <td>1</td>\n",
       "      <td>NaN</td>\n",
       "    </tr>\n",
       "  </tbody>\n",
       "</table>\n",
       "</div>"
      ],
      "text/plain": [
       "     stop_id  stop_name   stop_lat   stop_lon  location_type  parent_station\n",
       "192      229  Fulton St  40.709416 -74.006571              1             NaN\n",
       "324      418  Fulton St  40.710368 -74.009509              1             NaN\n",
       "621      A38  Fulton St  40.710197 -74.007691              1             NaN\n",
       "1041     G36  Fulton St  40.687119 -73.975375              1             NaN\n",
       "1260     M22  Fulton St  40.710374 -74.007582              1             NaN"
      ]
     },
     "execution_count": 452,
     "metadata": {},
     "output_type": "execute_result"
    }
   ],
   "source": [
    "possible_duplicates_close_lat_lon[2]"
   ]
  },
  {
   "cell_type": "code",
   "execution_count": null,
   "metadata": {},
   "outputs": [],
   "source": []
  }
 ],
 "metadata": {
  "kernelspec": {
   "display_name": "Python [conda env:learn-env] *",
   "language": "python",
   "name": "conda-env-learn-env-py"
  },
  "language_info": {
   "codemirror_mode": {
    "name": "ipython",
    "version": 3
   },
   "file_extension": ".py",
   "mimetype": "text/x-python",
   "name": "python",
   "nbconvert_exporter": "python",
   "pygments_lexer": "ipython3",
   "version": "3.6.9"
  },
  "toc": {
   "base_numbering": 1,
   "nav_menu": {},
   "number_sections": true,
   "sideBar": true,
   "skip_h1_title": false,
   "title_cell": "Table of Contents",
   "title_sidebar": "Contents",
   "toc_cell": false,
   "toc_position": {
    "height": "calc(100% - 180px)",
    "left": "10px",
    "top": "150px",
    "width": "384px"
   },
   "toc_section_display": true,
   "toc_window_display": true
  },
  "varInspector": {
   "cols": {
    "lenName": 16,
    "lenType": 16,
    "lenVar": 40
   },
   "kernels_config": {
    "python": {
     "delete_cmd_postfix": "",
     "delete_cmd_prefix": "del ",
     "library": "var_list.py",
     "varRefreshCmd": "print(var_dic_list())"
    },
    "r": {
     "delete_cmd_postfix": ") ",
     "delete_cmd_prefix": "rm(",
     "library": "var_list.r",
     "varRefreshCmd": "cat(var_dic_list()) "
    }
   },
   "types_to_exclude": [
    "module",
    "function",
    "builtin_function_or_method",
    "instance",
    "_Feature"
   ],
   "window_display": false
  }
 },
 "nbformat": 4,
 "nbformat_minor": 2
}
