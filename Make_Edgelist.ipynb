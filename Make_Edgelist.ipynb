{
 "cells": [
  {
   "cell_type": "markdown",
   "metadata": {},
   "source": [
    "import pandas as pd\n",
    "# ^^^ pyforest auto-imports - don't write above this line\n",
    "# Finding Routes"
   ]
  },
  {
   "cell_type": "code",
   "execution_count": 418,
   "metadata": {
    "ExecuteTime": {
     "end_time": "2020-07-27T13:55:38.580612Z",
     "start_time": "2020-07-27T13:55:38.576337Z"
    }
   },
   "outputs": [],
   "source": [
    "import folium\n",
    "from collections import Counter\n",
    "import warnings\n",
    "warnings.filterwarnings('ignore')"
   ]
  },
  {
   "cell_type": "code",
   "execution_count": 419,
   "metadata": {
    "ExecuteTime": {
     "end_time": "2020-07-27T13:55:38.594465Z",
     "start_time": "2020-07-27T13:55:38.583781Z"
    }
   },
   "outputs": [
    {
     "data": {
      "application/javascript": [
       "\n",
       "        if (window._pyforest_update_imports_cell) { window._pyforest_update_imports_cell('import pandas as pd'); }\n",
       "    "
      ],
      "text/plain": [
       "<IPython.core.display.Javascript object>"
      ]
     },
     "metadata": {},
     "output_type": "display_data"
    }
   ],
   "source": [
    "stations_df = pd.read_csv(\"./saved_data/final_station_df.csv\", index_col = 0)"
   ]
  },
  {
   "cell_type": "code",
   "execution_count": 420,
   "metadata": {
    "ExecuteTime": {
     "end_time": "2020-07-27T13:55:38.606206Z",
     "start_time": "2020-07-27T13:55:38.597560Z"
    }
   },
   "outputs": [
    {
     "data": {
      "application/javascript": [
       "\n",
       "        if (window._pyforest_update_imports_cell) { window._pyforest_update_imports_cell('import pandas as pd'); }\n",
       "    "
      ],
      "text/plain": [
       "<IPython.core.display.Javascript object>"
      ]
     },
     "metadata": {},
     "output_type": "display_data"
    }
   ],
   "source": [
    "non_unique_stations_df = pd.read_csv(\"./saved_data/non_unique_mta_stations.csv\", index_col=0)"
   ]
  },
  {
   "cell_type": "code",
   "execution_count": 421,
   "metadata": {
    "ExecuteTime": {
     "end_time": "2020-07-27T13:55:38.613202Z",
     "start_time": "2020-07-27T13:55:38.608871Z"
    }
   },
   "outputs": [
    {
     "data": {
      "text/plain": [
       "False"
      ]
     },
     "execution_count": 421,
     "metadata": {},
     "output_type": "execute_result"
    }
   ],
   "source": [
    "'A12' in non_unique_stations_df['parent_station']"
   ]
  },
  {
   "cell_type": "code",
   "execution_count": 422,
   "metadata": {
    "ExecuteTime": {
     "end_time": "2020-07-27T13:55:38.618738Z",
     "start_time": "2020-07-27T13:55:38.615050Z"
    }
   },
   "outputs": [
    {
     "data": {
      "text/plain": [
       "(477, 6)"
      ]
     },
     "execution_count": 422,
     "metadata": {},
     "output_type": "execute_result"
    }
   ],
   "source": [
    "non_unique_stations_df.shape"
   ]
  },
  {
   "cell_type": "code",
   "execution_count": 423,
   "metadata": {
    "ExecuteTime": {
     "end_time": "2020-07-27T13:55:38.624371Z",
     "start_time": "2020-07-27T13:55:38.620797Z"
    }
   },
   "outputs": [
    {
     "data": {
      "text/plain": [
       "(446, 7)"
      ]
     },
     "execution_count": 423,
     "metadata": {},
     "output_type": "execute_result"
    }
   ],
   "source": [
    "stations_df.shape"
   ]
  },
  {
   "cell_type": "code",
   "execution_count": 424,
   "metadata": {
    "ExecuteTime": {
     "end_time": "2020-07-27T13:55:38.629510Z",
     "start_time": "2020-07-27T13:55:38.626142Z"
    }
   },
   "outputs": [
    {
     "name": "stdout",
     "output_type": "stream",
     "text": [
      "R42\n"
     ]
    }
   ],
   "source": [
    "for x in stations_df['station_id']:\n",
    "    if 'R42' in str(x):\n",
    "        print(x)"
   ]
  },
  {
   "cell_type": "code",
   "execution_count": 425,
   "metadata": {
    "ExecuteTime": {
     "end_time": "2020-07-27T13:55:38.641387Z",
     "start_time": "2020-07-27T13:55:38.631364Z"
    }
   },
   "outputs": [
    {
     "data": {
      "text/html": [
       "<div>\n",
       "<style scoped>\n",
       "    .dataframe tbody tr th:only-of-type {\n",
       "        vertical-align: middle;\n",
       "    }\n",
       "\n",
       "    .dataframe tbody tr th {\n",
       "        vertical-align: top;\n",
       "    }\n",
       "\n",
       "    .dataframe thead th {\n",
       "        text-align: right;\n",
       "    }\n",
       "</style>\n",
       "<table border=\"1\" class=\"dataframe\">\n",
       "  <thead>\n",
       "    <tr style=\"text-align: right;\">\n",
       "      <th></th>\n",
       "      <th>stop_id</th>\n",
       "      <th>stop_name</th>\n",
       "      <th>stop_lat</th>\n",
       "      <th>stop_lon</th>\n",
       "      <th>location_type</th>\n",
       "      <th>parent_station</th>\n",
       "      <th>station_id</th>\n",
       "    </tr>\n",
       "  </thead>\n",
       "  <tbody>\n",
       "    <tr>\n",
       "      <th>471</th>\n",
       "      <td>R42</td>\n",
       "      <td>Bay Ridge Av</td>\n",
       "      <td>40.634967</td>\n",
       "      <td>-74.023377</td>\n",
       "      <td>1</td>\n",
       "      <td>NaN</td>\n",
       "      <td>R42</td>\n",
       "    </tr>\n",
       "  </tbody>\n",
       "</table>\n",
       "</div>"
      ],
      "text/plain": [
       "    stop_id     stop_name   stop_lat   stop_lon  location_type  \\\n",
       "471     R42  Bay Ridge Av  40.634967 -74.023377              1   \n",
       "\n",
       "     parent_station station_id  \n",
       "471             NaN        R42  "
      ]
     },
     "execution_count": 425,
     "metadata": {},
     "output_type": "execute_result"
    }
   ],
   "source": [
    "stations_df[stations_df['stop_name'] == 'Bay Ridge Av']"
   ]
  },
  {
   "cell_type": "code",
   "execution_count": 426,
   "metadata": {
    "ExecuteTime": {
     "end_time": "2020-07-27T13:55:39.118797Z",
     "start_time": "2020-07-27T13:55:38.643332Z"
    }
   },
   "outputs": [
    {
     "data": {
      "application/javascript": [
       "\n",
       "        if (window._pyforest_update_imports_cell) { window._pyforest_update_imports_cell('import pandas as pd'); }\n",
       "    "
      ],
      "text/plain": [
       "<IPython.core.display.Javascript object>"
      ]
     },
     "metadata": {},
     "output_type": "display_data"
    }
   ],
   "source": [
    "stop_times_df = pd.read_csv(\"./gtfs_data/stop_times.txt\")"
   ]
  },
  {
   "cell_type": "code",
   "execution_count": 427,
   "metadata": {
    "ExecuteTime": {
     "end_time": "2020-07-27T13:55:39.137829Z",
     "start_time": "2020-07-27T13:55:39.120591Z"
    }
   },
   "outputs": [
    {
     "data": {
      "text/html": [
       "<div>\n",
       "<style scoped>\n",
       "    .dataframe tbody tr th:only-of-type {\n",
       "        vertical-align: middle;\n",
       "    }\n",
       "\n",
       "    .dataframe tbody tr th {\n",
       "        vertical-align: top;\n",
       "    }\n",
       "\n",
       "    .dataframe thead th {\n",
       "        text-align: right;\n",
       "    }\n",
       "</style>\n",
       "<table border=\"1\" class=\"dataframe\">\n",
       "  <thead>\n",
       "    <tr style=\"text-align: right;\">\n",
       "      <th></th>\n",
       "      <th>trip_id</th>\n",
       "      <th>arrival_time</th>\n",
       "      <th>departure_time</th>\n",
       "      <th>stop_id</th>\n",
       "      <th>stop_sequence</th>\n",
       "      <th>stop_headsign</th>\n",
       "      <th>pickup_type</th>\n",
       "      <th>drop_off_type</th>\n",
       "      <th>shape_dist_traveled</th>\n",
       "    </tr>\n",
       "  </thead>\n",
       "  <tbody>\n",
       "    <tr>\n",
       "      <th>0</th>\n",
       "      <td>AFA19GEN-1037-Sunday-00_000600_1..S03R</td>\n",
       "      <td>00:06:00</td>\n",
       "      <td>00:06:00</td>\n",
       "      <td>101S</td>\n",
       "      <td>1</td>\n",
       "      <td>NaN</td>\n",
       "      <td>0</td>\n",
       "      <td>0</td>\n",
       "      <td>NaN</td>\n",
       "    </tr>\n",
       "    <tr>\n",
       "      <th>1</th>\n",
       "      <td>AFA19GEN-1037-Sunday-00_000600_1..S03R</td>\n",
       "      <td>00:07:30</td>\n",
       "      <td>00:07:30</td>\n",
       "      <td>103S</td>\n",
       "      <td>2</td>\n",
       "      <td>NaN</td>\n",
       "      <td>0</td>\n",
       "      <td>0</td>\n",
       "      <td>NaN</td>\n",
       "    </tr>\n",
       "    <tr>\n",
       "      <th>2</th>\n",
       "      <td>AFA19GEN-1037-Sunday-00_000600_1..S03R</td>\n",
       "      <td>00:09:00</td>\n",
       "      <td>00:09:00</td>\n",
       "      <td>104S</td>\n",
       "      <td>3</td>\n",
       "      <td>NaN</td>\n",
       "      <td>0</td>\n",
       "      <td>0</td>\n",
       "      <td>NaN</td>\n",
       "    </tr>\n",
       "    <tr>\n",
       "      <th>3</th>\n",
       "      <td>AFA19GEN-1037-Sunday-00_000600_1..S03R</td>\n",
       "      <td>00:10:30</td>\n",
       "      <td>00:10:30</td>\n",
       "      <td>106S</td>\n",
       "      <td>4</td>\n",
       "      <td>NaN</td>\n",
       "      <td>0</td>\n",
       "      <td>0</td>\n",
       "      <td>NaN</td>\n",
       "    </tr>\n",
       "    <tr>\n",
       "      <th>4</th>\n",
       "      <td>AFA19GEN-1037-Sunday-00_000600_1..S03R</td>\n",
       "      <td>00:12:00</td>\n",
       "      <td>00:12:00</td>\n",
       "      <td>107S</td>\n",
       "      <td>5</td>\n",
       "      <td>NaN</td>\n",
       "      <td>0</td>\n",
       "      <td>0</td>\n",
       "      <td>NaN</td>\n",
       "    </tr>\n",
       "    <tr>\n",
       "      <th>...</th>\n",
       "      <td>...</td>\n",
       "      <td>...</td>\n",
       "      <td>...</td>\n",
       "      <td>...</td>\n",
       "      <td>...</td>\n",
       "      <td>...</td>\n",
       "      <td>...</td>\n",
       "      <td>...</td>\n",
       "      <td>...</td>\n",
       "    </tr>\n",
       "    <tr>\n",
       "      <th>535094</th>\n",
       "      <td>BFA19SUPP-L047-Weekday-99_142400_L..S10R</td>\n",
       "      <td>24:06:00</td>\n",
       "      <td>24:06:00</td>\n",
       "      <td>L25S</td>\n",
       "      <td>14</td>\n",
       "      <td>NaN</td>\n",
       "      <td>0</td>\n",
       "      <td>0</td>\n",
       "      <td>NaN</td>\n",
       "    </tr>\n",
       "    <tr>\n",
       "      <th>535095</th>\n",
       "      <td>BFA19SUPP-L047-Weekday-99_142400_L..S10R</td>\n",
       "      <td>24:07:00</td>\n",
       "      <td>24:07:00</td>\n",
       "      <td>L26S</td>\n",
       "      <td>15</td>\n",
       "      <td>NaN</td>\n",
       "      <td>0</td>\n",
       "      <td>0</td>\n",
       "      <td>NaN</td>\n",
       "    </tr>\n",
       "    <tr>\n",
       "      <th>535096</th>\n",
       "      <td>BFA19SUPP-L047-Weekday-99_142400_L..S10R</td>\n",
       "      <td>24:08:30</td>\n",
       "      <td>24:08:30</td>\n",
       "      <td>L27S</td>\n",
       "      <td>16</td>\n",
       "      <td>NaN</td>\n",
       "      <td>0</td>\n",
       "      <td>0</td>\n",
       "      <td>NaN</td>\n",
       "    </tr>\n",
       "    <tr>\n",
       "      <th>535097</th>\n",
       "      <td>BFA19SUPP-L047-Weekday-99_142400_L..S10R</td>\n",
       "      <td>24:10:30</td>\n",
       "      <td>24:10:30</td>\n",
       "      <td>L28S</td>\n",
       "      <td>17</td>\n",
       "      <td>NaN</td>\n",
       "      <td>0</td>\n",
       "      <td>0</td>\n",
       "      <td>NaN</td>\n",
       "    </tr>\n",
       "    <tr>\n",
       "      <th>535098</th>\n",
       "      <td>BFA19SUPP-L047-Weekday-99_142400_L..S10R</td>\n",
       "      <td>24:12:00</td>\n",
       "      <td>24:12:00</td>\n",
       "      <td>L29S</td>\n",
       "      <td>18</td>\n",
       "      <td>NaN</td>\n",
       "      <td>0</td>\n",
       "      <td>0</td>\n",
       "      <td>NaN</td>\n",
       "    </tr>\n",
       "  </tbody>\n",
       "</table>\n",
       "<p>535099 rows × 9 columns</p>\n",
       "</div>"
      ],
      "text/plain": [
       "                                         trip_id arrival_time departure_time  \\\n",
       "0         AFA19GEN-1037-Sunday-00_000600_1..S03R     00:06:00       00:06:00   \n",
       "1         AFA19GEN-1037-Sunday-00_000600_1..S03R     00:07:30       00:07:30   \n",
       "2         AFA19GEN-1037-Sunday-00_000600_1..S03R     00:09:00       00:09:00   \n",
       "3         AFA19GEN-1037-Sunday-00_000600_1..S03R     00:10:30       00:10:30   \n",
       "4         AFA19GEN-1037-Sunday-00_000600_1..S03R     00:12:00       00:12:00   \n",
       "...                                          ...          ...            ...   \n",
       "535094  BFA19SUPP-L047-Weekday-99_142400_L..S10R     24:06:00       24:06:00   \n",
       "535095  BFA19SUPP-L047-Weekday-99_142400_L..S10R     24:07:00       24:07:00   \n",
       "535096  BFA19SUPP-L047-Weekday-99_142400_L..S10R     24:08:30       24:08:30   \n",
       "535097  BFA19SUPP-L047-Weekday-99_142400_L..S10R     24:10:30       24:10:30   \n",
       "535098  BFA19SUPP-L047-Weekday-99_142400_L..S10R     24:12:00       24:12:00   \n",
       "\n",
       "       stop_id  stop_sequence  stop_headsign  pickup_type  drop_off_type  \\\n",
       "0         101S              1            NaN            0              0   \n",
       "1         103S              2            NaN            0              0   \n",
       "2         104S              3            NaN            0              0   \n",
       "3         106S              4            NaN            0              0   \n",
       "4         107S              5            NaN            0              0   \n",
       "...        ...            ...            ...          ...            ...   \n",
       "535094    L25S             14            NaN            0              0   \n",
       "535095    L26S             15            NaN            0              0   \n",
       "535096    L27S             16            NaN            0              0   \n",
       "535097    L28S             17            NaN            0              0   \n",
       "535098    L29S             18            NaN            0              0   \n",
       "\n",
       "        shape_dist_traveled  \n",
       "0                       NaN  \n",
       "1                       NaN  \n",
       "2                       NaN  \n",
       "3                       NaN  \n",
       "4                       NaN  \n",
       "...                     ...  \n",
       "535094                  NaN  \n",
       "535095                  NaN  \n",
       "535096                  NaN  \n",
       "535097                  NaN  \n",
       "535098                  NaN  \n",
       "\n",
       "[535099 rows x 9 columns]"
      ]
     },
     "execution_count": 427,
     "metadata": {},
     "output_type": "execute_result"
    }
   ],
   "source": [
    "stop_times_df"
   ]
  },
  {
   "cell_type": "code",
   "execution_count": 428,
   "metadata": {
    "ExecuteTime": {
     "end_time": "2020-07-27T13:55:39.268829Z",
     "start_time": "2020-07-27T13:55:39.139703Z"
    }
   },
   "outputs": [],
   "source": [
    "for x in stop_times_df['stop_id']:\n",
    "    if 'H19' in x[:-1]:\n",
    "        print(x)"
   ]
  },
  {
   "cell_type": "markdown",
   "metadata": {},
   "source": [
    "### Removing unnecessary columns"
   ]
  },
  {
   "cell_type": "code",
   "execution_count": 429,
   "metadata": {
    "ExecuteTime": {
     "end_time": "2020-07-27T13:55:39.361529Z",
     "start_time": "2020-07-27T13:55:39.274635Z"
    }
   },
   "outputs": [
    {
     "data": {
      "text/plain": [
       "stop_headsign          535099\n",
       "shape_dist_traveled    535099\n",
       "dtype: int64"
      ]
     },
     "execution_count": 429,
     "metadata": {},
     "output_type": "execute_result"
    }
   ],
   "source": [
    "null_columns2=stop_times_df.columns[stop_times_df.isnull().any()]\n",
    "stop_times_df[null_columns2].isnull().sum()"
   ]
  },
  {
   "cell_type": "code",
   "execution_count": 430,
   "metadata": {
    "ExecuteTime": {
     "end_time": "2020-07-27T13:55:39.395679Z",
     "start_time": "2020-07-27T13:55:39.367200Z"
    }
   },
   "outputs": [],
   "source": [
    "stop_times_df.drop(columns = ['stop_headsign', 'shape_dist_traveled'], inplace=True)"
   ]
  },
  {
   "cell_type": "code",
   "execution_count": 431,
   "metadata": {
    "ExecuteTime": {
     "end_time": "2020-07-27T13:55:39.407642Z",
     "start_time": "2020-07-27T13:55:39.397554Z"
    }
   },
   "outputs": [
    {
     "name": "stdout",
     "output_type": "stream",
     "text": [
      "2\n",
      "2\n"
     ]
    }
   ],
   "source": [
    "print(stop_times_df.pickup_type.nunique())\n",
    "print(stop_times_df.drop_off_type.nunique())"
   ]
  },
  {
   "cell_type": "code",
   "execution_count": 432,
   "metadata": {
    "ExecuteTime": {
     "end_time": "2020-07-27T13:55:39.421944Z",
     "start_time": "2020-07-27T13:55:39.409581Z"
    },
    "scrolled": true
   },
   "outputs": [
    {
     "data": {
      "text/html": [
       "<div>\n",
       "<style scoped>\n",
       "    .dataframe tbody tr th:only-of-type {\n",
       "        vertical-align: middle;\n",
       "    }\n",
       "\n",
       "    .dataframe tbody tr th {\n",
       "        vertical-align: top;\n",
       "    }\n",
       "\n",
       "    .dataframe thead th {\n",
       "        text-align: right;\n",
       "    }\n",
       "</style>\n",
       "<table border=\"1\" class=\"dataframe\">\n",
       "  <thead>\n",
       "    <tr style=\"text-align: right;\">\n",
       "      <th></th>\n",
       "      <th>trip_id</th>\n",
       "      <th>arrival_time</th>\n",
       "      <th>departure_time</th>\n",
       "      <th>stop_id</th>\n",
       "      <th>stop_sequence</th>\n",
       "      <th>pickup_type</th>\n",
       "      <th>drop_off_type</th>\n",
       "    </tr>\n",
       "  </thead>\n",
       "  <tbody>\n",
       "    <tr>\n",
       "      <th>0</th>\n",
       "      <td>AFA19GEN-1037-Sunday-00_000600_1..S03R</td>\n",
       "      <td>00:06:00</td>\n",
       "      <td>00:06:00</td>\n",
       "      <td>101S</td>\n",
       "      <td>1</td>\n",
       "      <td>0</td>\n",
       "      <td>0</td>\n",
       "    </tr>\n",
       "    <tr>\n",
       "      <th>1</th>\n",
       "      <td>AFA19GEN-1037-Sunday-00_000600_1..S03R</td>\n",
       "      <td>00:07:30</td>\n",
       "      <td>00:07:30</td>\n",
       "      <td>103S</td>\n",
       "      <td>2</td>\n",
       "      <td>0</td>\n",
       "      <td>0</td>\n",
       "    </tr>\n",
       "    <tr>\n",
       "      <th>2</th>\n",
       "      <td>AFA19GEN-1037-Sunday-00_000600_1..S03R</td>\n",
       "      <td>00:09:00</td>\n",
       "      <td>00:09:00</td>\n",
       "      <td>104S</td>\n",
       "      <td>3</td>\n",
       "      <td>0</td>\n",
       "      <td>0</td>\n",
       "    </tr>\n",
       "    <tr>\n",
       "      <th>3</th>\n",
       "      <td>AFA19GEN-1037-Sunday-00_000600_1..S03R</td>\n",
       "      <td>00:10:30</td>\n",
       "      <td>00:10:30</td>\n",
       "      <td>106S</td>\n",
       "      <td>4</td>\n",
       "      <td>0</td>\n",
       "      <td>0</td>\n",
       "    </tr>\n",
       "    <tr>\n",
       "      <th>4</th>\n",
       "      <td>AFA19GEN-1037-Sunday-00_000600_1..S03R</td>\n",
       "      <td>00:12:00</td>\n",
       "      <td>00:12:00</td>\n",
       "      <td>107S</td>\n",
       "      <td>5</td>\n",
       "      <td>0</td>\n",
       "      <td>0</td>\n",
       "    </tr>\n",
       "    <tr>\n",
       "      <th>...</th>\n",
       "      <td>...</td>\n",
       "      <td>...</td>\n",
       "      <td>...</td>\n",
       "      <td>...</td>\n",
       "      <td>...</td>\n",
       "      <td>...</td>\n",
       "      <td>...</td>\n",
       "    </tr>\n",
       "    <tr>\n",
       "      <th>535094</th>\n",
       "      <td>BFA19SUPP-L047-Weekday-99_142400_L..S10R</td>\n",
       "      <td>24:06:00</td>\n",
       "      <td>24:06:00</td>\n",
       "      <td>L25S</td>\n",
       "      <td>14</td>\n",
       "      <td>0</td>\n",
       "      <td>0</td>\n",
       "    </tr>\n",
       "    <tr>\n",
       "      <th>535095</th>\n",
       "      <td>BFA19SUPP-L047-Weekday-99_142400_L..S10R</td>\n",
       "      <td>24:07:00</td>\n",
       "      <td>24:07:00</td>\n",
       "      <td>L26S</td>\n",
       "      <td>15</td>\n",
       "      <td>0</td>\n",
       "      <td>0</td>\n",
       "    </tr>\n",
       "    <tr>\n",
       "      <th>535096</th>\n",
       "      <td>BFA19SUPP-L047-Weekday-99_142400_L..S10R</td>\n",
       "      <td>24:08:30</td>\n",
       "      <td>24:08:30</td>\n",
       "      <td>L27S</td>\n",
       "      <td>16</td>\n",
       "      <td>0</td>\n",
       "      <td>0</td>\n",
       "    </tr>\n",
       "    <tr>\n",
       "      <th>535097</th>\n",
       "      <td>BFA19SUPP-L047-Weekday-99_142400_L..S10R</td>\n",
       "      <td>24:10:30</td>\n",
       "      <td>24:10:30</td>\n",
       "      <td>L28S</td>\n",
       "      <td>17</td>\n",
       "      <td>0</td>\n",
       "      <td>0</td>\n",
       "    </tr>\n",
       "    <tr>\n",
       "      <th>535098</th>\n",
       "      <td>BFA19SUPP-L047-Weekday-99_142400_L..S10R</td>\n",
       "      <td>24:12:00</td>\n",
       "      <td>24:12:00</td>\n",
       "      <td>L29S</td>\n",
       "      <td>18</td>\n",
       "      <td>0</td>\n",
       "      <td>0</td>\n",
       "    </tr>\n",
       "  </tbody>\n",
       "</table>\n",
       "<p>535099 rows × 7 columns</p>\n",
       "</div>"
      ],
      "text/plain": [
       "                                         trip_id arrival_time departure_time  \\\n",
       "0         AFA19GEN-1037-Sunday-00_000600_1..S03R     00:06:00       00:06:00   \n",
       "1         AFA19GEN-1037-Sunday-00_000600_1..S03R     00:07:30       00:07:30   \n",
       "2         AFA19GEN-1037-Sunday-00_000600_1..S03R     00:09:00       00:09:00   \n",
       "3         AFA19GEN-1037-Sunday-00_000600_1..S03R     00:10:30       00:10:30   \n",
       "4         AFA19GEN-1037-Sunday-00_000600_1..S03R     00:12:00       00:12:00   \n",
       "...                                          ...          ...            ...   \n",
       "535094  BFA19SUPP-L047-Weekday-99_142400_L..S10R     24:06:00       24:06:00   \n",
       "535095  BFA19SUPP-L047-Weekday-99_142400_L..S10R     24:07:00       24:07:00   \n",
       "535096  BFA19SUPP-L047-Weekday-99_142400_L..S10R     24:08:30       24:08:30   \n",
       "535097  BFA19SUPP-L047-Weekday-99_142400_L..S10R     24:10:30       24:10:30   \n",
       "535098  BFA19SUPP-L047-Weekday-99_142400_L..S10R     24:12:00       24:12:00   \n",
       "\n",
       "       stop_id  stop_sequence  pickup_type  drop_off_type  \n",
       "0         101S              1            0              0  \n",
       "1         103S              2            0              0  \n",
       "2         104S              3            0              0  \n",
       "3         106S              4            0              0  \n",
       "4         107S              5            0              0  \n",
       "...        ...            ...          ...            ...  \n",
       "535094    L25S             14            0              0  \n",
       "535095    L26S             15            0              0  \n",
       "535096    L27S             16            0              0  \n",
       "535097    L28S             17            0              0  \n",
       "535098    L29S             18            0              0  \n",
       "\n",
       "[535099 rows x 7 columns]"
      ]
     },
     "execution_count": 432,
     "metadata": {},
     "output_type": "execute_result"
    }
   ],
   "source": [
    "# I think I need to use the stop_sequence and the stop_id to map them out \n",
    "## A lot of suspiciously round numbers\n",
    "stop_times_df"
   ]
  },
  {
   "cell_type": "markdown",
   "metadata": {},
   "source": [
    "## Getting Connections to Each Stop"
   ]
  },
  {
   "cell_type": "code",
   "execution_count": 433,
   "metadata": {
    "ExecuteTime": {
     "end_time": "2020-07-27T13:55:39.608492Z",
     "start_time": "2020-07-27T13:55:39.423889Z"
    }
   },
   "outputs": [],
   "source": [
    "# vectorizing the arrays\n",
    "stop_id_order_array = np.array(stop_times_df['stop_id'])\n",
    "# station_id_array = np.array(stations_df['station_id'])\n",
    "# stop_id_stations_array = np.array(non_unique_stations_df['stop_id']) # will combine duplicate station_ids later\n",
    "stop_id_order_array_no_ns = np.array([x[:-1] for x in stop_times_df['stop_id']]) # all stop_ids end in n or s"
   ]
  },
  {
   "cell_type": "code",
   "execution_count": 434,
   "metadata": {
    "ExecuteTime": {
     "end_time": "2020-07-27T13:55:39.613383Z",
     "start_time": "2020-07-27T13:55:39.610408Z"
    }
   },
   "outputs": [],
   "source": [
    "stop_id_connections_dict = {key:None for key in non_unique_stations_df['stop_id']}"
   ]
  },
  {
   "cell_type": "code",
   "execution_count": 435,
   "metadata": {
    "ExecuteTime": {
     "end_time": "2020-07-27T13:55:39.619665Z",
     "start_time": "2020-07-27T13:55:39.614957Z"
    },
    "code_folding": []
   },
   "outputs": [],
   "source": [
    "def get_connections_to_a_stop(the_stop, stop_times_stop_id=stop_id_order_array_no_ns, df=stop_times_df):\n",
    "    # make list of stop_ids that are bordering a certain stop\n",
    "    # https://stackoverflow.com/questions/432112/is-there-a-numpy-function-to-return-the-first-index-of-something-in-an-array\n",
    "    indices_of_the_stop = np.where(stop_times_stop_id == the_stop)\n",
    "    all_connections = []\n",
    "    for idx in indices_of_the_stop[0]:\n",
    "        if idx > 0:\n",
    "            prev_row = df.iloc[idx-1]\n",
    "            if prev_row['trip_id'] == df['trip_id'][idx]:\n",
    "                all_connections.append(prev_row['stop_id'][:-1])\n",
    "        elif idx < df.shape[0]:\n",
    "            next_row = df.iloc[idx+1]\n",
    "            if next_row['trip_id'] == df['trip_id'][idx]:\n",
    "                all_connections.append(next_row['stop_id'][:-1])\n",
    "    connections_to_the_stop = set(all_connections)\n",
    "    if the_stop in connections_to_the_stop:\n",
    "        connections_to_the_stop.remove(the_stop)\n",
    "    return connections_to_the_stop"
   ]
  },
  {
   "cell_type": "code",
   "execution_count": 436,
   "metadata": {
    "ExecuteTime": {
     "end_time": "2020-07-27T13:55:39.624212Z",
     "start_time": "2020-07-27T13:55:39.621306Z"
    },
    "code_folding": [
     0
    ]
   },
   "outputs": [],
   "source": [
    "def add_connections_to_dict(the_stop, the_dict=stop_id_connections_dict, func = get_connections_to_a_stop):\n",
    "    if the_dict.get(the_stop) == None:\n",
    "        connections_to_the_stop = get_connections_to_a_stop(the_stop)\n",
    "        the_dict[the_stop] = connections_to_the_stop\n",
    "    return the_dict"
   ]
  },
  {
   "cell_type": "code",
   "execution_count": 437,
   "metadata": {
    "ExecuteTime": {
     "end_time": "2020-07-27T13:57:12.850495Z",
     "start_time": "2020-07-27T13:55:39.625790Z"
    }
   },
   "outputs": [],
   "source": [
    "# took about a minute to run\n",
    "for stop in non_unique_stations_df['stop_id']:\n",
    "    stop_id_connections_dict = add_connections_to_dict(the_stop=stop)"
   ]
  },
  {
   "cell_type": "code",
   "execution_count": 438,
   "metadata": {
    "ExecuteTime": {
     "end_time": "2020-07-27T13:57:12.854405Z",
     "start_time": "2020-07-27T13:57:12.852257Z"
    }
   },
   "outputs": [],
   "source": [
    "# stop_id_connections_dict"
   ]
  },
  {
   "cell_type": "markdown",
   "metadata": {},
   "source": [
    "#### Saving connections dict"
   ]
  },
  {
   "cell_type": "code",
   "execution_count": 439,
   "metadata": {
    "ExecuteTime": {
     "end_time": "2020-07-27T13:57:12.858032Z",
     "start_time": "2020-07-27T13:57:12.856254Z"
    }
   },
   "outputs": [],
   "source": [
    "# with open(\"./saved_data/all_connections_dict.pickle\", \"wb+\") as f:\n",
    "#     pickle.dump(stop_id_connections_dict, f)"
   ]
  },
  {
   "cell_type": "markdown",
   "metadata": {},
   "source": [
    "### Which station has the most direct connections"
   ]
  },
  {
   "cell_type": "code",
   "execution_count": 440,
   "metadata": {
    "ExecuteTime": {
     "end_time": "2020-07-27T13:57:12.863015Z",
     "start_time": "2020-07-27T13:57:12.859797Z"
    }
   },
   "outputs": [
    {
     "name": "stdout",
     "output_type": "stream",
     "text": [
      "5\n"
     ]
    }
   ],
   "source": [
    "most_connections = 0\n",
    "for key, value in stop_id_connections_dict.items():\n",
    "    if len(value) > most_connections:\n",
    "        most_connections = len(value)\n",
    "print(most_connections)"
   ]
  },
  {
   "cell_type": "code",
   "execution_count": 441,
   "metadata": {
    "ExecuteTime": {
     "end_time": "2020-07-27T13:57:12.881160Z",
     "start_time": "2020-07-27T13:57:12.864643Z"
    }
   },
   "outputs": [
    {
     "name": "stdout",
     "output_type": "stream",
     "text": [
      "['Franklin Av', 'officially known as 239']\n",
      "['125 St', 'officially known as 621']\n",
      "['125 St', 'officially known as A15']\n",
      "['59 St - Columbus Circle', 'officially known as A24']\n",
      "['Hoyt - Schermerhorn Sts', 'officially known as A42']\n",
      "['Kew Gardens - Union Tpke', 'officially known as F06']\n",
      "['Jackson Hts - Roosevelt Av', 'officially known as G14']\n",
      "['Myrtle Av', 'officially known as M11']\n",
      "['DeKalb Av', 'officially known as R30']\n",
      "['Atlantic Av - Barclays Ctr', 'officially known as R31']\n",
      "['36 St', 'officially known as R36']\n"
     ]
    }
   ],
   "source": [
    "most_connections_station = \"\"\n",
    "most_connections_station_common_name = []\n",
    "for key, value in stop_id_connections_dict.items():\n",
    "    if len(value) >= 5:\n",
    "        most_connections_station = key\n",
    "        index = non_unique_stations_df['stop_id'] == key\n",
    "        common_name = list(non_unique_stations_df['stop_name'][index])\n",
    "        common_name.append(f\"officially known as {key}\")\n",
    "        most_connections_station_common_name.append(common_name)\n",
    "for x in most_connections_station_common_name:\n",
    "    print(x)"
   ]
  },
  {
   "cell_type": "markdown",
   "metadata": {},
   "source": [
    "### Putting Connections into a dataframe"
   ]
  },
  {
   "cell_type": "markdown",
   "metadata": {},
   "source": [
    "#### Get All Combinations of Stops"
   ]
  },
  {
   "cell_type": "code",
   "execution_count": 442,
   "metadata": {
    "ExecuteTime": {
     "end_time": "2020-07-27T13:57:12.896003Z",
     "start_time": "2020-07-27T13:57:12.883801Z"
    }
   },
   "outputs": [],
   "source": [
    "# only need one combination of each pair (not each permutation)\n",
    "## e.g.: 101 <-> 103 should have same amount of time between them\n",
    "permutation_list = []\n",
    "for key, value in stop_id_connections_dict.items():\n",
    "    for item in value:\n",
    "        permutation = [key, item]\n",
    "        if [item, key] not in permutation_list:\n",
    "            permutation_list.append(permutation)"
   ]
  },
  {
   "cell_type": "code",
   "execution_count": 443,
   "metadata": {
    "ExecuteTime": {
     "end_time": "2020-07-27T13:57:12.901586Z",
     "start_time": "2020-07-27T13:57:12.898109Z"
    }
   },
   "outputs": [
    {
     "data": {
      "text/plain": [
       "551"
      ]
     },
     "execution_count": 443,
     "metadata": {},
     "output_type": "execute_result"
    }
   ],
   "source": [
    "# there are 551 distinct station to station pairs in the NYC subway system\n",
    "len(permutation_list)"
   ]
  },
  {
   "cell_type": "code",
   "execution_count": 444,
   "metadata": {
    "ExecuteTime": {
     "end_time": "2020-07-27T13:57:12.905759Z",
     "start_time": "2020-07-27T13:57:12.903721Z"
    }
   },
   "outputs": [],
   "source": [
    "# permutation_list"
   ]
  },
  {
   "cell_type": "markdown",
   "metadata": {},
   "source": [
    "#### Making sure second avenue subway cars are in list"
   ]
  },
  {
   "cell_type": "code",
   "execution_count": 445,
   "metadata": {
    "ExecuteTime": {
     "end_time": "2020-07-27T13:57:12.909402Z",
     "start_time": "2020-07-27T13:57:12.907427Z"
    }
   },
   "outputs": [],
   "source": [
    "# new 96 st station has the id 625 which is in the dict! \n",
    "# for idx, x in enumerate(non_unique_stations_df['stop_name']):\n",
    "#     if '96' in x:\n",
    "#         print(non_unique_stations_df.iloc[idx])"
   ]
  },
  {
   "cell_type": "markdown",
   "metadata": {},
   "source": [
    "#### Putting combos in df"
   ]
  },
  {
   "cell_type": "code",
   "execution_count": 446,
   "metadata": {
    "ExecuteTime": {
     "end_time": "2020-07-27T13:57:12.914599Z",
     "start_time": "2020-07-27T13:57:12.911734Z"
    }
   },
   "outputs": [],
   "source": [
    "start_station = [x[0] for x in permutation_list]\n",
    "end_station = [x[1] for x in permutation_list]"
   ]
  },
  {
   "cell_type": "code",
   "execution_count": 447,
   "metadata": {
    "ExecuteTime": {
     "end_time": "2020-07-27T13:57:12.967997Z",
     "start_time": "2020-07-27T13:57:12.916738Z"
    }
   },
   "outputs": [
    {
     "data": {
      "application/javascript": [
       "\n",
       "        if (window._pyforest_update_imports_cell) { window._pyforest_update_imports_cell('import pandas as pd'); }\n",
       "    "
      ],
      "text/plain": [
       "<IPython.core.display.Javascript object>"
      ]
     },
     "metadata": {},
     "output_type": "display_data"
    }
   ],
   "source": [
    "edge_list_df = pd.DataFrame(data=[start_station, end_station]).T"
   ]
  },
  {
   "cell_type": "code",
   "execution_count": 448,
   "metadata": {
    "ExecuteTime": {
     "end_time": "2020-07-27T13:57:12.973372Z",
     "start_time": "2020-07-27T13:57:12.969694Z"
    }
   },
   "outputs": [],
   "source": [
    "edge_list_df.columns = ['node1', 'node2']\n",
    "edge_list_df['trail'] = 'nyc subway' # making this a single trail for simplicity's sake\n",
    "edge_list_df['color'] = 'red'"
   ]
  },
  {
   "cell_type": "markdown",
   "metadata": {},
   "source": [
    "## Getting Distance Between Each Connection"
   ]
  },
  {
   "cell_type": "code",
   "execution_count": 449,
   "metadata": {
    "ExecuteTime": {
     "end_time": "2020-07-27T13:57:12.983722Z",
     "start_time": "2020-07-27T13:57:12.975233Z"
    }
   },
   "outputs": [
    {
     "data": {
      "text/html": [
       "<div>\n",
       "<style scoped>\n",
       "    .dataframe tbody tr th:only-of-type {\n",
       "        vertical-align: middle;\n",
       "    }\n",
       "\n",
       "    .dataframe tbody tr th {\n",
       "        vertical-align: top;\n",
       "    }\n",
       "\n",
       "    .dataframe thead th {\n",
       "        text-align: right;\n",
       "    }\n",
       "</style>\n",
       "<table border=\"1\" class=\"dataframe\">\n",
       "  <thead>\n",
       "    <tr style=\"text-align: right;\">\n",
       "      <th></th>\n",
       "      <th>trip_id</th>\n",
       "      <th>arrival_time</th>\n",
       "      <th>departure_time</th>\n",
       "      <th>stop_id</th>\n",
       "      <th>stop_sequence</th>\n",
       "      <th>pickup_type</th>\n",
       "      <th>drop_off_type</th>\n",
       "    </tr>\n",
       "  </thead>\n",
       "  <tbody>\n",
       "    <tr>\n",
       "      <th>0</th>\n",
       "      <td>AFA19GEN-1037-Sunday-00_000600_1..S03R</td>\n",
       "      <td>00:06:00</td>\n",
       "      <td>00:06:00</td>\n",
       "      <td>101S</td>\n",
       "      <td>1</td>\n",
       "      <td>0</td>\n",
       "      <td>0</td>\n",
       "    </tr>\n",
       "    <tr>\n",
       "      <th>1</th>\n",
       "      <td>AFA19GEN-1037-Sunday-00_000600_1..S03R</td>\n",
       "      <td>00:07:30</td>\n",
       "      <td>00:07:30</td>\n",
       "      <td>103S</td>\n",
       "      <td>2</td>\n",
       "      <td>0</td>\n",
       "      <td>0</td>\n",
       "    </tr>\n",
       "    <tr>\n",
       "      <th>2</th>\n",
       "      <td>AFA19GEN-1037-Sunday-00_000600_1..S03R</td>\n",
       "      <td>00:09:00</td>\n",
       "      <td>00:09:00</td>\n",
       "      <td>104S</td>\n",
       "      <td>3</td>\n",
       "      <td>0</td>\n",
       "      <td>0</td>\n",
       "    </tr>\n",
       "    <tr>\n",
       "      <th>3</th>\n",
       "      <td>AFA19GEN-1037-Sunday-00_000600_1..S03R</td>\n",
       "      <td>00:10:30</td>\n",
       "      <td>00:10:30</td>\n",
       "      <td>106S</td>\n",
       "      <td>4</td>\n",
       "      <td>0</td>\n",
       "      <td>0</td>\n",
       "    </tr>\n",
       "    <tr>\n",
       "      <th>4</th>\n",
       "      <td>AFA19GEN-1037-Sunday-00_000600_1..S03R</td>\n",
       "      <td>00:12:00</td>\n",
       "      <td>00:12:00</td>\n",
       "      <td>107S</td>\n",
       "      <td>5</td>\n",
       "      <td>0</td>\n",
       "      <td>0</td>\n",
       "    </tr>\n",
       "  </tbody>\n",
       "</table>\n",
       "</div>"
      ],
      "text/plain": [
       "                                  trip_id arrival_time departure_time stop_id  \\\n",
       "0  AFA19GEN-1037-Sunday-00_000600_1..S03R     00:06:00       00:06:00    101S   \n",
       "1  AFA19GEN-1037-Sunday-00_000600_1..S03R     00:07:30       00:07:30    103S   \n",
       "2  AFA19GEN-1037-Sunday-00_000600_1..S03R     00:09:00       00:09:00    104S   \n",
       "3  AFA19GEN-1037-Sunday-00_000600_1..S03R     00:10:30       00:10:30    106S   \n",
       "4  AFA19GEN-1037-Sunday-00_000600_1..S03R     00:12:00       00:12:00    107S   \n",
       "\n",
       "   stop_sequence  pickup_type  drop_off_type  \n",
       "0              1            0              0  \n",
       "1              2            0              0  \n",
       "2              3            0              0  \n",
       "3              4            0              0  \n",
       "4              5            0              0  "
      ]
     },
     "execution_count": 449,
     "metadata": {},
     "output_type": "execute_result"
    }
   ],
   "source": [
    "# will add this connection \"distance\" to the distance column in the edge_list_df\n",
    "## first: are the time columns in stop_times_df timestamps? can I subtract them?\n",
    "stop_times_df.head()"
   ]
  },
  {
   "cell_type": "code",
   "execution_count": 450,
   "metadata": {
    "ExecuteTime": {
     "end_time": "2020-07-27T13:57:12.989045Z",
     "start_time": "2020-07-27T13:57:12.985547Z"
    }
   },
   "outputs": [
    {
     "data": {
      "text/plain": [
       "str"
      ]
     },
     "execution_count": 450,
     "metadata": {},
     "output_type": "execute_result"
    }
   ],
   "source": [
    "type(stop_times_df['arrival_time'][0])"
   ]
  },
  {
   "cell_type": "code",
   "execution_count": 451,
   "metadata": {
    "ExecuteTime": {
     "end_time": "2020-07-27T13:57:13.077479Z",
     "start_time": "2020-07-27T13:57:12.990648Z"
    }
   },
   "outputs": [],
   "source": [
    "neg_times = []\n",
    "over_24 = []\n",
    "for x in stop_times_df['arrival_time']:\n",
    "    if '-' in x:\n",
    "        neg_times.append(x)\n",
    "    elif '24' in x:\n",
    "        over_24.append(x)"
   ]
  },
  {
   "cell_type": "code",
   "execution_count": 452,
   "metadata": {
    "ExecuteTime": {
     "end_time": "2020-07-27T13:57:13.082798Z",
     "start_time": "2020-07-27T13:57:13.079235Z"
    }
   },
   "outputs": [
    {
     "data": {
      "text/plain": [
       "0"
      ]
     },
     "execution_count": 452,
     "metadata": {},
     "output_type": "execute_result"
    }
   ],
   "source": [
    "len(neg_times)"
   ]
  },
  {
   "cell_type": "code",
   "execution_count": 453,
   "metadata": {
    "ExecuteTime": {
     "end_time": "2020-07-27T13:57:13.088144Z",
     "start_time": "2020-07-27T13:57:13.084430Z"
    }
   },
   "outputs": [
    {
     "data": {
      "text/plain": [
       "20019"
      ]
     },
     "execution_count": 453,
     "metadata": {},
     "output_type": "execute_result"
    }
   ],
   "source": [
    "len(over_24)"
   ]
  },
  {
   "cell_type": "code",
   "execution_count": 454,
   "metadata": {
    "ExecuteTime": {
     "end_time": "2020-07-27T13:57:33.242870Z",
     "start_time": "2020-07-27T13:57:13.089745Z"
    }
   },
   "outputs": [
    {
     "data": {
      "application/javascript": [
       "\n",
       "        if (window._pyforest_update_imports_cell) { window._pyforest_update_imports_cell('import pandas as pd'); }\n",
       "    "
      ],
      "text/plain": [
       "<IPython.core.display.Javascript object>"
      ]
     },
     "metadata": {},
     "output_type": "display_data"
    }
   ],
   "source": [
    "arrival_times_datetime = pd.to_datetime(stop_times_df['arrival_time'], errors = 'coerce', infer_datetime_format=True)"
   ]
  },
  {
   "cell_type": "code",
   "execution_count": 455,
   "metadata": {
    "ExecuteTime": {
     "end_time": "2020-07-27T13:57:33.248529Z",
     "start_time": "2020-07-27T13:57:33.244512Z"
    }
   },
   "outputs": [
    {
     "data": {
      "text/plain": [
       "pandas._libs.tslibs.timestamps.Timestamp"
      ]
     },
     "execution_count": 455,
     "metadata": {},
     "output_type": "execute_result"
    }
   ],
   "source": [
    "type(arrival_times_datetime[0])"
   ]
  },
  {
   "cell_type": "code",
   "execution_count": 456,
   "metadata": {
    "ExecuteTime": {
     "end_time": "2020-07-27T13:57:33.254243Z",
     "start_time": "2020-07-27T13:57:33.250395Z"
    }
   },
   "outputs": [
    {
     "data": {
      "text/plain": [
       "Timestamp('2020-07-27 00:06:00')"
      ]
     },
     "execution_count": 456,
     "metadata": {},
     "output_type": "execute_result"
    }
   ],
   "source": [
    "arrival_times_datetime[0]"
   ]
  },
  {
   "cell_type": "code",
   "execution_count": 457,
   "metadata": {
    "ExecuteTime": {
     "end_time": "2020-07-27T13:57:33.261431Z",
     "start_time": "2020-07-27T13:57:33.256285Z"
    }
   },
   "outputs": [
    {
     "data": {
      "application/javascript": [
       "\n",
       "        if (window._pyforest_update_imports_cell) { window._pyforest_update_imports_cell('import pandas as pd'); }\n",
       "    "
      ],
      "text/plain": [
       "<IPython.core.display.Javascript object>"
      ]
     },
     "metadata": {},
     "output_type": "display_data"
    }
   ],
   "source": [
    "arrival_times_timedelta = pd.to_timedelta(arrival_times_datetime, unit = 'seconds', errors = 'coerce')"
   ]
  },
  {
   "cell_type": "code",
   "execution_count": 458,
   "metadata": {
    "ExecuteTime": {
     "end_time": "2020-07-27T13:57:33.268567Z",
     "start_time": "2020-07-27T13:57:33.263422Z"
    }
   },
   "outputs": [
    {
     "data": {
      "text/plain": [
       "18044"
      ]
     },
     "execution_count": 458,
     "metadata": {},
     "output_type": "execute_result"
    }
   ],
   "source": [
    "arrival_times_timedelta.isnull().sum()"
   ]
  },
  {
   "cell_type": "code",
   "execution_count": 459,
   "metadata": {
    "ExecuteTime": {
     "end_time": "2020-07-27T13:57:33.274917Z",
     "start_time": "2020-07-27T13:57:33.270586Z"
    }
   },
   "outputs": [],
   "source": [
    "stop_times_df['arrival_times_timedelta'] = arrival_times_timedelta\n",
    "edge_list_df['distance'] = 0 # empty column where I will add the distance between nodes"
   ]
  },
  {
   "cell_type": "markdown",
   "metadata": {},
   "source": [
    "### Checking if there is a difference in time between stops depending on day of week"
   ]
  },
  {
   "cell_type": "code",
   "execution_count": 460,
   "metadata": {
    "ExecuteTime": {
     "end_time": "2020-07-27T13:57:33.284554Z",
     "start_time": "2020-07-27T13:57:33.276780Z"
    }
   },
   "outputs": [],
   "source": [
    "indices_of_the_stop = np.where(stop_id_order_array_no_ns == non_unique_stations_df['stop_id'][0])"
   ]
  },
  {
   "cell_type": "code",
   "execution_count": 461,
   "metadata": {
    "ExecuteTime": {
     "end_time": "2020-07-27T13:57:33.971154Z",
     "start_time": "2020-07-27T13:57:33.286476Z"
    }
   },
   "outputs": [],
   "source": [
    "sat = stop_times_df[stop_times_df.trip_id.str.contains(\"AFA19GEN-1038-Saturday\")]\n",
    "sun = stop_times_df[stop_times_df.trip_id.str.contains(\"AFA19GEN-1037-Sunday\")]\n",
    "weekday = stop_times_df[stop_times_df.trip_id.str.contains(\"AFA19GEN-1087-Weekday\")]"
   ]
  },
  {
   "cell_type": "code",
   "execution_count": 462,
   "metadata": {
    "ExecuteTime": {
     "end_time": "2020-07-27T13:57:34.017302Z",
     "start_time": "2020-07-27T13:57:33.972983Z"
    }
   },
   "outputs": [],
   "source": [
    "# looks like it's the same 1:30 each way at all times\n",
    "sun_and_first_2_stops = sun[(sun.stop_id.str.contains(\"101\") | (sun.stop_id.str.contains(\"103\")))]\n",
    "sat_and_first_2_stops = sat[(sat.stop_id.str.contains(\"101\") | (sat.stop_id.str.contains(\"103\")))]\n",
    "weekday_and_first_2_stops = weekday[(weekday.stop_id.str.contains(\"101\") | (weekday.stop_id.str.contains(\"103\")))]"
   ]
  },
  {
   "cell_type": "markdown",
   "metadata": {},
   "source": [
    "### Finding \"distance\" between each node"
   ]
  },
  {
   "cell_type": "code",
   "execution_count": 463,
   "metadata": {
    "ExecuteTime": {
     "end_time": "2020-07-27T13:57:34.031189Z",
     "start_time": "2020-07-27T13:57:34.019188Z"
    }
   },
   "outputs": [
    {
     "data": {
      "text/html": [
       "<div>\n",
       "<style scoped>\n",
       "    .dataframe tbody tr th:only-of-type {\n",
       "        vertical-align: middle;\n",
       "    }\n",
       "\n",
       "    .dataframe tbody tr th {\n",
       "        vertical-align: top;\n",
       "    }\n",
       "\n",
       "    .dataframe thead th {\n",
       "        text-align: right;\n",
       "    }\n",
       "</style>\n",
       "<table border=\"1\" class=\"dataframe\">\n",
       "  <thead>\n",
       "    <tr style=\"text-align: right;\">\n",
       "      <th></th>\n",
       "      <th>node1</th>\n",
       "      <th>node2</th>\n",
       "      <th>trail</th>\n",
       "      <th>color</th>\n",
       "      <th>distance</th>\n",
       "    </tr>\n",
       "  </thead>\n",
       "  <tbody>\n",
       "    <tr>\n",
       "      <th>0</th>\n",
       "      <td>101</td>\n",
       "      <td>103</td>\n",
       "      <td>nyc subway</td>\n",
       "      <td>red</td>\n",
       "      <td>0</td>\n",
       "    </tr>\n",
       "    <tr>\n",
       "      <th>1</th>\n",
       "      <td>103</td>\n",
       "      <td>104</td>\n",
       "      <td>nyc subway</td>\n",
       "      <td>red</td>\n",
       "      <td>0</td>\n",
       "    </tr>\n",
       "    <tr>\n",
       "      <th>2</th>\n",
       "      <td>104</td>\n",
       "      <td>106</td>\n",
       "      <td>nyc subway</td>\n",
       "      <td>red</td>\n",
       "      <td>0</td>\n",
       "    </tr>\n",
       "    <tr>\n",
       "      <th>3</th>\n",
       "      <td>106</td>\n",
       "      <td>107</td>\n",
       "      <td>nyc subway</td>\n",
       "      <td>red</td>\n",
       "      <td>0</td>\n",
       "    </tr>\n",
       "    <tr>\n",
       "      <th>4</th>\n",
       "      <td>107</td>\n",
       "      <td>108</td>\n",
       "      <td>nyc subway</td>\n",
       "      <td>red</td>\n",
       "      <td>0</td>\n",
       "    </tr>\n",
       "    <tr>\n",
       "      <th>...</th>\n",
       "      <td>...</td>\n",
       "      <td>...</td>\n",
       "      <td>...</td>\n",
       "      <td>...</td>\n",
       "      <td>...</td>\n",
       "    </tr>\n",
       "    <tr>\n",
       "      <th>546</th>\n",
       "      <td>R42</td>\n",
       "      <td>R43</td>\n",
       "      <td>nyc subway</td>\n",
       "      <td>red</td>\n",
       "      <td>0</td>\n",
       "    </tr>\n",
       "    <tr>\n",
       "      <th>547</th>\n",
       "      <td>R43</td>\n",
       "      <td>R44</td>\n",
       "      <td>nyc subway</td>\n",
       "      <td>red</td>\n",
       "      <td>0</td>\n",
       "    </tr>\n",
       "    <tr>\n",
       "      <th>548</th>\n",
       "      <td>R44</td>\n",
       "      <td>R45</td>\n",
       "      <td>nyc subway</td>\n",
       "      <td>red</td>\n",
       "      <td>0</td>\n",
       "    </tr>\n",
       "    <tr>\n",
       "      <th>549</th>\n",
       "      <td>S01</td>\n",
       "      <td>S03</td>\n",
       "      <td>nyc subway</td>\n",
       "      <td>red</td>\n",
       "      <td>0</td>\n",
       "    </tr>\n",
       "    <tr>\n",
       "      <th>550</th>\n",
       "      <td>S03</td>\n",
       "      <td>S04</td>\n",
       "      <td>nyc subway</td>\n",
       "      <td>red</td>\n",
       "      <td>0</td>\n",
       "    </tr>\n",
       "  </tbody>\n",
       "</table>\n",
       "<p>551 rows × 5 columns</p>\n",
       "</div>"
      ],
      "text/plain": [
       "    node1 node2       trail color  distance\n",
       "0     101   103  nyc subway   red         0\n",
       "1     103   104  nyc subway   red         0\n",
       "2     104   106  nyc subway   red         0\n",
       "3     106   107  nyc subway   red         0\n",
       "4     107   108  nyc subway   red         0\n",
       "..    ...   ...         ...   ...       ...\n",
       "546   R42   R43  nyc subway   red         0\n",
       "547   R43   R44  nyc subway   red         0\n",
       "548   R44   R45  nyc subway   red         0\n",
       "549   S01   S03  nyc subway   red         0\n",
       "550   S03   S04  nyc subway   red         0\n",
       "\n",
       "[551 rows x 5 columns]"
      ]
     },
     "execution_count": 463,
     "metadata": {},
     "output_type": "execute_result"
    }
   ],
   "source": [
    "edge_list_df"
   ]
  },
  {
   "cell_type": "markdown",
   "metadata": {},
   "source": [
    "- choose node\n",
    "- look for node\n",
    "- look for second node (immediately following)\n",
    "- compute timedelta between them\n",
    "- add timedelta to correct row\n",
    "- move onto next row in df"
   ]
  },
  {
   "cell_type": "code",
   "execution_count": 464,
   "metadata": {
    "ExecuteTime": {
     "end_time": "2020-07-27T13:57:34.038592Z",
     "start_time": "2020-07-27T13:57:34.032932Z"
    }
   },
   "outputs": [],
   "source": [
    "def find_edge_distance(row_of_edge_list_df, df=edge_list_df, stop_times_df=stop_times_df):\n",
    "    null_list = stop_times_df['arrival_times_timedelta'].isnull()\n",
    "    node_location = row_of_edge_list_df\n",
    "    if (df['distance'][node_location] == 0):\n",
    "        node1 = df['node1'][node_location]\n",
    "        node2 = df['node2'][node_location]\n",
    "        indices_of_the_stop = np.where(stop_id_order_array_no_ns == node1)\n",
    "        time_delta = 0\n",
    "        for idx in indices_of_the_stop[0]:\n",
    "            next_row = stop_times_df.iloc[idx+1]\n",
    "            stop_id_dest = next_row['stop_id'][:-1]\n",
    "            if stop_id_dest == node2:\n",
    "                if (null_list[idx+1] == False) & (null_list[idx] == False):\n",
    "                    if stop_times_df['trip_id'][idx+1] == stop_times_df['trip_id'][idx]:\n",
    "                        time_delta = stop_times_df['arrival_times_timedelta'][idx+1] - stop_times_df['arrival_times_timedelta'][idx]\n",
    "                        df['distance'][node_location] = time_delta.seconds\n",
    "                        break\n",
    "    return df"
   ]
  },
  {
   "cell_type": "code",
   "execution_count": 465,
   "metadata": {
    "ExecuteTime": {
     "end_time": "2020-07-27T13:57:48.490168Z",
     "start_time": "2020-07-27T13:57:34.040758Z"
    }
   },
   "outputs": [],
   "source": [
    "for x in range(0, len(edge_list_df)):\n",
    "    edge_list_df = find_edge_distance(x)"
   ]
  },
  {
   "cell_type": "code",
   "execution_count": 466,
   "metadata": {
    "ExecuteTime": {
     "end_time": "2020-07-27T13:57:48.495967Z",
     "start_time": "2020-07-27T13:57:48.492108Z"
    }
   },
   "outputs": [
    {
     "data": {
      "text/plain": [
       "0"
      ]
     },
     "execution_count": 466,
     "metadata": {},
     "output_type": "execute_result"
    }
   ],
   "source": [
    "# no nulls!\n",
    "edge_list_df['distance'].isnull().sum()"
   ]
  },
  {
   "cell_type": "code",
   "execution_count": 467,
   "metadata": {
    "ExecuteTime": {
     "end_time": "2020-07-27T13:57:48.501506Z",
     "start_time": "2020-07-27T13:57:48.497535Z"
    }
   },
   "outputs": [
    {
     "data": {
      "text/plain": [
       "0"
      ]
     },
     "execution_count": 467,
     "metadata": {},
     "output_type": "execute_result"
    }
   ],
   "source": [
    "edge_list_df['distance'].min()"
   ]
  },
  {
   "cell_type": "code",
   "execution_count": 468,
   "metadata": {
    "ExecuteTime": {
     "end_time": "2020-07-27T13:57:48.505269Z",
     "start_time": "2020-07-27T13:57:48.503231Z"
    }
   },
   "outputs": [],
   "source": [
    "# fix the duplicate stations (at least in node1 and node2 lists)\n",
    "## might have to make all nodes with only one connection required"
   ]
  },
  {
   "cell_type": "markdown",
   "metadata": {},
   "source": [
    "### Fixing the duplicate stations"
   ]
  },
  {
   "cell_type": "code",
   "execution_count": 469,
   "metadata": {
    "ExecuteTime": {
     "end_time": "2020-07-27T13:57:48.510000Z",
     "start_time": "2020-07-27T13:57:48.506963Z"
    }
   },
   "outputs": [],
   "source": [
    "duplicate_stations = [x for x in stations_df['station_id'] if len(x) > 4]"
   ]
  },
  {
   "cell_type": "code",
   "execution_count": 470,
   "metadata": {
    "ExecuteTime": {
     "end_time": "2020-07-27T13:57:48.514935Z",
     "start_time": "2020-07-27T13:57:48.511681Z"
    }
   },
   "outputs": [
    {
     "data": {
      "text/plain": [
       "['112_A09',\n",
       " '125_A24',\n",
       " '222_415',\n",
       " '140_142',\n",
       " '414_D11',\n",
       " '232_423',\n",
       " '235_D24_R31',\n",
       " '710_G14',\n",
       " '631_723_901',\n",
       " '635_L03_R20',\n",
       " 'D17_R17',\n",
       " '718_R09',\n",
       " '719_F09_G22',\n",
       " '127_725_902_R16',\n",
       " 'A12_D13',\n",
       " 'L01_A31',\n",
       " 'A32_D20',\n",
       " 'A38_M22',\n",
       " 'A41_R29',\n",
       " 'A45_S01',\n",
       " 'D43_N12',\n",
       " 'M12_G31',\n",
       " 'H01_H02',\n",
       " 'H04_H19',\n",
       " 'L22_J27',\n",
       " 'L17_M08',\n",
       " 'Q01_R23']"
      ]
     },
     "execution_count": 470,
     "metadata": {},
     "output_type": "execute_result"
    }
   ],
   "source": [
    "duplicate_stations"
   ]
  },
  {
   "cell_type": "code",
   "execution_count": 471,
   "metadata": {
    "ExecuteTime": {
     "end_time": "2020-07-27T13:57:48.519561Z",
     "start_time": "2020-07-27T13:57:48.516813Z"
    }
   },
   "outputs": [],
   "source": [
    "duplicate_stations_ind1 = [x.split(\"_\") for x in duplicate_stations]\n",
    "duplicate_stations_ind = [val for sublist in duplicate_stations_ind1 for val in sublist]\n",
    "# list(np.array(duplicate_stations_ind1).flat)"
   ]
  },
  {
   "cell_type": "code",
   "execution_count": 472,
   "metadata": {
    "ExecuteTime": {
     "end_time": "2020-07-27T13:57:48.523217Z",
     "start_time": "2020-07-27T13:57:48.521187Z"
    }
   },
   "outputs": [],
   "source": [
    "# duplicate_stations_ind"
   ]
  },
  {
   "cell_type": "code",
   "execution_count": 473,
   "metadata": {
    "ExecuteTime": {
     "end_time": "2020-07-27T13:57:48.527658Z",
     "start_time": "2020-07-27T13:57:48.524978Z"
    }
   },
   "outputs": [],
   "source": [
    "stations_w_station_id = {key:None for key in duplicate_stations_ind}"
   ]
  },
  {
   "cell_type": "code",
   "execution_count": 474,
   "metadata": {
    "ExecuteTime": {
     "end_time": "2020-07-27T13:57:48.532329Z",
     "start_time": "2020-07-27T13:57:48.529396Z"
    }
   },
   "outputs": [],
   "source": [
    "counter = 0\n",
    "keys_list = list(stations_w_station_id.keys())\n",
    "for item in keys_list:\n",
    "    for thing in duplicate_stations:\n",
    "        if item in thing:\n",
    "            stations_w_station_id[item] = thing"
   ]
  },
  {
   "cell_type": "code",
   "execution_count": 475,
   "metadata": {
    "ExecuteTime": {
     "end_time": "2020-07-27T13:57:48.536190Z",
     "start_time": "2020-07-27T13:57:48.534062Z"
    }
   },
   "outputs": [],
   "source": [
    "# stations_w_station_id"
   ]
  },
  {
   "cell_type": "markdown",
   "metadata": {},
   "source": [
    "#### Adding south ferry and broad channel "
   ]
  },
  {
   "cell_type": "code",
   "execution_count": 476,
   "metadata": {
    "ExecuteTime": {
     "end_time": "2020-07-27T13:57:48.540504Z",
     "start_time": "2020-07-27T13:57:48.537844Z"
    }
   },
   "outputs": [],
   "source": [
    "stations_w_station_id['140'] = '140_142'\n",
    "stations_w_station_id['142'] = '140_142'\n",
    "stations_w_station_id['H04'] = 'H04_H19'\n",
    "stations_w_station_id['H19'] = 'H04_H19'\n",
    "stations_w_station_id['A13'] = 'A12_D13'\n",
    "stations_w_station_id['A13_D13'] = 'A12_D13'"
   ]
  },
  {
   "cell_type": "code",
   "execution_count": 477,
   "metadata": {
    "ExecuteTime": {
     "end_time": "2020-07-27T13:57:48.554079Z",
     "start_time": "2020-07-27T13:57:48.542501Z"
    }
   },
   "outputs": [],
   "source": [
    "edge_list_df.replace(to_replace=stations_w_station_id, inplace=True)"
   ]
  },
  {
   "cell_type": "markdown",
   "metadata": {},
   "source": [
    "#### Fixing Cases that Slipped through the cracks"
   ]
  },
  {
   "cell_type": "code",
   "execution_count": 478,
   "metadata": {
    "ExecuteTime": {
     "end_time": "2020-07-27T13:57:48.558001Z",
     "start_time": "2020-07-27T13:57:48.555797Z"
    }
   },
   "outputs": [],
   "source": [
    "# \"R45\" should really be R_42\n",
    "# http://web.mta.info/developers/data/nyct/subway/Stations.csv\n",
    "# I accidentally wrote \"A13\" when I meant \"A12\" in nodelist "
   ]
  },
  {
   "cell_type": "code",
   "execution_count": 479,
   "metadata": {
    "ExecuteTime": {
     "end_time": "2020-07-27T13:57:48.568051Z",
     "start_time": "2020-07-27T13:57:48.559713Z"
    },
    "scrolled": true
   },
   "outputs": [
    {
     "data": {
      "text/html": [
       "<div>\n",
       "<style scoped>\n",
       "    .dataframe tbody tr th:only-of-type {\n",
       "        vertical-align: middle;\n",
       "    }\n",
       "\n",
       "    .dataframe tbody tr th {\n",
       "        vertical-align: top;\n",
       "    }\n",
       "\n",
       "    .dataframe thead th {\n",
       "        text-align: right;\n",
       "    }\n",
       "</style>\n",
       "<table border=\"1\" class=\"dataframe\">\n",
       "  <thead>\n",
       "    <tr style=\"text-align: right;\">\n",
       "      <th></th>\n",
       "      <th>node1</th>\n",
       "      <th>node2</th>\n",
       "      <th>trail</th>\n",
       "      <th>color</th>\n",
       "      <th>distance</th>\n",
       "    </tr>\n",
       "  </thead>\n",
       "  <tbody>\n",
       "    <tr>\n",
       "      <th>548</th>\n",
       "      <td>R44</td>\n",
       "      <td>R45</td>\n",
       "      <td>nyc subway</td>\n",
       "      <td>red</td>\n",
       "      <td>300</td>\n",
       "    </tr>\n",
       "  </tbody>\n",
       "</table>\n",
       "</div>"
      ],
      "text/plain": [
       "    node1 node2       trail color  distance\n",
       "548   R44   R45  nyc subway   red       300"
      ]
     },
     "execution_count": 479,
     "metadata": {},
     "output_type": "execute_result"
    }
   ],
   "source": [
    "edge_list_df[edge_list_df['node2'] == 'R45']"
   ]
  },
  {
   "cell_type": "code",
   "execution_count": 480,
   "metadata": {
    "ExecuteTime": {
     "end_time": "2020-07-27T13:57:48.573112Z",
     "start_time": "2020-07-27T13:57:48.570042Z"
    }
   },
   "outputs": [],
   "source": [
    "edge_list_df['node2'][548] = 'R42'"
   ]
  },
  {
   "cell_type": "markdown",
   "metadata": {},
   "source": [
    "#### Checking that there are no duplicate nodes "
   ]
  },
  {
   "cell_type": "code",
   "execution_count": 481,
   "metadata": {
    "ExecuteTime": {
     "end_time": "2020-07-27T13:57:48.577829Z",
     "start_time": "2020-07-27T13:57:48.574769Z"
    }
   },
   "outputs": [],
   "source": [
    "multi_station_stop_indices = []\n",
    "for idx, x in enumerate(edge_list_df['node2']):\n",
    "    if len(x) > 4:\n",
    "        multi_station_stop_indices.append(idx)"
   ]
  },
  {
   "cell_type": "code",
   "execution_count": 482,
   "metadata": {
    "ExecuteTime": {
     "end_time": "2020-07-27T13:57:48.581618Z",
     "start_time": "2020-07-27T13:57:48.579554Z"
    }
   },
   "outputs": [],
   "source": [
    "# edge_list_df.iloc[multi_station_stop_indices]"
   ]
  },
  {
   "cell_type": "markdown",
   "metadata": {},
   "source": [
    "### Fixing stations with errors in distance"
   ]
  },
  {
   "cell_type": "code",
   "execution_count": 483,
   "metadata": {
    "ExecuteTime": {
     "end_time": "2020-07-27T13:57:48.586819Z",
     "start_time": "2020-07-27T13:57:48.583206Z"
    }
   },
   "outputs": [
    {
     "data": {
      "text/plain": [
       "780"
      ]
     },
     "execution_count": 483,
     "metadata": {},
     "output_type": "execute_result"
    }
   ],
   "source": [
    "# is actually legit b/c an express train makes this route\n",
    "edge_list_df.distance.max()"
   ]
  },
  {
   "cell_type": "code",
   "execution_count": 484,
   "metadata": {
    "ExecuteTime": {
     "end_time": "2020-07-27T13:57:48.593630Z",
     "start_time": "2020-07-27T13:57:48.588400Z"
    }
   },
   "outputs": [
    {
     "data": {
      "text/plain": [
       "409      0\n",
       "110      0\n",
       "49       0\n",
       "263      0\n",
       "408      0\n",
       "      ... \n",
       "375    570\n",
       "90     630\n",
       "503    660\n",
       "314    660\n",
       "56     780\n",
       "Name: distance, Length: 551, dtype: int64"
      ]
     },
     "execution_count": 484,
     "metadata": {},
     "output_type": "execute_result"
    }
   ],
   "source": [
    "edge_list_df.distance.sort_values()"
   ]
  },
  {
   "cell_type": "code",
   "execution_count": 485,
   "metadata": {
    "ExecuteTime": {
     "end_time": "2020-07-27T13:57:48.603227Z",
     "start_time": "2020-07-27T13:57:48.595170Z"
    }
   },
   "outputs": [
    {
     "data": {
      "text/html": [
       "<div>\n",
       "<style scoped>\n",
       "    .dataframe tbody tr th:only-of-type {\n",
       "        vertical-align: middle;\n",
       "    }\n",
       "\n",
       "    .dataframe tbody tr th {\n",
       "        vertical-align: top;\n",
       "    }\n",
       "\n",
       "    .dataframe thead th {\n",
       "        text-align: right;\n",
       "    }\n",
       "</style>\n",
       "<table border=\"1\" class=\"dataframe\">\n",
       "  <thead>\n",
       "    <tr style=\"text-align: right;\">\n",
       "      <th></th>\n",
       "      <th>node1</th>\n",
       "      <th>node2</th>\n",
       "      <th>trail</th>\n",
       "      <th>color</th>\n",
       "      <th>distance</th>\n",
       "    </tr>\n",
       "  </thead>\n",
       "  <tbody>\n",
       "    <tr>\n",
       "      <th>45</th>\n",
       "      <td>205</td>\n",
       "      <td>206</td>\n",
       "      <td>nyc subway</td>\n",
       "      <td>red</td>\n",
       "      <td>60</td>\n",
       "    </tr>\n",
       "    <tr>\n",
       "      <th>46</th>\n",
       "      <td>206</td>\n",
       "      <td>207</td>\n",
       "      <td>nyc subway</td>\n",
       "      <td>red</td>\n",
       "      <td>60</td>\n",
       "    </tr>\n",
       "    <tr>\n",
       "      <th>47</th>\n",
       "      <td>207</td>\n",
       "      <td>208</td>\n",
       "      <td>nyc subway</td>\n",
       "      <td>red</td>\n",
       "      <td>90</td>\n",
       "    </tr>\n",
       "    <tr>\n",
       "      <th>48</th>\n",
       "      <td>208</td>\n",
       "      <td>209</td>\n",
       "      <td>nyc subway</td>\n",
       "      <td>red</td>\n",
       "      <td>90</td>\n",
       "    </tr>\n",
       "    <tr>\n",
       "      <th>49</th>\n",
       "      <td>208</td>\n",
       "      <td>213</td>\n",
       "      <td>nyc subway</td>\n",
       "      <td>red</td>\n",
       "      <td>0</td>\n",
       "    </tr>\n",
       "  </tbody>\n",
       "</table>\n",
       "</div>"
      ],
      "text/plain": [
       "   node1 node2       trail color  distance\n",
       "45   205   206  nyc subway   red        60\n",
       "46   206   207  nyc subway   red        60\n",
       "47   207   208  nyc subway   red        90\n",
       "48   208   209  nyc subway   red        90\n",
       "49   208   213  nyc subway   red         0"
      ]
     },
     "execution_count": 485,
     "metadata": {},
     "output_type": "execute_result"
    }
   ],
   "source": [
    "edge_list_df.iloc[45:50]"
   ]
  },
  {
   "cell_type": "code",
   "execution_count": 486,
   "metadata": {
    "ExecuteTime": {
     "end_time": "2020-07-27T13:57:48.612740Z",
     "start_time": "2020-07-27T13:57:48.604857Z"
    }
   },
   "outputs": [
    {
     "data": {
      "text/html": [
       "<div>\n",
       "<style scoped>\n",
       "    .dataframe tbody tr th:only-of-type {\n",
       "        vertical-align: middle;\n",
       "    }\n",
       "\n",
       "    .dataframe tbody tr th {\n",
       "        vertical-align: top;\n",
       "    }\n",
       "\n",
       "    .dataframe thead th {\n",
       "        text-align: right;\n",
       "    }\n",
       "</style>\n",
       "<table border=\"1\" class=\"dataframe\">\n",
       "  <thead>\n",
       "    <tr style=\"text-align: right;\">\n",
       "      <th></th>\n",
       "      <th>node1</th>\n",
       "      <th>node2</th>\n",
       "      <th>trail</th>\n",
       "      <th>color</th>\n",
       "      <th>distance</th>\n",
       "    </tr>\n",
       "  </thead>\n",
       "  <tbody>\n",
       "    <tr>\n",
       "      <th>49</th>\n",
       "      <td>208</td>\n",
       "      <td>213</td>\n",
       "      <td>nyc subway</td>\n",
       "      <td>red</td>\n",
       "      <td>0</td>\n",
       "    </tr>\n",
       "    <tr>\n",
       "      <th>110</th>\n",
       "      <td>409</td>\n",
       "      <td>413</td>\n",
       "      <td>nyc subway</td>\n",
       "      <td>red</td>\n",
       "      <td>0</td>\n",
       "    </tr>\n",
       "    <tr>\n",
       "      <th>263</th>\n",
       "      <td>A61</td>\n",
       "      <td>H01_H02</td>\n",
       "      <td>nyc subway</td>\n",
       "      <td>red</td>\n",
       "      <td>0</td>\n",
       "    </tr>\n",
       "    <tr>\n",
       "      <th>408</th>\n",
       "      <td>H01_H02</td>\n",
       "      <td>H01_H02</td>\n",
       "      <td>nyc subway</td>\n",
       "      <td>red</td>\n",
       "      <td>0</td>\n",
       "    </tr>\n",
       "    <tr>\n",
       "      <th>409</th>\n",
       "      <td>H01_H02</td>\n",
       "      <td>A61</td>\n",
       "      <td>nyc subway</td>\n",
       "      <td>red</td>\n",
       "      <td>0</td>\n",
       "    </tr>\n",
       "  </tbody>\n",
       "</table>\n",
       "</div>"
      ],
      "text/plain": [
       "       node1    node2       trail color  distance\n",
       "49       208      213  nyc subway   red         0\n",
       "110      409      413  nyc subway   red         0\n",
       "263      A61  H01_H02  nyc subway   red         0\n",
       "408  H01_H02  H01_H02  nyc subway   red         0\n",
       "409  H01_H02      A61  nyc subway   red         0"
      ]
     },
     "execution_count": 486,
     "metadata": {},
     "output_type": "execute_result"
    }
   ],
   "source": [
    "# 48, 110 looks like a mistake\n",
    "# 408 share the same parent station\n",
    "# 264, 409 is b/c of a northbound v southbound issue\n",
    "edge_list_df[edge_list_df['distance'] == 0]"
   ]
  },
  {
   "cell_type": "markdown",
   "metadata": {},
   "source": [
    "#### Dropping mistaken connections"
   ]
  },
  {
   "cell_type": "code",
   "execution_count": 487,
   "metadata": {
    "ExecuteTime": {
     "end_time": "2020-07-27T13:57:48.637405Z",
     "start_time": "2020-07-27T13:57:48.614588Z"
    }
   },
   "outputs": [
    {
     "data": {
      "text/html": [
       "<div>\n",
       "<style scoped>\n",
       "    .dataframe tbody tr th:only-of-type {\n",
       "        vertical-align: middle;\n",
       "    }\n",
       "\n",
       "    .dataframe tbody tr th {\n",
       "        vertical-align: top;\n",
       "    }\n",
       "\n",
       "    .dataframe thead th {\n",
       "        text-align: right;\n",
       "    }\n",
       "</style>\n",
       "<table border=\"1\" class=\"dataframe\">\n",
       "  <thead>\n",
       "    <tr style=\"text-align: right;\">\n",
       "      <th></th>\n",
       "      <th>node1</th>\n",
       "      <th>node2</th>\n",
       "      <th>trail</th>\n",
       "      <th>color</th>\n",
       "      <th>distance</th>\n",
       "    </tr>\n",
       "  </thead>\n",
       "  <tbody>\n",
       "    <tr>\n",
       "      <th>8</th>\n",
       "      <td>111</td>\n",
       "      <td>112_A09</td>\n",
       "      <td>nyc subway</td>\n",
       "      <td>red</td>\n",
       "      <td>120</td>\n",
       "    </tr>\n",
       "    <tr>\n",
       "      <th>9</th>\n",
       "      <td>112_A09</td>\n",
       "      <td>113</td>\n",
       "      <td>nyc subway</td>\n",
       "      <td>red</td>\n",
       "      <td>90</td>\n",
       "    </tr>\n",
       "    <tr>\n",
       "      <th>23</th>\n",
       "      <td>123</td>\n",
       "      <td>127_725_902_R16</td>\n",
       "      <td>nyc subway</td>\n",
       "      <td>red</td>\n",
       "      <td>240</td>\n",
       "    </tr>\n",
       "    <tr>\n",
       "      <th>24</th>\n",
       "      <td>124</td>\n",
       "      <td>125_A24</td>\n",
       "      <td>nyc subway</td>\n",
       "      <td>red</td>\n",
       "      <td>90</td>\n",
       "    </tr>\n",
       "    <tr>\n",
       "      <th>25</th>\n",
       "      <td>125_A24</td>\n",
       "      <td>126</td>\n",
       "      <td>nyc subway</td>\n",
       "      <td>red</td>\n",
       "      <td>120</td>\n",
       "    </tr>\n",
       "    <tr>\n",
       "      <th>...</th>\n",
       "      <td>...</td>\n",
       "      <td>...</td>\n",
       "      <td>...</td>\n",
       "      <td>...</td>\n",
       "      <td>...</td>\n",
       "    </tr>\n",
       "    <tr>\n",
       "      <th>533</th>\n",
       "      <td>A41_R29</td>\n",
       "      <td>R30</td>\n",
       "      <td>nyc subway</td>\n",
       "      <td>red</td>\n",
       "      <td>90</td>\n",
       "    </tr>\n",
       "    <tr>\n",
       "      <th>534</th>\n",
       "      <td>R30</td>\n",
       "      <td>235_D24_R31</td>\n",
       "      <td>nyc subway</td>\n",
       "      <td>red</td>\n",
       "      <td>180</td>\n",
       "    </tr>\n",
       "    <tr>\n",
       "      <th>535</th>\n",
       "      <td>235_D24_R31</td>\n",
       "      <td>R32</td>\n",
       "      <td>nyc subway</td>\n",
       "      <td>red</td>\n",
       "      <td>120</td>\n",
       "    </tr>\n",
       "    <tr>\n",
       "      <th>536</th>\n",
       "      <td>235_D24_R31</td>\n",
       "      <td>R36</td>\n",
       "      <td>nyc subway</td>\n",
       "      <td>red</td>\n",
       "      <td>390</td>\n",
       "    </tr>\n",
       "    <tr>\n",
       "      <th>549</th>\n",
       "      <td>A45_S01</td>\n",
       "      <td>S03</td>\n",
       "      <td>nyc subway</td>\n",
       "      <td>red</td>\n",
       "      <td>120</td>\n",
       "    </tr>\n",
       "  </tbody>\n",
       "</table>\n",
       "<p>135 rows × 5 columns</p>\n",
       "</div>"
      ],
      "text/plain": [
       "           node1            node2       trail color  distance\n",
       "8            111          112_A09  nyc subway   red       120\n",
       "9        112_A09              113  nyc subway   red        90\n",
       "23           123  127_725_902_R16  nyc subway   red       240\n",
       "24           124          125_A24  nyc subway   red        90\n",
       "25       125_A24              126  nyc subway   red       120\n",
       "..           ...              ...         ...   ...       ...\n",
       "533      A41_R29              R30  nyc subway   red        90\n",
       "534          R30      235_D24_R31  nyc subway   red       180\n",
       "535  235_D24_R31              R32  nyc subway   red       120\n",
       "536  235_D24_R31              R36  nyc subway   red       390\n",
       "549      A45_S01              S03  nyc subway   red       120\n",
       "\n",
       "[135 rows x 5 columns]"
      ]
     },
     "execution_count": 487,
     "metadata": {},
     "output_type": "execute_result"
    }
   ],
   "source": [
    "# duplicate rows after combining stations\n",
    "# some repeat routes, will pick lower value if values are different \n",
    "multi_station_edgelist = []\n",
    "for x in range(len(edge_list_df)):\n",
    "    if len(edge_list_df['node1'][x]) > 4 or len(edge_list_df['node2'][x]) > 4:\n",
    "        multi_station_edgelist.append(x)\n",
    "edge_list_df.iloc[multi_station_edgelist]"
   ]
  },
  {
   "cell_type": "code",
   "execution_count": 488,
   "metadata": {
    "ExecuteTime": {
     "end_time": "2020-07-27T13:57:48.643201Z",
     "start_time": "2020-07-27T13:57:48.639353Z"
    }
   },
   "outputs": [],
   "source": [
    "node1_items = set(edge_list_df['node1'][multi_station_edgelist])\n",
    "node2_items = set(edge_list_df['node2'][multi_station_edgelist])"
   ]
  },
  {
   "cell_type": "code",
   "execution_count": 489,
   "metadata": {
    "ExecuteTime": {
     "end_time": "2020-07-27T13:57:48.649572Z",
     "start_time": "2020-07-27T13:57:48.644791Z"
    }
   },
   "outputs": [
    {
     "data": {
      "text/plain": [
       "[8,\n",
       " 9,\n",
       " 23,\n",
       " 24,\n",
       " 25,\n",
       " 26,\n",
       " 27,\n",
       " 42,\n",
       " 64,\n",
       " 65,\n",
       " 66,\n",
       " 74,\n",
       " 75,\n",
       " 77,\n",
       " 78,\n",
       " 79,\n",
       " 80,\n",
       " 114,\n",
       " 115,\n",
       " 116,\n",
       " 117,\n",
       " 122,\n",
       " 158,\n",
       " 159,\n",
       " 160,\n",
       " 161,\n",
       " 164,\n",
       " 165,\n",
       " 166,\n",
       " 179,\n",
       " 180,\n",
       " 182,\n",
       " 187,\n",
       " 188,\n",
       " 189,\n",
       " 191,\n",
       " 192,\n",
       " 193,\n",
       " 194,\n",
       " 195,\n",
       " 200,\n",
       " 201,\n",
       " 202,\n",
       " 204,\n",
       " 205,\n",
       " 206,\n",
       " 208,\n",
       " 209,\n",
       " 210,\n",
       " 218,\n",
       " 219,\n",
       " 220,\n",
       " 221,\n",
       " 226,\n",
       " 227,\n",
       " 228,\n",
       " 229,\n",
       " 230,\n",
       " 234,\n",
       " 235,\n",
       " 236,\n",
       " 237,\n",
       " 238,\n",
       " 239,\n",
       " 245,\n",
       " 246,\n",
       " 263,\n",
       " 267,\n",
       " 286,\n",
       " 293,\n",
       " 297,\n",
       " 298,\n",
       " 299,\n",
       " 304,\n",
       " 305,\n",
       " 306,\n",
       " 308,\n",
       " 309,\n",
       " 314,\n",
       " 315,\n",
       " 316,\n",
       " 338,\n",
       " 340,\n",
       " 353,\n",
       " 354,\n",
       " 383,\n",
       " 388,\n",
       " 389,\n",
       " 390,\n",
       " 397,\n",
       " 402,\n",
       " 403,\n",
       " 408,\n",
       " 409,\n",
       " 410,\n",
       " 411,\n",
       " 412,\n",
       " 413,\n",
       " 441,\n",
       " 442,\n",
       " 443,\n",
       " 451,\n",
       " 452,\n",
       " 453,\n",
       " 463,\n",
       " 464,\n",
       " 467,\n",
       " 468,\n",
       " 477,\n",
       " 478,\n",
       " 481,\n",
       " 483,\n",
       " 490,\n",
       " 491,\n",
       " 501,\n",
       " 502,\n",
       " 503,\n",
       " 504,\n",
       " 512,\n",
       " 513,\n",
       " 517,\n",
       " 518,\n",
       " 519,\n",
       " 520,\n",
       " 521,\n",
       " 523,\n",
       " 524,\n",
       " 526,\n",
       " 527,\n",
       " 532,\n",
       " 533,\n",
       " 534,\n",
       " 535,\n",
       " 536,\n",
       " 549]"
      ]
     },
     "execution_count": 489,
     "metadata": {},
     "output_type": "execute_result"
    }
   ],
   "source": [
    "multi_station_edgelist"
   ]
  },
  {
   "cell_type": "code",
   "execution_count": 490,
   "metadata": {
    "ExecuteTime": {
     "end_time": "2020-07-27T13:57:48.654297Z",
     "start_time": "2020-07-27T13:57:48.651142Z"
    }
   },
   "outputs": [],
   "source": [
    "repeat_list = []\n",
    "for item in node1_items:\n",
    "    if len(item) < 4:\n",
    "        for thing in node2_items:\n",
    "            if item == thing:\n",
    "                repeat_list.append(item)"
   ]
  },
  {
   "cell_type": "code",
   "execution_count": 491,
   "metadata": {
    "ExecuteTime": {
     "end_time": "2020-07-27T13:57:48.659147Z",
     "start_time": "2020-07-27T13:57:48.656100Z"
    }
   },
   "outputs": [
    {
     "data": {
      "text/plain": [
       "['L02', 'H03', 'A15', 'A14', 'A61', '126', 'D12', 'R30', '724', 'R22', 'A40']"
      ]
     },
     "execution_count": 491,
     "metadata": {},
     "output_type": "execute_result"
    }
   ],
   "source": [
    "repeat_list"
   ]
  },
  {
   "cell_type": "code",
   "execution_count": 492,
   "metadata": {
    "ExecuteTime": {
     "end_time": "2020-07-27T13:57:48.681740Z",
     "start_time": "2020-07-27T13:57:48.676957Z"
    }
   },
   "outputs": [
    {
     "data": {
      "text/plain": [
       "node1          H01_H02\n",
       "node2          H01_H02\n",
       "trail       nyc subway\n",
       "color              red\n",
       "distance             0\n",
       "Name: 408, dtype: object"
      ]
     },
     "execution_count": 492,
     "metadata": {},
     "output_type": "execute_result"
    }
   ],
   "source": [
    "edge_list_df.iloc[408]"
   ]
  },
  {
   "cell_type": "code",
   "execution_count": 493,
   "metadata": {
    "ExecuteTime": {
     "end_time": "2020-07-27T13:57:48.699750Z",
     "start_time": "2020-07-27T13:57:48.683500Z"
    }
   },
   "outputs": [],
   "source": [
    "# dropping rows with same node in both cols\n",
    "for x in range(len(edge_list_df)):\n",
    "    if edge_list_df['node1'][x] == edge_list_df['node2'][x]:\n",
    "        edge_list_df.drop(index=[x], inplace=True)"
   ]
  },
  {
   "cell_type": "code",
   "execution_count": 494,
   "metadata": {
    "ExecuteTime": {
     "end_time": "2020-07-27T13:57:48.710924Z",
     "start_time": "2020-07-27T13:57:48.701301Z"
    }
   },
   "outputs": [
    {
     "data": {
      "text/html": [
       "<div>\n",
       "<style scoped>\n",
       "    .dataframe tbody tr th:only-of-type {\n",
       "        vertical-align: middle;\n",
       "    }\n",
       "\n",
       "    .dataframe tbody tr th {\n",
       "        vertical-align: top;\n",
       "    }\n",
       "\n",
       "    .dataframe thead th {\n",
       "        text-align: right;\n",
       "    }\n",
       "</style>\n",
       "<table border=\"1\" class=\"dataframe\">\n",
       "  <thead>\n",
       "    <tr style=\"text-align: right;\">\n",
       "      <th></th>\n",
       "      <th>stop_id</th>\n",
       "      <th>stop_name</th>\n",
       "      <th>stop_lat</th>\n",
       "      <th>stop_lon</th>\n",
       "      <th>location_type</th>\n",
       "      <th>parent_station</th>\n",
       "    </tr>\n",
       "  </thead>\n",
       "  <tbody>\n",
       "    <tr>\n",
       "      <th>132</th>\n",
       "      <td>208</td>\n",
       "      <td>Gun Hill Rd</td>\n",
       "      <td>40.87785</td>\n",
       "      <td>-73.866256</td>\n",
       "      <td>1</td>\n",
       "      <td>NaN</td>\n",
       "    </tr>\n",
       "  </tbody>\n",
       "</table>\n",
       "</div>"
      ],
      "text/plain": [
       "    stop_id    stop_name  stop_lat   stop_lon  location_type  parent_station\n",
       "132     208  Gun Hill Rd  40.87785 -73.866256              1             NaN"
      ]
     },
     "execution_count": 494,
     "metadata": {},
     "output_type": "execute_result"
    }
   ],
   "source": [
    "non_unique_stations_df[non_unique_stations_df.stop_id == '208']"
   ]
  },
  {
   "cell_type": "code",
   "execution_count": 495,
   "metadata": {
    "ExecuteTime": {
     "end_time": "2020-07-27T13:57:48.721458Z",
     "start_time": "2020-07-27T13:57:48.712674Z"
    }
   },
   "outputs": [
    {
     "data": {
      "text/html": [
       "<div>\n",
       "<style scoped>\n",
       "    .dataframe tbody tr th:only-of-type {\n",
       "        vertical-align: middle;\n",
       "    }\n",
       "\n",
       "    .dataframe tbody tr th {\n",
       "        vertical-align: top;\n",
       "    }\n",
       "\n",
       "    .dataframe thead th {\n",
       "        text-align: right;\n",
       "    }\n",
       "</style>\n",
       "<table border=\"1\" class=\"dataframe\">\n",
       "  <thead>\n",
       "    <tr style=\"text-align: right;\">\n",
       "      <th></th>\n",
       "      <th>stop_id</th>\n",
       "      <th>stop_name</th>\n",
       "      <th>stop_lat</th>\n",
       "      <th>stop_lon</th>\n",
       "      <th>location_type</th>\n",
       "      <th>parent_station</th>\n",
       "    </tr>\n",
       "  </thead>\n",
       "  <tbody>\n",
       "    <tr>\n",
       "      <th>147</th>\n",
       "      <td>213</td>\n",
       "      <td>E 180 St</td>\n",
       "      <td>40.841894</td>\n",
       "      <td>-73.873488</td>\n",
       "      <td>1</td>\n",
       "      <td>NaN</td>\n",
       "    </tr>\n",
       "  </tbody>\n",
       "</table>\n",
       "</div>"
      ],
      "text/plain": [
       "    stop_id stop_name   stop_lat   stop_lon  location_type  parent_station\n",
       "147     213  E 180 St  40.841894 -73.873488              1             NaN"
      ]
     },
     "execution_count": 495,
     "metadata": {},
     "output_type": "execute_result"
    }
   ],
   "source": [
    "non_unique_stations_df[non_unique_stations_df.stop_id == '213']"
   ]
  },
  {
   "cell_type": "code",
   "execution_count": 496,
   "metadata": {
    "ExecuteTime": {
     "end_time": "2020-07-27T13:57:48.740366Z",
     "start_time": "2020-07-27T13:57:48.723030Z"
    }
   },
   "outputs": [],
   "source": [
    "edge_list_df.reset_index(drop=True, inplace=True)\n",
    "for x in range(len(edge_list_df)):\n",
    "    if edge_list_df['node1'][x] == '409' and edge_list_df['node2'][x] == '413':\n",
    "        edge_list_df.drop(index=[x], inplace=True)\n",
    "    elif edge_list_df['node1'][x] == '208' and edge_list_df['node2'][x] == '213':\n",
    "        edge_list_df.drop(index=[x], inplace=True)"
   ]
  },
  {
   "cell_type": "code",
   "execution_count": 497,
   "metadata": {
    "ExecuteTime": {
     "end_time": "2020-07-27T13:57:48.743876Z",
     "start_time": "2020-07-27T13:57:48.741873Z"
    }
   },
   "outputs": [],
   "source": [
    "# edge_list_df.drop(index=[408, 48, 110], inplace=True) Forget y i wanted to drop these but i put it in conditions above\n",
    "# edge_list_df.drop(index=[404, 204, 207], inplace=True)"
   ]
  },
  {
   "cell_type": "markdown",
   "metadata": {},
   "source": [
    "#### Manually finding values for the ones still at 0 "
   ]
  },
  {
   "cell_type": "markdown",
   "metadata": {},
   "source": [
    "- 4 minutes between Aqueduct - N Conduit Av and Rockaway Blvd"
   ]
  },
  {
   "cell_type": "code",
   "execution_count": 498,
   "metadata": {
    "ExecuteTime": {
     "end_time": "2020-07-27T13:57:48.762082Z",
     "start_time": "2020-07-27T13:57:48.745828Z"
    }
   },
   "outputs": [],
   "source": [
    "# fixing the 2 zeroes\n",
    "edge_list_df.reset_index(drop=True, inplace=True)\n",
    "for idx, x in enumerate(edge_list_df['distance']):\n",
    "    if edge_list_df['node1'][idx] == 'H01_H02' and edge_list_df['node2'][idx] == 'A61':\n",
    "        edge_list_df.distance[idx] = 4 * 60\n",
    "    elif edge_list_df['node2'][idx] == 'H01_H02' and edge_list_df['node1'][idx] == 'A61':\n",
    "        edge_list_df.distance[idx] = 4 * 60"
   ]
  },
  {
   "cell_type": "code",
   "execution_count": 499,
   "metadata": {
    "ExecuteTime": {
     "end_time": "2020-07-27T13:57:48.765478Z",
     "start_time": "2020-07-27T13:57:48.763586Z"
    }
   },
   "outputs": [],
   "source": [
    "# edge_list_df['distance'][264] = 4 * 60\n",
    "# edge_list_df['distance'][409] = 4 * 60"
   ]
  },
  {
   "cell_type": "markdown",
   "metadata": {},
   "source": [
    "## Saving edge_list_df"
   ]
  },
  {
   "cell_type": "code",
   "execution_count": 500,
   "metadata": {
    "ExecuteTime": {
     "end_time": "2020-07-27T13:57:48.769808Z",
     "start_time": "2020-07-27T13:57:48.767131Z"
    }
   },
   "outputs": [],
   "source": [
    "edge_list_df.reset_index(drop=True, inplace=True)"
   ]
  },
  {
   "cell_type": "code",
   "execution_count": 501,
   "metadata": {
    "ExecuteTime": {
     "end_time": "2020-07-27T13:57:48.773606Z",
     "start_time": "2020-07-27T13:57:48.771677Z"
    }
   },
   "outputs": [],
   "source": [
    "# edge_list_df.distance.sort_values()"
   ]
  },
  {
   "cell_type": "markdown",
   "metadata": {},
   "source": [
    "### Checking for duplicate entries"
   ]
  },
  {
   "cell_type": "code",
   "execution_count": 502,
   "metadata": {
    "ExecuteTime": {
     "end_time": "2020-07-27T13:57:54.464115Z",
     "start_time": "2020-07-27T13:57:48.775453Z"
    }
   },
   "outputs": [],
   "source": [
    "duplicate_indices_to_drop = []\n",
    "edge_list_df.reset_index(drop=True, inplace=True)\n",
    "for x in range(len(edge_list_df)):\n",
    "    for i in range(x+1, len(edge_list_df)):\n",
    "        if edge_list_df['node1'][x] == edge_list_df['node1'][i] and \\\n",
    "        edge_list_df['node2'][x] == edge_list_df['node2'][i]:\n",
    "            dist1 = edge_list_df['distance'][x]\n",
    "            dist2 = edge_list_df['distance'][i]\n",
    "            if dist1 < dist2:\n",
    "                duplicate_indices_to_drop.append(i)\n",
    "            elif dist1 > dist2:\n",
    "                duplicate_indices_to_drop.append(x)\n",
    "        elif edge_list_df['node2'][x] == edge_list_df['node1'][i] and \\\n",
    "        edge_list_df['node1'][x] == edge_list_df['node2'][i]:\n",
    "            dist1 = edge_list_df['distance'][x]\n",
    "            dist2 = edge_list_df['distance'][i]\n",
    "            if dist1 < dist2:\n",
    "                duplicate_indices_to_drop.append(i)\n",
    "            elif dist1 > dist2:\n",
    "                duplicate_indices_to_drop.append(x)"
   ]
  },
  {
   "cell_type": "code",
   "execution_count": 503,
   "metadata": {
    "ExecuteTime": {
     "end_time": "2020-07-27T13:57:54.469486Z",
     "start_time": "2020-07-27T13:57:54.465921Z"
    }
   },
   "outputs": [],
   "source": [
    "edge_list_df.drop(index = duplicate_indices_to_drop, inplace=True)"
   ]
  },
  {
   "cell_type": "code",
   "execution_count": 504,
   "metadata": {
    "ExecuteTime": {
     "end_time": "2020-07-27T13:57:54.473860Z",
     "start_time": "2020-07-27T13:57:54.471252Z"
    }
   },
   "outputs": [],
   "source": [
    "edge_list_df.reset_index(inplace=True, drop=True)"
   ]
  },
  {
   "cell_type": "code",
   "execution_count": 509,
   "metadata": {
    "ExecuteTime": {
     "end_time": "2020-07-27T13:58:21.705145Z",
     "start_time": "2020-07-27T13:58:21.701608Z"
    }
   },
   "outputs": [],
   "source": [
    "# edge_list_df.to_csv(\"./saved_data/edge_list_df_no_req.csv\")"
   ]
  },
  {
   "cell_type": "code",
   "execution_count": 506,
   "metadata": {
    "ExecuteTime": {
     "end_time": "2020-07-27T13:57:54.483252Z",
     "start_time": "2020-07-27T13:57:54.479286Z"
    }
   },
   "outputs": [
    {
     "data": {
      "text/plain": [
       "(544, 5)"
      ]
     },
     "execution_count": 506,
     "metadata": {},
     "output_type": "execute_result"
    }
   ],
   "source": [
    "edge_list_df.shape"
   ]
  },
  {
   "cell_type": "code",
   "execution_count": null,
   "metadata": {},
   "outputs": [],
   "source": []
  }
 ],
 "metadata": {
  "kernelspec": {
   "display_name": "Python [conda env:learn-env] *",
   "language": "python",
   "name": "conda-env-learn-env-py"
  },
  "language_info": {
   "codemirror_mode": {
    "name": "ipython",
    "version": 3
   },
   "file_extension": ".py",
   "mimetype": "text/x-python",
   "name": "python",
   "nbconvert_exporter": "python",
   "pygments_lexer": "ipython3",
   "version": "3.6.9"
  },
  "toc": {
   "base_numbering": 1,
   "nav_menu": {},
   "number_sections": true,
   "sideBar": true,
   "skip_h1_title": false,
   "title_cell": "Table of Contents",
   "title_sidebar": "Contents",
   "toc_cell": false,
   "toc_position": {
    "height": "calc(100% - 180px)",
    "left": "10px",
    "top": "150px",
    "width": "384px"
   },
   "toc_section_display": true,
   "toc_window_display": true
  },
  "varInspector": {
   "cols": {
    "lenName": 16,
    "lenType": 16,
    "lenVar": 40
   },
   "kernels_config": {
    "python": {
     "delete_cmd_postfix": "",
     "delete_cmd_prefix": "del ",
     "library": "var_list.py",
     "varRefreshCmd": "print(var_dic_list())"
    },
    "r": {
     "delete_cmd_postfix": ") ",
     "delete_cmd_prefix": "rm(",
     "library": "var_list.r",
     "varRefreshCmd": "cat(var_dic_list()) "
    }
   },
   "types_to_exclude": [
    "module",
    "function",
    "builtin_function_or_method",
    "instance",
    "_Feature"
   ],
   "window_display": false
  }
 },
 "nbformat": 4,
 "nbformat_minor": 2
}
