{
 "cells": [
  {
   "cell_type": "markdown",
   "metadata": {},
   "source": [
    "import pickle\n",
    "import statistics\n",
    "import pandas as pd\n",
    "# ^^^ pyforest auto-imports - don't write above this line\n",
    "# Imports"
   ]
  },
  {
   "cell_type": "code",
   "execution_count": 1,
   "metadata": {},
   "outputs": [],
   "source": [
    "import folium\n",
    "from collections import Counter"
   ]
  },
  {
   "cell_type": "code",
   "execution_count": 16,
   "metadata": {},
   "outputs": [
    {
     "data": {
      "application/javascript": [
       "\n",
       "        if (window._pyforest_update_imports_cell) { window._pyforest_update_imports_cell('import pandas as pd'); }\n",
       "    "
      ],
      "text/plain": [
       "<IPython.core.display.Javascript object>"
      ]
     },
     "metadata": {},
     "output_type": "display_data"
    }
   ],
   "source": [
    "stations_df = pd.read_csv(\"./saved_data/final_station_df.csv\", index_col = 0)"
   ]
  },
  {
   "cell_type": "code",
   "execution_count": 25,
   "metadata": {},
   "outputs": [
    {
     "data": {
      "application/javascript": [
       "\n",
       "        if (window._pyforest_update_imports_cell) { window._pyforest_update_imports_cell('import pandas as pd'); }\n",
       "    "
      ],
      "text/plain": [
       "<IPython.core.display.Javascript object>"
      ]
     },
     "metadata": {},
     "output_type": "display_data"
    }
   ],
   "source": [
    "non_unique_stations_df = pd.read_csv(\"./saved_data/non_unique_mta_stations.csv\", index_col=0)"
   ]
  },
  {
   "cell_type": "markdown",
   "metadata": {},
   "source": [
    "from sklearn.ensemble import RandomForestClassifier\n",
    "from sklearn.ensemble import GradientBoostingClassifier\n",
    "from sklearn.ensemble import GradientBoostingRegressor\n",
    "from sklearn.preprocessing import OneHotEncoder\n",
    "from sklearn.feature_extraction.text import TfidfVectorizer\n",
    "from pathlib import Path\n",
    "from sklearn.ensemble import RandomForestRegressor\n",
    "from sklearn.manifold import TSNE\n",
    "import pandas as pd\n",
    "from pyspark import SparkContext\n",
    "import statistics\n",
    "import altair as alt\n",
    "# ^^^ pyforest auto-imports - don't write above this line\n",
    "# Finding Routes"
   ]
  },
  {
   "cell_type": "code",
   "execution_count": 3,
   "metadata": {},
   "outputs": [
    {
     "data": {
      "application/javascript": [
       "\n",
       "        if (window._pyforest_update_imports_cell) { window._pyforest_update_imports_cell('import pandas as pd'); }\n",
       "    "
      ],
      "text/plain": [
       "<IPython.core.display.Javascript object>"
      ]
     },
     "metadata": {},
     "output_type": "display_data"
    }
   ],
   "source": [
    "stop_times_df = pd.read_csv(\"./gtfs_data/stop_times.txt\")"
   ]
  },
  {
   "cell_type": "code",
   "execution_count": 4,
   "metadata": {},
   "outputs": [
    {
     "data": {
      "text/plain": [
       "(535099, 9)"
      ]
     },
     "execution_count": 4,
     "metadata": {},
     "output_type": "execute_result"
    }
   ],
   "source": [
    "stop_times_df.shape"
   ]
  },
  {
   "cell_type": "markdown",
   "metadata": {},
   "source": [
    "### Removing unnecessary columns"
   ]
  },
  {
   "cell_type": "code",
   "execution_count": 5,
   "metadata": {},
   "outputs": [
    {
     "data": {
      "text/plain": [
       "stop_headsign          535099\n",
       "shape_dist_traveled    535099\n",
       "dtype: int64"
      ]
     },
     "execution_count": 5,
     "metadata": {},
     "output_type": "execute_result"
    }
   ],
   "source": [
    "null_columns2=stop_times_df.columns[stop_times_df.isnull().any()]\n",
    "stop_times_df[null_columns2].isnull().sum()"
   ]
  },
  {
   "cell_type": "code",
   "execution_count": 6,
   "metadata": {},
   "outputs": [],
   "source": [
    "stop_times_df.drop(columns = ['stop_headsign', 'shape_dist_traveled'], inplace=True)"
   ]
  },
  {
   "cell_type": "code",
   "execution_count": 7,
   "metadata": {},
   "outputs": [
    {
     "name": "stdout",
     "output_type": "stream",
     "text": [
      "2\n",
      "2\n"
     ]
    }
   ],
   "source": [
    "print(stop_times_df.pickup_type.nunique())\n",
    "print(stop_times_df.drop_off_type.nunique())"
   ]
  },
  {
   "cell_type": "code",
   "execution_count": 261,
   "metadata": {
    "scrolled": true
   },
   "outputs": [
    {
     "data": {
      "text/html": [
       "<div>\n",
       "<style scoped>\n",
       "    .dataframe tbody tr th:only-of-type {\n",
       "        vertical-align: middle;\n",
       "    }\n",
       "\n",
       "    .dataframe tbody tr th {\n",
       "        vertical-align: top;\n",
       "    }\n",
       "\n",
       "    .dataframe thead th {\n",
       "        text-align: right;\n",
       "    }\n",
       "</style>\n",
       "<table border=\"1\" class=\"dataframe\">\n",
       "  <thead>\n",
       "    <tr style=\"text-align: right;\">\n",
       "      <th></th>\n",
       "      <th>trip_id</th>\n",
       "      <th>arrival_time</th>\n",
       "      <th>departure_time</th>\n",
       "      <th>stop_id</th>\n",
       "      <th>stop_sequence</th>\n",
       "      <th>pickup_type</th>\n",
       "      <th>drop_off_type</th>\n",
       "    </tr>\n",
       "  </thead>\n",
       "  <tbody>\n",
       "    <tr>\n",
       "      <th>0</th>\n",
       "      <td>AFA19GEN-1037-Sunday-00_000600_1..S03R</td>\n",
       "      <td>00:06:00</td>\n",
       "      <td>00:06:00</td>\n",
       "      <td>101S</td>\n",
       "      <td>1</td>\n",
       "      <td>0</td>\n",
       "      <td>0</td>\n",
       "    </tr>\n",
       "    <tr>\n",
       "      <th>1</th>\n",
       "      <td>AFA19GEN-1037-Sunday-00_000600_1..S03R</td>\n",
       "      <td>00:07:30</td>\n",
       "      <td>00:07:30</td>\n",
       "      <td>103S</td>\n",
       "      <td>2</td>\n",
       "      <td>0</td>\n",
       "      <td>0</td>\n",
       "    </tr>\n",
       "    <tr>\n",
       "      <th>2</th>\n",
       "      <td>AFA19GEN-1037-Sunday-00_000600_1..S03R</td>\n",
       "      <td>00:09:00</td>\n",
       "      <td>00:09:00</td>\n",
       "      <td>104S</td>\n",
       "      <td>3</td>\n",
       "      <td>0</td>\n",
       "      <td>0</td>\n",
       "    </tr>\n",
       "    <tr>\n",
       "      <th>3</th>\n",
       "      <td>AFA19GEN-1037-Sunday-00_000600_1..S03R</td>\n",
       "      <td>00:10:30</td>\n",
       "      <td>00:10:30</td>\n",
       "      <td>106S</td>\n",
       "      <td>4</td>\n",
       "      <td>0</td>\n",
       "      <td>0</td>\n",
       "    </tr>\n",
       "    <tr>\n",
       "      <th>4</th>\n",
       "      <td>AFA19GEN-1037-Sunday-00_000600_1..S03R</td>\n",
       "      <td>00:12:00</td>\n",
       "      <td>00:12:00</td>\n",
       "      <td>107S</td>\n",
       "      <td>5</td>\n",
       "      <td>0</td>\n",
       "      <td>0</td>\n",
       "    </tr>\n",
       "    <tr>\n",
       "      <th>...</th>\n",
       "      <td>...</td>\n",
       "      <td>...</td>\n",
       "      <td>...</td>\n",
       "      <td>...</td>\n",
       "      <td>...</td>\n",
       "      <td>...</td>\n",
       "      <td>...</td>\n",
       "    </tr>\n",
       "    <tr>\n",
       "      <th>535094</th>\n",
       "      <td>BFA19SUPP-L047-Weekday-99_142400_L..S10R</td>\n",
       "      <td>24:06:00</td>\n",
       "      <td>24:06:00</td>\n",
       "      <td>L25S</td>\n",
       "      <td>14</td>\n",
       "      <td>0</td>\n",
       "      <td>0</td>\n",
       "    </tr>\n",
       "    <tr>\n",
       "      <th>535095</th>\n",
       "      <td>BFA19SUPP-L047-Weekday-99_142400_L..S10R</td>\n",
       "      <td>24:07:00</td>\n",
       "      <td>24:07:00</td>\n",
       "      <td>L26S</td>\n",
       "      <td>15</td>\n",
       "      <td>0</td>\n",
       "      <td>0</td>\n",
       "    </tr>\n",
       "    <tr>\n",
       "      <th>535096</th>\n",
       "      <td>BFA19SUPP-L047-Weekday-99_142400_L..S10R</td>\n",
       "      <td>24:08:30</td>\n",
       "      <td>24:08:30</td>\n",
       "      <td>L27S</td>\n",
       "      <td>16</td>\n",
       "      <td>0</td>\n",
       "      <td>0</td>\n",
       "    </tr>\n",
       "    <tr>\n",
       "      <th>535097</th>\n",
       "      <td>BFA19SUPP-L047-Weekday-99_142400_L..S10R</td>\n",
       "      <td>24:10:30</td>\n",
       "      <td>24:10:30</td>\n",
       "      <td>L28S</td>\n",
       "      <td>17</td>\n",
       "      <td>0</td>\n",
       "      <td>0</td>\n",
       "    </tr>\n",
       "    <tr>\n",
       "      <th>535098</th>\n",
       "      <td>BFA19SUPP-L047-Weekday-99_142400_L..S10R</td>\n",
       "      <td>24:12:00</td>\n",
       "      <td>24:12:00</td>\n",
       "      <td>L29S</td>\n",
       "      <td>18</td>\n",
       "      <td>0</td>\n",
       "      <td>0</td>\n",
       "    </tr>\n",
       "  </tbody>\n",
       "</table>\n",
       "<p>535099 rows × 7 columns</p>\n",
       "</div>"
      ],
      "text/plain": [
       "                                         trip_id arrival_time departure_time  \\\n",
       "0         AFA19GEN-1037-Sunday-00_000600_1..S03R     00:06:00       00:06:00   \n",
       "1         AFA19GEN-1037-Sunday-00_000600_1..S03R     00:07:30       00:07:30   \n",
       "2         AFA19GEN-1037-Sunday-00_000600_1..S03R     00:09:00       00:09:00   \n",
       "3         AFA19GEN-1037-Sunday-00_000600_1..S03R     00:10:30       00:10:30   \n",
       "4         AFA19GEN-1037-Sunday-00_000600_1..S03R     00:12:00       00:12:00   \n",
       "...                                          ...          ...            ...   \n",
       "535094  BFA19SUPP-L047-Weekday-99_142400_L..S10R     24:06:00       24:06:00   \n",
       "535095  BFA19SUPP-L047-Weekday-99_142400_L..S10R     24:07:00       24:07:00   \n",
       "535096  BFA19SUPP-L047-Weekday-99_142400_L..S10R     24:08:30       24:08:30   \n",
       "535097  BFA19SUPP-L047-Weekday-99_142400_L..S10R     24:10:30       24:10:30   \n",
       "535098  BFA19SUPP-L047-Weekday-99_142400_L..S10R     24:12:00       24:12:00   \n",
       "\n",
       "       stop_id  stop_sequence  pickup_type  drop_off_type  \n",
       "0         101S              1            0              0  \n",
       "1         103S              2            0              0  \n",
       "2         104S              3            0              0  \n",
       "3         106S              4            0              0  \n",
       "4         107S              5            0              0  \n",
       "...        ...            ...          ...            ...  \n",
       "535094    L25S             14            0              0  \n",
       "535095    L26S             15            0              0  \n",
       "535096    L27S             16            0              0  \n",
       "535097    L28S             17            0              0  \n",
       "535098    L29S             18            0              0  \n",
       "\n",
       "[535099 rows x 7 columns]"
      ]
     },
     "execution_count": 261,
     "metadata": {},
     "output_type": "execute_result"
    }
   ],
   "source": [
    "# I think I need to use the stop_sequence and the stop_id to map them out \n",
    "## A lot of suspiciously round numbers\n",
    "stop_times_df"
   ]
  },
  {
   "cell_type": "markdown",
   "metadata": {},
   "source": [
    "## Getting Connections to Each Stop"
   ]
  },
  {
   "cell_type": "code",
   "execution_count": 214,
   "metadata": {},
   "outputs": [],
   "source": [
    "# vectorizing the arrays\n",
    "stop_id_order_array = np.array(stop_times_df['stop_id'])\n",
    "# station_id_array = np.array(stations_df['station_id'])\n",
    "# stop_id_stations_array = np.array(non_unique_stations_df['stop_id']) # will combine duplicate station_ids later\n",
    "stop_id_order_array_no_ns = np.array([x[:-1] for x in stop_times_df['stop_id']]) # all stop_ids end in n or s"
   ]
  },
  {
   "cell_type": "code",
   "execution_count": 33,
   "metadata": {},
   "outputs": [],
   "source": [
    "stop_id_connections_dict = {key:None for key in non_unique_stations_df['stop_id']}"
   ]
  },
  {
   "cell_type": "code",
   "execution_count": 146,
   "metadata": {
    "code_folding": []
   },
   "outputs": [],
   "source": [
    "def get_connections_to_a_stop(the_stop, stop_times_stop_id=stop_id_order_array_no_ns, df=stop_times_df):\n",
    "    # make list of stop_ids that are bordering a certain stop\n",
    "    # https://stackoverflow.com/questions/432112/is-there-a-numpy-function-to-return-the-first-index-of-something-in-an-array\n",
    "    indices_of_the_stop = np.where(stop_times_stop_id == the_stop)\n",
    "    all_connections = []\n",
    "    for idx in indices_of_the_stop[0]:\n",
    "        if idx > 0:\n",
    "            prev_row = df.iloc[idx-1]\n",
    "            if prev_row['trip_id'] == df['trip_id'][idx]:\n",
    "                all_connections.append(prev_row['stop_id'][:-1])\n",
    "        elif idx < df.shape[0]:\n",
    "            next_row = df.iloc[idx+1]\n",
    "            if next_row['trip_id'] == df['trip_id'][idx]:\n",
    "                all_connections.append(next_row['stop_id'][:-1])\n",
    "    connections_to_the_stop = set(all_connections)\n",
    "    if the_stop in connections_to_the_stop:\n",
    "        connections_to_the_stop.remove(the_stop)\n",
    "    return connections_to_the_stop"
   ]
  },
  {
   "cell_type": "code",
   "execution_count": 155,
   "metadata": {
    "code_folding": [
     0
    ]
   },
   "outputs": [],
   "source": [
    "def add_connections_to_dict(the_stop, the_dict=stop_id_connections_dict, func = get_connections_to_a_stop):\n",
    "    if the_dict.get(the_stop) == None:\n",
    "        connections_to_the_stop = get_connections_to_a_stop(the_stop)\n",
    "        the_dict[the_stop] = connections_to_the_stop\n",
    "    return the_dict"
   ]
  },
  {
   "cell_type": "code",
   "execution_count": 162,
   "metadata": {},
   "outputs": [],
   "source": [
    "# took about a minute to run\n",
    "for stop in non_unique_stations_df['stop_id']:\n",
    "    stop_id_connections_dict = add_connections_to_dict(the_stop=stop)"
   ]
  },
  {
   "cell_type": "code",
   "execution_count": 213,
   "metadata": {},
   "outputs": [],
   "source": [
    "# stop_id_connections_dict"
   ]
  },
  {
   "cell_type": "markdown",
   "metadata": {},
   "source": [
    "#### Saving connections dict"
   ]
  },
  {
   "cell_type": "code",
   "execution_count": 180,
   "metadata": {},
   "outputs": [
    {
     "data": {
      "application/javascript": [
       "\n",
       "        if (window._pyforest_update_imports_cell) { window._pyforest_update_imports_cell('import pickle\\nimport pandas as pd'); }\n",
       "    "
      ],
      "text/plain": [
       "<IPython.core.display.Javascript object>"
      ]
     },
     "metadata": {},
     "output_type": "display_data"
    }
   ],
   "source": [
    "# with open(\"./saved_data/all_connections_dict.pickle\", \"wb+\") as f:\n",
    "#     pickle.dump(stop_id_connections_dict, f)"
   ]
  },
  {
   "cell_type": "markdown",
   "metadata": {},
   "source": [
    "### Which station has the most direct connections"
   ]
  },
  {
   "cell_type": "code",
   "execution_count": 177,
   "metadata": {},
   "outputs": [
    {
     "name": "stdout",
     "output_type": "stream",
     "text": [
      "5\n"
     ]
    }
   ],
   "source": [
    "most_connections = 0\n",
    "for key, value in stop_id_connections_dict.items():\n",
    "    if len(value) > most_connections:\n",
    "        most_connections = len(value)\n",
    "print(most_connections)"
   ]
  },
  {
   "cell_type": "code",
   "execution_count": 176,
   "metadata": {},
   "outputs": [
    {
     "name": "stdout",
     "output_type": "stream",
     "text": [
      "['Franklin Av', 'officially known as 239']\n",
      "['125 St', 'officially known as 621']\n",
      "['125 St', 'officially known as A15']\n",
      "['59 St - Columbus Circle', 'officially known as A24']\n",
      "['Hoyt - Schermerhorn Sts', 'officially known as A42']\n",
      "['Kew Gardens - Union Tpke', 'officially known as F06']\n",
      "['Jackson Hts - Roosevelt Av', 'officially known as G14']\n",
      "['Myrtle Av', 'officially known as M11']\n",
      "['DeKalb Av', 'officially known as R30']\n",
      "['Atlantic Av - Barclays Ctr', 'officially known as R31']\n",
      "['36 St', 'officially known as R36']\n"
     ]
    }
   ],
   "source": [
    "most_connections_station = \"\"\n",
    "most_connections_station_common_name = []\n",
    "for key, value in stop_id_connections_dict.items():\n",
    "    if len(value) >= 5:\n",
    "        most_connections_station = key\n",
    "        index = non_unique_stations_df['stop_id'] == key\n",
    "        common_name = list(non_unique_stations_df['stop_name'][index])\n",
    "        common_name.append(f\"officially known as {key}\")\n",
    "        most_connections_station_common_name.append(common_name)\n",
    "for x in most_connections_station_common_name:\n",
    "    print(x)"
   ]
  },
  {
   "cell_type": "markdown",
   "metadata": {},
   "source": [
    "### Putting Connections into a dataframe"
   ]
  },
  {
   "cell_type": "markdown",
   "metadata": {},
   "source": [
    "#### Get All Combinations of Stops"
   ]
  },
  {
   "cell_type": "code",
   "execution_count": 188,
   "metadata": {},
   "outputs": [],
   "source": [
    "# only need one combination of each pair (not each permutation)\n",
    "## e.g.: 101 <-> 103 should have same amount of time between them\n",
    "permutation_list = []\n",
    "for key, value in stop_id_connections_dict.items():\n",
    "    for item in value:\n",
    "        permutation = [key, item]\n",
    "        if [item, key] not in permutation_list:\n",
    "            permutation_list.append(permutation)"
   ]
  },
  {
   "cell_type": "code",
   "execution_count": 189,
   "metadata": {},
   "outputs": [
    {
     "data": {
      "text/plain": [
       "551"
      ]
     },
     "execution_count": 189,
     "metadata": {},
     "output_type": "execute_result"
    }
   ],
   "source": [
    "# there are 551 distinct station to station pairs in the NYC subway system\n",
    "len(permutation_list)"
   ]
  },
  {
   "cell_type": "code",
   "execution_count": 246,
   "metadata": {},
   "outputs": [],
   "source": [
    "# permutation_list"
   ]
  },
  {
   "cell_type": "markdown",
   "metadata": {},
   "source": [
    "#### Making sure second avenue subway cars are in list"
   ]
  },
  {
   "cell_type": "code",
   "execution_count": 196,
   "metadata": {},
   "outputs": [],
   "source": [
    "# new 96 st station has the id 625 which is in the dict! \n",
    "# for idx, x in enumerate(non_unique_stations_df['stop_name']):\n",
    "#     if '96' in x:\n",
    "#         print(non_unique_stations_df.iloc[idx])"
   ]
  },
  {
   "cell_type": "markdown",
   "metadata": {},
   "source": [
    "#### Putting combos in df"
   ]
  },
  {
   "cell_type": "code",
   "execution_count": 209,
   "metadata": {},
   "outputs": [],
   "source": [
    "start_station = [x[0] for x in permutation_list]\n",
    "end_station = [x[1] for x in permutation_list]"
   ]
  },
  {
   "cell_type": "code",
   "execution_count": 450,
   "metadata": {},
   "outputs": [
    {
     "data": {
      "application/javascript": [
       "\n",
       "        if (window._pyforest_update_imports_cell) { window._pyforest_update_imports_cell('import pickle\\nimport statistics\\nimport pandas as pd'); }\n",
       "    "
      ],
      "text/plain": [
       "<IPython.core.display.Javascript object>"
      ]
     },
     "metadata": {},
     "output_type": "display_data"
    }
   ],
   "source": [
    "edge_list_df = pd.DataFrame(data=[start_station, end_station]).T"
   ]
  },
  {
   "cell_type": "code",
   "execution_count": 451,
   "metadata": {},
   "outputs": [],
   "source": [
    "edge_list_df.columns = ['node1', 'node2']\n",
    "edge_list_df['trail'] = 'nyc subway' # making this a single trail for simplicity's sake\n",
    "edge_list_df['color'] = 'red'"
   ]
  },
  {
   "cell_type": "markdown",
   "metadata": {},
   "source": [
    "## Getting Distance Between Each Connection"
   ]
  },
  {
   "cell_type": "code",
   "execution_count": 216,
   "metadata": {},
   "outputs": [
    {
     "data": {
      "text/html": [
       "<div>\n",
       "<style scoped>\n",
       "    .dataframe tbody tr th:only-of-type {\n",
       "        vertical-align: middle;\n",
       "    }\n",
       "\n",
       "    .dataframe tbody tr th {\n",
       "        vertical-align: top;\n",
       "    }\n",
       "\n",
       "    .dataframe thead th {\n",
       "        text-align: right;\n",
       "    }\n",
       "</style>\n",
       "<table border=\"1\" class=\"dataframe\">\n",
       "  <thead>\n",
       "    <tr style=\"text-align: right;\">\n",
       "      <th></th>\n",
       "      <th>trip_id</th>\n",
       "      <th>arrival_time</th>\n",
       "      <th>departure_time</th>\n",
       "      <th>stop_id</th>\n",
       "      <th>stop_sequence</th>\n",
       "      <th>pickup_type</th>\n",
       "      <th>drop_off_type</th>\n",
       "    </tr>\n",
       "  </thead>\n",
       "  <tbody>\n",
       "    <tr>\n",
       "      <th>0</th>\n",
       "      <td>AFA19GEN-1037-Sunday-00_000600_1..S03R</td>\n",
       "      <td>00:06:00</td>\n",
       "      <td>00:06:00</td>\n",
       "      <td>101S</td>\n",
       "      <td>1</td>\n",
       "      <td>0</td>\n",
       "      <td>0</td>\n",
       "    </tr>\n",
       "    <tr>\n",
       "      <th>1</th>\n",
       "      <td>AFA19GEN-1037-Sunday-00_000600_1..S03R</td>\n",
       "      <td>00:07:30</td>\n",
       "      <td>00:07:30</td>\n",
       "      <td>103S</td>\n",
       "      <td>2</td>\n",
       "      <td>0</td>\n",
       "      <td>0</td>\n",
       "    </tr>\n",
       "    <tr>\n",
       "      <th>2</th>\n",
       "      <td>AFA19GEN-1037-Sunday-00_000600_1..S03R</td>\n",
       "      <td>00:09:00</td>\n",
       "      <td>00:09:00</td>\n",
       "      <td>104S</td>\n",
       "      <td>3</td>\n",
       "      <td>0</td>\n",
       "      <td>0</td>\n",
       "    </tr>\n",
       "    <tr>\n",
       "      <th>3</th>\n",
       "      <td>AFA19GEN-1037-Sunday-00_000600_1..S03R</td>\n",
       "      <td>00:10:30</td>\n",
       "      <td>00:10:30</td>\n",
       "      <td>106S</td>\n",
       "      <td>4</td>\n",
       "      <td>0</td>\n",
       "      <td>0</td>\n",
       "    </tr>\n",
       "    <tr>\n",
       "      <th>4</th>\n",
       "      <td>AFA19GEN-1037-Sunday-00_000600_1..S03R</td>\n",
       "      <td>00:12:00</td>\n",
       "      <td>00:12:00</td>\n",
       "      <td>107S</td>\n",
       "      <td>5</td>\n",
       "      <td>0</td>\n",
       "      <td>0</td>\n",
       "    </tr>\n",
       "  </tbody>\n",
       "</table>\n",
       "</div>"
      ],
      "text/plain": [
       "                                  trip_id arrival_time departure_time stop_id  \\\n",
       "0  AFA19GEN-1037-Sunday-00_000600_1..S03R     00:06:00       00:06:00    101S   \n",
       "1  AFA19GEN-1037-Sunday-00_000600_1..S03R     00:07:30       00:07:30    103S   \n",
       "2  AFA19GEN-1037-Sunday-00_000600_1..S03R     00:09:00       00:09:00    104S   \n",
       "3  AFA19GEN-1037-Sunday-00_000600_1..S03R     00:10:30       00:10:30    106S   \n",
       "4  AFA19GEN-1037-Sunday-00_000600_1..S03R     00:12:00       00:12:00    107S   \n",
       "\n",
       "   stop_sequence  pickup_type  drop_off_type  \n",
       "0              1            0              0  \n",
       "1              2            0              0  \n",
       "2              3            0              0  \n",
       "3              4            0              0  \n",
       "4              5            0              0  "
      ]
     },
     "execution_count": 216,
     "metadata": {},
     "output_type": "execute_result"
    }
   ],
   "source": [
    "# will add this connection \"distance\" to the distance column in the edge_list_df\n",
    "## first: are the time columns in stop_times_df timestamps? can I subtract them?\n",
    "stop_times_df.head()"
   ]
  },
  {
   "cell_type": "code",
   "execution_count": 219,
   "metadata": {},
   "outputs": [
    {
     "data": {
      "text/plain": [
       "str"
      ]
     },
     "execution_count": 219,
     "metadata": {},
     "output_type": "execute_result"
    }
   ],
   "source": [
    "type(stop_times_df['arrival_time'][0])"
   ]
  },
  {
   "cell_type": "code",
   "execution_count": 221,
   "metadata": {},
   "outputs": [],
   "source": [
    "neg_times = []\n",
    "over_24 = []\n",
    "for x in stop_times_df['arrival_time']:\n",
    "    if '-' in x:\n",
    "        neg_times.append(x)\n",
    "    elif '24' in x:\n",
    "        over_24.append(x)"
   ]
  },
  {
   "cell_type": "code",
   "execution_count": 222,
   "metadata": {},
   "outputs": [
    {
     "data": {
      "text/plain": [
       "0"
      ]
     },
     "execution_count": 222,
     "metadata": {},
     "output_type": "execute_result"
    }
   ],
   "source": [
    "len(neg_times)"
   ]
  },
  {
   "cell_type": "code",
   "execution_count": 223,
   "metadata": {},
   "outputs": [
    {
     "data": {
      "text/plain": [
       "20019"
      ]
     },
     "execution_count": 223,
     "metadata": {},
     "output_type": "execute_result"
    }
   ],
   "source": [
    "len(over_24)"
   ]
  },
  {
   "cell_type": "code",
   "execution_count": 224,
   "metadata": {},
   "outputs": [
    {
     "data": {
      "application/javascript": [
       "\n",
       "        if (window._pyforest_update_imports_cell) { window._pyforest_update_imports_cell('import pickle\\nimport pandas as pd'); }\n",
       "    "
      ],
      "text/plain": [
       "<IPython.core.display.Javascript object>"
      ]
     },
     "metadata": {},
     "output_type": "display_data"
    }
   ],
   "source": [
    "arrival_times_datetime = pd.to_datetime(stop_times_df['arrival_time'], errors = 'coerce', infer_datetime_format=True)"
   ]
  },
  {
   "cell_type": "code",
   "execution_count": 226,
   "metadata": {},
   "outputs": [
    {
     "data": {
      "text/plain": [
       "pandas._libs.tslibs.timestamps.Timestamp"
      ]
     },
     "execution_count": 226,
     "metadata": {},
     "output_type": "execute_result"
    }
   ],
   "source": [
    "type(arrival_times_datetime[0])"
   ]
  },
  {
   "cell_type": "code",
   "execution_count": 227,
   "metadata": {},
   "outputs": [
    {
     "data": {
      "text/plain": [
       "Timestamp('2020-07-22 00:06:00')"
      ]
     },
     "execution_count": 227,
     "metadata": {},
     "output_type": "execute_result"
    }
   ],
   "source": [
    "arrival_times_datetime[0]"
   ]
  },
  {
   "cell_type": "code",
   "execution_count": 231,
   "metadata": {},
   "outputs": [
    {
     "data": {
      "application/javascript": [
       "\n",
       "        if (window._pyforest_update_imports_cell) { window._pyforest_update_imports_cell('import pickle\\nimport pandas as pd'); }\n",
       "    "
      ],
      "text/plain": [
       "<IPython.core.display.Javascript object>"
      ]
     },
     "metadata": {},
     "output_type": "display_data"
    },
    {
     "name": "stderr",
     "output_type": "stream",
     "text": [
      "/Users/gregfeliu/opt/anaconda3/envs/learn-env/lib/python3.6/site-packages/pandas/util/_decorators.py:208: FutureWarning: Passing datetime64-dtype data to TimedeltaIndex is deprecated, will raise a TypeError in a future version\n",
      "  return func(*args, **kwargs)\n"
     ]
    }
   ],
   "source": [
    "arrival_times_timedelta = pd.to_timedelta(arrival_times_datetime, unit = 'seconds', errors = 'coerce')"
   ]
  },
  {
   "cell_type": "code",
   "execution_count": 245,
   "metadata": {},
   "outputs": [
    {
     "data": {
      "text/plain": [
       "18044"
      ]
     },
     "execution_count": 245,
     "metadata": {},
     "output_type": "execute_result"
    }
   ],
   "source": [
    "arrival_times_timedelta.isnull().sum()"
   ]
  },
  {
   "cell_type": "code",
   "execution_count": 236,
   "metadata": {},
   "outputs": [
    {
     "data": {
      "text/plain": [
       "pandas._libs.tslibs.timedeltas.Timedelta"
      ]
     },
     "execution_count": 236,
     "metadata": {},
     "output_type": "execute_result"
    }
   ],
   "source": [
    "type(arrival_times_timedelta[1])"
   ]
  },
  {
   "cell_type": "code",
   "execution_count": 237,
   "metadata": {},
   "outputs": [
    {
     "data": {
      "application/javascript": [
       "\n",
       "        if (window._pyforest_update_imports_cell) { window._pyforest_update_imports_cell('import pickle\\nimport pandas as pd'); }\n",
       "    "
      ],
      "text/plain": [
       "<IPython.core.display.Javascript object>"
      ]
     },
     "metadata": {},
     "output_type": "display_data"
    },
    {
     "data": {
      "text/plain": [
       "Timedelta('18465 days 00:06:00')"
      ]
     },
     "execution_count": 237,
     "metadata": {},
     "output_type": "execute_result"
    }
   ],
   "source": [
    "pd.Timedelta(arrival_times_timedelta[0], arrival_times_timedelta[1])"
   ]
  },
  {
   "cell_type": "code",
   "execution_count": 239,
   "metadata": {},
   "outputs": [],
   "source": [
    "x = arrival_times_timedelta[1] - arrival_times_timedelta[0]"
   ]
  },
  {
   "cell_type": "code",
   "execution_count": 240,
   "metadata": {},
   "outputs": [
    {
     "name": "stdout",
     "output_type": "stream",
     "text": [
      "90\n"
     ]
    }
   ],
   "source": [
    "print(x.seconds)"
   ]
  },
  {
   "cell_type": "code",
   "execution_count": 452,
   "metadata": {},
   "outputs": [],
   "source": [
    "stop_times_df['arrival_times_timedelta'] = arrival_times_timedelta\n",
    "edge_list_df['distance'] = 0 # empty column where I will add the distance between nodes"
   ]
  },
  {
   "cell_type": "markdown",
   "metadata": {},
   "source": [
    "### Checking if there is a difference in time between stops depending on day of week"
   ]
  },
  {
   "cell_type": "code",
   "execution_count": 308,
   "metadata": {},
   "outputs": [],
   "source": [
    "indices_of_the_stop = np.where(stop_id_order_array_no_ns == non_unique_stations_df['stop_id'][0])"
   ]
  },
  {
   "cell_type": "code",
   "execution_count": 301,
   "metadata": {},
   "outputs": [],
   "source": [
    "sat = stop_times_df[stop_times_df.trip_id.str.contains(\"AFA19GEN-1038-Saturday\")]\n",
    "sun = stop_times_df[stop_times_df.trip_id.str.contains(\"AFA19GEN-1037-Sunday\")]\n",
    "weekday = stop_times_df[stop_times_df.trip_id.str.contains(\"AFA19GEN-1087-Weekday\")]"
   ]
  },
  {
   "cell_type": "code",
   "execution_count": 302,
   "metadata": {},
   "outputs": [],
   "source": [
    "# looks like it's the same 1:30 each way at all times\n",
    "sun_and_first_2_stops = sun[(sun.stop_id.str.contains(\"101\") | (sun.stop_id.str.contains(\"103\")))]\n",
    "sat_and_first_2_stops = sat[(sat.stop_id.str.contains(\"101\") | (sat.stop_id.str.contains(\"103\")))]\n",
    "weekday_and_first_2_stops = weekday[(weekday.stop_id.str.contains(\"101\") | (weekday.stop_id.str.contains(\"103\")))]"
   ]
  },
  {
   "cell_type": "markdown",
   "metadata": {},
   "source": [
    "### Finding \"distance\" between each node"
   ]
  },
  {
   "cell_type": "code",
   "execution_count": 453,
   "metadata": {},
   "outputs": [
    {
     "data": {
      "text/html": [
       "<div>\n",
       "<style scoped>\n",
       "    .dataframe tbody tr th:only-of-type {\n",
       "        vertical-align: middle;\n",
       "    }\n",
       "\n",
       "    .dataframe tbody tr th {\n",
       "        vertical-align: top;\n",
       "    }\n",
       "\n",
       "    .dataframe thead th {\n",
       "        text-align: right;\n",
       "    }\n",
       "</style>\n",
       "<table border=\"1\" class=\"dataframe\">\n",
       "  <thead>\n",
       "    <tr style=\"text-align: right;\">\n",
       "      <th></th>\n",
       "      <th>node1</th>\n",
       "      <th>node2</th>\n",
       "      <th>trail</th>\n",
       "      <th>color</th>\n",
       "      <th>distance</th>\n",
       "    </tr>\n",
       "  </thead>\n",
       "  <tbody>\n",
       "    <tr>\n",
       "      <th>0</th>\n",
       "      <td>101</td>\n",
       "      <td>103</td>\n",
       "      <td>nyc subway</td>\n",
       "      <td>red</td>\n",
       "      <td>0</td>\n",
       "    </tr>\n",
       "    <tr>\n",
       "      <th>1</th>\n",
       "      <td>103</td>\n",
       "      <td>104</td>\n",
       "      <td>nyc subway</td>\n",
       "      <td>red</td>\n",
       "      <td>0</td>\n",
       "    </tr>\n",
       "    <tr>\n",
       "      <th>2</th>\n",
       "      <td>104</td>\n",
       "      <td>106</td>\n",
       "      <td>nyc subway</td>\n",
       "      <td>red</td>\n",
       "      <td>0</td>\n",
       "    </tr>\n",
       "    <tr>\n",
       "      <th>3</th>\n",
       "      <td>106</td>\n",
       "      <td>107</td>\n",
       "      <td>nyc subway</td>\n",
       "      <td>red</td>\n",
       "      <td>0</td>\n",
       "    </tr>\n",
       "    <tr>\n",
       "      <th>4</th>\n",
       "      <td>107</td>\n",
       "      <td>108</td>\n",
       "      <td>nyc subway</td>\n",
       "      <td>red</td>\n",
       "      <td>0</td>\n",
       "    </tr>\n",
       "    <tr>\n",
       "      <th>...</th>\n",
       "      <td>...</td>\n",
       "      <td>...</td>\n",
       "      <td>...</td>\n",
       "      <td>...</td>\n",
       "      <td>...</td>\n",
       "    </tr>\n",
       "    <tr>\n",
       "      <th>546</th>\n",
       "      <td>R42</td>\n",
       "      <td>R43</td>\n",
       "      <td>nyc subway</td>\n",
       "      <td>red</td>\n",
       "      <td>0</td>\n",
       "    </tr>\n",
       "    <tr>\n",
       "      <th>547</th>\n",
       "      <td>R43</td>\n",
       "      <td>R44</td>\n",
       "      <td>nyc subway</td>\n",
       "      <td>red</td>\n",
       "      <td>0</td>\n",
       "    </tr>\n",
       "    <tr>\n",
       "      <th>548</th>\n",
       "      <td>R44</td>\n",
       "      <td>R45</td>\n",
       "      <td>nyc subway</td>\n",
       "      <td>red</td>\n",
       "      <td>0</td>\n",
       "    </tr>\n",
       "    <tr>\n",
       "      <th>549</th>\n",
       "      <td>S01</td>\n",
       "      <td>S03</td>\n",
       "      <td>nyc subway</td>\n",
       "      <td>red</td>\n",
       "      <td>0</td>\n",
       "    </tr>\n",
       "    <tr>\n",
       "      <th>550</th>\n",
       "      <td>S03</td>\n",
       "      <td>S04</td>\n",
       "      <td>nyc subway</td>\n",
       "      <td>red</td>\n",
       "      <td>0</td>\n",
       "    </tr>\n",
       "  </tbody>\n",
       "</table>\n",
       "<p>551 rows × 5 columns</p>\n",
       "</div>"
      ],
      "text/plain": [
       "    node1 node2       trail color  distance\n",
       "0     101   103  nyc subway   red         0\n",
       "1     103   104  nyc subway   red         0\n",
       "2     104   106  nyc subway   red         0\n",
       "3     106   107  nyc subway   red         0\n",
       "4     107   108  nyc subway   red         0\n",
       "..    ...   ...         ...   ...       ...\n",
       "546   R42   R43  nyc subway   red         0\n",
       "547   R43   R44  nyc subway   red         0\n",
       "548   R44   R45  nyc subway   red         0\n",
       "549   S01   S03  nyc subway   red         0\n",
       "550   S03   S04  nyc subway   red         0\n",
       "\n",
       "[551 rows x 5 columns]"
      ]
     },
     "execution_count": 453,
     "metadata": {},
     "output_type": "execute_result"
    }
   ],
   "source": [
    "edge_list_df"
   ]
  },
  {
   "cell_type": "markdown",
   "metadata": {},
   "source": [
    "- choose node\n",
    "- look for node\n",
    "- look for second node (immediately following)\n",
    "- compute timedelta between them\n",
    "- add timedelta to correct row\n",
    "- move onto next row in df"
   ]
  },
  {
   "cell_type": "code",
   "execution_count": 454,
   "metadata": {},
   "outputs": [],
   "source": [
    "def find_edge_distance(row_of_edge_list_df, df=edge_list_df, stop_times_df=stop_times_df):\n",
    "    null_list = stop_times_df['arrival_times_timedelta'].isnull()\n",
    "    node_location = row_of_edge_list_df\n",
    "    if (df['distance'][node_location] == 0):\n",
    "        node1 = df['node1'][node_location]\n",
    "        node2 = df['node2'][node_location]\n",
    "        indices_of_the_stop = np.where(stop_id_order_array_no_ns == node1)\n",
    "        time_delta = 0\n",
    "        for idx in indices_of_the_stop[0]:\n",
    "            next_row = stop_times_df.iloc[idx+1]\n",
    "            stop_id_dest = next_row['stop_id'][:-1]\n",
    "            if stop_id_dest == node2:\n",
    "                if (null_list[idx+1] == False) & (null_list[idx] == False):\n",
    "                    if stop_times_df['trip_id'][idx+1] == stop_times_df['trip_id'][idx]:\n",
    "                        time_delta = stop_times_df['arrival_times_timedelta'][idx+1] - stop_times_df['arrival_times_timedelta'][idx]\n",
    "                        df['distance'][node_location] = time_delta.seconds\n",
    "                        break\n",
    "    return df"
   ]
  },
  {
   "cell_type": "code",
   "execution_count": 455,
   "metadata": {},
   "outputs": [
    {
     "name": "stderr",
     "output_type": "stream",
     "text": [
      "/Users/gregfeliu/opt/anaconda3/envs/learn-env/lib/python3.6/site-packages/ipykernel_launcher.py:16: SettingWithCopyWarning: \n",
      "A value is trying to be set on a copy of a slice from a DataFrame\n",
      "\n",
      "See the caveats in the documentation: http://pandas.pydata.org/pandas-docs/stable/user_guide/indexing.html#returning-a-view-versus-a-copy\n",
      "  app.launch_new_instance()\n"
     ]
    }
   ],
   "source": [
    "for x in range(0, len(edge_list_df)):\n",
    "    edge_list_df = find_edge_distance(x)"
   ]
  },
  {
   "cell_type": "code",
   "execution_count": 456,
   "metadata": {},
   "outputs": [
    {
     "data": {
      "text/plain": [
       "0"
      ]
     },
     "execution_count": 456,
     "metadata": {},
     "output_type": "execute_result"
    }
   ],
   "source": [
    "# no nulls!\n",
    "edge_list_df['distance'].isnull().sum()"
   ]
  },
  {
   "cell_type": "code",
   "execution_count": 457,
   "metadata": {},
   "outputs": [
    {
     "data": {
      "text/plain": [
       "0"
      ]
     },
     "execution_count": 457,
     "metadata": {},
     "output_type": "execute_result"
    }
   ],
   "source": [
    "edge_list_df['distance'].min()"
   ]
  },
  {
   "cell_type": "code",
   "execution_count": null,
   "metadata": {},
   "outputs": [],
   "source": [
    "# fix the duplicate stations (at least in node1 and node2 lists)\n",
    "## might have to make all nodes with only one connection required"
   ]
  },
  {
   "cell_type": "markdown",
   "metadata": {},
   "source": [
    "### Fixing the duplicate stations"
   ]
  },
  {
   "cell_type": "code",
   "execution_count": 397,
   "metadata": {},
   "outputs": [],
   "source": [
    "duplicate_stations = [x for x in stations_df['station_id'] if len(x) > 4]"
   ]
  },
  {
   "cell_type": "code",
   "execution_count": 425,
   "metadata": {},
   "outputs": [
    {
     "data": {
      "text/plain": [
       "['718_R09', 'A13_D13', 'A32_D20', 'D43_N12', 'H01_H02']"
      ]
     },
     "execution_count": 425,
     "metadata": {},
     "output_type": "execute_result"
    }
   ],
   "source": [
    "duplicate_stations"
   ]
  },
  {
   "cell_type": "code",
   "execution_count": 418,
   "metadata": {},
   "outputs": [],
   "source": [
    "duplicate_stations_ind1 = [x.split(\"_\") for x in duplicate_stations]\n",
    "duplicate_stations_ind = list(np.array(duplicate_stations_ind1).flat)"
   ]
  },
  {
   "cell_type": "code",
   "execution_count": 426,
   "metadata": {},
   "outputs": [
    {
     "data": {
      "text/plain": [
       "['718', 'R09', 'A13', 'D13', 'A32', 'D20', 'D43', 'N12', 'H01', 'H02']"
      ]
     },
     "execution_count": 426,
     "metadata": {},
     "output_type": "execute_result"
    }
   ],
   "source": [
    "stations_w_station_id = {key:None for key in duplicate_stations_ind}\n",
    "duplicate_stations_ind"
   ]
  },
  {
   "cell_type": "code",
   "execution_count": 427,
   "metadata": {},
   "outputs": [],
   "source": [
    "counter = 0\n",
    "keys_list = list(stations_w_station_id.keys())\n",
    "for item in keys_list:\n",
    "    for thing in duplicate_stations:\n",
    "        if item in thing:\n",
    "            stations_w_station_id[item] = thing"
   ]
  },
  {
   "cell_type": "code",
   "execution_count": 420,
   "metadata": {},
   "outputs": [],
   "source": [
    "# gathering the examples from the edge_list\n",
    "duplicate_edge_df = edge_list_df[(edge_list_df['node1'].isin(duplicate_stations_ind))|\n",
    "                                 (edge_list_df['node2'].isin(duplicate_stations_ind))]"
   ]
  },
  {
   "cell_type": "code",
   "execution_count": 422,
   "metadata": {},
   "outputs": [
    {
     "data": {
      "text/plain": [
       "22"
      ]
     },
     "execution_count": 422,
     "metadata": {},
     "output_type": "execute_result"
    }
   ],
   "source": [
    "len(duplicate_edge_df)"
   ]
  },
  {
   "cell_type": "code",
   "execution_count": 431,
   "metadata": {
    "scrolled": true
   },
   "outputs": [
    {
     "data": {
      "text/html": [
       "<div>\n",
       "<style scoped>\n",
       "    .dataframe tbody tr th:only-of-type {\n",
       "        vertical-align: middle;\n",
       "    }\n",
       "\n",
       "    .dataframe tbody tr th {\n",
       "        vertical-align: top;\n",
       "    }\n",
       "\n",
       "    .dataframe thead th {\n",
       "        text-align: right;\n",
       "    }\n",
       "</style>\n",
       "<table border=\"1\" class=\"dataframe\">\n",
       "  <thead>\n",
       "    <tr style=\"text-align: right;\">\n",
       "      <th></th>\n",
       "      <th>node1</th>\n",
       "      <th>node2</th>\n",
       "      <th>trail</th>\n",
       "      <th>color</th>\n",
       "      <th>distance</th>\n",
       "    </tr>\n",
       "  </thead>\n",
       "  <tbody>\n",
       "    <tr>\n",
       "      <th>183</th>\n",
       "      <td>712</td>\n",
       "      <td>718</td>\n",
       "      <td>nyc subway</td>\n",
       "      <td>red</td>\n",
       "      <td>330</td>\n",
       "    </tr>\n",
       "    <tr>\n",
       "      <th>187</th>\n",
       "      <td>716</td>\n",
       "      <td>718</td>\n",
       "      <td>nyc subway</td>\n",
       "      <td>red</td>\n",
       "      <td>120</td>\n",
       "    </tr>\n",
       "    <tr>\n",
       "      <th>188</th>\n",
       "      <td>718</td>\n",
       "      <td>719</td>\n",
       "      <td>nyc subway</td>\n",
       "      <td>red</td>\n",
       "      <td>90</td>\n",
       "    </tr>\n",
       "    <tr>\n",
       "      <th>208</th>\n",
       "      <td>A14</td>\n",
       "      <td>D13</td>\n",
       "      <td>nyc subway</td>\n",
       "      <td>red</td>\n",
       "      <td>180</td>\n",
       "    </tr>\n",
       "    <tr>\n",
       "      <th>211</th>\n",
       "      <td>A15</td>\n",
       "      <td>D13</td>\n",
       "      <td>nyc subway</td>\n",
       "      <td>red</td>\n",
       "      <td>210</td>\n",
       "    </tr>\n",
       "    <tr>\n",
       "      <th>228</th>\n",
       "      <td>A31</td>\n",
       "      <td>A32</td>\n",
       "      <td>nyc subway</td>\n",
       "      <td>red</td>\n",
       "      <td>120</td>\n",
       "    </tr>\n",
       "    <tr>\n",
       "      <th>229</th>\n",
       "      <td>A32</td>\n",
       "      <td>A34</td>\n",
       "      <td>nyc subway</td>\n",
       "      <td>red</td>\n",
       "      <td>150</td>\n",
       "    </tr>\n",
       "    <tr>\n",
       "      <th>230</th>\n",
       "      <td>A32</td>\n",
       "      <td>A33</td>\n",
       "      <td>nyc subway</td>\n",
       "      <td>red</td>\n",
       "      <td>90</td>\n",
       "    </tr>\n",
       "    <tr>\n",
       "      <th>264</th>\n",
       "      <td>A61</td>\n",
       "      <td>H01</td>\n",
       "      <td>nyc subway</td>\n",
       "      <td>red</td>\n",
       "      <td>0</td>\n",
       "    </tr>\n",
       "    <tr>\n",
       "      <th>286</th>\n",
       "      <td>B23</td>\n",
       "      <td>D43</td>\n",
       "      <td>nyc subway</td>\n",
       "      <td>red</td>\n",
       "      <td>420</td>\n",
       "    </tr>\n",
       "    <tr>\n",
       "      <th>293</th>\n",
       "      <td>D07</td>\n",
       "      <td>D13</td>\n",
       "      <td>nyc subway</td>\n",
       "      <td>red</td>\n",
       "      <td>450</td>\n",
       "    </tr>\n",
       "    <tr>\n",
       "      <th>299</th>\n",
       "      <td>D12</td>\n",
       "      <td>D13</td>\n",
       "      <td>nyc subway</td>\n",
       "      <td>red</td>\n",
       "      <td>120</td>\n",
       "    </tr>\n",
       "    <tr>\n",
       "      <th>305</th>\n",
       "      <td>D17</td>\n",
       "      <td>D20</td>\n",
       "      <td>nyc subway</td>\n",
       "      <td>red</td>\n",
       "      <td>180</td>\n",
       "    </tr>\n",
       "    <tr>\n",
       "      <th>308</th>\n",
       "      <td>D19</td>\n",
       "      <td>D20</td>\n",
       "      <td>nyc subway</td>\n",
       "      <td>red</td>\n",
       "      <td>90</td>\n",
       "    </tr>\n",
       "    <tr>\n",
       "      <th>309</th>\n",
       "      <td>D20</td>\n",
       "      <td>D21</td>\n",
       "      <td>nyc subway</td>\n",
       "      <td>red</td>\n",
       "      <td>120</td>\n",
       "    </tr>\n",
       "    <tr>\n",
       "      <th>339</th>\n",
       "      <td>D42</td>\n",
       "      <td>D43</td>\n",
       "      <td>nyc subway</td>\n",
       "      <td>red</td>\n",
       "      <td>90</td>\n",
       "    </tr>\n",
       "    <tr>\n",
       "      <th>340</th>\n",
       "      <td>D43</td>\n",
       "      <td>N10</td>\n",
       "      <td>nyc subway</td>\n",
       "      <td>red</td>\n",
       "      <td>240</td>\n",
       "    </tr>\n",
       "    <tr>\n",
       "      <th>408</th>\n",
       "      <td>H01</td>\n",
       "      <td>H02</td>\n",
       "      <td>nyc subway</td>\n",
       "      <td>red</td>\n",
       "      <td>0</td>\n",
       "    </tr>\n",
       "    <tr>\n",
       "      <th>409</th>\n",
       "      <td>H02</td>\n",
       "      <td>A61</td>\n",
       "      <td>nyc subway</td>\n",
       "      <td>red</td>\n",
       "      <td>0</td>\n",
       "    </tr>\n",
       "    <tr>\n",
       "      <th>410</th>\n",
       "      <td>H02</td>\n",
       "      <td>H03</td>\n",
       "      <td>nyc subway</td>\n",
       "      <td>red</td>\n",
       "      <td>120</td>\n",
       "    </tr>\n",
       "    <tr>\n",
       "      <th>512</th>\n",
       "      <td>R08</td>\n",
       "      <td>R09</td>\n",
       "      <td>nyc subway</td>\n",
       "      <td>red</td>\n",
       "      <td>120</td>\n",
       "    </tr>\n",
       "    <tr>\n",
       "      <th>513</th>\n",
       "      <td>R09</td>\n",
       "      <td>R11</td>\n",
       "      <td>nyc subway</td>\n",
       "      <td>red</td>\n",
       "      <td>270</td>\n",
       "    </tr>\n",
       "  </tbody>\n",
       "</table>\n",
       "</div>"
      ],
      "text/plain": [
       "    node1 node2       trail color  distance\n",
       "183   712   718  nyc subway   red       330\n",
       "187   716   718  nyc subway   red       120\n",
       "188   718   719  nyc subway   red        90\n",
       "208   A14   D13  nyc subway   red       180\n",
       "211   A15   D13  nyc subway   red       210\n",
       "228   A31   A32  nyc subway   red       120\n",
       "229   A32   A34  nyc subway   red       150\n",
       "230   A32   A33  nyc subway   red        90\n",
       "264   A61   H01  nyc subway   red         0\n",
       "286   B23   D43  nyc subway   red       420\n",
       "293   D07   D13  nyc subway   red       450\n",
       "299   D12   D13  nyc subway   red       120\n",
       "305   D17   D20  nyc subway   red       180\n",
       "308   D19   D20  nyc subway   red        90\n",
       "309   D20   D21  nyc subway   red       120\n",
       "339   D42   D43  nyc subway   red        90\n",
       "340   D43   N10  nyc subway   red       240\n",
       "408   H01   H02  nyc subway   red         0\n",
       "409   H02   A61  nyc subway   red         0\n",
       "410   H02   H03  nyc subway   red       120\n",
       "512   R08   R09  nyc subway   red       120\n",
       "513   R09   R11  nyc subway   red       270"
      ]
     },
     "execution_count": 431,
     "metadata": {},
     "output_type": "execute_result"
    }
   ],
   "source": [
    "duplicate_edge_df"
   ]
  },
  {
   "cell_type": "code",
   "execution_count": 435,
   "metadata": {},
   "outputs": [],
   "source": [
    "edge_list_df.replace(to_replace=stations_w_station_id, inplace=True)"
   ]
  },
  {
   "cell_type": "code",
   "execution_count": 441,
   "metadata": {},
   "outputs": [
    {
     "data": {
      "text/plain": [
       "780"
      ]
     },
     "execution_count": 441,
     "metadata": {},
     "output_type": "execute_result"
    }
   ],
   "source": [
    "# is actually legit b/c an express train makes this route\n",
    "edge_list_df.distance.max()"
   ]
  },
  {
   "cell_type": "code",
   "execution_count": null,
   "metadata": {},
   "outputs": [],
   "source": [
    "duplicate_edge_df[duplicate_edge_df['']]"
   ]
  },
  {
   "cell_type": "markdown",
   "metadata": {},
   "source": [
    "### Fixing stations with errors in distance"
   ]
  },
  {
   "cell_type": "code",
   "execution_count": 484,
   "metadata": {},
   "outputs": [
    {
     "data": {
      "text/plain": [
       "409      0\n",
       "110      0\n",
       "264      0\n",
       "48       0\n",
       "408      0\n",
       "      ... \n",
       "375    570\n",
       "90     630\n",
       "502    660\n",
       "313    660\n",
       "55     780\n",
       "Name: distance, Length: 551, dtype: int64"
      ]
     },
     "execution_count": 484,
     "metadata": {},
     "output_type": "execute_result"
    }
   ],
   "source": [
    "edge_list_df.distance.sort_values()"
   ]
  },
  {
   "cell_type": "code",
   "execution_count": 458,
   "metadata": {},
   "outputs": [
    {
     "data": {
      "text/plain": [
       "5"
      ]
     },
     "execution_count": 458,
     "metadata": {},
     "output_type": "execute_result"
    }
   ],
   "source": [
    "len(edge_list_df[edge_list_df['distance'] == 0])"
   ]
  },
  {
   "cell_type": "code",
   "execution_count": 460,
   "metadata": {},
   "outputs": [
    {
     "data": {
      "text/html": [
       "<div>\n",
       "<style scoped>\n",
       "    .dataframe tbody tr th:only-of-type {\n",
       "        vertical-align: middle;\n",
       "    }\n",
       "\n",
       "    .dataframe tbody tr th {\n",
       "        vertical-align: top;\n",
       "    }\n",
       "\n",
       "    .dataframe thead th {\n",
       "        text-align: right;\n",
       "    }\n",
       "</style>\n",
       "<table border=\"1\" class=\"dataframe\">\n",
       "  <thead>\n",
       "    <tr style=\"text-align: right;\">\n",
       "      <th></th>\n",
       "      <th>node1</th>\n",
       "      <th>node2</th>\n",
       "      <th>trail</th>\n",
       "      <th>color</th>\n",
       "      <th>distance</th>\n",
       "    </tr>\n",
       "  </thead>\n",
       "  <tbody>\n",
       "    <tr>\n",
       "      <th>48</th>\n",
       "      <td>208</td>\n",
       "      <td>213</td>\n",
       "      <td>nyc subway</td>\n",
       "      <td>red</td>\n",
       "      <td>0</td>\n",
       "    </tr>\n",
       "    <tr>\n",
       "      <th>110</th>\n",
       "      <td>409</td>\n",
       "      <td>413</td>\n",
       "      <td>nyc subway</td>\n",
       "      <td>red</td>\n",
       "      <td>0</td>\n",
       "    </tr>\n",
       "    <tr>\n",
       "      <th>264</th>\n",
       "      <td>A61</td>\n",
       "      <td>H01</td>\n",
       "      <td>nyc subway</td>\n",
       "      <td>red</td>\n",
       "      <td>0</td>\n",
       "    </tr>\n",
       "    <tr>\n",
       "      <th>408</th>\n",
       "      <td>H01</td>\n",
       "      <td>H02</td>\n",
       "      <td>nyc subway</td>\n",
       "      <td>red</td>\n",
       "      <td>0</td>\n",
       "    </tr>\n",
       "    <tr>\n",
       "      <th>409</th>\n",
       "      <td>H02</td>\n",
       "      <td>A61</td>\n",
       "      <td>nyc subway</td>\n",
       "      <td>red</td>\n",
       "      <td>0</td>\n",
       "    </tr>\n",
       "  </tbody>\n",
       "</table>\n",
       "</div>"
      ],
      "text/plain": [
       "    node1 node2       trail color  distance\n",
       "48    208   213  nyc subway   red         0\n",
       "110   409   413  nyc subway   red         0\n",
       "264   A61   H01  nyc subway   red         0\n",
       "408   H01   H02  nyc subway   red         0\n",
       "409   H02   A61  nyc subway   red         0"
      ]
     },
     "execution_count": 460,
     "metadata": {},
     "output_type": "execute_result"
    }
   ],
   "source": [
    "# 48, 110 looks like a mistake\n",
    "# 408 share the same parent station\n",
    "# 264, 409 is b/c of a northbound v southbound issue\n",
    "edge_list_df[edge_list_df['distance'] == 0]"
   ]
  },
  {
   "cell_type": "code",
   "execution_count": 488,
   "metadata": {},
   "outputs": [
    {
     "data": {
      "text/html": [
       "<div>\n",
       "<style scoped>\n",
       "    .dataframe tbody tr th:only-of-type {\n",
       "        vertical-align: middle;\n",
       "    }\n",
       "\n",
       "    .dataframe tbody tr th {\n",
       "        vertical-align: top;\n",
       "    }\n",
       "\n",
       "    .dataframe thead th {\n",
       "        text-align: right;\n",
       "    }\n",
       "</style>\n",
       "<table border=\"1\" class=\"dataframe\">\n",
       "  <thead>\n",
       "    <tr style=\"text-align: right;\">\n",
       "      <th></th>\n",
       "      <th>node1</th>\n",
       "      <th>node2</th>\n",
       "      <th>trail</th>\n",
       "      <th>color</th>\n",
       "      <th>distance</th>\n",
       "    </tr>\n",
       "  </thead>\n",
       "  <tbody>\n",
       "    <tr>\n",
       "      <th>48</th>\n",
       "      <td>208</td>\n",
       "      <td>213</td>\n",
       "      <td>nyc subway</td>\n",
       "      <td>red</td>\n",
       "      <td>0</td>\n",
       "    </tr>\n",
       "    <tr>\n",
       "      <th>49</th>\n",
       "      <td>208</td>\n",
       "      <td>209</td>\n",
       "      <td>nyc subway</td>\n",
       "      <td>red</td>\n",
       "      <td>90</td>\n",
       "    </tr>\n",
       "  </tbody>\n",
       "</table>\n",
       "</div>"
      ],
      "text/plain": [
       "   node1 node2       trail color  distance\n",
       "48   208   213  nyc subway   red         0\n",
       "49   208   209  nyc subway   red        90"
      ]
     },
     "execution_count": 488,
     "metadata": {},
     "output_type": "execute_result"
    }
   ],
   "source": [
    "edge_list_df[edge_list_df['node1'] == '208']"
   ]
  },
  {
   "cell_type": "code",
   "execution_count": 480,
   "metadata": {},
   "outputs": [
    {
     "data": {
      "text/html": [
       "<div>\n",
       "<style scoped>\n",
       "    .dataframe tbody tr th:only-of-type {\n",
       "        vertical-align: middle;\n",
       "    }\n",
       "\n",
       "    .dataframe tbody tr th {\n",
       "        vertical-align: top;\n",
       "    }\n",
       "\n",
       "    .dataframe thead th {\n",
       "        text-align: right;\n",
       "    }\n",
       "</style>\n",
       "<table border=\"1\" class=\"dataframe\">\n",
       "  <thead>\n",
       "    <tr style=\"text-align: right;\">\n",
       "      <th></th>\n",
       "      <th>node1</th>\n",
       "      <th>node2</th>\n",
       "      <th>trail</th>\n",
       "      <th>color</th>\n",
       "      <th>distance</th>\n",
       "    </tr>\n",
       "  </thead>\n",
       "  <tbody>\n",
       "    <tr>\n",
       "      <th>262</th>\n",
       "      <td>A60</td>\n",
       "      <td>A61</td>\n",
       "      <td>nyc subway</td>\n",
       "      <td>red</td>\n",
       "      <td>90</td>\n",
       "    </tr>\n",
       "    <tr>\n",
       "      <th>409</th>\n",
       "      <td>H02</td>\n",
       "      <td>A61</td>\n",
       "      <td>nyc subway</td>\n",
       "      <td>red</td>\n",
       "      <td>0</td>\n",
       "    </tr>\n",
       "  </tbody>\n",
       "</table>\n",
       "</div>"
      ],
      "text/plain": [
       "    node1 node2       trail color  distance\n",
       "262   A60   A61  nyc subway   red        90\n",
       "409   H02   A61  nyc subway   red         0"
      ]
     },
     "execution_count": 480,
     "metadata": {},
     "output_type": "execute_result"
    }
   ],
   "source": [
    "edge_list_df[edge_list_df['node2'] == 'A61']"
   ]
  },
  {
   "cell_type": "code",
   "execution_count": 489,
   "metadata": {},
   "outputs": [
    {
     "data": {
      "text/html": [
       "<div>\n",
       "<style scoped>\n",
       "    .dataframe tbody tr th:only-of-type {\n",
       "        vertical-align: middle;\n",
       "    }\n",
       "\n",
       "    .dataframe tbody tr th {\n",
       "        vertical-align: top;\n",
       "    }\n",
       "\n",
       "    .dataframe thead th {\n",
       "        text-align: right;\n",
       "    }\n",
       "</style>\n",
       "<table border=\"1\" class=\"dataframe\">\n",
       "  <thead>\n",
       "    <tr style=\"text-align: right;\">\n",
       "      <th></th>\n",
       "      <th>node1</th>\n",
       "      <th>node2</th>\n",
       "      <th>trail</th>\n",
       "      <th>color</th>\n",
       "      <th>distance</th>\n",
       "    </tr>\n",
       "  </thead>\n",
       "  <tbody>\n",
       "    <tr>\n",
       "      <th>48</th>\n",
       "      <td>208</td>\n",
       "      <td>213</td>\n",
       "      <td>nyc subway</td>\n",
       "      <td>red</td>\n",
       "      <td>0</td>\n",
       "    </tr>\n",
       "    <tr>\n",
       "      <th>49</th>\n",
       "      <td>208</td>\n",
       "      <td>209</td>\n",
       "      <td>nyc subway</td>\n",
       "      <td>red</td>\n",
       "      <td>90</td>\n",
       "    </tr>\n",
       "  </tbody>\n",
       "</table>\n",
       "</div>"
      ],
      "text/plain": [
       "   node1 node2       trail color  distance\n",
       "48   208   213  nyc subway   red         0\n",
       "49   208   209  nyc subway   red        90"
      ]
     },
     "execution_count": 489,
     "metadata": {},
     "output_type": "execute_result"
    }
   ],
   "source": [
    "edge_list_df[edge_list_df['node1'] == '208']"
   ]
  },
  {
   "cell_type": "code",
   "execution_count": 503,
   "metadata": {},
   "outputs": [
    {
     "data": {
      "text/html": [
       "<div>\n",
       "<style scoped>\n",
       "    .dataframe tbody tr th:only-of-type {\n",
       "        vertical-align: middle;\n",
       "    }\n",
       "\n",
       "    .dataframe tbody tr th {\n",
       "        vertical-align: top;\n",
       "    }\n",
       "\n",
       "    .dataframe thead th {\n",
       "        text-align: right;\n",
       "    }\n",
       "</style>\n",
       "<table border=\"1\" class=\"dataframe\">\n",
       "  <thead>\n",
       "    <tr style=\"text-align: right;\">\n",
       "      <th></th>\n",
       "      <th>stop_id</th>\n",
       "      <th>stop_name</th>\n",
       "      <th>stop_lat</th>\n",
       "      <th>stop_lon</th>\n",
       "      <th>location_type</th>\n",
       "      <th>parent_station</th>\n",
       "    </tr>\n",
       "  </thead>\n",
       "  <tbody>\n",
       "    <tr>\n",
       "      <th>681</th>\n",
       "      <td>A61</td>\n",
       "      <td>Rockaway Blvd</td>\n",
       "      <td>40.680429</td>\n",
       "      <td>-73.843853</td>\n",
       "      <td>1</td>\n",
       "      <td>NaN</td>\n",
       "    </tr>\n",
       "  </tbody>\n",
       "</table>\n",
       "</div>"
      ],
      "text/plain": [
       "    stop_id      stop_name   stop_lat   stop_lon  location_type  \\\n",
       "681     A61  Rockaway Blvd  40.680429 -73.843853              1   \n",
       "\n",
       "     parent_station  \n",
       "681             NaN  "
      ]
     },
     "execution_count": 503,
     "metadata": {},
     "output_type": "execute_result"
    }
   ],
   "source": [
    "non_unique_stations_df[non_unique_stations_df['stop_id'] == 'A61']"
   ]
  },
  {
   "cell_type": "code",
   "execution_count": 495,
   "metadata": {},
   "outputs": [
    {
     "data": {
      "text/html": [
       "<div>\n",
       "<style scoped>\n",
       "    .dataframe tbody tr th:only-of-type {\n",
       "        vertical-align: middle;\n",
       "    }\n",
       "\n",
       "    .dataframe tbody tr th {\n",
       "        vertical-align: top;\n",
       "    }\n",
       "\n",
       "    .dataframe thead th {\n",
       "        text-align: right;\n",
       "    }\n",
       "</style>\n",
       "<table border=\"1\" class=\"dataframe\">\n",
       "  <thead>\n",
       "    <tr style=\"text-align: right;\">\n",
       "      <th></th>\n",
       "      <th>stop_id</th>\n",
       "      <th>stop_name</th>\n",
       "      <th>stop_lat</th>\n",
       "      <th>stop_lon</th>\n",
       "      <th>location_type</th>\n",
       "      <th>parent_station</th>\n",
       "    </tr>\n",
       "  </thead>\n",
       "  <tbody>\n",
       "    <tr>\n",
       "      <th>1047</th>\n",
       "      <td>H02</td>\n",
       "      <td>Aqueduct - N Conduit Av</td>\n",
       "      <td>40.668234</td>\n",
       "      <td>-73.834058</td>\n",
       "      <td>1</td>\n",
       "      <td>NaN</td>\n",
       "    </tr>\n",
       "  </tbody>\n",
       "</table>\n",
       "</div>"
      ],
      "text/plain": [
       "     stop_id                stop_name   stop_lat   stop_lon  location_type  \\\n",
       "1047     H02  Aqueduct - N Conduit Av  40.668234 -73.834058              1   \n",
       "\n",
       "      parent_station  \n",
       "1047             NaN  "
      ]
     },
     "execution_count": 495,
     "metadata": {},
     "output_type": "execute_result"
    }
   ],
   "source": [
    "non_unique_stations_df[non_unique_stations_df['stop_id'] == 'H02']"
   ]
  },
  {
   "cell_type": "markdown",
   "metadata": {},
   "source": [
    "#### Dropping mistaken connections"
   ]
  },
  {
   "cell_type": "code",
   "execution_count": 493,
   "metadata": {},
   "outputs": [],
   "source": [
    "edge_list_df.drop(index=[408, 48, 110], inplace=True)"
   ]
  },
  {
   "cell_type": "markdown",
   "metadata": {},
   "source": [
    "#### Manually finding values for the ones still at 0 "
   ]
  },
  {
   "cell_type": "markdown",
   "metadata": {},
   "source": [
    "- 4 minutes between Aqueduct - N Conduit Av and Rockaway Blvd"
   ]
  },
  {
   "cell_type": "code",
   "execution_count": 496,
   "metadata": {},
   "outputs": [],
   "source": [
    "# indices_of_the_stop = np.where(stop_id_order_array_no_ns == 'H02')\n",
    "# indices_of_the_stop[0][0:5]\n",
    "# stop_times_df.iloc[223345:223350]"
   ]
  },
  {
   "cell_type": "code",
   "execution_count": 510,
   "metadata": {},
   "outputs": [
    {
     "name": "stderr",
     "output_type": "stream",
     "text": [
      "/Users/gregfeliu/opt/anaconda3/envs/learn-env/lib/python3.6/site-packages/ipykernel_launcher.py:1: SettingWithCopyWarning: \n",
      "A value is trying to be set on a copy of a slice from a DataFrame\n",
      "\n",
      "See the caveats in the documentation: http://pandas.pydata.org/pandas-docs/stable/user_guide/indexing.html#returning-a-view-versus-a-copy\n",
      "  \"\"\"Entry point for launching an IPython kernel.\n",
      "/Users/gregfeliu/opt/anaconda3/envs/learn-env/lib/python3.6/site-packages/ipykernel_launcher.py:2: SettingWithCopyWarning: \n",
      "A value is trying to be set on a copy of a slice from a DataFrame\n",
      "\n",
      "See the caveats in the documentation: http://pandas.pydata.org/pandas-docs/stable/user_guide/indexing.html#returning-a-view-versus-a-copy\n",
      "  \n"
     ]
    }
   ],
   "source": [
    "edge_list_df['distance'][264] = 4 * 60\n",
    "edge_list_df['distance'][409] = 4 * 60"
   ]
  },
  {
   "cell_type": "markdown",
   "metadata": {},
   "source": [
    "## Adding \"required\" edges to df\n",
    "only required for the rural postman problem"
   ]
  },
  {
   "cell_type": "code",
   "execution_count": 511,
   "metadata": {},
   "outputs": [],
   "source": [
    "# only 1 edge list \n",
    "one_connection_list = []\n",
    "for key, value in stop_id_connections_dict.items():\n",
    "    if len(value) == 1:\n",
    "        one_connection_list.append(key)"
   ]
  },
  {
   "cell_type": "code",
   "execution_count": 513,
   "metadata": {},
   "outputs": [
    {
     "data": {
      "text/plain": [
       "29"
      ]
     },
     "execution_count": 513,
     "metadata": {},
     "output_type": "execute_result"
    }
   ],
   "source": [
    "len(one_connection_list)"
   ]
  },
  {
   "cell_type": "code",
   "execution_count": null,
   "metadata": {},
   "outputs": [],
   "source": [
    "edge_list_df['required']"
   ]
  },
  {
   "cell_type": "code",
   "execution_count": 518,
   "metadata": {},
   "outputs": [],
   "source": [
    "# for x in one_connection_list:\n",
    "#     for node in edge_list_df['node1']:\n",
    "#         if node == x:\n",
    "#             print(\"yay\")"
   ]
  },
  {
   "cell_type": "markdown",
   "metadata": {},
   "source": [
    "## Saving edge_list_df"
   ]
  },
  {
   "cell_type": "code",
   "execution_count": 520,
   "metadata": {},
   "outputs": [],
   "source": [
    "edge_list_df.reset_index(drop=True, inplace=True)"
   ]
  },
  {
   "cell_type": "code",
   "execution_count": 522,
   "metadata": {},
   "outputs": [],
   "source": [
    "# edge_list_df.to_csv(\"./saved_data/edge_list_df_no_req.csv\")"
   ]
  },
  {
   "cell_type": "code",
   "execution_count": 523,
   "metadata": {},
   "outputs": [
    {
     "data": {
      "text/html": [
       "<div>\n",
       "<style scoped>\n",
       "    .dataframe tbody tr th:only-of-type {\n",
       "        vertical-align: middle;\n",
       "    }\n",
       "\n",
       "    .dataframe tbody tr th {\n",
       "        vertical-align: top;\n",
       "    }\n",
       "\n",
       "    .dataframe thead th {\n",
       "        text-align: right;\n",
       "    }\n",
       "</style>\n",
       "<table border=\"1\" class=\"dataframe\">\n",
       "  <thead>\n",
       "    <tr style=\"text-align: right;\">\n",
       "      <th></th>\n",
       "      <th>node1</th>\n",
       "      <th>node2</th>\n",
       "      <th>trail</th>\n",
       "      <th>color</th>\n",
       "      <th>distance</th>\n",
       "    </tr>\n",
       "  </thead>\n",
       "  <tbody>\n",
       "    <tr>\n",
       "      <th>0</th>\n",
       "      <td>101</td>\n",
       "      <td>103</td>\n",
       "      <td>nyc subway</td>\n",
       "      <td>red</td>\n",
       "      <td>90</td>\n",
       "    </tr>\n",
       "    <tr>\n",
       "      <th>1</th>\n",
       "      <td>103</td>\n",
       "      <td>104</td>\n",
       "      <td>nyc subway</td>\n",
       "      <td>red</td>\n",
       "      <td>90</td>\n",
       "    </tr>\n",
       "    <tr>\n",
       "      <th>2</th>\n",
       "      <td>104</td>\n",
       "      <td>106</td>\n",
       "      <td>nyc subway</td>\n",
       "      <td>red</td>\n",
       "      <td>90</td>\n",
       "    </tr>\n",
       "    <tr>\n",
       "      <th>3</th>\n",
       "      <td>106</td>\n",
       "      <td>107</td>\n",
       "      <td>nyc subway</td>\n",
       "      <td>red</td>\n",
       "      <td>90</td>\n",
       "    </tr>\n",
       "    <tr>\n",
       "      <th>4</th>\n",
       "      <td>107</td>\n",
       "      <td>108</td>\n",
       "      <td>nyc subway</td>\n",
       "      <td>red</td>\n",
       "      <td>60</td>\n",
       "    </tr>\n",
       "    <tr>\n",
       "      <th>...</th>\n",
       "      <td>...</td>\n",
       "      <td>...</td>\n",
       "      <td>...</td>\n",
       "      <td>...</td>\n",
       "      <td>...</td>\n",
       "    </tr>\n",
       "    <tr>\n",
       "      <th>543</th>\n",
       "      <td>R42</td>\n",
       "      <td>R43</td>\n",
       "      <td>nyc subway</td>\n",
       "      <td>red</td>\n",
       "      <td>60</td>\n",
       "    </tr>\n",
       "    <tr>\n",
       "      <th>544</th>\n",
       "      <td>R43</td>\n",
       "      <td>R44</td>\n",
       "      <td>nyc subway</td>\n",
       "      <td>red</td>\n",
       "      <td>120</td>\n",
       "    </tr>\n",
       "    <tr>\n",
       "      <th>545</th>\n",
       "      <td>R44</td>\n",
       "      <td>R45</td>\n",
       "      <td>nyc subway</td>\n",
       "      <td>red</td>\n",
       "      <td>300</td>\n",
       "    </tr>\n",
       "    <tr>\n",
       "      <th>546</th>\n",
       "      <td>S01</td>\n",
       "      <td>S03</td>\n",
       "      <td>nyc subway</td>\n",
       "      <td>red</td>\n",
       "      <td>120</td>\n",
       "    </tr>\n",
       "    <tr>\n",
       "      <th>547</th>\n",
       "      <td>S03</td>\n",
       "      <td>S04</td>\n",
       "      <td>nyc subway</td>\n",
       "      <td>red</td>\n",
       "      <td>90</td>\n",
       "    </tr>\n",
       "  </tbody>\n",
       "</table>\n",
       "<p>548 rows × 5 columns</p>\n",
       "</div>"
      ],
      "text/plain": [
       "    node1 node2       trail color  distance\n",
       "0     101   103  nyc subway   red        90\n",
       "1     103   104  nyc subway   red        90\n",
       "2     104   106  nyc subway   red        90\n",
       "3     106   107  nyc subway   red        90\n",
       "4     107   108  nyc subway   red        60\n",
       "..    ...   ...         ...   ...       ...\n",
       "543   R42   R43  nyc subway   red        60\n",
       "544   R43   R44  nyc subway   red       120\n",
       "545   R44   R45  nyc subway   red       300\n",
       "546   S01   S03  nyc subway   red       120\n",
       "547   S03   S04  nyc subway   red        90\n",
       "\n",
       "[548 rows x 5 columns]"
      ]
     },
     "execution_count": 523,
     "metadata": {},
     "output_type": "execute_result"
    }
   ],
   "source": [
    "edge_list_df"
   ]
  },
  {
   "cell_type": "code",
   "execution_count": null,
   "metadata": {},
   "outputs": [],
   "source": []
  }
 ],
 "metadata": {
  "kernelspec": {
   "display_name": "Python [conda env:learn-env] *",
   "language": "python",
   "name": "conda-env-learn-env-py"
  },
  "language_info": {
   "codemirror_mode": {
    "name": "ipython",
    "version": 3
   },
   "file_extension": ".py",
   "mimetype": "text/x-python",
   "name": "python",
   "nbconvert_exporter": "python",
   "pygments_lexer": "ipython3",
   "version": "3.6.9"
  },
  "toc": {
   "base_numbering": 1,
   "nav_menu": {},
   "number_sections": true,
   "sideBar": true,
   "skip_h1_title": false,
   "title_cell": "Table of Contents",
   "title_sidebar": "Contents",
   "toc_cell": false,
   "toc_position": {
    "height": "calc(100% - 180px)",
    "left": "10px",
    "top": "150px",
    "width": "384px"
   },
   "toc_section_display": true,
   "toc_window_display": true
  },
  "varInspector": {
   "cols": {
    "lenName": 16,
    "lenType": 16,
    "lenVar": 40
   },
   "kernels_config": {
    "python": {
     "delete_cmd_postfix": "",
     "delete_cmd_prefix": "del ",
     "library": "var_list.py",
     "varRefreshCmd": "print(var_dic_list())"
    },
    "r": {
     "delete_cmd_postfix": ") ",
     "delete_cmd_prefix": "rm(",
     "library": "var_list.r",
     "varRefreshCmd": "cat(var_dic_list()) "
    }
   },
   "types_to_exclude": [
    "module",
    "function",
    "builtin_function_or_method",
    "instance",
    "_Feature"
   ],
   "window_display": false
  }
 },
 "nbformat": 4,
 "nbformat_minor": 2
}
