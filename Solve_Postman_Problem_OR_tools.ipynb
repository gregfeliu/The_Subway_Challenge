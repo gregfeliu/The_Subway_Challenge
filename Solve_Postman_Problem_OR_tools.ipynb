{
 "cells": [
  {
   "cell_type": "markdown",
   "metadata": {},
   "source": [
    "import matplotlib.pyplot as plt\n",
    "import nltk\n",
    "import pandas as pd\n",
    "# ^^^ pyforest auto-imports - don't write above this line\n",
    "# Imports"
   ]
  },
  {
   "cell_type": "code",
   "execution_count": 1,
   "metadata": {
    "ExecuteTime": {
     "end_time": "2020-07-25T21:46:29.831690Z",
     "start_time": "2020-07-25T21:46:29.829423Z"
    }
   },
   "outputs": [],
   "source": [
    "# pip install dwave_networkx"
   ]
  },
  {
   "cell_type": "code",
   "execution_count": 2,
   "metadata": {
    "ExecuteTime": {
     "end_time": "2020-07-25T21:46:29.836215Z",
     "start_time": "2020-07-25T21:46:29.834123Z"
    }
   },
   "outputs": [],
   "source": [
    "# pip install --upgrade networkx"
   ]
  },
  {
   "cell_type": "code",
   "execution_count": 3,
   "metadata": {
    "ExecuteTime": {
     "end_time": "2020-07-25T21:46:31.359426Z",
     "start_time": "2020-07-25T21:46:29.838189Z"
    }
   },
   "outputs": [],
   "source": [
    "import folium\n",
    "from collections import Counter\n",
    "import postman_problems\n",
    "from postman_problems.solver import cpp\n",
    "from postman_problems.stats import calculate_postman_solution_stats\n",
    "import networkx as nx\n",
    "import itertools\n",
    "import dwave_networkx as dnx\n",
    "import dimod\n",
    "import time"
   ]
  },
  {
   "cell_type": "markdown",
   "metadata": {},
   "source": [
    "## His Data"
   ]
  },
  {
   "cell_type": "code",
   "execution_count": 4,
   "metadata": {
    "ExecuteTime": {
     "end_time": "2020-07-25T21:46:31.379506Z",
     "start_time": "2020-07-25T21:46:31.361538Z"
    }
   },
   "outputs": [
    {
     "data": {
      "application/javascript": [
       "\n",
       "        if (window._pyforest_update_imports_cell) { window._pyforest_update_imports_cell('import pandas as pd'); }\n",
       "    "
      ],
      "text/plain": [
       "<IPython.core.display.Javascript object>"
      ]
     },
     "metadata": {},
     "output_type": "display_data"
    }
   ],
   "source": [
    "sleeping_edgelist = pd.read_csv(\"/Users/gregfeliu/opt/anaconda3/envs/learn-env/lib/python3.6/site-packages/postman_problems/examples/sleeping_giant/edgelist_sleeping_giant.csv\")"
   ]
  },
  {
   "cell_type": "code",
   "execution_count": 5,
   "metadata": {
    "ExecuteTime": {
     "end_time": "2020-07-25T21:46:31.390461Z",
     "start_time": "2020-07-25T21:46:31.383669Z"
    }
   },
   "outputs": [
    {
     "data": {
      "application/javascript": [
       "\n",
       "        if (window._pyforest_update_imports_cell) { window._pyforest_update_imports_cell('import pandas as pd'); }\n",
       "    "
      ],
      "text/plain": [
       "<IPython.core.display.Javascript object>"
      ]
     },
     "metadata": {},
     "output_type": "display_data"
    }
   ],
   "source": [
    "seven_bridges_edgelist = pd.read_csv('./examples/edgelist_seven_bridges.csv')"
   ]
  },
  {
   "cell_type": "markdown",
   "metadata": {},
   "source": [
    "## My Data"
   ]
  },
  {
   "cell_type": "code",
   "execution_count": 6,
   "metadata": {
    "ExecuteTime": {
     "end_time": "2020-07-25T21:46:31.401758Z",
     "start_time": "2020-07-25T21:46:31.394197Z"
    }
   },
   "outputs": [
    {
     "data": {
      "application/javascript": [
       "\n",
       "        if (window._pyforest_update_imports_cell) { window._pyforest_update_imports_cell('import pandas as pd'); }\n",
       "    "
      ],
      "text/plain": [
       "<IPython.core.display.Javascript object>"
      ]
     },
     "metadata": {},
     "output_type": "display_data"
    }
   ],
   "source": [
    "stations_df = pd.read_csv(\"./saved_data/final_station_df.csv\", index_col = 0)"
   ]
  },
  {
   "cell_type": "code",
   "execution_count": 7,
   "metadata": {
    "ExecuteTime": {
     "end_time": "2020-07-25T21:46:31.410914Z",
     "start_time": "2020-07-25T21:46:31.403657Z"
    }
   },
   "outputs": [
    {
     "data": {
      "application/javascript": [
       "\n",
       "        if (window._pyforest_update_imports_cell) { window._pyforest_update_imports_cell('import pandas as pd'); }\n",
       "    "
      ],
      "text/plain": [
       "<IPython.core.display.Javascript object>"
      ]
     },
     "metadata": {},
     "output_type": "display_data"
    }
   ],
   "source": [
    "non_unique_stations_df = pd.read_csv(\"./saved_data/non_unique_mta_stations.csv\", index_col=0)"
   ]
  },
  {
   "cell_type": "code",
   "execution_count": 8,
   "metadata": {
    "ExecuteTime": {
     "end_time": "2020-07-25T21:46:31.420233Z",
     "start_time": "2020-07-25T21:46:31.412481Z"
    }
   },
   "outputs": [
    {
     "data": {
      "application/javascript": [
       "\n",
       "        if (window._pyforest_update_imports_cell) { window._pyforest_update_imports_cell('import pandas as pd'); }\n",
       "    "
      ],
      "text/plain": [
       "<IPython.core.display.Javascript object>"
      ]
     },
     "metadata": {},
     "output_type": "display_data"
    }
   ],
   "source": [
    "my_edgelist = pd.read_csv('./saved_data/edge_list_df_no_req.csv', index_col=0)"
   ]
  },
  {
   "cell_type": "code",
   "execution_count": 9,
   "metadata": {
    "ExecuteTime": {
     "end_time": "2020-07-25T21:46:31.424317Z",
     "start_time": "2020-07-25T21:46:31.421784Z"
    }
   },
   "outputs": [],
   "source": [
    "my_edgelist['trail'] = 'nyc'"
   ]
  },
  {
   "cell_type": "code",
   "execution_count": 10,
   "metadata": {
    "ExecuteTime": {
     "end_time": "2020-07-25T21:46:31.432671Z",
     "start_time": "2020-07-25T21:46:31.426100Z"
    }
   },
   "outputs": [
    {
     "data": {
      "application/javascript": [
       "\n",
       "        if (window._pyforest_update_imports_cell) { window._pyforest_update_imports_cell('import pandas as pd'); }\n",
       "    "
      ],
      "text/plain": [
       "<IPython.core.display.Javascript object>"
      ]
     },
     "metadata": {},
     "output_type": "display_data"
    }
   ],
   "source": [
    "node_list_df = pd.read_csv(\"./saved_data/nodelist_nyc_subway.csv\", index_col=0)"
   ]
  },
  {
   "cell_type": "code",
   "execution_count": 11,
   "metadata": {
    "ExecuteTime": {
     "end_time": "2020-07-25T21:46:31.437913Z",
     "start_time": "2020-07-25T21:46:31.434485Z"
    }
   },
   "outputs": [],
   "source": [
    "node_list_df.reset_index(inplace=True)"
   ]
  },
  {
   "cell_type": "markdown",
   "metadata": {},
   "source": [
    "### Which nodes in edgelist are different from nodelist?... None (now)"
   ]
  },
  {
   "cell_type": "code",
   "execution_count": 12,
   "metadata": {
    "ExecuteTime": {
     "end_time": "2020-07-25T21:46:31.444976Z",
     "start_time": "2020-07-25T21:46:31.439779Z"
    }
   },
   "outputs": [
    {
     "data": {
      "text/plain": [
       "451"
      ]
     },
     "execution_count": 12,
     "metadata": {},
     "output_type": "execute_result"
    }
   ],
   "source": [
    "node1 = list(my_edgelist['node1'].unique())\n",
    "node2 = list(my_edgelist['node2'].unique())\n",
    "len(set(node1 + node2))"
   ]
  },
  {
   "cell_type": "code",
   "execution_count": 13,
   "metadata": {
    "ExecuteTime": {
     "end_time": "2020-07-25T21:46:31.450237Z",
     "start_time": "2020-07-25T21:46:31.446676Z"
    }
   },
   "outputs": [
    {
     "data": {
      "text/plain": [
       "(452, 3)"
      ]
     },
     "execution_count": 13,
     "metadata": {},
     "output_type": "execute_result"
    }
   ],
   "source": [
    "node_list_df.shape"
   ]
  },
  {
   "cell_type": "code",
   "execution_count": 14,
   "metadata": {
    "ExecuteTime": {
     "end_time": "2020-07-25T21:46:31.456323Z",
     "start_time": "2020-07-25T21:46:31.452151Z"
    }
   },
   "outputs": [
    {
     "data": {
      "text/plain": [
       "452"
      ]
     },
     "execution_count": 14,
     "metadata": {},
     "output_type": "execute_result"
    }
   ],
   "source": [
    "node_list_df.station_id.nunique()"
   ]
  },
  {
   "cell_type": "code",
   "execution_count": 15,
   "metadata": {
    "ExecuteTime": {
     "end_time": "2020-07-25T21:46:31.461671Z",
     "start_time": "2020-07-25T21:46:31.457994Z"
    }
   },
   "outputs": [
    {
     "data": {
      "text/plain": [
       "Index(['station_id', 'X', 'Y'], dtype='object')"
      ]
     },
     "execution_count": 15,
     "metadata": {},
     "output_type": "execute_result"
    }
   ],
   "source": [
    "node_list_df.columns"
   ]
  },
  {
   "cell_type": "code",
   "execution_count": 16,
   "metadata": {
    "ExecuteTime": {
     "end_time": "2020-07-25T21:46:31.466616Z",
     "start_time": "2020-07-25T21:46:31.463163Z"
    }
   },
   "outputs": [
    {
     "name": "stdout",
     "output_type": "stream",
     "text": [
      "112_A09\n",
      "125_A24\n",
      "127_R16\n",
      "140_142\n",
      "222_415\n",
      "414_D11\n",
      "631_723_901\n",
      "635_L03_R20\n",
      "710_G14\n",
      "718_R09\n",
      "127_725_902_R16\n",
      "A12_D13\n",
      "L01_A31\n",
      "A32_D20\n",
      "A38_M22\n",
      "D17_R17\n",
      "D43_N12\n",
      "M12_G31\n",
      "H01_H02\n",
      "H04_H19\n",
      "L22_J27\n",
      "L17_M08\n",
      "M20_Q01\n"
     ]
    }
   ],
   "source": [
    "for x in node_list_df['station_id']:\n",
    "    if len(x) > 4:\n",
    "        print(x)"
   ]
  },
  {
   "cell_type": "code",
   "execution_count": 17,
   "metadata": {
    "ExecuteTime": {
     "end_time": "2020-07-25T21:46:31.471290Z",
     "start_time": "2020-07-25T21:46:31.468461Z"
    }
   },
   "outputs": [],
   "source": [
    "for x in my_edgelist['node1']:\n",
    "    if 'A13' in x:\n",
    "        print(x)"
   ]
  },
  {
   "cell_type": "code",
   "execution_count": 18,
   "metadata": {
    "ExecuteTime": {
     "end_time": "2020-07-25T21:46:31.476224Z",
     "start_time": "2020-07-25T21:46:31.473520Z"
    }
   },
   "outputs": [],
   "source": [
    "edgelist_nodes = set(node1 + node2)"
   ]
  },
  {
   "cell_type": "code",
   "execution_count": 19,
   "metadata": {
    "ExecuteTime": {
     "end_time": "2020-07-25T21:46:31.480862Z",
     "start_time": "2020-07-25T21:46:31.478140Z"
    }
   },
   "outputs": [],
   "source": [
    "nodelist_nodes = set(node_list_df['station_id'].unique())"
   ]
  },
  {
   "cell_type": "code",
   "execution_count": 20,
   "metadata": {
    "ExecuteTime": {
     "end_time": "2020-07-25T21:46:31.486441Z",
     "start_time": "2020-07-25T21:46:31.483126Z"
    }
   },
   "outputs": [
    {
     "data": {
      "text/plain": [
       "set()"
      ]
     },
     "execution_count": 20,
     "metadata": {},
     "output_type": "execute_result"
    }
   ],
   "source": [
    "edgelist_nodes - nodelist_nodes"
   ]
  },
  {
   "cell_type": "code",
   "execution_count": 21,
   "metadata": {
    "ExecuteTime": {
     "end_time": "2020-07-25T21:46:31.493009Z",
     "start_time": "2020-07-25T21:46:31.488818Z"
    }
   },
   "outputs": [
    {
     "data": {
      "text/plain": [
       "{'127_R16'}"
      ]
     },
     "execution_count": 21,
     "metadata": {},
     "output_type": "execute_result"
    }
   ],
   "source": [
    "nodelist_nodes - edgelist_nodes"
   ]
  },
  {
   "cell_type": "markdown",
   "metadata": {
    "heading_collapsed": true
   },
   "source": [
    "# Example"
   ]
  },
  {
   "cell_type": "code",
   "execution_count": 22,
   "metadata": {
    "ExecuteTime": {
     "end_time": "2020-07-25T21:46:31.497017Z",
     "start_time": "2020-07-25T21:46:31.494904Z"
    },
    "hidden": true
   },
   "outputs": [],
   "source": [
    "# # find CPP solution\n",
    "# circuit, graph = cpp(edgelist_filename='./examples/edgelist_seven_bridges.csv', start_node='D')\n",
    "\n",
    "# # print solution route\n",
    "# for e in circuit:\n",
    "#     print(e)\n",
    "\n",
    "# # print solution summary stats\n",
    "# for k, v in calculate_postman_solution_stats(circuit).items():\n",
    "#     print(k, v)"
   ]
  },
  {
   "cell_type": "markdown",
   "metadata": {},
   "source": [
    "# Applied to my data"
   ]
  },
  {
   "cell_type": "markdown",
   "metadata": {},
   "source": [
    "## Visualize nodes"
   ]
  },
  {
   "cell_type": "code",
   "execution_count": 23,
   "metadata": {
    "ExecuteTime": {
     "end_time": "2020-07-25T21:46:31.501026Z",
     "start_time": "2020-07-25T21:46:31.498706Z"
    }
   },
   "outputs": [],
   "source": [
    "g = nx.Graph()"
   ]
  },
  {
   "cell_type": "code",
   "execution_count": 24,
   "metadata": {
    "ExecuteTime": {
     "end_time": "2020-07-25T21:46:31.644883Z",
     "start_time": "2020-07-25T21:46:31.503079Z"
    }
   },
   "outputs": [],
   "source": [
    "for i, elrow in my_edgelist.iterrows():\n",
    "    # g.add_edge(elrow[0], elrow[1], attr_dict=elrow[2:].to_dict())  # deprecated after NX 1.11\n",
    "    g.add_edge(elrow[0], elrow[1], **elrow[2:].to_dict())"
   ]
  },
  {
   "cell_type": "code",
   "execution_count": 25,
   "metadata": {
    "ExecuteTime": {
     "end_time": "2020-07-25T21:46:31.749055Z",
     "start_time": "2020-07-25T21:46:31.646855Z"
    }
   },
   "outputs": [],
   "source": [
    "for i, nlrow in node_list_df.iterrows():\n",
    "    nx.set_node_attributes(g, {nlrow['station_id']:  nlrow[1:].to_dict()})  "
   ]
  },
  {
   "cell_type": "code",
   "execution_count": 26,
   "metadata": {
    "ExecuteTime": {
     "end_time": "2020-07-25T21:46:31.753857Z",
     "start_time": "2020-07-25T21:46:31.750770Z"
    }
   },
   "outputs": [
    {
     "name": "stdout",
     "output_type": "stream",
     "text": [
      "# of edges: 544\n",
      "# of nodes: 451\n"
     ]
    }
   ],
   "source": [
    "print('# of edges: {}'.format(g.number_of_edges()))\n",
    "print('# of nodes: {}'.format(g.number_of_nodes()))"
   ]
  },
  {
   "cell_type": "code",
   "execution_count": 27,
   "metadata": {
    "ExecuteTime": {
     "end_time": "2020-07-25T21:46:31.759741Z",
     "start_time": "2020-07-25T21:46:31.755552Z"
    }
   },
   "outputs": [
    {
     "data": {
      "text/plain": [
       "[('101', {'X': 40.889248, 'Y': -73.898583}),\n",
       " ('103', {'X': 40.884667, 'Y': -73.90087}),\n",
       " ('104', {'X': 40.878856, 'Y': -73.904834}),\n",
       " ('106', {'X': 40.874561, 'Y': -73.90983100000003}),\n",
       " ('107', {'X': 40.869444, 'Y': -73.915279})]"
      ]
     },
     "execution_count": 27,
     "metadata": {},
     "output_type": "execute_result"
    }
   ],
   "source": [
    "list(g.nodes(data=True))[0:5] "
   ]
  },
  {
   "cell_type": "code",
   "execution_count": 28,
   "metadata": {
    "ExecuteTime": {
     "end_time": "2020-07-25T21:46:31.764480Z",
     "start_time": "2020-07-25T21:46:31.761655Z"
    }
   },
   "outputs": [],
   "source": [
    "# for x in list(g.nodes(data=True)):\n",
    "#     print(x[1]['Y'])\n",
    "node_positions_as_dict = {x[0]: x[1] for x in list(g.nodes(data=True))}"
   ]
  },
  {
   "cell_type": "code",
   "execution_count": 29,
   "metadata": {
    "ExecuteTime": {
     "end_time": "2020-07-25T21:46:31.768541Z",
     "start_time": "2020-07-25T21:46:31.766182Z"
    }
   },
   "outputs": [],
   "source": [
    "node_positions_final = {key: value for key, value in node_positions_as_dict.items()}"
   ]
  },
  {
   "cell_type": "code",
   "execution_count": 30,
   "metadata": {
    "ExecuteTime": {
     "end_time": "2020-07-25T21:46:31.774212Z",
     "start_time": "2020-07-25T21:46:31.770355Z"
    }
   },
   "outputs": [
    {
     "data": {
      "text/plain": [
       "40.889248"
      ]
     },
     "execution_count": 30,
     "metadata": {},
     "output_type": "execute_result"
    }
   ],
   "source": [
    "node_positions_final['101']['X']"
   ]
  },
  {
   "cell_type": "code",
   "execution_count": 31,
   "metadata": {
    "ExecuteTime": {
     "end_time": "2020-07-25T21:46:31.778928Z",
     "start_time": "2020-07-25T21:46:31.776163Z"
    }
   },
   "outputs": [],
   "source": [
    "test_node_positions = {node[0]: (node[1]) for node in g.nodes(data=True)}"
   ]
  },
  {
   "cell_type": "markdown",
   "metadata": {},
   "source": [
    "### Checking for stops without coords"
   ]
  },
  {
   "cell_type": "code",
   "execution_count": 32,
   "metadata": {
    "ExecuteTime": {
     "end_time": "2020-07-25T21:46:31.794168Z",
     "start_time": "2020-07-25T21:46:31.791490Z"
    }
   },
   "outputs": [],
   "source": [
    "for key, value in test_node_positions.items():\n",
    "    if value == {}:\n",
    "        print(key)    "
   ]
  },
  {
   "cell_type": "code",
   "execution_count": 33,
   "metadata": {
    "ExecuteTime": {
     "end_time": "2020-07-25T21:46:31.801267Z",
     "start_time": "2020-07-25T21:46:31.798045Z"
    }
   },
   "outputs": [
    {
     "data": {
      "text/plain": [
       "{'X': 40.865491, 'Y': -73.92727099999998}"
      ]
     },
     "execution_count": 33,
     "metadata": {},
     "output_type": "execute_result"
    }
   ],
   "source": [
    "test_node_positions['A03']"
   ]
  },
  {
   "cell_type": "code",
   "execution_count": 34,
   "metadata": {
    "ExecuteTime": {
     "end_time": "2020-07-25T21:46:31.805121Z",
     "start_time": "2020-07-25T21:46:31.803041Z"
    }
   },
   "outputs": [],
   "source": [
    "# test_node_positions"
   ]
  },
  {
   "cell_type": "code",
   "execution_count": 35,
   "metadata": {
    "ExecuteTime": {
     "end_time": "2020-07-25T21:46:31.809840Z",
     "start_time": "2020-07-25T21:46:31.806915Z"
    }
   },
   "outputs": [],
   "source": [
    "node_positions = {node[0]: (node[1]['Y'], node[1]['X']) for node in list(g.nodes(data=True))}\n",
    "# dict(list(node_positions.items())[0:5])"
   ]
  },
  {
   "cell_type": "code",
   "execution_count": 62,
   "metadata": {
    "ExecuteTime": {
     "end_time": "2020-07-25T21:52:14.891614Z",
     "start_time": "2020-07-25T21:52:14.670255Z"
    }
   },
   "outputs": [
    {
     "data": {
      "application/javascript": [
       "\n",
       "        if (window._pyforest_update_imports_cell) { window._pyforest_update_imports_cell('import matplotlib.pyplot as plt\\nimport pandas as pd'); }\n",
       "    "
      ],
      "text/plain": [
       "<IPython.core.display.Javascript object>"
      ]
     },
     "metadata": {},
     "output_type": "display_data"
    },
    {
     "data": {
      "application/javascript": [
       "\n",
       "        if (window._pyforest_update_imports_cell) { window._pyforest_update_imports_cell('import matplotlib.pyplot as plt\\nimport pandas as pd'); }\n",
       "    "
      ],
      "text/plain": [
       "<IPython.core.display.Javascript object>"
      ]
     },
     "metadata": {},
     "output_type": "display_data"
    },
    {
     "data": {
      "application/javascript": [
       "\n",
       "        if (window._pyforest_update_imports_cell) { window._pyforest_update_imports_cell('import matplotlib.pyplot as plt\\nimport pandas as pd'); }\n",
       "    "
      ],
      "text/plain": [
       "<IPython.core.display.Javascript object>"
      ]
     },
     "metadata": {},
     "output_type": "display_data"
    },
    {
     "data": {
      "image/png": "[encoded data removed]",
      "text/plain": [
       "<Figure size 864x576 with 1 Axes>"
      ]
     },
     "metadata": {},
     "output_type": "display_data"
    }
   ],
   "source": [
    "plt.figure(figsize=(12, 8))\n",
    "nx.draw(g, pos=node_positions, edge_color='red', node_size=10, node_color='black')\n",
    "plt.title('Graph Representation of NYC Subway Network', size=15)\n",
    "plt.show()"
   ]
  },
  {
   "cell_type": "markdown",
   "metadata": {},
   "source": [
    "## Solve Problem"
   ]
  },
  {
   "cell_type": "code",
   "execution_count": 37,
   "metadata": {
    "ExecuteTime": {
     "end_time": "2020-07-25T21:46:31.981464Z",
     "start_time": "2020-07-25T21:46:31.977119Z"
    }
   },
   "outputs": [
    {
     "data": {
      "text/plain": [
       "['101', '112_A09', '127_725_902_R16', '125_A24', '128']"
      ]
     },
     "execution_count": 37,
     "metadata": {},
     "output_type": "execute_result"
    }
   ],
   "source": [
    "nodes_odd_degree = [v for v, d in g.degree() if d % 2 == 1]\n",
    "nodes_odd_degree[0:5]"
   ]
  },
  {
   "cell_type": "code",
   "execution_count": 38,
   "metadata": {
    "ExecuteTime": {
     "end_time": "2020-07-25T21:46:31.986294Z",
     "start_time": "2020-07-25T21:46:31.983040Z"
    }
   },
   "outputs": [
    {
     "name": "stdout",
     "output_type": "stream",
     "text": [
      "Number of nodes of odd degree: 80\n",
      "Number of total nodes: 451\n"
     ]
    }
   ],
   "source": [
    "print('Number of nodes of odd degree: {}'.format(len(nodes_odd_degree)))\n",
    "print('Number of total nodes: {}'.format(len(g.nodes())))"
   ]
  },
  {
   "cell_type": "code",
   "execution_count": 39,
   "metadata": {
    "ExecuteTime": {
     "end_time": "2020-07-25T21:46:32.028903Z",
     "start_time": "2020-07-25T21:46:31.988113Z"
    }
   },
   "outputs": [
    {
     "data": {
      "text/plain": [
       "[('101', '112_A09'), ('101', '127_725_902_R16'), ('101', '125_A24')]"
      ]
     },
     "execution_count": 39,
     "metadata": {},
     "output_type": "execute_result"
    }
   ],
   "source": [
    "# Compute all pairs of odd nodes. in a list of tuples\n",
    "odd_node_pairs = list(itertools.combinations(nodes_odd_degree, 2))\n",
    "# Preview pairs of odd degree nodes\n",
    "odd_node_pairs[0:3]"
   ]
  },
  {
   "cell_type": "code",
   "execution_count": 40,
   "metadata": {
    "ExecuteTime": {
     "end_time": "2020-07-25T21:46:32.034851Z",
     "start_time": "2020-07-25T21:46:32.031097Z"
    }
   },
   "outputs": [
    {
     "name": "stdout",
     "output_type": "stream",
     "text": [
      "Number of pairs: 3160\n"
     ]
    }
   ],
   "source": [
    "print('Number of pairs: {}'.format(len(odd_node_pairs)))"
   ]
  },
  {
   "cell_type": "code",
   "execution_count": 41,
   "metadata": {
    "ExecuteTime": {
     "end_time": "2020-07-25T21:46:32.041914Z",
     "start_time": "2020-07-25T21:46:32.037090Z"
    },
    "code_folding": [
     0
    ]
   },
   "outputs": [],
   "source": [
    "def get_shortest_paths_distances(graph, pairs, edge_weight_name):\n",
    "    \"\"\"Compute shortest distance between each pair of nodes in a graph.  Return a dictionary keyed on node pairs (tuples).\"\"\"\n",
    "    distances = {}\n",
    "    for pair in pairs:\n",
    "        distances[pair] = nx.dijkstra_path_length(graph, pair[0], pair[1], weight=edge_weight_name)\n",
    "    return distances"
   ]
  },
  {
   "cell_type": "code",
   "execution_count": 42,
   "metadata": {
    "ExecuteTime": {
     "end_time": "2020-07-25T21:46:33.516073Z",
     "start_time": "2020-07-25T21:46:32.043881Z"
    },
    "scrolled": true
   },
   "outputs": [
    {
     "data": {
      "text/plain": [
       "{('101', '112_A09'): 810,\n",
       " ('101', '127_725_902_R16'): 1920,\n",
       " ('101', '125_A24'): 1710,\n",
       " ('101', '128'): 2010,\n",
       " ('101', '140_142'): 2910,\n",
       " ('101', '201'): 3150,\n",
       " ('101', '221'): 1530,\n",
       " ('101', '222_415'): 1410,\n",
       " ('101', '224'): 1710,\n",
       " ('101', '234'): 3060}"
      ]
     },
     "execution_count": 42,
     "metadata": {},
     "output_type": "execute_result"
    }
   ],
   "source": [
    "odd_node_pairs_shortest_paths = get_shortest_paths_distances(g, odd_node_pairs, 'distance')\n",
    "# Preview with a bit of hack (there is no head/slice method for dictionaries).\n",
    "dict(list(odd_node_pairs_shortest_paths.items())[0:10])"
   ]
  },
  {
   "cell_type": "code",
   "execution_count": 43,
   "metadata": {
    "ExecuteTime": {
     "end_time": "2020-07-25T21:46:33.520268Z",
     "start_time": "2020-07-25T21:46:33.518049Z"
    }
   },
   "outputs": [],
   "source": [
    "# find CPP solution\n",
    "# circuit, graph = cpp(edgelist_filename='./saved_data/edge_list_df_no_req.csv', start_node = '101', verbose=True)"
   ]
  },
  {
   "cell_type": "markdown",
   "metadata": {},
   "source": [
    "# Mini Networkx Attempt"
   ]
  },
  {
   "cell_type": "markdown",
   "metadata": {},
   "source": [
    "## Getting A,C,E Edges"
   ]
  },
  {
   "cell_type": "code",
   "execution_count": 106,
   "metadata": {
    "ExecuteTime": {
     "end_time": "2020-07-25T22:12:42.496546Z",
     "start_time": "2020-07-25T22:12:42.489357Z"
    }
   },
   "outputs": [],
   "source": [
    "good_indices_ace = []\n",
    "for idx, x in enumerate(my_edgelist['node1']):\n",
    "    for letter in ['A', \"C\", 'E']:\n",
    "        if letter in x and letter in my_edgelist['node2'][idx]:\n",
    "            if idx not in good_indices_ace:\n",
    "                good_indices_ace.append(idx)"
   ]
  },
  {
   "cell_type": "code",
   "execution_count": 107,
   "metadata": {
    "ExecuteTime": {
     "end_time": "2020-07-25T22:12:42.767887Z",
     "start_time": "2020-07-25T22:12:42.765040Z"
    }
   },
   "outputs": [],
   "source": [
    "ACE_edgelist = my_edgelist.iloc[good_indices_ace]"
   ]
  },
  {
   "cell_type": "code",
   "execution_count": 108,
   "metadata": {
    "ExecuteTime": {
     "end_time": "2020-07-25T22:12:43.027101Z",
     "start_time": "2020-07-25T22:12:43.020118Z"
    }
   },
   "outputs": [
    {
     "data": {
      "text/html": [
       "<div>\n",
       "<style scoped>\n",
       "    .dataframe tbody tr th:only-of-type {\n",
       "        vertical-align: middle;\n",
       "    }\n",
       "\n",
       "    .dataframe tbody tr th {\n",
       "        vertical-align: top;\n",
       "    }\n",
       "\n",
       "    .dataframe thead th {\n",
       "        text-align: right;\n",
       "    }\n",
       "</style>\n",
       "<table border=\"1\" class=\"dataframe\">\n",
       "  <thead>\n",
       "    <tr style=\"text-align: right;\">\n",
       "      <th></th>\n",
       "      <th>node1</th>\n",
       "      <th>node2</th>\n",
       "      <th>trail</th>\n",
       "      <th>color</th>\n",
       "      <th>distance</th>\n",
       "    </tr>\n",
       "  </thead>\n",
       "  <tbody>\n",
       "    <tr>\n",
       "      <th>194</th>\n",
       "      <td>A02</td>\n",
       "      <td>A03</td>\n",
       "      <td>nyc</td>\n",
       "      <td>red</td>\n",
       "      <td>90</td>\n",
       "    </tr>\n",
       "    <tr>\n",
       "      <th>195</th>\n",
       "      <td>A03</td>\n",
       "      <td>A05</td>\n",
       "      <td>nyc</td>\n",
       "      <td>red</td>\n",
       "      <td>120</td>\n",
       "    </tr>\n",
       "  </tbody>\n",
       "</table>\n",
       "</div>"
      ],
      "text/plain": [
       "    node1 node2 trail color  distance\n",
       "194   A02   A03   nyc   red        90\n",
       "195   A03   A05   nyc   red       120"
      ]
     },
     "execution_count": 108,
     "metadata": {},
     "output_type": "execute_result"
    }
   ],
   "source": [
    "ACE_edgelist.head(2)"
   ]
  },
  {
   "cell_type": "code",
   "execution_count": 119,
   "metadata": {
    "ExecuteTime": {
     "end_time": "2020-07-25T22:14:53.122160Z",
     "start_time": "2020-07-25T22:14:53.118060Z"
    }
   },
   "outputs": [],
   "source": [
    "ACE_edgelist.reset_index(inplace=True, drop=True)"
   ]
  },
  {
   "cell_type": "code",
   "execution_count": 123,
   "metadata": {
    "ExecuteTime": {
     "end_time": "2020-07-25T22:15:56.903583Z",
     "start_time": "2020-07-25T22:15:56.891564Z"
    }
   },
   "outputs": [
    {
     "data": {
      "text/html": [
       "<div>\n",
       "<style scoped>\n",
       "    .dataframe tbody tr th:only-of-type {\n",
       "        vertical-align: middle;\n",
       "    }\n",
       "\n",
       "    .dataframe tbody tr th {\n",
       "        vertical-align: top;\n",
       "    }\n",
       "\n",
       "    .dataframe thead th {\n",
       "        text-align: right;\n",
       "    }\n",
       "</style>\n",
       "<table border=\"1\" class=\"dataframe\">\n",
       "  <thead>\n",
       "    <tr style=\"text-align: right;\">\n",
       "      <th></th>\n",
       "      <th>node1</th>\n",
       "      <th>node2</th>\n",
       "      <th>trail</th>\n",
       "      <th>color</th>\n",
       "      <th>distance</th>\n",
       "    </tr>\n",
       "  </thead>\n",
       "  <tbody>\n",
       "    <tr>\n",
       "      <th>5</th>\n",
       "      <td>112_A09</td>\n",
       "      <td>A12_D13</td>\n",
       "      <td>nyc</td>\n",
       "      <td>red</td>\n",
       "      <td>210</td>\n",
       "    </tr>\n",
       "    <tr>\n",
       "      <th>6</th>\n",
       "      <td>112_A09</td>\n",
       "      <td>A10</td>\n",
       "      <td>nyc</td>\n",
       "      <td>red</td>\n",
       "      <td>90</td>\n",
       "    </tr>\n",
       "  </tbody>\n",
       "</table>\n",
       "</div>"
      ],
      "text/plain": [
       "     node1    node2 trail color  distance\n",
       "5  112_A09  A12_D13   nyc   red       210\n",
       "6  112_A09      A10   nyc   red        90"
      ]
     },
     "execution_count": 123,
     "metadata": {},
     "output_type": "execute_result"
    }
   ],
   "source": [
    "ACE_edgelist[ACE_edgelist['node1'] == '112_A09']"
   ]
  },
  {
   "cell_type": "markdown",
   "metadata": {},
   "source": [
    "## Getting A,C,E Nodes"
   ]
  },
  {
   "cell_type": "code",
   "execution_count": 109,
   "metadata": {
    "ExecuteTime": {
     "end_time": "2020-07-25T22:12:43.505509Z",
     "start_time": "2020-07-25T22:12:43.492619Z"
    }
   },
   "outputs": [
    {
     "data": {
      "application/javascript": [
       "\n",
       "        if (window._pyforest_update_imports_cell) { window._pyforest_update_imports_cell('import matplotlib.pyplot as plt\\nimport nltk\\nimport pandas as pd'); }\n",
       "    "
      ],
      "text/plain": [
       "<IPython.core.display.Javascript object>"
      ]
     },
     "metadata": {},
     "output_type": "display_data"
    }
   ],
   "source": [
    "A_nodelist = node_list_df[node_list_df.station_id.str.contains(\"A\")]\n",
    "C_nodelist = node_list_df[node_list_df.station_id.str.contains(\"C\")]\n",
    "E_nodelist = node_list_df[node_list_df.station_id.str.contains(\"E\")]\n",
    "ACE_nodelist = pd.concat([A_nodelist, C_nodelist, E_nodelist])"
   ]
  },
  {
   "cell_type": "code",
   "execution_count": 110,
   "metadata": {
    "ExecuteTime": {
     "end_time": "2020-07-25T22:12:43.804979Z",
     "start_time": "2020-07-25T22:12:43.801320Z"
    }
   },
   "outputs": [
    {
     "data": {
      "text/plain": [
       "(53, 3)"
      ]
     },
     "execution_count": 110,
     "metadata": {},
     "output_type": "execute_result"
    }
   ],
   "source": [
    "ACE_nodelist.shape"
   ]
  },
  {
   "cell_type": "code",
   "execution_count": 125,
   "metadata": {
    "ExecuteTime": {
     "end_time": "2020-07-25T22:17:28.363869Z",
     "start_time": "2020-07-25T22:17:28.348632Z"
    }
   },
   "outputs": [
    {
     "data": {
      "text/html": [
       "<div>\n",
       "<style scoped>\n",
       "    .dataframe tbody tr th:only-of-type {\n",
       "        vertical-align: middle;\n",
       "    }\n",
       "\n",
       "    .dataframe tbody tr th {\n",
       "        vertical-align: top;\n",
       "    }\n",
       "\n",
       "    .dataframe thead th {\n",
       "        text-align: right;\n",
       "    }\n",
       "</style>\n",
       "<table border=\"1\" class=\"dataframe\">\n",
       "  <thead>\n",
       "    <tr style=\"text-align: right;\">\n",
       "      <th></th>\n",
       "      <th>station_id</th>\n",
       "      <th>X</th>\n",
       "      <th>Y</th>\n",
       "    </tr>\n",
       "  </thead>\n",
       "  <tbody>\n",
       "    <tr>\n",
       "      <th>9</th>\n",
       "      <td>112_A09</td>\n",
       "      <td>40.840556</td>\n",
       "      <td>-73.940133</td>\n",
       "    </tr>\n",
       "    <tr>\n",
       "      <th>22</th>\n",
       "      <td>125_A24</td>\n",
       "      <td>40.768247</td>\n",
       "      <td>-73.981929</td>\n",
       "    </tr>\n",
       "    <tr>\n",
       "      <th>174</th>\n",
       "      <td>A02</td>\n",
       "      <td>40.868072</td>\n",
       "      <td>-73.919899</td>\n",
       "    </tr>\n",
       "    <tr>\n",
       "      <th>175</th>\n",
       "      <td>A03</td>\n",
       "      <td>40.865491</td>\n",
       "      <td>-73.927271</td>\n",
       "    </tr>\n",
       "    <tr>\n",
       "      <th>176</th>\n",
       "      <td>A05</td>\n",
       "      <td>40.859022</td>\n",
       "      <td>-73.934180</td>\n",
       "    </tr>\n",
       "    <tr>\n",
       "      <th>177</th>\n",
       "      <td>A06</td>\n",
       "      <td>40.851695</td>\n",
       "      <td>-73.937969</td>\n",
       "    </tr>\n",
       "    <tr>\n",
       "      <th>178</th>\n",
       "      <td>A07</td>\n",
       "      <td>40.847391</td>\n",
       "      <td>-73.939704</td>\n",
       "    </tr>\n",
       "    <tr>\n",
       "      <th>179</th>\n",
       "      <td>A10</td>\n",
       "      <td>40.836013</td>\n",
       "      <td>-73.939892</td>\n",
       "    </tr>\n",
       "    <tr>\n",
       "      <th>180</th>\n",
       "      <td>A11</td>\n",
       "      <td>40.830518</td>\n",
       "      <td>-73.941514</td>\n",
       "    </tr>\n",
       "    <tr>\n",
       "      <th>181</th>\n",
       "      <td>A12_D13</td>\n",
       "      <td>40.824783</td>\n",
       "      <td>-73.944216</td>\n",
       "    </tr>\n",
       "    <tr>\n",
       "      <th>182</th>\n",
       "      <td>A14</td>\n",
       "      <td>40.817894</td>\n",
       "      <td>-73.947649</td>\n",
       "    </tr>\n",
       "    <tr>\n",
       "      <th>183</th>\n",
       "      <td>A15</td>\n",
       "      <td>40.811109</td>\n",
       "      <td>-73.952343</td>\n",
       "    </tr>\n",
       "    <tr>\n",
       "      <th>184</th>\n",
       "      <td>A16</td>\n",
       "      <td>40.805085</td>\n",
       "      <td>-73.954882</td>\n",
       "    </tr>\n",
       "    <tr>\n",
       "      <th>185</th>\n",
       "      <td>A17</td>\n",
       "      <td>40.800603</td>\n",
       "      <td>-73.958161</td>\n",
       "    </tr>\n",
       "    <tr>\n",
       "      <th>186</th>\n",
       "      <td>A18</td>\n",
       "      <td>40.796092</td>\n",
       "      <td>-73.961454</td>\n",
       "    </tr>\n",
       "    <tr>\n",
       "      <th>187</th>\n",
       "      <td>A19</td>\n",
       "      <td>40.791642</td>\n",
       "      <td>-73.964696</td>\n",
       "    </tr>\n",
       "    <tr>\n",
       "      <th>188</th>\n",
       "      <td>A20</td>\n",
       "      <td>40.785868</td>\n",
       "      <td>-73.968916</td>\n",
       "    </tr>\n",
       "    <tr>\n",
       "      <th>189</th>\n",
       "      <td>A21</td>\n",
       "      <td>40.781433</td>\n",
       "      <td>-73.972143</td>\n",
       "    </tr>\n",
       "    <tr>\n",
       "      <th>190</th>\n",
       "      <td>A22</td>\n",
       "      <td>40.775594</td>\n",
       "      <td>-73.976410</td>\n",
       "    </tr>\n",
       "    <tr>\n",
       "      <th>191</th>\n",
       "      <td>A25</td>\n",
       "      <td>40.762456</td>\n",
       "      <td>-73.985984</td>\n",
       "    </tr>\n",
       "    <tr>\n",
       "      <th>192</th>\n",
       "      <td>A27</td>\n",
       "      <td>40.757308</td>\n",
       "      <td>-73.989735</td>\n",
       "    </tr>\n",
       "    <tr>\n",
       "      <th>193</th>\n",
       "      <td>A28</td>\n",
       "      <td>40.752287</td>\n",
       "      <td>-73.993391</td>\n",
       "    </tr>\n",
       "    <tr>\n",
       "      <th>194</th>\n",
       "      <td>A30</td>\n",
       "      <td>40.745906</td>\n",
       "      <td>-73.998041</td>\n",
       "    </tr>\n",
       "    <tr>\n",
       "      <th>195</th>\n",
       "      <td>L01_A31</td>\n",
       "      <td>40.740893</td>\n",
       "      <td>-74.001690</td>\n",
       "    </tr>\n",
       "    <tr>\n",
       "      <th>196</th>\n",
       "      <td>A32_D20</td>\n",
       "      <td>40.732338</td>\n",
       "      <td>-74.000495</td>\n",
       "    </tr>\n",
       "    <tr>\n",
       "      <th>197</th>\n",
       "      <td>A33</td>\n",
       "      <td>40.726227</td>\n",
       "      <td>-74.003739</td>\n",
       "    </tr>\n",
       "    <tr>\n",
       "      <th>198</th>\n",
       "      <td>A34</td>\n",
       "      <td>40.720824</td>\n",
       "      <td>-74.005229</td>\n",
       "    </tr>\n",
       "    <tr>\n",
       "      <th>199</th>\n",
       "      <td>A36</td>\n",
       "      <td>40.714111</td>\n",
       "      <td>-74.008585</td>\n",
       "    </tr>\n",
       "    <tr>\n",
       "      <th>200</th>\n",
       "      <td>A38_M22</td>\n",
       "      <td>40.710197</td>\n",
       "      <td>-74.007691</td>\n",
       "    </tr>\n",
       "    <tr>\n",
       "      <th>201</th>\n",
       "      <td>A40</td>\n",
       "      <td>40.699337</td>\n",
       "      <td>-73.990531</td>\n",
       "    </tr>\n",
       "    <tr>\n",
       "      <th>202</th>\n",
       "      <td>A41</td>\n",
       "      <td>40.692338</td>\n",
       "      <td>-73.987342</td>\n",
       "    </tr>\n",
       "    <tr>\n",
       "      <th>203</th>\n",
       "      <td>A42</td>\n",
       "      <td>40.688484</td>\n",
       "      <td>-73.985001</td>\n",
       "    </tr>\n",
       "    <tr>\n",
       "      <th>204</th>\n",
       "      <td>A43</td>\n",
       "      <td>40.686113</td>\n",
       "      <td>-73.973946</td>\n",
       "    </tr>\n",
       "    <tr>\n",
       "      <th>205</th>\n",
       "      <td>A44</td>\n",
       "      <td>40.683263</td>\n",
       "      <td>-73.965838</td>\n",
       "    </tr>\n",
       "    <tr>\n",
       "      <th>206</th>\n",
       "      <td>A45</td>\n",
       "      <td>40.681380</td>\n",
       "      <td>-73.956848</td>\n",
       "    </tr>\n",
       "    <tr>\n",
       "      <th>207</th>\n",
       "      <td>A46</td>\n",
       "      <td>40.680438</td>\n",
       "      <td>-73.950426</td>\n",
       "    </tr>\n",
       "    <tr>\n",
       "      <th>208</th>\n",
       "      <td>A47</td>\n",
       "      <td>40.679921</td>\n",
       "      <td>-73.940858</td>\n",
       "    </tr>\n",
       "    <tr>\n",
       "      <th>209</th>\n",
       "      <td>A48</td>\n",
       "      <td>40.679364</td>\n",
       "      <td>-73.930729</td>\n",
       "    </tr>\n",
       "    <tr>\n",
       "      <th>210</th>\n",
       "      <td>A49</td>\n",
       "      <td>40.678822</td>\n",
       "      <td>-73.920786</td>\n",
       "    </tr>\n",
       "    <tr>\n",
       "      <th>211</th>\n",
       "      <td>A50</td>\n",
       "      <td>40.678340</td>\n",
       "      <td>-73.911946</td>\n",
       "    </tr>\n",
       "    <tr>\n",
       "      <th>212</th>\n",
       "      <td>A51</td>\n",
       "      <td>40.678334</td>\n",
       "      <td>-73.905316</td>\n",
       "    </tr>\n",
       "    <tr>\n",
       "      <th>213</th>\n",
       "      <td>A52</td>\n",
       "      <td>40.674542</td>\n",
       "      <td>-73.896548</td>\n",
       "    </tr>\n",
       "    <tr>\n",
       "      <th>214</th>\n",
       "      <td>A53</td>\n",
       "      <td>40.672710</td>\n",
       "      <td>-73.890358</td>\n",
       "    </tr>\n",
       "    <tr>\n",
       "      <th>215</th>\n",
       "      <td>A54</td>\n",
       "      <td>40.674130</td>\n",
       "      <td>-73.880750</td>\n",
       "    </tr>\n",
       "    <tr>\n",
       "      <th>216</th>\n",
       "      <td>A55</td>\n",
       "      <td>40.675377</td>\n",
       "      <td>-73.872106</td>\n",
       "    </tr>\n",
       "    <tr>\n",
       "      <th>217</th>\n",
       "      <td>A57</td>\n",
       "      <td>40.677044</td>\n",
       "      <td>-73.865050</td>\n",
       "    </tr>\n",
       "    <tr>\n",
       "      <th>218</th>\n",
       "      <td>A59</td>\n",
       "      <td>40.679371</td>\n",
       "      <td>-73.858992</td>\n",
       "    </tr>\n",
       "    <tr>\n",
       "      <th>219</th>\n",
       "      <td>A60</td>\n",
       "      <td>40.679843</td>\n",
       "      <td>-73.851470</td>\n",
       "    </tr>\n",
       "    <tr>\n",
       "      <th>220</th>\n",
       "      <td>A61</td>\n",
       "      <td>40.680429</td>\n",
       "      <td>-73.843853</td>\n",
       "    </tr>\n",
       "    <tr>\n",
       "      <th>221</th>\n",
       "      <td>A63</td>\n",
       "      <td>40.681711</td>\n",
       "      <td>-73.837683</td>\n",
       "    </tr>\n",
       "    <tr>\n",
       "      <th>222</th>\n",
       "      <td>A64</td>\n",
       "      <td>40.684331</td>\n",
       "      <td>-73.832163</td>\n",
       "    </tr>\n",
       "    <tr>\n",
       "      <th>223</th>\n",
       "      <td>A65</td>\n",
       "      <td>40.685951</td>\n",
       "      <td>-73.825798</td>\n",
       "    </tr>\n",
       "    <tr>\n",
       "      <th>277</th>\n",
       "      <td>E01</td>\n",
       "      <td>40.712582</td>\n",
       "      <td>-74.009781</td>\n",
       "    </tr>\n",
       "  </tbody>\n",
       "</table>\n",
       "</div>"
      ],
      "text/plain": [
       "    station_id          X          Y\n",
       "9      112_A09  40.840556 -73.940133\n",
       "22     125_A24  40.768247 -73.981929\n",
       "174        A02  40.868072 -73.919899\n",
       "175        A03  40.865491 -73.927271\n",
       "176        A05  40.859022 -73.934180\n",
       "177        A06  40.851695 -73.937969\n",
       "178        A07  40.847391 -73.939704\n",
       "179        A10  40.836013 -73.939892\n",
       "180        A11  40.830518 -73.941514\n",
       "181    A12_D13  40.824783 -73.944216\n",
       "182        A14  40.817894 -73.947649\n",
       "183        A15  40.811109 -73.952343\n",
       "184        A16  40.805085 -73.954882\n",
       "185        A17  40.800603 -73.958161\n",
       "186        A18  40.796092 -73.961454\n",
       "187        A19  40.791642 -73.964696\n",
       "188        A20  40.785868 -73.968916\n",
       "189        A21  40.781433 -73.972143\n",
       "190        A22  40.775594 -73.976410\n",
       "191        A25  40.762456 -73.985984\n",
       "192        A27  40.757308 -73.989735\n",
       "193        A28  40.752287 -73.993391\n",
       "194        A30  40.745906 -73.998041\n",
       "195    L01_A31  40.740893 -74.001690\n",
       "196    A32_D20  40.732338 -74.000495\n",
       "197        A33  40.726227 -74.003739\n",
       "198        A34  40.720824 -74.005229\n",
       "199        A36  40.714111 -74.008585\n",
       "200    A38_M22  40.710197 -74.007691\n",
       "201        A40  40.699337 -73.990531\n",
       "202        A41  40.692338 -73.987342\n",
       "203        A42  40.688484 -73.985001\n",
       "204        A43  40.686113 -73.973946\n",
       "205        A44  40.683263 -73.965838\n",
       "206        A45  40.681380 -73.956848\n",
       "207        A46  40.680438 -73.950426\n",
       "208        A47  40.679921 -73.940858\n",
       "209        A48  40.679364 -73.930729\n",
       "210        A49  40.678822 -73.920786\n",
       "211        A50  40.678340 -73.911946\n",
       "212        A51  40.678334 -73.905316\n",
       "213        A52  40.674542 -73.896548\n",
       "214        A53  40.672710 -73.890358\n",
       "215        A54  40.674130 -73.880750\n",
       "216        A55  40.675377 -73.872106\n",
       "217        A57  40.677044 -73.865050\n",
       "218        A59  40.679371 -73.858992\n",
       "219        A60  40.679843 -73.851470\n",
       "220        A61  40.680429 -73.843853\n",
       "221        A63  40.681711 -73.837683\n",
       "222        A64  40.684331 -73.832163\n",
       "223        A65  40.685951 -73.825798\n",
       "277        E01  40.712582 -74.009781"
      ]
     },
     "execution_count": 125,
     "metadata": {},
     "output_type": "execute_result"
    }
   ],
   "source": [
    "ACE_nodelist"
   ]
  },
  {
   "cell_type": "markdown",
   "metadata": {},
   "source": [
    "## Creating Graph"
   ]
  },
  {
   "cell_type": "code",
   "execution_count": 193,
   "metadata": {
    "ExecuteTime": {
     "end_time": "2020-07-25T22:26:14.961790Z",
     "start_time": "2020-07-25T22:26:14.958253Z"
    }
   },
   "outputs": [],
   "source": [
    "mini_g = nx.MultiGraph()"
   ]
  },
  {
   "cell_type": "markdown",
   "metadata": {},
   "source": [
    "### Adding nodes the networkx way"
   ]
  },
  {
   "cell_type": "code",
   "execution_count": 194,
   "metadata": {
    "ExecuteTime": {
     "end_time": "2020-07-25T22:26:15.405148Z",
     "start_time": "2020-07-25T22:26:15.400865Z"
    }
   },
   "outputs": [],
   "source": [
    "mini_g.add_nodes_from(ACE_nodelist['station_id'])"
   ]
  },
  {
   "cell_type": "code",
   "execution_count": 195,
   "metadata": {
    "ExecuteTime": {
     "end_time": "2020-07-25T22:26:15.692185Z",
     "start_time": "2020-07-25T22:26:15.688439Z"
    }
   },
   "outputs": [
    {
     "data": {
      "text/plain": [
       "NodeView(('112_A09', '125_A24', 'A02', 'A03', 'A05', 'A06', 'A07', 'A10', 'A11', 'A12_D13', 'A14', 'A15', 'A16', 'A17', 'A18', 'A19', 'A20', 'A21', 'A22', 'A25', 'A27', 'A28', 'A30', 'L01_A31', 'A32_D20', 'A33', 'A34', 'A36', 'A38_M22', 'A40', 'A41', 'A42', 'A43', 'A44', 'A45', 'A46', 'A47', 'A48', 'A49', 'A50', 'A51', 'A52', 'A53', 'A54', 'A55', 'A57', 'A59', 'A60', 'A61', 'A63', 'A64', 'A65', 'E01'))"
      ]
     },
     "execution_count": 195,
     "metadata": {},
     "output_type": "execute_result"
    }
   ],
   "source": [
    "mini_g.nodes()"
   ]
  },
  {
   "cell_type": "code",
   "execution_count": 196,
   "metadata": {
    "ExecuteTime": {
     "end_time": "2020-07-25T22:26:16.051940Z",
     "start_time": "2020-07-25T22:26:16.045207Z"
    }
   },
   "outputs": [],
   "source": [
    "for idx, x in enumerate(list(zip(ACE_edgelist['node1'], ACE_edgelist['node2'], ACE_edgelist['distance']))):\n",
    "    weight1 = ACE_edgelist['distance'][idx]\n",
    "    mini_g.add_edge(x[0], x[1], weight=weight1)"
   ]
  },
  {
   "cell_type": "code",
   "execution_count": 201,
   "metadata": {
    "ExecuteTime": {
     "end_time": "2020-07-25T22:28:12.227272Z",
     "start_time": "2020-07-25T22:28:12.221475Z"
    }
   },
   "outputs": [
    {
     "data": {
      "text/plain": [
       "MultiEdgeDataView([('112_A09', 'A07'), ('112_A09', 'A12_D13'), ('112_A09', 'A10')])"
      ]
     },
     "execution_count": 201,
     "metadata": {},
     "output_type": "execute_result"
    }
   ],
   "source": [
    "mini_g.edges(['112_A09'])"
   ]
  },
  {
   "cell_type": "markdown",
   "metadata": {},
   "source": [
    "### Testing Graph"
   ]
  },
  {
   "cell_type": "code",
   "execution_count": 202,
   "metadata": {
    "ExecuteTime": {
     "end_time": "2020-07-25T22:28:26.207557Z",
     "start_time": "2020-07-25T22:28:26.200886Z"
    }
   },
   "outputs": [],
   "source": [
    "complete_mini_g = nx.complete_graph(mini_g)"
   ]
  },
  {
   "cell_type": "code",
   "execution_count": 204,
   "metadata": {
    "ExecuteTime": {
     "end_time": "2020-07-25T22:29:00.308884Z",
     "start_time": "2020-07-25T22:29:00.303202Z"
    }
   },
   "outputs": [
    {
     "data": {
      "text/plain": [
       "EdgeDataView([('112_A09', '125_A24'), ('112_A09', 'A02'), ('112_A09', 'A03'), ('112_A09', 'A05'), ('112_A09', 'A06'), ('112_A09', 'A07'), ('112_A09', 'A10'), ('112_A09', 'A11'), ('112_A09', 'A12_D13'), ('112_A09', 'A14'), ('112_A09', 'A15'), ('112_A09', 'A16'), ('112_A09', 'A17'), ('112_A09', 'A18'), ('112_A09', 'A19'), ('112_A09', 'A20'), ('112_A09', 'A21'), ('112_A09', 'A22'), ('112_A09', 'A25'), ('112_A09', 'A27'), ('112_A09', 'A28'), ('112_A09', 'A30'), ('112_A09', 'L01_A31'), ('112_A09', 'A32_D20'), ('112_A09', 'A33'), ('112_A09', 'A34'), ('112_A09', 'A36'), ('112_A09', 'A38_M22'), ('112_A09', 'A40'), ('112_A09', 'A41'), ('112_A09', 'A42'), ('112_A09', 'A43'), ('112_A09', 'A44'), ('112_A09', 'A45'), ('112_A09', 'A46'), ('112_A09', 'A47'), ('112_A09', 'A48'), ('112_A09', 'A49'), ('112_A09', 'A50'), ('112_A09', 'A51'), ('112_A09', 'A52'), ('112_A09', 'A53'), ('112_A09', 'A54'), ('112_A09', 'A55'), ('112_A09', 'A57'), ('112_A09', 'A59'), ('112_A09', 'A60'), ('112_A09', 'A61'), ('112_A09', 'A63'), ('112_A09', 'A64'), ('112_A09', 'A65'), ('112_A09', 'E01')])"
      ]
     },
     "execution_count": 204,
     "metadata": {},
     "output_type": "execute_result"
    }
   ],
   "source": [
    "complete_mini_g.edges(['112_A09'])"
   ]
  },
  {
   "cell_type": "code",
   "execution_count": 203,
   "metadata": {
    "ExecuteTime": {
     "end_time": "2020-07-25T22:28:30.294279Z",
     "start_time": "2020-07-25T22:28:30.289235Z"
    }
   },
   "outputs": [
    {
     "name": "stdout",
     "output_type": "stream",
     "text": [
      "True\n"
     ]
    }
   ],
   "source": [
    "print(nx.is_connected(complete_mini_g))"
   ]
  },
  {
   "cell_type": "code",
   "execution_count": 98,
   "metadata": {
    "ExecuteTime": {
     "end_time": "2020-07-25T22:04:25.148403Z",
     "start_time": "2020-07-25T22:04:25.143893Z"
    }
   },
   "outputs": [
    {
     "data": {
      "text/plain": [
       "[106]"
      ]
     },
     "execution_count": 98,
     "metadata": {},
     "output_type": "execute_result"
    }
   ],
   "source": [
    "[len(c) for c in sorted(nx.connected_components(complete_mini_g), key=len, reverse=True)]"
   ]
  },
  {
   "cell_type": "code",
   "execution_count": 99,
   "metadata": {
    "ExecuteTime": {
     "end_time": "2020-07-25T22:04:25.385964Z",
     "start_time": "2020-07-25T22:04:25.382551Z"
    }
   },
   "outputs": [],
   "source": [
    "mini_g.get_edge_data('A02', 'A03', default=None)"
   ]
  },
  {
   "cell_type": "code",
   "execution_count": 205,
   "metadata": {
    "ExecuteTime": {
     "end_time": "2020-07-25T22:29:24.068940Z",
     "start_time": "2020-07-25T22:29:24.065799Z"
    }
   },
   "outputs": [],
   "source": [
    "#  dict(mini_g.nodes(data='weight', default=1))"
   ]
  },
  {
   "cell_type": "markdown",
   "metadata": {},
   "source": [
    "## Solving Mini Graph"
   ]
  },
  {
   "cell_type": "code",
   "execution_count": 206,
   "metadata": {
    "ExecuteTime": {
     "end_time": "2020-07-25T22:29:27.467026Z",
     "start_time": "2020-07-25T22:29:27.451118Z"
    }
   },
   "outputs": [
    {
     "ename": "ValueError",
     "evalue": "graph must be a complete graph with at least 3 nodes or empty",
     "output_type": "error",
     "traceback": [
      "\u001b[0;31m---------------------------------------------------------------------------\u001b[0m",
      "\u001b[0;31mValueError\u001b[0m                                Traceback (most recent call last)",
      "\u001b[0;32m<ipython-input-206-b5dedaea146a>\u001b[0m in \u001b[0;36m<module>\u001b[0;34m\u001b[0m\n\u001b[0;32m----> 1\u001b[0;31m \u001b[0mnx_solution1\u001b[0m \u001b[0;34m=\u001b[0m \u001b[0mdnx\u001b[0m\u001b[0;34m.\u001b[0m\u001b[0mtraveling_salesperson_qubo\u001b[0m\u001b[0;34m(\u001b[0m\u001b[0mmini_g\u001b[0m\u001b[0;34m,\u001b[0m \u001b[0mweight\u001b[0m\u001b[0;34m=\u001b[0m\u001b[0;34m'weight'\u001b[0m\u001b[0;34m)\u001b[0m\u001b[0;34m\u001b[0m\u001b[0;34m\u001b[0m\u001b[0m\n\u001b[0m",
      "\u001b[0;32m~/opt/anaconda3/envs/learn-env/lib/python3.6/site-packages/dwave_networkx/algorithms/tsp.py\u001b[0m in \u001b[0;36mtraveling_salesperson_qubo\u001b[0;34m(G, lagrange, weight)\u001b[0m\n\u001b[1;32m    162\u001b[0m     \u001b[0;32mif\u001b[0m \u001b[0mN\u001b[0m \u001b[0;32min\u001b[0m \u001b[0;34m(\u001b[0m\u001b[0;36m1\u001b[0m\u001b[0;34m,\u001b[0m \u001b[0;36m2\u001b[0m\u001b[0;34m)\u001b[0m \u001b[0;32mor\u001b[0m \u001b[0mlen\u001b[0m\u001b[0;34m(\u001b[0m\u001b[0mG\u001b[0m\u001b[0;34m.\u001b[0m\u001b[0medges\u001b[0m\u001b[0;34m)\u001b[0m \u001b[0;34m!=\u001b[0m \u001b[0mN\u001b[0m\u001b[0;34m*\u001b[0m\u001b[0;34m(\u001b[0m\u001b[0mN\u001b[0m\u001b[0;34m-\u001b[0m\u001b[0;36m1\u001b[0m\u001b[0;34m)\u001b[0m\u001b[0;34m//\u001b[0m\u001b[0;36m2\u001b[0m\u001b[0;34m:\u001b[0m\u001b[0;34m\u001b[0m\u001b[0;34m\u001b[0m\u001b[0m\n\u001b[1;32m    163\u001b[0m         \u001b[0mmsg\u001b[0m \u001b[0;34m=\u001b[0m \u001b[0;34m\"graph must be a complete graph with at least 3 nodes or empty\"\u001b[0m\u001b[0;34m\u001b[0m\u001b[0;34m\u001b[0m\u001b[0m\n\u001b[0;32m--> 164\u001b[0;31m         \u001b[0;32mraise\u001b[0m \u001b[0mValueError\u001b[0m\u001b[0;34m(\u001b[0m\u001b[0mmsg\u001b[0m\u001b[0;34m)\u001b[0m\u001b[0;34m\u001b[0m\u001b[0;34m\u001b[0m\u001b[0m\n\u001b[0m\u001b[1;32m    165\u001b[0m \u001b[0;34m\u001b[0m\u001b[0m\n\u001b[1;32m    166\u001b[0m     \u001b[0;31m# Creating the QUBO\u001b[0m\u001b[0;34m\u001b[0m\u001b[0;34m\u001b[0m\u001b[0;34m\u001b[0m\u001b[0m\n",
      "\u001b[0;31mValueError\u001b[0m: graph must be a complete graph with at least 3 nodes or empty"
     ]
    }
   ],
   "source": [
    "nx_solution1 = dnx.traveling_salesperson_qubo(mini_g, weight='weight')"
   ]
  },
  {
   "cell_type": "markdown",
   "metadata": {},
   "source": [
    "# Attempt using Networkx"
   ]
  },
  {
   "cell_type": "code",
   "execution_count": 44,
   "metadata": {
    "ExecuteTime": {
     "end_time": "2020-07-25T16:24:57.417820Z",
     "start_time": "2020-07-25T16:24:57.292915Z"
    }
   },
   "outputs": [],
   "source": [
    "complete_g = nx.complete_graph(g)"
   ]
  },
  {
   "cell_type": "code",
   "execution_count": 45,
   "metadata": {
    "ExecuteTime": {
     "end_time": "2020-07-25T16:24:57.425419Z",
     "start_time": "2020-07-25T16:24:57.419495Z"
    }
   },
   "outputs": [
    {
     "name": "stdout",
     "output_type": "stream",
     "text": [
      "True\n"
     ]
    }
   ],
   "source": [
    "print(nx.is_connected(complete_g))"
   ]
  },
  {
   "cell_type": "code",
   "execution_count": 46,
   "metadata": {
    "ExecuteTime": {
     "end_time": "2020-07-25T16:24:57.435456Z",
     "start_time": "2020-07-25T16:24:57.427455Z"
    }
   },
   "outputs": [
    {
     "data": {
      "text/plain": [
       "[451]"
      ]
     },
     "execution_count": 46,
     "metadata": {},
     "output_type": "execute_result"
    }
   ],
   "source": [
    "[len(c) for c in sorted(nx.connected_components(complete_g), key=len, reverse=True)]"
   ]
  },
  {
   "cell_type": "code",
   "execution_count": 47,
   "metadata": {
    "ExecuteTime": {
     "end_time": "2020-07-25T16:24:57.443691Z",
     "start_time": "2020-07-25T16:24:57.437149Z"
    }
   },
   "outputs": [
    {
     "data": {
      "text/plain": [
       "1"
      ]
     },
     "execution_count": 47,
     "metadata": {},
     "output_type": "execute_result"
    }
   ],
   "source": [
    "nx.number_connected_components(complete_g)"
   ]
  },
  {
   "cell_type": "code",
   "execution_count": 48,
   "metadata": {
    "ExecuteTime": {
     "end_time": "2020-07-25T16:24:57.450627Z",
     "start_time": "2020-07-25T16:24:57.445696Z"
    }
   },
   "outputs": [
    {
     "data": {
      "text/plain": [
       "[]"
      ]
     },
     "execution_count": 48,
     "metadata": {},
     "output_type": "execute_result"
    }
   ],
   "source": [
    "# no \"island\" nodes\n",
    "[len(c) for c in sorted(nx.isolates(complete_g), key=len, reverse=True)]"
   ]
  },
  {
   "cell_type": "code",
   "execution_count": 49,
   "metadata": {
    "ExecuteTime": {
     "end_time": "2020-07-25T16:24:58.211395Z",
     "start_time": "2020-07-25T16:24:57.452966Z"
    }
   },
   "outputs": [],
   "source": [
    "chain_decomp = [len(c) for c in sorted(nx.algorithms.chains.chain_decomposition(complete_g), key=len, reverse=True)]\n",
    "one_chain = [x for x in chain_decomp if x == 1]"
   ]
  },
  {
   "cell_type": "code",
   "execution_count": 50,
   "metadata": {
    "ExecuteTime": {
     "end_time": "2020-07-25T16:24:58.219667Z",
     "start_time": "2020-07-25T16:24:58.213206Z"
    }
   },
   "outputs": [],
   "source": [
    "# https://stackoverflow.com/questions/20012579/is-there-an-easy-way-to-prune-disconnected-networks-in-a-networkx-graph\n",
    "# Generate connected components and select the largest:\n",
    "largest_component = max(nx.connected_components(complete_g), key=len)\n",
    "# Create a subgraph of G consisting only of this component:\n",
    "g2 = complete_g.subgraph(largest_component)"
   ]
  },
  {
   "cell_type": "code",
   "execution_count": 51,
   "metadata": {
    "ExecuteTime": {
     "end_time": "2020-07-25T16:24:58.225151Z",
     "start_time": "2020-07-25T16:24:58.221525Z"
    }
   },
   "outputs": [
    {
     "data": {
      "text/plain": [
       "451"
      ]
     },
     "execution_count": 51,
     "metadata": {},
     "output_type": "execute_result"
    }
   ],
   "source": [
    "len(largest_component)"
   ]
  },
  {
   "cell_type": "code",
   "execution_count": 52,
   "metadata": {
    "ExecuteTime": {
     "end_time": "2020-07-25T16:24:58.230280Z",
     "start_time": "2020-07-25T16:24:58.227585Z"
    }
   },
   "outputs": [],
   "source": [
    "# min(nx.connected_components(g), key=len)"
   ]
  },
  {
   "cell_type": "code",
   "execution_count": 53,
   "metadata": {
    "ExecuteTime": {
     "end_time": "2020-07-25T16:24:58.238300Z",
     "start_time": "2020-07-25T16:24:58.232482Z"
    }
   },
   "outputs": [],
   "source": [
    "all_connected_components = list(nx.connected_components(complete_g))"
   ]
  },
  {
   "cell_type": "code",
   "execution_count": 55,
   "metadata": {
    "ExecuteTime": {
     "end_time": "2020-07-25T16:25:16.714045Z",
     "start_time": "2020-07-25T16:25:16.708685Z"
    }
   },
   "outputs": [
    {
     "data": {
      "text/plain": [
       "1"
      ]
     },
     "execution_count": 55,
     "metadata": {},
     "output_type": "execute_result"
    }
   ],
   "source": [
    "len(all_connected_components)"
   ]
  },
  {
   "cell_type": "code",
   "execution_count": 56,
   "metadata": {
    "ExecuteTime": {
     "end_time": "2020-07-25T16:25:17.270992Z",
     "start_time": "2020-07-25T16:25:17.265210Z"
    }
   },
   "outputs": [
    {
     "data": {
      "text/plain": [
       "25"
      ]
     },
     "execution_count": 56,
     "metadata": {},
     "output_type": "execute_result"
    }
   ],
   "source": [
    "len(non_unique_stations_df) - len(node_list_df)"
   ]
  },
  {
   "cell_type": "markdown",
   "metadata": {},
   "source": [
    "## TSP"
   ]
  },
  {
   "cell_type": "code",
   "execution_count": 57,
   "metadata": {
    "ExecuteTime": {
     "end_time": "2020-07-25T16:25:18.702422Z",
     "start_time": "2020-07-25T16:25:18.698766Z"
    }
   },
   "outputs": [],
   "source": [
    "# nx_solution = dnx.traveling_salesperson(complete_g, sampler=dimod.ExactSolver())"
   ]
  },
  {
   "cell_type": "code",
   "execution_count": 58,
   "metadata": {
    "ExecuteTime": {
     "end_time": "2020-07-25T16:25:19.127180Z",
     "start_time": "2020-07-25T16:25:19.120489Z"
    }
   },
   "outputs": [
    {
     "data": {
      "text/plain": [
       "time.struct_time(tm_year=2020, tm_mon=7, tm_mday=25, tm_hour=12, tm_min=25, tm_sec=19, tm_wday=5, tm_yday=207, tm_isdst=1)"
      ]
     },
     "execution_count": 58,
     "metadata": {},
     "output_type": "execute_result"
    }
   ],
   "source": [
    "time.localtime()"
   ]
  },
  {
   "cell_type": "code",
   "execution_count": 59,
   "metadata": {
    "ExecuteTime": {
     "end_time": "2020-07-25T20:58:36.979492Z",
     "start_time": "2020-07-25T16:25:20.688652Z"
    }
   },
   "outputs": [
    {
     "ename": "KeyboardInterrupt",
     "evalue": "",
     "output_type": "error",
     "traceback": [
      "\u001b[0;31m---------------------------------------------------------------------------\u001b[0m",
      "\u001b[0;31mKeyboardInterrupt\u001b[0m                         Traceback (most recent call last)",
      "\u001b[0;32m<ipython-input-59-bc20e1e33302>\u001b[0m in \u001b[0;36m<module>\u001b[0;34m\u001b[0m\n\u001b[0;32m----> 1\u001b[0;31m \u001b[0mnx_solution1\u001b[0m \u001b[0;34m=\u001b[0m \u001b[0mdnx\u001b[0m\u001b[0;34m.\u001b[0m\u001b[0mtraveling_salesperson_qubo\u001b[0m\u001b[0;34m(\u001b[0m\u001b[0mcomplete_g\u001b[0m\u001b[0;34m)\u001b[0m\u001b[0;34m\u001b[0m\u001b[0;34m\u001b[0m\u001b[0m\n\u001b[0m\u001b[1;32m      2\u001b[0m \u001b[0mtime\u001b[0m\u001b[0;34m.\u001b[0m\u001b[0mlocaltime\u001b[0m\u001b[0;34m(\u001b[0m\u001b[0;34m)\u001b[0m\u001b[0;34m\u001b[0m\u001b[0;34m\u001b[0m\u001b[0m\n",
      "\u001b[0;32m~/opt/anaconda3/envs/learn-env/lib/python3.6/site-packages/dwave_networkx/algorithms/tsp.py\u001b[0m in \u001b[0;36mtraveling_salesperson_qubo\u001b[0;34m(G, lagrange, weight)\u001b[0m\n\u001b[1;32m    181\u001b[0m                 \u001b[0;31m# QUBO coefficient is 2*lagrange, but we are placing this value\u001b[0m\u001b[0;34m\u001b[0m\u001b[0;34m\u001b[0m\u001b[0;34m\u001b[0m\u001b[0m\n\u001b[1;32m    182\u001b[0m                 \u001b[0;31m# above *and* below the diagonal, so we put half in each position.\u001b[0m\u001b[0;34m\u001b[0m\u001b[0;34m\u001b[0m\u001b[0;34m\u001b[0m\u001b[0m\n\u001b[0;32m--> 183\u001b[0;31m                 \u001b[0mQ\u001b[0m\u001b[0;34m[\u001b[0m\u001b[0;34m(\u001b[0m\u001b[0;34m(\u001b[0m\u001b[0mnode_1\u001b[0m\u001b[0;34m,\u001b[0m \u001b[0mpos\u001b[0m\u001b[0;34m)\u001b[0m\u001b[0;34m,\u001b[0m \u001b[0;34m(\u001b[0m\u001b[0mnode_2\u001b[0m\u001b[0;34m,\u001b[0m \u001b[0mpos\u001b[0m\u001b[0;34m)\u001b[0m\u001b[0;34m)\u001b[0m\u001b[0;34m]\u001b[0m \u001b[0;34m+=\u001b[0m \u001b[0mlagrange\u001b[0m\u001b[0;34m\u001b[0m\u001b[0;34m\u001b[0m\u001b[0m\n\u001b[0m\u001b[1;32m    184\u001b[0m \u001b[0;34m\u001b[0m\u001b[0m\n\u001b[1;32m    185\u001b[0m     \u001b[0;31m# Objective that minimizes distance\u001b[0m\u001b[0;34m\u001b[0m\u001b[0;34m\u001b[0m\u001b[0;34m\u001b[0m\u001b[0m\n",
      "\u001b[0;31mKeyboardInterrupt\u001b[0m: "
     ]
    }
   ],
   "source": [
    "nx_solution1 = dnx.traveling_salesperson_qubo(complete_g)\n",
    "time.localtime()"
   ]
  },
  {
   "cell_type": "code",
   "execution_count": null,
   "metadata": {},
   "outputs": [],
   "source": []
  },
  {
   "cell_type": "markdown",
   "metadata": {},
   "source": [
    "# Attempt using Dijkstar"
   ]
  },
  {
   "cell_type": "code",
   "execution_count": null,
   "metadata": {},
   "outputs": [],
   "source": []
  }
 ],
 "metadata": {
  "kernelspec": {
   "display_name": "Python [conda env:learn-env] *",
   "language": "python",
   "name": "conda-env-learn-env-py"
  },
  "toc": {
   "base_numbering": 1,
   "nav_menu": {},
   "number_sections": true,
   "sideBar": true,
   "skip_h1_title": false,
   "title_cell": "Table of Contents",
   "title_sidebar": "Contents",
   "toc_cell": false,
   "toc_position": {
    "height": "calc(100% - 180px)",
    "left": "10px",
    "top": "150px",
    "width": "384px"
   },
   "toc_section_display": true,
   "toc_window_display": true
  },
  "varInspector": {
   "cols": {
    "lenName": 16,
    "lenType": 16,
    "lenVar": 40
   },
   "kernels_config": {
    "python": {
     "delete_cmd_postfix": "",
     "delete_cmd_prefix": "del ",
     "library": "var_list.py",
     "varRefreshCmd": "print(var_dic_list())"
    },
    "r": {
     "delete_cmd_postfix": ") ",
     "delete_cmd_prefix": "rm(",
     "library": "var_list.r",
     "varRefreshCmd": "cat(var_dic_list()) "
    }
   },
   "types_to_exclude": [
    "module",
    "function",
    "builtin_function_or_method",
    "instance",
    "_Feature"
   ],
   "window_display": false
  }
 },
 "nbformat": 4,
 "nbformat_minor": 2
}
