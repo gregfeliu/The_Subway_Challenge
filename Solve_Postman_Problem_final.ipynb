{
 "cells": [
  {
   "cell_type": "markdown",
   "metadata": {},
   "source": [
    "import pickle\n",
    "from sklearn.manifold import TSNE\n",
    "import pandas as pd\n",
    "import re\n",
    "# ^^^ pyforest auto-imports - don't write above this line\n",
    "# Imports"
   ]
  },
  {
   "cell_type": "code",
   "execution_count": 499,
   "metadata": {
    "ExecuteTime": {
     "end_time": "2020-07-27T17:39:06.092040Z",
     "start_time": "2020-07-27T17:39:06.088482Z"
    }
   },
   "outputs": [],
   "source": [
    "import folium\n",
    "from collections import Counter\n",
    "import postman_problems\n",
    "import networkx as nx\n",
    "import itertools\n",
    "import dwave_networkx as dnx\n",
    "import time\n",
    "import dijkstar"
   ]
  },
  {
   "cell_type": "markdown",
   "metadata": {},
   "source": [
    "## My Data"
   ]
  },
  {
   "cell_type": "code",
   "execution_count": 269,
   "metadata": {
    "ExecuteTime": {
     "end_time": "2020-07-27T13:58:26.244047Z",
     "start_time": "2020-07-27T13:58:26.234075Z"
    }
   },
   "outputs": [
    {
     "data": {
      "application/javascript": [
       "\n",
       "        if (window._pyforest_update_imports_cell) { window._pyforest_update_imports_cell('import pandas as pd\\nimport re'); }\n",
       "    "
      ],
      "text/plain": [
       "<IPython.core.display.Javascript object>"
      ]
     },
     "metadata": {},
     "output_type": "display_data"
    }
   ],
   "source": [
    "stations_df = pd.read_csv(\"./saved_data/final_station_df.csv\", index_col = 0)"
   ]
  },
  {
   "cell_type": "code",
   "execution_count": 270,
   "metadata": {
    "ExecuteTime": {
     "end_time": "2020-07-27T13:58:26.254767Z",
     "start_time": "2020-07-27T13:58:26.246590Z"
    }
   },
   "outputs": [
    {
     "data": {
      "application/javascript": [
       "\n",
       "        if (window._pyforest_update_imports_cell) { window._pyforest_update_imports_cell('import pandas as pd\\nimport re'); }\n",
       "    "
      ],
      "text/plain": [
       "<IPython.core.display.Javascript object>"
      ]
     },
     "metadata": {},
     "output_type": "display_data"
    }
   ],
   "source": [
    "non_unique_stations_df = pd.read_csv(\"./saved_data/non_unique_mta_stations.csv\", index_col=0)"
   ]
  },
  {
   "cell_type": "code",
   "execution_count": 271,
   "metadata": {
    "ExecuteTime": {
     "end_time": "2020-07-27T13:58:26.264552Z",
     "start_time": "2020-07-27T13:58:26.256562Z"
    }
   },
   "outputs": [
    {
     "data": {
      "application/javascript": [
       "\n",
       "        if (window._pyforest_update_imports_cell) { window._pyforest_update_imports_cell('import pandas as pd\\nimport re'); }\n",
       "    "
      ],
      "text/plain": [
       "<IPython.core.display.Javascript object>"
      ]
     },
     "metadata": {},
     "output_type": "display_data"
    }
   ],
   "source": [
    "my_edgelist = pd.read_csv('./saved_data/edge_list_df_no_req.csv', index_col=0)"
   ]
  },
  {
   "cell_type": "code",
   "execution_count": 272,
   "metadata": {
    "ExecuteTime": {
     "end_time": "2020-07-27T13:58:26.274512Z",
     "start_time": "2020-07-27T13:58:26.266501Z"
    }
   },
   "outputs": [
    {
     "data": {
      "application/javascript": [
       "\n",
       "        if (window._pyforest_update_imports_cell) { window._pyforest_update_imports_cell('import pandas as pd\\nimport re'); }\n",
       "    "
      ],
      "text/plain": [
       "<IPython.core.display.Javascript object>"
      ]
     },
     "metadata": {},
     "output_type": "display_data"
    }
   ],
   "source": [
    "node_list_df = pd.read_csv(\"./saved_data/nodelist_nyc_subway.csv\", index_col=0).reset_index()"
   ]
  },
  {
   "cell_type": "code",
   "execution_count": 273,
   "metadata": {
    "ExecuteTime": {
     "end_time": "2020-07-27T13:58:26.287043Z",
     "start_time": "2020-07-27T13:58:26.276407Z"
    }
   },
   "outputs": [
    {
     "data": {
      "text/html": [
       "<div>\n",
       "<style scoped>\n",
       "    .dataframe tbody tr th:only-of-type {\n",
       "        vertical-align: middle;\n",
       "    }\n",
       "\n",
       "    .dataframe tbody tr th {\n",
       "        vertical-align: top;\n",
       "    }\n",
       "\n",
       "    .dataframe thead th {\n",
       "        text-align: right;\n",
       "    }\n",
       "</style>\n",
       "<table border=\"1\" class=\"dataframe\">\n",
       "  <thead>\n",
       "    <tr style=\"text-align: right;\">\n",
       "      <th></th>\n",
       "      <th>station_id</th>\n",
       "      <th>X</th>\n",
       "      <th>Y</th>\n",
       "    </tr>\n",
       "  </thead>\n",
       "  <tbody>\n",
       "    <tr>\n",
       "      <th>0</th>\n",
       "      <td>101</td>\n",
       "      <td>40.889248</td>\n",
       "      <td>-73.898583</td>\n",
       "    </tr>\n",
       "    <tr>\n",
       "      <th>1</th>\n",
       "      <td>103</td>\n",
       "      <td>40.884667</td>\n",
       "      <td>-73.900870</td>\n",
       "    </tr>\n",
       "    <tr>\n",
       "      <th>2</th>\n",
       "      <td>104</td>\n",
       "      <td>40.878856</td>\n",
       "      <td>-73.904834</td>\n",
       "    </tr>\n",
       "    <tr>\n",
       "      <th>3</th>\n",
       "      <td>106</td>\n",
       "      <td>40.874561</td>\n",
       "      <td>-73.909831</td>\n",
       "    </tr>\n",
       "    <tr>\n",
       "      <th>4</th>\n",
       "      <td>107</td>\n",
       "      <td>40.869444</td>\n",
       "      <td>-73.915279</td>\n",
       "    </tr>\n",
       "    <tr>\n",
       "      <th>...</th>\n",
       "      <td>...</td>\n",
       "      <td>...</td>\n",
       "      <td>...</td>\n",
       "    </tr>\n",
       "    <tr>\n",
       "      <th>439</th>\n",
       "      <td>R42</td>\n",
       "      <td>40.634967</td>\n",
       "      <td>-74.023377</td>\n",
       "    </tr>\n",
       "    <tr>\n",
       "      <th>440</th>\n",
       "      <td>R43</td>\n",
       "      <td>40.629742</td>\n",
       "      <td>-74.025510</td>\n",
       "    </tr>\n",
       "    <tr>\n",
       "      <th>441</th>\n",
       "      <td>R44</td>\n",
       "      <td>40.622687</td>\n",
       "      <td>-74.028398</td>\n",
       "    </tr>\n",
       "    <tr>\n",
       "      <th>442</th>\n",
       "      <td>S03</td>\n",
       "      <td>40.674772</td>\n",
       "      <td>-73.957624</td>\n",
       "    </tr>\n",
       "    <tr>\n",
       "      <th>443</th>\n",
       "      <td>S04</td>\n",
       "      <td>40.670343</td>\n",
       "      <td>-73.959245</td>\n",
       "    </tr>\n",
       "  </tbody>\n",
       "</table>\n",
       "<p>444 rows × 3 columns</p>\n",
       "</div>"
      ],
      "text/plain": [
       "    station_id          X          Y\n",
       "0          101  40.889248 -73.898583\n",
       "1          103  40.884667 -73.900870\n",
       "2          104  40.878856 -73.904834\n",
       "3          106  40.874561 -73.909831\n",
       "4          107  40.869444 -73.915279\n",
       "..         ...        ...        ...\n",
       "439        R42  40.634967 -74.023377\n",
       "440        R43  40.629742 -74.025510\n",
       "441        R44  40.622687 -74.028398\n",
       "442        S03  40.674772 -73.957624\n",
       "443        S04  40.670343 -73.959245\n",
       "\n",
       "[444 rows x 3 columns]"
      ]
     },
     "execution_count": 273,
     "metadata": {},
     "output_type": "execute_result"
    }
   ],
   "source": [
    "node_list_df"
   ]
  },
  {
   "cell_type": "markdown",
   "metadata": {},
   "source": [
    "### Checking my data"
   ]
  },
  {
   "cell_type": "code",
   "execution_count": 274,
   "metadata": {
    "ExecuteTime": {
     "end_time": "2020-07-27T13:58:26.291707Z",
     "start_time": "2020-07-27T13:58:26.288721Z"
    }
   },
   "outputs": [],
   "source": [
    "# every node is in node_list_df\n",
    "node1 = my_edgelist.node1.tolist()\n",
    "node2 = my_edgelist.node2.tolist()"
   ]
  },
  {
   "cell_type": "code",
   "execution_count": 275,
   "metadata": {
    "ExecuteTime": {
     "end_time": "2020-07-27T13:58:26.299092Z",
     "start_time": "2020-07-27T13:58:26.296516Z"
    }
   },
   "outputs": [],
   "source": [
    "all_nodes_edgelist = set(node1 + node2)"
   ]
  },
  {
   "cell_type": "code",
   "execution_count": 276,
   "metadata": {
    "ExecuteTime": {
     "end_time": "2020-07-27T13:58:26.305446Z",
     "start_time": "2020-07-27T13:58:26.302886Z"
    }
   },
   "outputs": [],
   "source": [
    "for x in node_list_df['station_id']:\n",
    "    if x not in all_nodes_edgelist:\n",
    "        print(x)"
   ]
  },
  {
   "cell_type": "code",
   "execution_count": 277,
   "metadata": {
    "ExecuteTime": {
     "end_time": "2020-07-27T13:58:26.311146Z",
     "start_time": "2020-07-27T13:58:26.307287Z"
    }
   },
   "outputs": [
    {
     "name": "stdout",
     "output_type": "stream",
     "text": [
      "D17_R17\n",
      "D17_R17\n"
     ]
    }
   ],
   "source": [
    "for x in node2:\n",
    "    if 'D17' in x:\n",
    "        print(x)"
   ]
  },
  {
   "cell_type": "markdown",
   "metadata": {},
   "source": [
    "# Mini Dijkstar Attempt"
   ]
  },
  {
   "cell_type": "markdown",
   "metadata": {},
   "source": [
    "## Getting A,C,E Edges"
   ]
  },
  {
   "cell_type": "code",
   "execution_count": 278,
   "metadata": {
    "ExecuteTime": {
     "end_time": "2020-07-27T13:58:26.316989Z",
     "start_time": "2020-07-27T13:58:26.312815Z"
    }
   },
   "outputs": [],
   "source": [
    "good_indices_ace = []\n",
    "for idx, x in enumerate(my_edgelist['node1']):\n",
    "    for letter in 'A':\n",
    "        if letter in x and letter in my_edgelist['node2'][idx]:\n",
    "            if idx not in good_indices_ace:\n",
    "                good_indices_ace.append(idx)"
   ]
  },
  {
   "cell_type": "code",
   "execution_count": 279,
   "metadata": {
    "ExecuteTime": {
     "end_time": "2020-07-27T13:58:26.321439Z",
     "start_time": "2020-07-27T13:58:26.318584Z"
    }
   },
   "outputs": [],
   "source": [
    "A_edgelist = my_edgelist.iloc[good_indices_ace]"
   ]
  },
  {
   "cell_type": "code",
   "execution_count": 280,
   "metadata": {
    "ExecuteTime": {
     "end_time": "2020-07-27T13:58:26.325468Z",
     "start_time": "2020-07-27T13:58:26.323171Z"
    }
   },
   "outputs": [],
   "source": [
    "A_edgelist.reset_index(inplace=True, drop=True)"
   ]
  },
  {
   "cell_type": "code",
   "execution_count": 281,
   "metadata": {
    "ExecuteTime": {
     "end_time": "2020-07-27T13:58:26.334834Z",
     "start_time": "2020-07-27T13:58:26.327127Z"
    }
   },
   "outputs": [
    {
     "data": {
      "text/html": [
       "<div>\n",
       "<style scoped>\n",
       "    .dataframe tbody tr th:only-of-type {\n",
       "        vertical-align: middle;\n",
       "    }\n",
       "\n",
       "    .dataframe tbody tr th {\n",
       "        vertical-align: top;\n",
       "    }\n",
       "\n",
       "    .dataframe thead th {\n",
       "        text-align: right;\n",
       "    }\n",
       "</style>\n",
       "<table border=\"1\" class=\"dataframe\">\n",
       "  <thead>\n",
       "    <tr style=\"text-align: right;\">\n",
       "      <th></th>\n",
       "      <th>node1</th>\n",
       "      <th>node2</th>\n",
       "      <th>trail</th>\n",
       "      <th>color</th>\n",
       "      <th>distance</th>\n",
       "    </tr>\n",
       "  </thead>\n",
       "  <tbody>\n",
       "    <tr>\n",
       "      <th>5</th>\n",
       "      <td>112_A09</td>\n",
       "      <td>A10</td>\n",
       "      <td>nyc subway</td>\n",
       "      <td>red</td>\n",
       "      <td>90</td>\n",
       "    </tr>\n",
       "    <tr>\n",
       "      <th>6</th>\n",
       "      <td>112_A09</td>\n",
       "      <td>A12_D13</td>\n",
       "      <td>nyc subway</td>\n",
       "      <td>red</td>\n",
       "      <td>210</td>\n",
       "    </tr>\n",
       "  </tbody>\n",
       "</table>\n",
       "</div>"
      ],
      "text/plain": [
       "     node1    node2       trail color  distance\n",
       "5  112_A09      A10  nyc subway   red        90\n",
       "6  112_A09  A12_D13  nyc subway   red       210"
      ]
     },
     "execution_count": 281,
     "metadata": {},
     "output_type": "execute_result"
    }
   ],
   "source": [
    "A_edgelist[A_edgelist['node1'] == '112_A09']"
   ]
  },
  {
   "cell_type": "markdown",
   "metadata": {},
   "source": [
    "## Getting A,C,E Nodes"
   ]
  },
  {
   "cell_type": "code",
   "execution_count": 396,
   "metadata": {
    "ExecuteTime": {
     "end_time": "2020-07-27T16:58:51.254029Z",
     "start_time": "2020-07-27T16:58:51.248514Z"
    }
   },
   "outputs": [],
   "source": [
    "A_nodelist = node_list_df[node_list_df.station_id.str.contains(\"A\")]\n",
    "# C_nodelist = node_list_df[node_list_df.station_id.str.contains(\"C\")]\n",
    "# E_nodelist = node_list_df[node_list_df.station_id.str.contains(\"E\")]\n",
    "# A_nodelist = pd.concat([A_nodelist, C_nodelist])"
   ]
  },
  {
   "cell_type": "code",
   "execution_count": 397,
   "metadata": {
    "ExecuteTime": {
     "end_time": "2020-07-27T16:58:51.603414Z",
     "start_time": "2020-07-27T16:58:51.600677Z"
    }
   },
   "outputs": [],
   "source": [
    "A_nodelist.reset_index(inplace=True, drop=True)"
   ]
  },
  {
   "cell_type": "code",
   "execution_count": 398,
   "metadata": {
    "ExecuteTime": {
     "end_time": "2020-07-27T16:58:51.903122Z",
     "start_time": "2020-07-27T16:58:51.899709Z"
    }
   },
   "outputs": [
    {
     "data": {
      "text/plain": [
       "(52, 3)"
      ]
     },
     "execution_count": 398,
     "metadata": {},
     "output_type": "execute_result"
    }
   ],
   "source": [
    "A_nodelist.shape"
   ]
  },
  {
   "cell_type": "code",
   "execution_count": 399,
   "metadata": {
    "ExecuteTime": {
     "end_time": "2020-07-27T16:58:52.198645Z",
     "start_time": "2020-07-27T16:58:52.191848Z"
    }
   },
   "outputs": [
    {
     "data": {
      "text/html": [
       "<div>\n",
       "<style scoped>\n",
       "    .dataframe tbody tr th:only-of-type {\n",
       "        vertical-align: middle;\n",
       "    }\n",
       "\n",
       "    .dataframe tbody tr th {\n",
       "        vertical-align: top;\n",
       "    }\n",
       "\n",
       "    .dataframe thead th {\n",
       "        text-align: right;\n",
       "    }\n",
       "</style>\n",
       "<table border=\"1\" class=\"dataframe\">\n",
       "  <thead>\n",
       "    <tr style=\"text-align: right;\">\n",
       "      <th></th>\n",
       "      <th>station_id</th>\n",
       "      <th>X</th>\n",
       "      <th>Y</th>\n",
       "    </tr>\n",
       "  </thead>\n",
       "  <tbody>\n",
       "    <tr>\n",
       "      <th>0</th>\n",
       "      <td>112_A09</td>\n",
       "      <td>40.840556</td>\n",
       "      <td>-73.940133</td>\n",
       "    </tr>\n",
       "    <tr>\n",
       "      <th>1</th>\n",
       "      <td>125_A24</td>\n",
       "      <td>40.768247</td>\n",
       "      <td>-73.981929</td>\n",
       "    </tr>\n",
       "    <tr>\n",
       "      <th>2</th>\n",
       "      <td>A02</td>\n",
       "      <td>40.868072</td>\n",
       "      <td>-73.919899</td>\n",
       "    </tr>\n",
       "    <tr>\n",
       "      <th>3</th>\n",
       "      <td>A03</td>\n",
       "      <td>40.865491</td>\n",
       "      <td>-73.927271</td>\n",
       "    </tr>\n",
       "    <tr>\n",
       "      <th>4</th>\n",
       "      <td>A05</td>\n",
       "      <td>40.859022</td>\n",
       "      <td>-73.934180</td>\n",
       "    </tr>\n",
       "  </tbody>\n",
       "</table>\n",
       "</div>"
      ],
      "text/plain": [
       "  station_id          X          Y\n",
       "0    112_A09  40.840556 -73.940133\n",
       "1    125_A24  40.768247 -73.981929\n",
       "2        A02  40.868072 -73.919899\n",
       "3        A03  40.865491 -73.927271\n",
       "4        A05  40.859022 -73.934180"
      ]
     },
     "execution_count": 399,
     "metadata": {},
     "output_type": "execute_result"
    }
   ],
   "source": [
    "A_nodelist.head()"
   ]
  },
  {
   "cell_type": "markdown",
   "metadata": {},
   "source": [
    "## Making TSP Matrix"
   ]
  },
  {
   "cell_type": "code",
   "execution_count": 400,
   "metadata": {
    "ExecuteTime": {
     "end_time": "2020-07-27T16:58:52.488546Z",
     "start_time": "2020-07-27T16:58:52.485861Z"
    }
   },
   "outputs": [],
   "source": [
    "dijk_ace_graph = dijkstar.Graph(undirected=True)"
   ]
  },
  {
   "cell_type": "code",
   "execution_count": 401,
   "metadata": {
    "ExecuteTime": {
     "end_time": "2020-07-27T16:58:52.778940Z",
     "start_time": "2020-07-27T16:58:52.775900Z"
    }
   },
   "outputs": [],
   "source": [
    "zipped_edges = list(zip(A_edgelist['node1'], A_edgelist['node2'], A_edgelist['distance']))\n",
    "for x in zipped_edges:\n",
    "    dijk_ace_graph.add_edge(x[0], x[1], x[2])"
   ]
  },
  {
   "cell_type": "code",
   "execution_count": 402,
   "metadata": {
    "ExecuteTime": {
     "end_time": "2020-07-27T16:58:53.067712Z",
     "start_time": "2020-07-27T16:58:53.064453Z"
    }
   },
   "outputs": [
    {
     "data": {
      "text/plain": [
       "62"
      ]
     },
     "execution_count": 402,
     "metadata": {},
     "output_type": "execute_result"
    }
   ],
   "source": [
    "len(zipped_edges)"
   ]
  },
  {
   "cell_type": "markdown",
   "metadata": {},
   "source": [
    "### Find distances between all pairs"
   ]
  },
  {
   "cell_type": "code",
   "execution_count": 403,
   "metadata": {
    "ExecuteTime": {
     "end_time": "2020-07-27T16:58:53.356622Z",
     "start_time": "2020-07-27T16:58:53.351360Z"
    }
   },
   "outputs": [],
   "source": [
    "def get_indirect_distance(dijkstar_graph, nodelist):\n",
    "    distance_matrix = []\n",
    "    for i in range(len(nodelist)):\n",
    "        start_node = nodelist['station_id'][i]\n",
    "        one_node_tree = []\n",
    "        for num in range(i, len(nodelist)):\n",
    "            dest_node = nodelist['station_id'][num]\n",
    "            path = dijkstar.find_path(dijkstar_graph, start_node, dest_node)\n",
    "            path_distance = path.total_cost\n",
    "            one_node_tree.append(path_distance)\n",
    "        distance_matrix.append(one_node_tree)  # top right triangle of matrix\n",
    "    for i in range(len(distance_matrix)):\n",
    "#         print(f\"i = {i}\")\n",
    "        for x in range(i, len(distance_matrix)):\n",
    "#             print(f\"x = {x}\")\n",
    "            if distance_matrix[i][x] != 0:\n",
    "                distance_matrix[x].insert(i, distance_matrix[i][x])\n",
    "    return distance_matrix"
   ]
  },
  {
   "cell_type": "code",
   "execution_count": 404,
   "metadata": {
    "ExecuteTime": {
     "end_time": "2020-07-27T16:58:53.737599Z",
     "start_time": "2020-07-27T16:58:53.666724Z"
    }
   },
   "outputs": [],
   "source": [
    "A_dist_matrix = get_indirect_distance(dijk_ace_graph, A_nodelist)"
   ]
  },
  {
   "cell_type": "code",
   "execution_count": 405,
   "metadata": {
    "ExecuteTime": {
     "end_time": "2020-07-27T16:58:54.021992Z",
     "start_time": "2020-07-27T16:58:54.018348Z"
    }
   },
   "outputs": [
    {
     "data": {
      "text/plain": [
       "52"
      ]
     },
     "execution_count": 405,
     "metadata": {},
     "output_type": "execute_result"
    }
   ],
   "source": [
    "len(A_dist_matrix)"
   ]
  },
  {
   "cell_type": "code",
   "execution_count": 406,
   "metadata": {
    "ExecuteTime": {
     "end_time": "2020-07-27T16:58:54.316707Z",
     "start_time": "2020-07-27T16:58:54.313179Z"
    }
   },
   "outputs": [
    {
     "data": {
      "text/plain": [
       "52"
      ]
     },
     "execution_count": 406,
     "metadata": {},
     "output_type": "execute_result"
    }
   ],
   "source": [
    "len(A_dist_matrix[0])"
   ]
  },
  {
   "cell_type": "code",
   "execution_count": 407,
   "metadata": {
    "ExecuteTime": {
     "end_time": "2020-07-27T16:58:54.603121Z",
     "start_time": "2020-07-27T16:58:54.599599Z"
    }
   },
   "outputs": [
    {
     "data": {
      "text/plain": [
       "52"
      ]
     },
     "execution_count": 407,
     "metadata": {},
     "output_type": "execute_result"
    }
   ],
   "source": [
    "len(A_dist_matrix[-1])"
   ]
  },
  {
   "cell_type": "markdown",
   "metadata": {},
   "source": [
    "## Using OR Tools"
   ]
  },
  {
   "cell_type": "markdown",
   "metadata": {},
   "source": [
    "**Note**: This code was adapted from the above python file developed by Google OR-Tools. License can be found here: https://www.apache.org/licenses/LICENSE-2.0"
   ]
  },
  {
   "cell_type": "markdown",
   "metadata": {},
   "source": [
    "- This is trying to reach every stop and return to the original node"
   ]
  },
  {
   "cell_type": "code",
   "execution_count": 408,
   "metadata": {
    "ExecuteTime": {
     "end_time": "2020-07-27T16:58:55.261762Z",
     "start_time": "2020-07-27T16:58:55.217361Z"
    },
    "code_folding": []
   },
   "outputs": [
    {
     "name": "stdout",
     "output_type": "stream",
     "text": [
      "Objective: 9150 seconds\n",
      "Route for vehicle 0:\n",
      " 0 -> 7 -> 8 -> 9 -> 10 -> 11 -> 12 -> 13 -> 14 -> 15 -> 16 -> 17 -> 18 -> 1 -> 19 -> 20 -> 21 -> 22 -> 23 -> 24 -> 25 -> 26 -> 27 -> 28 -> 29 -> 30 -> 31 -> 32 -> 33 -> 34 -> 35 -> 36 -> 37 -> 38 -> 39 -> 40 -> 41 -> 42 -> 43 -> 44 -> 45 -> 46 -> 47 -> 48 -> 49 -> 50 -> 51 -> 6 -> 5 -> 4 -> 3 -> 2 -> 0\n",
      "\n"
     ]
    },
    {
     "data": {
      "application/javascript": [
       "\n",
       "        if (window._pyforest_update_imports_cell) { window._pyforest_update_imports_cell('import pandas as pd\\nimport re'); }\n",
       "    "
      ],
      "text/plain": [
       "<IPython.core.display.Javascript object>"
      ]
     },
     "metadata": {},
     "output_type": "display_data"
    }
   ],
   "source": [
    "# [START import]\n",
    "from __future__ import print_function\n",
    "from ortools.constraint_solver import routing_enums_pb2\n",
    "from ortools.constraint_solver import pywrapcp\n",
    "# [END import]\n",
    "\n",
    "# [START data_model]\n",
    "def create_data_model(A_dist_matrix):\n",
    "    \"\"\"Stores the data for the problem.\"\"\"\n",
    "    data = {}\n",
    "    data['distance_matrix'] = A_dist_matrix\n",
    "    data['num_vehicles'] = 1\n",
    "    data['depot'] = 0\n",
    "    return data\n",
    "    # [END data_model]\n",
    "\n",
    "\n",
    "# [START solution_printer]\n",
    "def print_solution(manager, routing, solution):\n",
    "    \"\"\"Prints solution on console.\"\"\"\n",
    "    total_seconds = solution.ObjectiveValue()\n",
    "    print('Objective: {} seconds'.format(total_seconds))\n",
    "    index = routing.Start(0)\n",
    "    plan_output = 'Route for vehicle 0:\\n'\n",
    "    route_distance = 0\n",
    "    while not routing.IsEnd(index):\n",
    "        plan_output += ' {} ->'.format(manager.IndexToNode(index))\n",
    "        previous_index = index\n",
    "        index = solution.Value(routing.NextVar(index))\n",
    "        route_distance += routing.GetArcCostForVehicle(previous_index, index, 0)\n",
    "    plan_output += ' {}\\n'.format(manager.IndexToNode(index))\n",
    "    print(plan_output)\n",
    "    plan_output += 'Route distance: {}miles\\n'.format(route_distance)\n",
    "    return total_seconds, plan_output\n",
    "    # [END solution_printer]\n",
    "\n",
    "\n",
    "def main():\n",
    "    \"\"\"Entry point of the program.\"\"\"\n",
    "    # Instantiate the data problem.\n",
    "    # [START data]\n",
    "    data = create_data_model(A_dist_matrix)\n",
    "    # [END data]\n",
    "\n",
    "    # Create the routing index manager.\n",
    "    # [START index_manager]\n",
    "    manager = pywrapcp.RoutingIndexManager(len(data['distance_matrix']),\n",
    "                                           data['num_vehicles'], data['depot'])\n",
    "    # [END index_manager]\n",
    "\n",
    "    # Create Routing Model.\n",
    "    # [START routing_model]\n",
    "    routing = pywrapcp.RoutingModel(manager)\n",
    "\n",
    "    # [END routing_model]\n",
    "\n",
    "    # [START transit_callback]\n",
    "    def distance_callback(from_index, to_index):\n",
    "        \"\"\"Returns the distance between the two nodes.\"\"\"\n",
    "        # Convert from routing variable Index to distance matrix NodeIndex.\n",
    "        from_node = manager.IndexToNode(from_index)\n",
    "        to_node = manager.IndexToNode(to_index)\n",
    "        return data['distance_matrix'][from_node][to_node]\n",
    "\n",
    "    transit_callback_index = routing.RegisterTransitCallback(distance_callback)\n",
    "    # [END transit_callback]\n",
    "\n",
    "    # Define cost of each arc.\n",
    "    # [START arc_cost]\n",
    "    routing.SetArcCostEvaluatorOfAllVehicles(transit_callback_index)\n",
    "    # [END arc_cost]\n",
    "\n",
    "    # Setting first solution heuristic.\n",
    "    # [START parameters]\n",
    "    search_parameters = pywrapcp.DefaultRoutingSearchParameters()\n",
    "    search_parameters.first_solution_strategy = (\n",
    "        routing_enums_pb2.FirstSolutionStrategy.PATH_CHEAPEST_ARC)\n",
    "    # [END parameters]\n",
    "\n",
    "    # Solve the problem.\n",
    "    # [START solve]\n",
    "    solution = routing.SolveWithParameters(search_parameters)\n",
    "    # [END solve]\n",
    "\n",
    "    # Print solution on console.\n",
    "    # [START print_solution]\n",
    "    if solution:\n",
    "        seconds, route_list = print_solution(manager, routing, solution)\n",
    "    route_list_text_match = re.match(\".+vehicle\\s0:\\\\n\\s(.+0)\\\\n\", route_list)\n",
    "    stops_as_text = route_list_text_match.group(1)\n",
    "    list_of_stops = stops_as_text.split(\" -> \")\n",
    "    \n",
    "    return seconds, list_of_stops\n",
    "    # [END print_solution]\n",
    "\n",
    "\n",
    "if __name__ == '__main__':\n",
    "    seconds, list_of_stops = main()\n",
    "    \n",
    "# [END program]"
   ]
  },
  {
   "cell_type": "code",
   "execution_count": 458,
   "metadata": {
    "ExecuteTime": {
     "end_time": "2020-07-27T17:21:47.061704Z",
     "start_time": "2020-07-27T17:21:47.057048Z"
    }
   },
   "outputs": [],
   "source": [
    "def get_time_in_hrs(seconds):\n",
    "    minutes = seconds / 60\n",
    "    hours = minutes / 60\n",
    "    remainder_hour = hours % 1\n",
    "    final_minutes = round((remainder_hour * 60), 2)\n",
    "    return round(hours, 2), f\"The entire route takes {hours - remainder_hour} hours, {final_minutes} minutes\""
   ]
  },
  {
   "cell_type": "code",
   "execution_count": 459,
   "metadata": {
    "ExecuteTime": {
     "end_time": "2020-07-27T17:21:51.976385Z",
     "start_time": "2020-07-27T17:21:51.970960Z"
    }
   },
   "outputs": [
    {
     "data": {
      "text/plain": [
       "'The entire route takes 12.0 hours, 42.5 minutes'"
      ]
     },
     "execution_count": 459,
     "metadata": {},
     "output_type": "execute_result"
    }
   ],
   "source": [
    "short_route_time_hours, short_route_time_message = get_time_in_hrs(seconds)\n",
    "short_route_time_message"
   ]
  },
  {
   "cell_type": "markdown",
   "metadata": {},
   "source": [
    "### Translating list of stops to station_ids"
   ]
  },
  {
   "cell_type": "code",
   "execution_count": 445,
   "metadata": {
    "ExecuteTime": {
     "end_time": "2020-07-27T17:03:24.648324Z",
     "start_time": "2020-07-27T17:03:24.631517Z"
    }
   },
   "outputs": [],
   "source": [
    "desired_row = node_list_df[node_list_df['station_id'] == '716'].index\n",
    "desired_row[0]\n",
    "idx = [desired_row[0]] + [i for i in range(len(node_list_df)) if i != desired_row]\n",
    "modified_nodelist = node_list_df.iloc[idx].reset_index(drop=True)\n",
    "nodes = modified_nodelist['station_id']"
   ]
  },
  {
   "cell_type": "code",
   "execution_count": 447,
   "metadata": {
    "ExecuteTime": {
     "end_time": "2020-07-27T17:03:36.437567Z",
     "start_time": "2020-07-27T17:03:36.430436Z"
    }
   },
   "outputs": [],
   "source": [
    "def tsp_station_ids(list_of_stops, nodelist, starting_stop = '101'):\n",
    "    if starting_stop == '101':\n",
    "        nodes = nodelist['station_id']\n",
    "        list_of_nodes = [nodes[int(x)] for x in list_of_stops]\n",
    "    elif starting_stop != '101':\n",
    "        desired_row = nodelist[nodelist['station_id'] == starting_stop].index\n",
    "        idx = [desired_row[0]] + [i for i in range(len(nodelist)) if i != desired_row]\n",
    "        modified_nodelist = nodelist.iloc[idx].reset_index(drop=True)\n",
    "        nodes = modified_nodelist['station_id']\n",
    "        list_of_nodes = [nodes[int(x)] for x in list_of_stops]\n",
    "    return list_of_nodes"
   ]
  },
  {
   "cell_type": "code",
   "execution_count": 415,
   "metadata": {
    "ExecuteTime": {
     "end_time": "2020-07-27T16:59:08.777177Z",
     "start_time": "2020-07-27T16:59:08.772772Z"
    }
   },
   "outputs": [],
   "source": [
    "x = tsp_station_ids(list_of_stops, A_nodelist)"
   ]
  },
  {
   "cell_type": "code",
   "execution_count": 299,
   "metadata": {
    "ExecuteTime": {
     "end_time": "2020-07-27T13:58:26.526852Z",
     "start_time": "2020-07-27T13:58:26.524900Z"
    }
   },
   "outputs": [],
   "source": [
    "# x"
   ]
  },
  {
   "cell_type": "markdown",
   "metadata": {},
   "source": [
    "### Getting station names in order"
   ]
  },
  {
   "cell_type": "code",
   "execution_count": 302,
   "metadata": {
    "ExecuteTime": {
     "end_time": "2020-07-27T13:58:26.549071Z",
     "start_time": "2020-07-27T13:58:26.544684Z"
    }
   },
   "outputs": [],
   "source": [
    "def get_station_names(stations_df, tsp_station_ids):\n",
    "    full_list = []\n",
    "    for mta_station in tsp_station_ids:\n",
    "        single_stations = mta_station.split(\"_\")\n",
    "        station_string = \"\"\n",
    "        counter = 0\n",
    "        for station in single_stations:\n",
    "            row = stations_df.index[stations_df['stop_id'] == station].tolist()\n",
    "            for item in row:\n",
    "                name = stations_df['stop_name'][item]\n",
    "                if counter >= 1:\n",
    "                    station_string += \" / \" + name\n",
    "                    counter += 1\n",
    "                elif counter == 0:\n",
    "                    station_string += name\n",
    "                    counter += 1\n",
    "        full_list.append(station_string)\n",
    "    return full_list"
   ]
  },
  {
   "cell_type": "markdown",
   "metadata": {},
   "source": [
    "# Applying to All the Data"
   ]
  },
  {
   "cell_type": "markdown",
   "metadata": {},
   "source": [
    "## Instantiating graph"
   ]
  },
  {
   "cell_type": "code",
   "execution_count": 303,
   "metadata": {
    "ExecuteTime": {
     "end_time": "2020-07-27T13:58:26.554236Z",
     "start_time": "2020-07-27T13:58:26.551670Z"
    }
   },
   "outputs": [],
   "source": [
    "nyc_graph = dijkstar.Graph(undirected=True)"
   ]
  },
  {
   "cell_type": "code",
   "execution_count": 304,
   "metadata": {
    "ExecuteTime": {
     "end_time": "2020-07-27T13:58:26.560159Z",
     "start_time": "2020-07-27T13:58:26.556108Z"
    }
   },
   "outputs": [],
   "source": [
    "nyc_zipped_edges = list(zip(my_edgelist['node1'], my_edgelist['node2'], my_edgelist['distance']))\n",
    "for x in nyc_zipped_edges:\n",
    "    nyc_graph.add_edge(x[0], x[1], x[2])"
   ]
  },
  {
   "cell_type": "markdown",
   "metadata": {},
   "source": [
    "## Making Distance Matrix"
   ]
  },
  {
   "cell_type": "code",
   "execution_count": 309,
   "metadata": {
    "ExecuteTime": {
     "end_time": "2020-07-27T13:58:56.776596Z",
     "start_time": "2020-07-27T13:58:26.603150Z"
    }
   },
   "outputs": [],
   "source": [
    "nyc_dist_matrix = get_indirect_distance(nyc_graph, node_list_df)"
   ]
  },
  {
   "cell_type": "code",
   "execution_count": 310,
   "metadata": {
    "ExecuteTime": {
     "end_time": "2020-07-27T13:58:56.794776Z",
     "start_time": "2020-07-27T13:58:56.790638Z"
    }
   },
   "outputs": [
    {
     "data": {
      "text/plain": [
       "444"
      ]
     },
     "execution_count": 310,
     "metadata": {},
     "output_type": "execute_result"
    }
   ],
   "source": [
    "len(nyc_dist_matrix)"
   ]
  },
  {
   "cell_type": "markdown",
   "metadata": {},
   "source": [
    "### Make a key for each row so that I don't need to re-run this function"
   ]
  },
  {
   "cell_type": "code",
   "execution_count": 324,
   "metadata": {
    "ExecuteTime": {
     "end_time": "2020-07-27T14:27:45.828925Z",
     "start_time": "2020-07-27T14:27:45.824207Z"
    }
   },
   "outputs": [],
   "source": [
    "matrix_station_zip = list(zip(node_list_df['station_id'], nyc_dist_matrix))\n",
    "dist_matrix_dictionary = {key:value for key, value in matrix_station_zip}"
   ]
  },
  {
   "cell_type": "code",
   "execution_count": 327,
   "metadata": {
    "ExecuteTime": {
     "end_time": "2020-07-27T14:28:09.511379Z",
     "start_time": "2020-07-27T14:28:09.508114Z"
    }
   },
   "outputs": [],
   "source": [
    "# list(dist_matrix_dictionary.items())[0]"
   ]
  },
  {
   "cell_type": "markdown",
   "metadata": {},
   "source": [
    "### Function to put desired station first "
   ]
  },
  {
   "cell_type": "code",
   "execution_count": 377,
   "metadata": {
    "ExecuteTime": {
     "end_time": "2020-07-27T16:39:17.722633Z",
     "start_time": "2020-07-27T16:39:17.717834Z"
    }
   },
   "outputs": [],
   "source": [
    "def make_station_first_in_matrix(matrix_dict, desired_stations_id):\n",
    "    new_dict = {desired_stations_id: matrix_dict[desired_stations_id]}\n",
    "#     new_dict.update({desired_stations_id: matrix_dict[desired_stations_id]})\n",
    "    for x in matrix_dict:\n",
    "        if x not in new_dict:\n",
    "            new_dict.update({x: matrix_dict[x]})\n",
    "    return new_dict"
   ]
  },
  {
   "cell_type": "code",
   "execution_count": 551,
   "metadata": {
    "ExecuteTime": {
     "end_time": "2020-07-27T19:44:52.153705Z",
     "start_time": "2020-07-27T19:44:52.149322Z"
    }
   },
   "outputs": [
    {
     "data": {
      "text/plain": [
       "444"
      ]
     },
     "execution_count": 551,
     "metadata": {},
     "output_type": "execute_result"
    }
   ],
   "source": [
    "len(nyc_dist_matrix)"
   ]
  },
  {
   "cell_type": "code",
   "execution_count": 554,
   "metadata": {
    "ExecuteTime": {
     "end_time": "2020-07-27T19:46:55.127202Z",
     "start_time": "2020-07-27T19:46:55.123331Z"
    }
   },
   "outputs": [],
   "source": [
    "orig_dist_matrix = make_station_first_in_matrix(dist_matrix_dictionary, '101')\n",
    "# orig_dist_matrix = make_dict_a_matrix(nyc_dist_matrix)"
   ]
  },
  {
   "cell_type": "code",
   "execution_count": 556,
   "metadata": {
    "ExecuteTime": {
     "end_time": "2020-07-27T19:47:08.786618Z",
     "start_time": "2020-07-27T19:47:08.783024Z"
    }
   },
   "outputs": [
    {
     "data": {
      "text/plain": [
       "444"
      ]
     },
     "execution_count": 556,
     "metadata": {},
     "output_type": "execute_result"
    }
   ],
   "source": [
    "len(orig_dist_matrix)"
   ]
  },
  {
   "cell_type": "markdown",
   "metadata": {},
   "source": [
    "### Turning Dict into matrix"
   ]
  },
  {
   "cell_type": "code",
   "execution_count": 385,
   "metadata": {
    "ExecuteTime": {
     "end_time": "2020-07-27T16:43:13.884294Z",
     "start_time": "2020-07-27T16:43:13.880895Z"
    }
   },
   "outputs": [],
   "source": [
    "def make_dict_a_matrix(dictionary):\n",
    "    matrix_values = [value for value in dictionary.values()]\n",
    "    return matrix_values"
   ]
  },
  {
   "cell_type": "markdown",
   "metadata": {},
   "source": [
    "### Save Matrix Dict"
   ]
  },
  {
   "cell_type": "code",
   "execution_count": 563,
   "metadata": {
    "ExecuteTime": {
     "end_time": "2020-07-27T19:48:33.781004Z",
     "start_time": "2020-07-27T19:48:33.767500Z"
    }
   },
   "outputs": [
    {
     "data": {
      "application/javascript": [
       "\n",
       "        if (window._pyforest_update_imports_cell) { window._pyforest_update_imports_cell('import pickle\\nfrom sklearn.manifold import TSNE\\nimport pandas as pd\\nimport re'); }\n",
       "    "
      ],
      "text/plain": [
       "<IPython.core.display.Javascript object>"
      ]
     },
     "metadata": {},
     "output_type": "display_data"
    }
   ],
   "source": [
    "# with open(\"./saved_data/Distance_matrix_as_dict.pickle\", 'wb+') as f:\n",
    "#     pickle.dump(orig_dist_matrix, f)"
   ]
  },
  {
   "cell_type": "markdown",
   "metadata": {},
   "source": [
    "## Running Algorithm"
   ]
  },
  {
   "cell_type": "code",
   "execution_count": 311,
   "metadata": {
    "ExecuteTime": {
     "end_time": "2020-07-27T13:59:00.972234Z",
     "start_time": "2020-07-27T13:58:56.796708Z"
    },
    "code_folding": [
     0
    ]
   },
   "outputs": [
    {
     "name": "stdout",
     "output_type": "stream",
     "text": [
      "Objective: 71070 seconds\n",
      "Route for vehicle 0:\n",
      " 0 -> 1 -> 2 -> 3 -> 4 -> 5 -> 6 -> 7 -> 8 -> 9 -> 172 -> 173 -> 174 -> 175 -> 176 -> 10 -> 11 -> 12 -> 13 -> 14 -> 15 -> 16 -> 18 -> 19 -> 20 -> 17 -> 61 -> 60 -> 59 -> 58 -> 92 -> 91 -> 57 -> 56 -> 55 -> 54 -> 53 -> 52 -> 51 -> 50 -> 49 -> 48 -> 47 -> 46 -> 45 -> 44 -> 43 -> 42 -> 41 -> 40 -> 39 -> 38 -> 113 -> 112 -> 111 -> 110 -> 109 -> 105 -> 114 -> 115 -> 116 -> 117 -> 118 -> 119 -> 120 -> 121 -> 122 -> 123 -> 124 -> 125 -> 126 -> 127 -> 128 -> 129 -> 130 -> 131 -> 132 -> 133 -> 134 -> 135 -> 136 -> 137 -> 138 -> 139 -> 140 -> 141 -> 143 -> 144 -> 145 -> 362 -> 193 -> 192 -> 191 -> 190 -> 189 -> 248 -> 283 -> 282 -> 167 -> 321 -> 322 -> 323 -> 324 -> 325 -> 326 -> 390 -> 391 -> 392 -> 327 -> 328 -> 329 -> 330 -> 331 -> 201 -> 202 -> 203 -> 340 -> 339 -> 338 -> 337 -> 336 -> 335 -> 344 -> 343 -> 342 -> 341 -> 334 -> 333 -> 332 -> 221 -> 220 -> 219 -> 218 -> 217 -> 216 -> 215 -> 214 -> 213 -> 212 -> 211 -> 210 -> 209 -> 208 -> 207 -> 206 -> 205 -> 204 -> 442 -> 443 -> 257 -> 258 -> 259 -> 260 -> 261 -> 262 -> 263 -> 264 -> 265 -> 266 -> 267 -> 268 -> 269 -> 270 -> 271 -> 272 -> 305 -> 304 -> 303 -> 302 -> 301 -> 300 -> 299 -> 298 -> 297 -> 296 -> 295 -> 294 -> 293 -> 292 -> 291 -> 290 -> 289 -> 288 -> 199 -> 287 -> 256 -> 226 -> 227 -> 228 -> 229 -> 230 -> 231 -> 232 -> 233 -> 234 -> 235 -> 236 -> 237 -> 273 -> 406 -> 405 -> 404 -> 403 -> 402 -> 401 -> 400 -> 399 -> 398 -> 441 -> 440 -> 439 -> 438 -> 437 -> 436 -> 435 -> 434 -> 433 -> 432 -> 431 -> 80 -> 79 -> 78 -> 77 -> 76 -> 75 -> 74 -> 90 -> 89 -> 88 -> 87 -> 86 -> 85 -> 84 -> 83 -> 82 -> 81 -> 73 -> 72 -> 71 -> 70 -> 69 -> 430 -> 200 -> 429 -> 428 -> 427 -> 426 -> 425 -> 407 -> 424 -> 423 -> 146 -> 363 -> 364 -> 365 -> 366 -> 367 -> 368 -> 369 -> 370 -> 371 -> 372 -> 383 -> 384 -> 385 -> 386 -> 373 -> 387 -> 388 -> 389 -> 361 -> 360 -> 359 -> 358 -> 357 -> 376 -> 375 -> 374 -> 382 -> 381 -> 380 -> 379 -> 378 -> 377 -> 356 -> 355 -> 354 -> 353 -> 352 -> 351 -> 350 -> 349 -> 348 -> 347 -> 346 -> 345 -> 307 -> 306 -> 308 -> 279 -> 278 -> 277 -> 276 -> 275 -> 280 -> 281 -> 309 -> 310 -> 311 -> 312 -> 313 -> 314 -> 159 -> 158 -> 157 -> 156 -> 155 -> 154 -> 153 -> 152 -> 161 -> 162 -> 163 -> 164 -> 165 -> 166 -> 416 -> 415 -> 414 -> 413 -> 412 -> 411 -> 417 -> 418 -> 419 -> 420 -> 24 -> 25 -> 26 -> 27 -> 28 -> 29 -> 30 -> 31 -> 32 -> 33 -> 35 -> 36 -> 37 -> 34 -> 62 -> 63 -> 64 -> 65 -> 68 -> 67 -> 66 -> 108 -> 107 -> 106 -> 151 -> 150 -> 149 -> 148 -> 147 -> 422 -> 421 -> 251 -> 255 -> 286 -> 285 -> 284 -> 254 -> 393 -> 394 -> 395 -> 396 -> 397 -> 198 -> 197 -> 196 -> 274 -> 195 -> 194 -> 253 -> 252 -> 250 -> 249 -> 225 -> 410 -> 409 -> 408 -> 224 -> 223 -> 222 -> 160 -> 315 -> 316 -> 317 -> 318 -> 319 -> 320 -> 168 -> 169 -> 142 -> 170 -> 171 -> 23 -> 21 -> 22 -> 188 -> 187 -> 186 -> 185 -> 184 -> 183 -> 182 -> 181 -> 180 -> 238 -> 239 -> 240 -> 241 -> 242 -> 243 -> 244 -> 245 -> 246 -> 93 -> 94 -> 95 -> 96 -> 97 -> 98 -> 99 -> 100 -> 101 -> 102 -> 103 -> 104 -> 247 -> 179 -> 178 -> 177 -> 0\n",
      "\n"
     ]
    },
    {
     "data": {
      "application/javascript": [
       "\n",
       "        if (window._pyforest_update_imports_cell) { window._pyforest_update_imports_cell('import pandas as pd\\nimport re'); }\n",
       "    "
      ],
      "text/plain": [
       "<IPython.core.display.Javascript object>"
      ]
     },
     "metadata": {},
     "output_type": "display_data"
    }
   ],
   "source": [
    "# [START import]\n",
    "from __future__ import print_function\n",
    "from ortools.constraint_solver import routing_enums_pb2\n",
    "from ortools.constraint_solver import pywrapcp\n",
    "# [END import]\n",
    "\n",
    "# [START data_model]\n",
    "def create_data_model(nyc_dist_matrix):\n",
    "    \"\"\"Stores the data for the problem.\"\"\"\n",
    "    data = {}\n",
    "    data['distance_matrix'] = nyc_dist_matrix\n",
    "    data['num_vehicles'] = 1\n",
    "    data['depot'] = 0\n",
    "    return data\n",
    "    # [END data_model]\n",
    "\n",
    "\n",
    "# [START solution_printer]\n",
    "def print_solution(manager, routing, solution):\n",
    "    \"\"\"Prints solution on console.\"\"\"\n",
    "    total_seconds = solution.ObjectiveValue()\n",
    "    print('Objective: {} seconds'.format(total_seconds))\n",
    "    index = routing.Start(0)\n",
    "    plan_output = 'Route for vehicle 0:\\n'\n",
    "    route_distance = 0\n",
    "    while not routing.IsEnd(index):\n",
    "        plan_output += ' {} ->'.format(manager.IndexToNode(index))\n",
    "        previous_index = index\n",
    "        index = solution.Value(routing.NextVar(index))\n",
    "        route_distance += routing.GetArcCostForVehicle(previous_index, index, 0)\n",
    "    plan_output += ' {}\\n'.format(manager.IndexToNode(index))\n",
    "    print(plan_output)\n",
    "    plan_output += 'Route distance: {}miles\\n'.format(route_distance)\n",
    "    return total_seconds, plan_output\n",
    "    # [END solution_printer]\n",
    "\n",
    "\n",
    "def main():\n",
    "    \"\"\"Entry point of the program.\"\"\"\n",
    "    # Instantiate the data problem.\n",
    "    # [START data]\n",
    "    data = create_data_model(nyc_dist_matrix)\n",
    "    # [END data]\n",
    "\n",
    "    # Create the routing index manager.\n",
    "    # [START index_manager]\n",
    "    manager = pywrapcp.RoutingIndexManager(len(data['distance_matrix']),\n",
    "                                           data['num_vehicles'], data['depot'])\n",
    "    # [END index_manager]\n",
    "\n",
    "    # Create Routing Model.\n",
    "    # [START routing_model]\n",
    "    routing = pywrapcp.RoutingModel(manager)\n",
    "\n",
    "    # [END routing_model]\n",
    "\n",
    "    # [START transit_callback]\n",
    "    def distance_callback(from_index, to_index):\n",
    "        \"\"\"Returns the distance between the two nodes.\"\"\"\n",
    "        # Convert from routing variable Index to distance matrix NodeIndex.\n",
    "        from_node = manager.IndexToNode(from_index)\n",
    "        to_node = manager.IndexToNode(to_index)\n",
    "        return data['distance_matrix'][from_node][to_node]\n",
    "\n",
    "    transit_callback_index = routing.RegisterTransitCallback(distance_callback)\n",
    "    # [END transit_callback]\n",
    "\n",
    "    # Define cost of each arc.\n",
    "    # [START arc_cost]\n",
    "    routing.SetArcCostEvaluatorOfAllVehicles(transit_callback_index)\n",
    "    # [END arc_cost]\n",
    "\n",
    "    # Setting first solution heuristic.\n",
    "    # [START parameters]\n",
    "    search_parameters = pywrapcp.DefaultRoutingSearchParameters()\n",
    "    search_parameters.first_solution_strategy = (\n",
    "        routing_enums_pb2.FirstSolutionStrategy.PATH_CHEAPEST_ARC)\n",
    "    # [END parameters]\n",
    "\n",
    "    # Solve the problem.\n",
    "    # [START solve]\n",
    "    solution = routing.SolveWithParameters(search_parameters)\n",
    "    # [END solve]\n",
    "\n",
    "    # Print solution on console.\n",
    "    # [START print_solution]\n",
    "    if solution:\n",
    "        seconds, route_list = print_solution(manager, routing, solution)\n",
    "    route_list_text_match = re.match(\".+vehicle\\s0:\\\\n\\s(.+0)\\\\n\", route_list)\n",
    "    stops_as_text = route_list_text_match.group(1)\n",
    "    list_of_stops = stops_as_text.split(\" -> \")\n",
    "    \n",
    "    return seconds, list_of_stops\n",
    "    # [END print_solution]\n",
    "\n",
    "\n",
    "if __name__ == '__main__':\n",
    "    seconds, list_of_stops = main()\n",
    "    \n",
    "# [END program]"
   ]
  },
  {
   "cell_type": "code",
   "execution_count": 457,
   "metadata": {
    "ExecuteTime": {
     "end_time": "2020-07-27T17:21:26.548896Z",
     "start_time": "2020-07-27T17:21:26.543508Z"
    }
   },
   "outputs": [
    {
     "data": {
      "text/plain": [
       "12.708333333333334"
      ]
     },
     "execution_count": 457,
     "metadata": {},
     "output_type": "execute_result"
    }
   ],
   "source": [
    "short_route_time_hours, short_route_time_message = get_time_in_hrs(seconds)\n",
    "short_route_time_hours"
   ]
  },
  {
   "cell_type": "code",
   "execution_count": 318,
   "metadata": {
    "ExecuteTime": {
     "end_time": "2020-07-27T13:59:12.437821Z",
     "start_time": "2020-07-27T13:59:12.428205Z"
    }
   },
   "outputs": [],
   "source": [
    "full_nyc_tsp_stations = tsp_station_ids(list_of_stops, node_list_df)"
   ]
  },
  {
   "cell_type": "code",
   "execution_count": 319,
   "metadata": {
    "ExecuteTime": {
     "end_time": "2020-07-27T13:59:13.103581Z",
     "start_time": "2020-07-27T13:59:13.099965Z"
    }
   },
   "outputs": [],
   "source": [
    "# full_nyc_tsp_stations"
   ]
  },
  {
   "cell_type": "code",
   "execution_count": 320,
   "metadata": {
    "ExecuteTime": {
     "end_time": "2020-07-27T13:59:13.606605Z",
     "start_time": "2020-07-27T13:59:13.436208Z"
    }
   },
   "outputs": [],
   "source": [
    "tsp_names = get_station_names(non_unique_stations_df, full_nyc_tsp_stations)"
   ]
  },
  {
   "cell_type": "code",
   "execution_count": 323,
   "metadata": {
    "ExecuteTime": {
     "end_time": "2020-07-27T13:59:23.525887Z",
     "start_time": "2020-07-27T13:59:23.522523Z"
    }
   },
   "outputs": [],
   "source": [
    "# tsp_names"
   ]
  },
  {
   "cell_type": "markdown",
   "metadata": {},
   "source": [
    "# Finding Fastest TSP by Starting Station "
   ]
  },
  {
   "cell_type": "markdown",
   "metadata": {},
   "source": [
    "## Making DataFrame"
   ]
  },
  {
   "cell_type": "code",
   "execution_count": 508,
   "metadata": {
    "ExecuteTime": {
     "end_time": "2020-07-27T17:45:43.826699Z",
     "start_time": "2020-07-27T17:45:43.817395Z"
    }
   },
   "outputs": [
    {
     "data": {
      "application/javascript": [
       "\n",
       "        if (window._pyforest_update_imports_cell) { window._pyforest_update_imports_cell('from sklearn.manifold import TSNE\\nimport pandas as pd\\nimport re'); }\n",
       "    "
      ],
      "text/plain": [
       "<IPython.core.display.Javascript object>"
      ]
     },
     "metadata": {},
     "output_type": "display_data"
    }
   ],
   "source": [
    "TSP_solutions_df = pd.DataFrame(columns = ['Starting_station', \"Station_id_route\", \"Station_name_route\",\n",
    "                                          'Time_seconds', \"Time_hours\"])"
   ]
  },
  {
   "cell_type": "code",
   "execution_count": 465,
   "metadata": {
    "ExecuteTime": {
     "end_time": "2020-07-27T17:26:21.515849Z",
     "start_time": "2020-07-27T17:26:21.511613Z"
    }
   },
   "outputs": [],
   "source": [
    "TSP_solutions_df.loc[0] = [\"boy\"]"
   ]
  },
  {
   "cell_type": "markdown",
   "metadata": {},
   "source": [
    "## Formulas for adding to DataFrame"
   ]
  },
  {
   "cell_type": "code",
   "execution_count": 468,
   "metadata": {
    "ExecuteTime": {
     "end_time": "2020-07-27T17:30:27.634032Z",
     "start_time": "2020-07-27T17:30:27.628200Z"
    }
   },
   "outputs": [],
   "source": [
    "def results_to_df(time, stop_list, original_stop, stations_df=non_unique_stations_df, nodelistdf=node_list_df,\n",
    "                  dist_matrix_dict=dist_matrix_dictionary, final_df=TSP_solutions_df):\n",
    "    stop_dict = make_station_first_in_matrix(dist_matrix_dict, original_stop)\n",
    "    stop_dist_matrix = make_dict_a_matrix(stop_dict)\n",
    "    time_in_hours, time_message = get_time_in_hrs(time)\n",
    "    tsp_stations = tsp_station_ids(stop_list, nodelistdf, starting_stop=original_stop)\n",
    "    station_names = get_station_names(stations_df, tsp_stations)\n",
    "    data = [original_stop, tsp_stations, station_names, time, time_in_hours]\n",
    "    return data"
   ]
  },
  {
   "cell_type": "markdown",
   "metadata": {},
   "source": [
    "## Choosing which stations to test"
   ]
  },
  {
   "cell_type": "markdown",
   "metadata": {},
   "source": [
    "### Geographic center"
   ]
  },
  {
   "cell_type": "code",
   "execution_count": 416,
   "metadata": {
    "ExecuteTime": {
     "end_time": "2020-07-27T16:59:24.138532Z",
     "start_time": "2020-07-27T16:59:24.133788Z"
    }
   },
   "outputs": [],
   "source": [
    "absolute_difference_function3 = lambda list_value : abs(list_value[0] - lat_mean) + abs(list_value[1] - lon_mean)\n",
    "closest_value3 = min(list(zip(node_list_df['X'], node_list_df['Y'])), key=absolute_difference_function3)"
   ]
  },
  {
   "cell_type": "code",
   "execution_count": 417,
   "metadata": {
    "ExecuteTime": {
     "end_time": "2020-07-27T16:59:24.146472Z",
     "start_time": "2020-07-27T16:59:24.141748Z"
    }
   },
   "outputs": [
    {
     "data": {
      "text/plain": [
       "(40.744587, -73.93099699999998)"
      ]
     },
     "execution_count": 417,
     "metadata": {},
     "output_type": "execute_result"
    }
   ],
   "source": [
    "closest_value3"
   ]
  },
  {
   "cell_type": "code",
   "execution_count": 418,
   "metadata": {
    "ExecuteTime": {
     "end_time": "2020-07-27T16:59:24.162258Z",
     "start_time": "2020-07-27T16:59:24.150412Z"
    }
   },
   "outputs": [
    {
     "data": {
      "text/html": [
       "<div>\n",
       "<style scoped>\n",
       "    .dataframe tbody tr th:only-of-type {\n",
       "        vertical-align: middle;\n",
       "    }\n",
       "\n",
       "    .dataframe tbody tr th {\n",
       "        vertical-align: top;\n",
       "    }\n",
       "\n",
       "    .dataframe thead th {\n",
       "        text-align: right;\n",
       "    }\n",
       "</style>\n",
       "<table border=\"1\" class=\"dataframe\">\n",
       "  <thead>\n",
       "    <tr style=\"text-align: right;\">\n",
       "      <th></th>\n",
       "      <th>station_id</th>\n",
       "      <th>X</th>\n",
       "      <th>Y</th>\n",
       "    </tr>\n",
       "  </thead>\n",
       "  <tbody>\n",
       "    <tr>\n",
       "      <th>165</th>\n",
       "      <td>716</td>\n",
       "      <td>40.744587</td>\n",
       "      <td>-73.930997</td>\n",
       "    </tr>\n",
       "  </tbody>\n",
       "</table>\n",
       "</div>"
      ],
      "text/plain": [
       "    station_id          X          Y\n",
       "165        716  40.744587 -73.930997"
      ]
     },
     "execution_count": 418,
     "metadata": {},
     "output_type": "execute_result"
    }
   ],
   "source": [
    "node_list_df[(node_list_df['X'] == closest_value3[0]) & (node_list_df['Y'] == closest_value3[1])]"
   ]
  },
  {
   "cell_type": "code",
   "execution_count": 419,
   "metadata": {
    "ExecuteTime": {
     "end_time": "2020-07-27T16:59:24.176155Z",
     "start_time": "2020-07-27T16:59:24.165084Z"
    }
   },
   "outputs": [
    {
     "data": {
      "text/html": [
       "<div>\n",
       "<style scoped>\n",
       "    .dataframe tbody tr th:only-of-type {\n",
       "        vertical-align: middle;\n",
       "    }\n",
       "\n",
       "    .dataframe tbody tr th {\n",
       "        vertical-align: top;\n",
       "    }\n",
       "\n",
       "    .dataframe thead th {\n",
       "        text-align: right;\n",
       "    }\n",
       "</style>\n",
       "<table border=\"1\" class=\"dataframe\">\n",
       "  <thead>\n",
       "    <tr style=\"text-align: right;\">\n",
       "      <th></th>\n",
       "      <th>stop_id</th>\n",
       "      <th>stop_name</th>\n",
       "      <th>stop_lat</th>\n",
       "      <th>stop_lon</th>\n",
       "      <th>location_type</th>\n",
       "      <th>parent_station</th>\n",
       "    </tr>\n",
       "  </thead>\n",
       "  <tbody>\n",
       "    <tr>\n",
       "      <th>504</th>\n",
       "      <td>716</td>\n",
       "      <td>33 St</td>\n",
       "      <td>40.744587</td>\n",
       "      <td>-73.930997</td>\n",
       "      <td>1</td>\n",
       "      <td>NaN</td>\n",
       "    </tr>\n",
       "  </tbody>\n",
       "</table>\n",
       "</div>"
      ],
      "text/plain": [
       "    stop_id stop_name   stop_lat   stop_lon  location_type  parent_station\n",
       "504     716     33 St  40.744587 -73.930997              1             NaN"
      ]
     },
     "execution_count": 419,
     "metadata": {},
     "output_type": "execute_result"
    }
   ],
   "source": [
    "non_unique_stations_df[non_unique_stations_df['stop_id'] == '716']"
   ]
  },
  {
   "cell_type": "markdown",
   "metadata": {},
   "source": [
    "#### Running Formulas"
   ]
  },
  {
   "cell_type": "code",
   "execution_count": 420,
   "metadata": {
    "ExecuteTime": {
     "end_time": "2020-07-27T16:59:24.181095Z",
     "start_time": "2020-07-27T16:59:24.178321Z"
    }
   },
   "outputs": [],
   "source": [
    "dict_716 = make_station_first_in_matrix(dist_matrix_dictionary, '716')"
   ]
  },
  {
   "cell_type": "code",
   "execution_count": 421,
   "metadata": {
    "ExecuteTime": {
     "end_time": "2020-07-27T16:59:24.185872Z",
     "start_time": "2020-07-27T16:59:24.183099Z"
    }
   },
   "outputs": [],
   "source": [
    "matrix_716 = make_dict_a_matrix(dict_716)"
   ]
  },
  {
   "cell_type": "code",
   "execution_count": 422,
   "metadata": {
    "ExecuteTime": {
     "end_time": "2020-07-27T16:59:28.330881Z",
     "start_time": "2020-07-27T16:59:24.188039Z"
    },
    "code_folding": []
   },
   "outputs": [
    {
     "name": "stdout",
     "output_type": "stream",
     "text": [
      "Objective: 45750 seconds\n",
      "Route for vehicle 0:\n",
      " 0 -> 165 -> 164 -> 163 -> 162 -> 161 -> 160 -> 159 -> 158 -> 157 -> 156 -> 155 -> 154 -> 153 -> 152 -> 151 -> 150 -> 149 -> 148 -> 147 -> 146 -> 145 -> 144 -> 143 -> 142 -> 141 -> 140 -> 139 -> 138 -> 137 -> 136 -> 135 -> 134 -> 133 -> 132 -> 131 -> 130 -> 129 -> 128 -> 127 -> 126 -> 125 -> 124 -> 123 -> 122 -> 121 -> 120 -> 119 -> 118 -> 117 -> 116 -> 115 -> 114 -> 113 -> 112 -> 111 -> 110 -> 109 -> 108 -> 107 -> 106 -> 105 -> 104 -> 103 -> 102 -> 101 -> 100 -> 99 -> 98 -> 97 -> 96 -> 95 -> 94 -> 93 -> 92 -> 91 -> 90 -> 89 -> 88 -> 87 -> 86 -> 85 -> 84 -> 83 -> 82 -> 81 -> 80 -> 79 -> 78 -> 77 -> 76 -> 75 -> 74 -> 73 -> 72 -> 71 -> 70 -> 69 -> 68 -> 67 -> 66 -> 65 -> 64 -> 63 -> 62 -> 61 -> 60 -> 59 -> 58 -> 57 -> 56 -> 55 -> 54 -> 53 -> 52 -> 51 -> 50 -> 49 -> 48 -> 47 -> 46 -> 45 -> 44 -> 43 -> 42 -> 41 -> 40 -> 39 -> 38 -> 37 -> 36 -> 35 -> 34 -> 33 -> 32 -> 31 -> 30 -> 29 -> 28 -> 27 -> 26 -> 25 -> 24 -> 23 -> 22 -> 21 -> 20 -> 19 -> 18 -> 17 -> 16 -> 15 -> 14 -> 13 -> 12 -> 11 -> 10 -> 172 -> 173 -> 174 -> 175 -> 176 -> 238 -> 239 -> 240 -> 241 -> 242 -> 243 -> 244 -> 245 -> 246 -> 247 -> 180 -> 181 -> 182 -> 183 -> 184 -> 185 -> 186 -> 187 -> 188 -> 189 -> 248 -> 282 -> 283 -> 249 -> 250 -> 225 -> 224 -> 408 -> 409 -> 410 -> 223 -> 222 -> 419 -> 420 -> 418 -> 417 -> 166 -> 416 -> 415 -> 414 -> 413 -> 412 -> 411 -> 320 -> 319 -> 318 -> 317 -> 316 -> 315 -> 314 -> 313 -> 312 -> 311 -> 310 -> 309 -> 281 -> 280 -> 275 -> 276 -> 277 -> 278 -> 279 -> 308 -> 307 -> 306 -> 345 -> 346 -> 347 -> 348 -> 349 -> 350 -> 351 -> 352 -> 353 -> 354 -> 355 -> 356 -> 377 -> 378 -> 379 -> 380 -> 381 -> 382 -> 357 -> 376 -> 375 -> 374 -> 373 -> 386 -> 385 -> 384 -> 383 -> 372 -> 371 -> 370 -> 369 -> 368 -> 367 -> 366 -> 365 -> 364 -> 363 -> 423 -> 424 -> 407 -> 425 -> 426 -> 427 -> 428 -> 429 -> 200 -> 199 -> 198 -> 397 -> 396 -> 395 -> 394 -> 393 -> 255 -> 254 -> 284 -> 285 -> 286 -> 287 -> 430 -> 256 -> 431 -> 432 -> 433 -> 434 -> 435 -> 226 -> 227 -> 228 -> 229 -> 230 -> 231 -> 232 -> 233 -> 234 -> 235 -> 236 -> 237 -> 273 -> 406 -> 405 -> 404 -> 403 -> 402 -> 401 -> 400 -> 399 -> 398 -> 438 -> 441 -> 440 -> 439 -> 437 -> 436 -> 288 -> 289 -> 290 -> 291 -> 292 -> 293 -> 294 -> 295 -> 296 -> 297 -> 298 -> 299 -> 300 -> 301 -> 302 -> 303 -> 304 -> 305 -> 272 -> 271 -> 270 -> 269 -> 268 -> 267 -> 266 -> 265 -> 264 -> 263 -> 262 -> 261 -> 260 -> 259 -> 258 -> 257 -> 443 -> 442 -> 340 -> 339 -> 338 -> 337 -> 336 -> 335 -> 344 -> 343 -> 342 -> 341 -> 334 -> 333 -> 332 -> 221 -> 220 -> 219 -> 218 -> 217 -> 216 -> 215 -> 214 -> 213 -> 212 -> 211 -> 210 -> 209 -> 208 -> 207 -> 206 -> 205 -> 204 -> 203 -> 202 -> 201 -> 331 -> 330 -> 329 -> 328 -> 327 -> 387 -> 388 -> 359 -> 358 -> 360 -> 361 -> 389 -> 392 -> 391 -> 390 -> 326 -> 325 -> 324 -> 323 -> 322 -> 321 -> 167 -> 168 -> 169 -> 170 -> 171 -> 422 -> 421 -> 251 -> 252 -> 253 -> 194 -> 195 -> 196 -> 197 -> 274 -> 362 -> 193 -> 192 -> 191 -> 190 -> 179 -> 178 -> 177 -> 9 -> 8 -> 7 -> 6 -> 5 -> 4 -> 3 -> 2 -> 1 -> 0\n",
      "\n"
     ]
    },
    {
     "data": {
      "application/javascript": [
       "\n",
       "        if (window._pyforest_update_imports_cell) { window._pyforest_update_imports_cell('import pandas as pd\\nimport re'); }\n",
       "    "
      ],
      "text/plain": [
       "<IPython.core.display.Javascript object>"
      ]
     },
     "metadata": {},
     "output_type": "display_data"
    }
   ],
   "source": [
    "# [START import]\n",
    "from __future__ import print_function\n",
    "from ortools.constraint_solver import routing_enums_pb2\n",
    "from ortools.constraint_solver import pywrapcp\n",
    "# [END import]\n",
    "\n",
    "# [START data_model]\n",
    "def create_data_model(matrix_716):\n",
    "    \"\"\"Stores the data for the problem.\"\"\"\n",
    "    data = {}\n",
    "    data['distance_matrix'] = matrix_716\n",
    "    data['num_vehicles'] = 1\n",
    "    data['depot'] = 0\n",
    "    return data\n",
    "    # [END data_model]\n",
    "\n",
    "\n",
    "# [START solution_printer]\n",
    "def print_solution(manager, routing, solution):\n",
    "    \"\"\"Prints solution on console.\"\"\"\n",
    "    total_seconds = solution.ObjectiveValue()\n",
    "    print('Objective: {} seconds'.format(total_seconds))\n",
    "    index = routing.Start(0)\n",
    "    plan_output = 'Route for vehicle 0:\\n'\n",
    "    route_distance = 0\n",
    "    while not routing.IsEnd(index):\n",
    "        plan_output += ' {} ->'.format(manager.IndexToNode(index))\n",
    "        previous_index = index\n",
    "        index = solution.Value(routing.NextVar(index))\n",
    "        route_distance += routing.GetArcCostForVehicle(previous_index, index, 0)\n",
    "    plan_output += ' {}\\n'.format(manager.IndexToNode(index))\n",
    "    print(plan_output)\n",
    "    plan_output += 'Route distance: {}miles\\n'.format(route_distance)\n",
    "    return total_seconds, plan_output\n",
    "    # [END solution_printer]\n",
    "\n",
    "\n",
    "def main():\n",
    "    \"\"\"Entry point of the program.\"\"\"\n",
    "    # Instantiate the data problem.\n",
    "    # [START data]\n",
    "    data = create_data_model(matrix_716)\n",
    "    # [END data]\n",
    "\n",
    "    # Create the routing index manager.\n",
    "    # [START index_manager]\n",
    "    manager = pywrapcp.RoutingIndexManager(len(data['distance_matrix']),\n",
    "                                           data['num_vehicles'], data['depot'])\n",
    "    # [END index_manager]\n",
    "\n",
    "    # Create Routing Model.\n",
    "    # [START routing_model]\n",
    "    routing = pywrapcp.RoutingModel(manager)\n",
    "\n",
    "    # [END routing_model]\n",
    "\n",
    "    # [START transit_callback]\n",
    "    def distance_callback(from_index, to_index):\n",
    "        \"\"\"Returns the distance between the two nodes.\"\"\"\n",
    "        # Convert from routing variable Index to distance matrix NodeIndex.\n",
    "        from_node = manager.IndexToNode(from_index)\n",
    "        to_node = manager.IndexToNode(to_index)\n",
    "        return data['distance_matrix'][from_node][to_node]\n",
    "\n",
    "    transit_callback_index = routing.RegisterTransitCallback(distance_callback)\n",
    "    # [END transit_callback]\n",
    "\n",
    "    # Define cost of each arc.\n",
    "    # [START arc_cost]\n",
    "    routing.SetArcCostEvaluatorOfAllVehicles(transit_callback_index)\n",
    "    # [END arc_cost]\n",
    "\n",
    "    # Setting first solution heuristic.\n",
    "    # [START parameters]\n",
    "    search_parameters = pywrapcp.DefaultRoutingSearchParameters()\n",
    "    search_parameters.first_solution_strategy = (\n",
    "        routing_enums_pb2.FirstSolutionStrategy.PATH_CHEAPEST_ARC)\n",
    "    # [END parameters]\n",
    "\n",
    "    # Solve the problem.\n",
    "    # [START solve]\n",
    "    solution = routing.SolveWithParameters(search_parameters)\n",
    "    # [END solve]\n",
    "\n",
    "    # Print solution on console.\n",
    "    # [START print_solution]\n",
    "    if solution:\n",
    "        seconds, route_list = print_solution(manager, routing, solution)\n",
    "    route_list_text_match = re.match(\".+vehicle\\s0:\\\\n\\s(.+0)\\\\n\", route_list)\n",
    "    stops_as_text = route_list_text_match.group(1)\n",
    "    list_of_stops = stops_as_text.split(\" -> \")\n",
    "    \n",
    "    return seconds, list_of_stops\n",
    "    # [END print_solution]\n",
    "\n",
    "\n",
    "if __name__ == '__main__':\n",
    "    seconds, list_of_stops = main()\n",
    "    \n",
    "# [END program]"
   ]
  },
  {
   "cell_type": "code",
   "execution_count": 461,
   "metadata": {
    "ExecuteTime": {
     "end_time": "2020-07-27T17:22:30.494657Z",
     "start_time": "2020-07-27T17:22:30.489252Z"
    }
   },
   "outputs": [
    {
     "data": {
      "text/plain": [
       "'The entire route takes 12.0 hours, 42.5 minutes'"
      ]
     },
     "execution_count": 461,
     "metadata": {},
     "output_type": "execute_result"
    }
   ],
   "source": [
    "short_route_time_hours, short_route_time_message  = get_time_in_hrs(seconds)\n",
    "short_route_time_message"
   ]
  },
  {
   "cell_type": "code",
   "execution_count": 448,
   "metadata": {
    "ExecuteTime": {
     "end_time": "2020-07-27T17:03:40.408497Z",
     "start_time": "2020-07-27T17:03:40.388403Z"
    }
   },
   "outputs": [],
   "source": [
    "tsp_stations_716 = tsp_station_ids(list_of_stops, node_list_df, starting_stop='716')"
   ]
  },
  {
   "cell_type": "code",
   "execution_count": 452,
   "metadata": {
    "ExecuteTime": {
     "end_time": "2020-07-27T17:04:00.609904Z",
     "start_time": "2020-07-27T17:04:00.606250Z"
    }
   },
   "outputs": [],
   "source": [
    "# tsp_stations_716"
   ]
  },
  {
   "cell_type": "code",
   "execution_count": 453,
   "metadata": {
    "ExecuteTime": {
     "end_time": "2020-07-27T17:19:53.754468Z",
     "start_time": "2020-07-27T17:19:53.580889Z"
    }
   },
   "outputs": [],
   "source": [
    "station_names_716 = get_station_names(non_unique_stations_df, tsp_stations_716)"
   ]
  },
  {
   "cell_type": "markdown",
   "metadata": {},
   "source": [
    "#### Put into df"
   ]
  },
  {
   "cell_type": "code",
   "execution_count": 469,
   "metadata": {
    "ExecuteTime": {
     "end_time": "2020-07-27T17:32:25.228094Z",
     "start_time": "2020-07-27T17:32:25.051648Z"
    }
   },
   "outputs": [],
   "source": [
    "data_716 = results_to_df(seconds, list_of_stops, \"716\")"
   ]
  },
  {
   "cell_type": "code",
   "execution_count": 509,
   "metadata": {
    "ExecuteTime": {
     "end_time": "2020-07-27T17:45:47.090310Z",
     "start_time": "2020-07-27T17:45:47.081561Z"
    }
   },
   "outputs": [],
   "source": [
    "TSP_solutions_df.loc[0] = data_716"
   ]
  },
  {
   "cell_type": "markdown",
   "metadata": {},
   "source": [
    "### Most Connections"
   ]
  },
  {
   "cell_type": "markdown",
   "metadata": {},
   "source": [
    "#### Finding most_connected Stations"
   ]
  },
  {
   "cell_type": "code",
   "execution_count": 476,
   "metadata": {
    "ExecuteTime": {
     "end_time": "2020-07-27T17:34:40.336761Z",
     "start_time": "2020-07-27T17:34:40.332786Z"
    }
   },
   "outputs": [],
   "source": [
    "all_nodes_edglist_list = node1 + node2\n",
    "node_count_dict = {i: all_nodes_edglist_list.count(i) for i in all_nodes_edgelist}"
   ]
  },
  {
   "cell_type": "code",
   "execution_count": 488,
   "metadata": {
    "ExecuteTime": {
     "end_time": "2020-07-27T17:37:42.875457Z",
     "start_time": "2020-07-27T17:37:42.869847Z"
    }
   },
   "outputs": [
    {
     "data": {
      "text/plain": [
       "10"
      ]
     },
     "execution_count": 488,
     "metadata": {},
     "output_type": "execute_result"
    }
   ],
   "source": [
    "max(list(node_count_dict.values()))"
   ]
  },
  {
   "cell_type": "markdown",
   "metadata": {},
   "source": [
    "#### Appears 10 times"
   ]
  },
  {
   "cell_type": "code",
   "execution_count": 496,
   "metadata": {
    "ExecuteTime": {
     "end_time": "2020-07-27T17:38:22.203247Z",
     "start_time": "2020-07-27T17:38:22.200346Z"
    }
   },
   "outputs": [],
   "source": [
    "most_connected_station = [k for k, v in Counter(node_count_dict.items()) if v > 9]"
   ]
  },
  {
   "cell_type": "code",
   "execution_count": 497,
   "metadata": {
    "ExecuteTime": {
     "end_time": "2020-07-27T17:38:23.468959Z",
     "start_time": "2020-07-27T17:38:23.463606Z"
    }
   },
   "outputs": [
    {
     "data": {
      "text/plain": [
       "['635_L03_R20']"
      ]
     },
     "execution_count": 497,
     "metadata": {},
     "output_type": "execute_result"
    }
   ],
   "source": [
    "most_connected_station"
   ]
  },
  {
   "cell_type": "code",
   "execution_count": 501,
   "metadata": {
    "ExecuteTime": {
     "end_time": "2020-07-27T17:39:59.050888Z",
     "start_time": "2020-07-27T17:39:59.037421Z"
    }
   },
   "outputs": [
    {
     "data": {
      "text/html": [
       "<div>\n",
       "<style scoped>\n",
       "    .dataframe tbody tr th:only-of-type {\n",
       "        vertical-align: middle;\n",
       "    }\n",
       "\n",
       "    .dataframe tbody tr th {\n",
       "        vertical-align: top;\n",
       "    }\n",
       "\n",
       "    .dataframe thead th {\n",
       "        text-align: right;\n",
       "    }\n",
       "</style>\n",
       "<table border=\"1\" class=\"dataframe\">\n",
       "  <thead>\n",
       "    <tr style=\"text-align: right;\">\n",
       "      <th></th>\n",
       "      <th>stop_id</th>\n",
       "      <th>stop_name</th>\n",
       "      <th>stop_lat</th>\n",
       "      <th>stop_lon</th>\n",
       "      <th>location_type</th>\n",
       "      <th>parent_station</th>\n",
       "    </tr>\n",
       "  </thead>\n",
       "  <tbody>\n",
       "    <tr>\n",
       "      <th>447</th>\n",
       "      <td>635</td>\n",
       "      <td>14 St - Union Sq</td>\n",
       "      <td>40.734673</td>\n",
       "      <td>-73.989951</td>\n",
       "      <td>1</td>\n",
       "      <td>NaN</td>\n",
       "    </tr>\n",
       "  </tbody>\n",
       "</table>\n",
       "</div>"
      ],
      "text/plain": [
       "    stop_id         stop_name   stop_lat   stop_lon  location_type  \\\n",
       "447     635  14 St - Union Sq  40.734673 -73.989951              1   \n",
       "\n",
       "     parent_station  \n",
       "447             NaN  "
      ]
     },
     "execution_count": 501,
     "metadata": {},
     "output_type": "execute_result"
    }
   ],
   "source": [
    "non_unique_stations_df[non_unique_stations_df['stop_id'].str.contains(\"635\")]"
   ]
  },
  {
   "cell_type": "markdown",
   "metadata": {},
   "source": [
    "##### Solving it"
   ]
  },
  {
   "cell_type": "code",
   "execution_count": 502,
   "metadata": {
    "ExecuteTime": {
     "end_time": "2020-07-27T17:42:13.906707Z",
     "start_time": "2020-07-27T17:42:13.902634Z"
    }
   },
   "outputs": [],
   "source": [
    "dict_union_sq = make_station_first_in_matrix(dist_matrix_dictionary, '635_L03_R20')\n",
    "matrix_union_sq = make_dict_a_matrix(dict_union_sq)"
   ]
  },
  {
   "cell_type": "code",
   "execution_count": 503,
   "metadata": {
    "ExecuteTime": {
     "end_time": "2020-07-27T17:43:09.285435Z",
     "start_time": "2020-07-27T17:43:05.946117Z"
    },
    "code_folding": [
     0
    ]
   },
   "outputs": [
    {
     "name": "stdout",
     "output_type": "stream",
     "text": [
      "Objective: 48030 seconds\n",
      "Route for vehicle 0:\n",
      " 0 -> 146 -> 145 -> 144 -> 143 -> 142 -> 141 -> 140 -> 139 -> 138 -> 137 -> 136 -> 135 -> 134 -> 133 -> 132 -> 131 -> 130 -> 129 -> 128 -> 127 -> 126 -> 125 -> 124 -> 123 -> 122 -> 121 -> 120 -> 119 -> 118 -> 117 -> 116 -> 115 -> 114 -> 113 -> 112 -> 111 -> 110 -> 109 -> 108 -> 107 -> 106 -> 105 -> 104 -> 103 -> 102 -> 101 -> 100 -> 99 -> 98 -> 97 -> 96 -> 95 -> 94 -> 93 -> 92 -> 91 -> 90 -> 89 -> 88 -> 87 -> 86 -> 85 -> 84 -> 83 -> 82 -> 81 -> 80 -> 79 -> 78 -> 77 -> 76 -> 75 -> 74 -> 73 -> 72 -> 71 -> 70 -> 69 -> 68 -> 67 -> 66 -> 65 -> 64 -> 63 -> 62 -> 61 -> 60 -> 59 -> 58 -> 57 -> 56 -> 55 -> 54 -> 53 -> 52 -> 51 -> 50 -> 49 -> 48 -> 47 -> 46 -> 45 -> 44 -> 43 -> 42 -> 41 -> 40 -> 39 -> 38 -> 37 -> 36 -> 35 -> 34 -> 33 -> 32 -> 31 -> 30 -> 29 -> 28 -> 27 -> 26 -> 25 -> 24 -> 23 -> 22 -> 21 -> 20 -> 19 -> 18 -> 17 -> 16 -> 15 -> 14 -> 13 -> 12 -> 11 -> 10 -> 176 -> 175 -> 174 -> 173 -> 172 -> 180 -> 181 -> 182 -> 183 -> 184 -> 185 -> 186 -> 187 -> 188 -> 189 -> 248 -> 283 -> 282 -> 320 -> 319 -> 318 -> 317 -> 316 -> 315 -> 314 -> 313 -> 312 -> 311 -> 310 -> 309 -> 281 -> 280 -> 275 -> 276 -> 277 -> 278 -> 279 -> 308 -> 307 -> 306 -> 345 -> 346 -> 347 -> 348 -> 349 -> 350 -> 351 -> 352 -> 353 -> 354 -> 355 -> 356 -> 377 -> 378 -> 379 -> 380 -> 381 -> 382 -> 357 -> 376 -> 375 -> 374 -> 373 -> 386 -> 385 -> 384 -> 383 -> 372 -> 371 -> 370 -> 369 -> 368 -> 367 -> 366 -> 365 -> 364 -> 363 -> 423 -> 424 -> 407 -> 425 -> 426 -> 427 -> 428 -> 429 -> 200 -> 199 -> 198 -> 397 -> 396 -> 395 -> 394 -> 393 -> 255 -> 254 -> 284 -> 285 -> 286 -> 287 -> 430 -> 256 -> 431 -> 432 -> 433 -> 434 -> 435 -> 436 -> 437 -> 441 -> 440 -> 439 -> 438 -> 398 -> 399 -> 400 -> 401 -> 402 -> 403 -> 404 -> 405 -> 406 -> 273 -> 237 -> 236 -> 235 -> 234 -> 233 -> 232 -> 231 -> 230 -> 229 -> 228 -> 227 -> 226 -> 288 -> 289 -> 290 -> 291 -> 292 -> 293 -> 294 -> 295 -> 296 -> 297 -> 298 -> 299 -> 300 -> 301 -> 302 -> 303 -> 304 -> 305 -> 272 -> 271 -> 270 -> 269 -> 268 -> 267 -> 266 -> 265 -> 264 -> 263 -> 262 -> 261 -> 260 -> 259 -> 258 -> 257 -> 443 -> 442 -> 340 -> 339 -> 338 -> 337 -> 336 -> 335 -> 344 -> 343 -> 342 -> 341 -> 334 -> 333 -> 332 -> 221 -> 220 -> 219 -> 218 -> 217 -> 216 -> 215 -> 214 -> 213 -> 212 -> 211 -> 210 -> 209 -> 208 -> 207 -> 206 -> 205 -> 204 -> 203 -> 202 -> 201 -> 331 -> 330 -> 329 -> 328 -> 327 -> 387 -> 388 -> 359 -> 358 -> 360 -> 361 -> 389 -> 392 -> 391 -> 390 -> 326 -> 325 -> 324 -> 323 -> 322 -> 321 -> 167 -> 168 -> 169 -> 170 -> 171 -> 420 -> 419 -> 418 -> 417 -> 411 -> 412 -> 413 -> 414 -> 415 -> 416 -> 166 -> 165 -> 164 -> 163 -> 162 -> 161 -> 152 -> 153 -> 154 -> 155 -> 156 -> 157 -> 158 -> 159 -> 160 -> 222 -> 223 -> 410 -> 409 -> 408 -> 224 -> 225 -> 249 -> 250 -> 274 -> 197 -> 196 -> 195 -> 194 -> 253 -> 252 -> 251 -> 421 -> 422 -> 147 -> 148 -> 149 -> 150 -> 151 -> 362 -> 193 -> 192 -> 191 -> 190 -> 238 -> 239 -> 240 -> 241 -> 242 -> 243 -> 244 -> 245 -> 246 -> 247 -> 179 -> 178 -> 177 -> 9 -> 8 -> 7 -> 6 -> 5 -> 4 -> 3 -> 2 -> 1 -> 0\n",
      "\n"
     ]
    },
    {
     "data": {
      "application/javascript": [
       "\n",
       "        if (window._pyforest_update_imports_cell) { window._pyforest_update_imports_cell('from sklearn.manifold import TSNE\\nimport pandas as pd\\nimport re'); }\n",
       "    "
      ],
      "text/plain": [
       "<IPython.core.display.Javascript object>"
      ]
     },
     "metadata": {},
     "output_type": "display_data"
    }
   ],
   "source": [
    "# [START import]\n",
    "from __future__ import print_function\n",
    "from ortools.constraint_solver import routing_enums_pb2\n",
    "from ortools.constraint_solver import pywrapcp\n",
    "# [END import]\n",
    "\n",
    "# [START data_model]\n",
    "def create_data_model(matrix_union_sqmatrix_716):\n",
    "    \"\"\"Stores the data for the problem.\"\"\"\n",
    "    data = {}\n",
    "    data['distance_matrix'] = matrix_union_sq\n",
    "    data['num_vehicles'] = 1\n",
    "    data['depot'] = 0\n",
    "    return data\n",
    "    # [END data_model]\n",
    "\n",
    "\n",
    "# [START solution_printer]\n",
    "def print_solution(manager, routing, solution):\n",
    "    \"\"\"Prints solution on console.\"\"\"\n",
    "    total_seconds = solution.ObjectiveValue()\n",
    "    print('Objective: {} seconds'.format(total_seconds))\n",
    "    index = routing.Start(0)\n",
    "    plan_output = 'Route for vehicle 0:\\n'\n",
    "    route_distance = 0\n",
    "    while not routing.IsEnd(index):\n",
    "        plan_output += ' {} ->'.format(manager.IndexToNode(index))\n",
    "        previous_index = index\n",
    "        index = solution.Value(routing.NextVar(index))\n",
    "        route_distance += routing.GetArcCostForVehicle(previous_index, index, 0)\n",
    "    plan_output += ' {}\\n'.format(manager.IndexToNode(index))\n",
    "    print(plan_output)\n",
    "    plan_output += 'Route distance: {}miles\\n'.format(route_distance)\n",
    "    return total_seconds, plan_output\n",
    "    # [END solution_printer]\n",
    "\n",
    "\n",
    "def main():\n",
    "    \"\"\"Entry point of the program.\"\"\"\n",
    "    # Instantiate the data problem.\n",
    "    # [START data]\n",
    "    data = create_data_model(matrix_union_sq)\n",
    "    # [END data]\n",
    "\n",
    "    # Create the routing index manager.\n",
    "    # [START index_manager]\n",
    "    manager = pywrapcp.RoutingIndexManager(len(data['distance_matrix']),\n",
    "                                           data['num_vehicles'], data['depot'])\n",
    "    # [END index_manager]\n",
    "\n",
    "    # Create Routing Model.\n",
    "    # [START routing_model]\n",
    "    routing = pywrapcp.RoutingModel(manager)\n",
    "\n",
    "    # [END routing_model]\n",
    "\n",
    "    # [START transit_callback]\n",
    "    def distance_callback(from_index, to_index):\n",
    "        \"\"\"Returns the distance between the two nodes.\"\"\"\n",
    "        # Convert from routing variable Index to distance matrix NodeIndex.\n",
    "        from_node = manager.IndexToNode(from_index)\n",
    "        to_node = manager.IndexToNode(to_index)\n",
    "        return data['distance_matrix'][from_node][to_node]\n",
    "\n",
    "    transit_callback_index = routing.RegisterTransitCallback(distance_callback)\n",
    "    # [END transit_callback]\n",
    "\n",
    "    # Define cost of each arc.\n",
    "    # [START arc_cost]\n",
    "    routing.SetArcCostEvaluatorOfAllVehicles(transit_callback_index)\n",
    "    # [END arc_cost]\n",
    "\n",
    "    # Setting first solution heuristic.\n",
    "    # [START parameters]\n",
    "    search_parameters = pywrapcp.DefaultRoutingSearchParameters()\n",
    "    search_parameters.first_solution_strategy = (\n",
    "        routing_enums_pb2.FirstSolutionStrategy.PATH_CHEAPEST_ARC)\n",
    "    # [END parameters]\n",
    "\n",
    "    # Solve the problem.\n",
    "    # [START solve]\n",
    "    solution = routing.SolveWithParameters(search_parameters)\n",
    "    # [END solve]\n",
    "\n",
    "    # Print solution on console.\n",
    "    # [START print_solution]\n",
    "    if solution:\n",
    "        seconds, route_list = print_solution(manager, routing, solution)\n",
    "    route_list_text_match = re.match(\".+vehicle\\s0:\\\\n\\s(.+0)\\\\n\", route_list)\n",
    "    stops_as_text = route_list_text_match.group(1)\n",
    "    list_of_stops = stops_as_text.split(\" -> \")\n",
    "    \n",
    "    return seconds, list_of_stops\n",
    "    # [END print_solution]\n",
    "\n",
    "\n",
    "if __name__ == '__main__':\n",
    "    seconds, list_of_stops = main()\n",
    "    \n",
    "# [END program]"
   ]
  },
  {
   "cell_type": "code",
   "execution_count": 505,
   "metadata": {
    "ExecuteTime": {
     "end_time": "2020-07-27T17:45:02.994822Z",
     "start_time": "2020-07-27T17:45:02.817635Z"
    }
   },
   "outputs": [],
   "source": [
    "data_union_sq = results_to_df(seconds, list_of_stops, \"635_L03_R20\")"
   ]
  },
  {
   "cell_type": "code",
   "execution_count": 510,
   "metadata": {
    "ExecuteTime": {
     "end_time": "2020-07-27T17:46:01.648892Z",
     "start_time": "2020-07-27T17:46:01.640508Z"
    }
   },
   "outputs": [],
   "source": [
    "TSP_solutions_df.loc[1] = data_union_sq"
   ]
  },
  {
   "cell_type": "markdown",
   "metadata": {},
   "source": [
    "#### Appears 9 times"
   ]
  },
  {
   "cell_type": "code",
   "execution_count": 513,
   "metadata": {
    "ExecuteTime": {
     "end_time": "2020-07-27T17:46:36.140675Z",
     "start_time": "2020-07-27T17:46:36.135987Z"
    }
   },
   "outputs": [],
   "source": [
    "most_connected_station_9 = [k for k, v in Counter(node_count_dict.items()) if v == 9]"
   ]
  },
  {
   "cell_type": "code",
   "execution_count": 514,
   "metadata": {
    "ExecuteTime": {
     "end_time": "2020-07-27T17:46:38.902879Z",
     "start_time": "2020-07-27T17:46:38.897588Z"
    }
   },
   "outputs": [
    {
     "data": {
      "text/plain": [
       "['127_725_902_R16', '235_D24_R31']"
      ]
     },
     "execution_count": 514,
     "metadata": {},
     "output_type": "execute_result"
    }
   ],
   "source": [
    "most_connected_station_9"
   ]
  },
  {
   "cell_type": "code",
   "execution_count": 515,
   "metadata": {
    "ExecuteTime": {
     "end_time": "2020-07-27T17:46:50.645738Z",
     "start_time": "2020-07-27T17:46:50.631817Z"
    }
   },
   "outputs": [
    {
     "data": {
      "text/html": [
       "<div>\n",
       "<style scoped>\n",
       "    .dataframe tbody tr th:only-of-type {\n",
       "        vertical-align: middle;\n",
       "    }\n",
       "\n",
       "    .dataframe tbody tr th {\n",
       "        vertical-align: top;\n",
       "    }\n",
       "\n",
       "    .dataframe thead th {\n",
       "        text-align: right;\n",
       "    }\n",
       "</style>\n",
       "<table border=\"1\" class=\"dataframe\">\n",
       "  <thead>\n",
       "    <tr style=\"text-align: right;\">\n",
       "      <th></th>\n",
       "      <th>stop_id</th>\n",
       "      <th>stop_name</th>\n",
       "      <th>stop_lat</th>\n",
       "      <th>stop_lon</th>\n",
       "      <th>location_type</th>\n",
       "      <th>parent_station</th>\n",
       "    </tr>\n",
       "  </thead>\n",
       "  <tbody>\n",
       "    <tr>\n",
       "      <th>72</th>\n",
       "      <td>127</td>\n",
       "      <td>Times Sq - 42 St</td>\n",
       "      <td>40.75529</td>\n",
       "      <td>-73.987495</td>\n",
       "      <td>1</td>\n",
       "      <td>NaN</td>\n",
       "    </tr>\n",
       "  </tbody>\n",
       "</table>\n",
       "</div>"
      ],
      "text/plain": [
       "   stop_id         stop_name  stop_lat   stop_lon  location_type  \\\n",
       "72     127  Times Sq - 42 St  40.75529 -73.987495              1   \n",
       "\n",
       "    parent_station  \n",
       "72             NaN  "
      ]
     },
     "execution_count": 515,
     "metadata": {},
     "output_type": "execute_result"
    }
   ],
   "source": [
    "non_unique_stations_df[non_unique_stations_df['stop_id'].str.contains(\"127\")]"
   ]
  },
  {
   "cell_type": "code",
   "execution_count": 516,
   "metadata": {
    "ExecuteTime": {
     "end_time": "2020-07-27T17:46:59.250660Z",
     "start_time": "2020-07-27T17:46:59.237132Z"
    }
   },
   "outputs": [
    {
     "data": {
      "text/html": [
       "<div>\n",
       "<style scoped>\n",
       "    .dataframe tbody tr th:only-of-type {\n",
       "        vertical-align: middle;\n",
       "    }\n",
       "\n",
       "    .dataframe tbody tr th {\n",
       "        vertical-align: top;\n",
       "    }\n",
       "\n",
       "    .dataframe thead th {\n",
       "        text-align: right;\n",
       "    }\n",
       "</style>\n",
       "<table border=\"1\" class=\"dataframe\">\n",
       "  <thead>\n",
       "    <tr style=\"text-align: right;\">\n",
       "      <th></th>\n",
       "      <th>stop_id</th>\n",
       "      <th>stop_name</th>\n",
       "      <th>stop_lat</th>\n",
       "      <th>stop_lon</th>\n",
       "      <th>location_type</th>\n",
       "      <th>parent_station</th>\n",
       "    </tr>\n",
       "  </thead>\n",
       "  <tbody>\n",
       "    <tr>\n",
       "      <th>210</th>\n",
       "      <td>235</td>\n",
       "      <td>Atlantic Av - Barclays Ctr</td>\n",
       "      <td>40.684359</td>\n",
       "      <td>-73.977666</td>\n",
       "      <td>1</td>\n",
       "      <td>NaN</td>\n",
       "    </tr>\n",
       "  </tbody>\n",
       "</table>\n",
       "</div>"
      ],
      "text/plain": [
       "    stop_id                   stop_name   stop_lat   stop_lon  location_type  \\\n",
       "210     235  Atlantic Av - Barclays Ctr  40.684359 -73.977666              1   \n",
       "\n",
       "     parent_station  \n",
       "210             NaN  "
      ]
     },
     "execution_count": 516,
     "metadata": {},
     "output_type": "execute_result"
    }
   ],
   "source": [
    "non_unique_stations_df[non_unique_stations_df['stop_id'].str.contains(\"235\")]"
   ]
  },
  {
   "cell_type": "markdown",
   "metadata": {},
   "source": [
    "##### Times Sq"
   ]
  },
  {
   "cell_type": "code",
   "execution_count": 517,
   "metadata": {
    "ExecuteTime": {
     "end_time": "2020-07-27T17:47:31.307546Z",
     "start_time": "2020-07-27T17:47:31.303557Z"
    }
   },
   "outputs": [],
   "source": [
    "dict_times_sq = make_station_first_in_matrix(dist_matrix_dictionary, '127_725_902_R16')\n",
    "matrix_times_sq = make_dict_a_matrix(dict_times_sq)"
   ]
  },
  {
   "cell_type": "code",
   "execution_count": 518,
   "metadata": {
    "ExecuteTime": {
     "end_time": "2020-07-27T17:47:59.635539Z",
     "start_time": "2020-07-27T17:47:55.845413Z"
    },
    "code_folding": [
     0
    ]
   },
   "outputs": [
    {
     "name": "stdout",
     "output_type": "stream",
     "text": [
      "Objective: 70410 seconds\n",
      "Route for vehicle 0:\n",
      " 0 -> 24 -> 23 -> 22 -> 21 -> 20 -> 19 -> 18 -> 17 -> 16 -> 15 -> 14 -> 13 -> 12 -> 11 -> 10 -> 176 -> 175 -> 174 -> 173 -> 172 -> 190 -> 191 -> 192 -> 193 -> 362 -> 145 -> 144 -> 143 -> 142 -> 114 -> 115 -> 116 -> 117 -> 118 -> 119 -> 120 -> 121 -> 122 -> 123 -> 124 -> 125 -> 126 -> 127 -> 128 -> 129 -> 130 -> 131 -> 91 -> 92 -> 61 -> 60 -> 59 -> 58 -> 109 -> 110 -> 111 -> 112 -> 113 -> 38 -> 39 -> 40 -> 41 -> 42 -> 43 -> 44 -> 45 -> 46 -> 47 -> 48 -> 49 -> 50 -> 51 -> 52 -> 53 -> 54 -> 55 -> 56 -> 57 -> 105 -> 132 -> 133 -> 134 -> 135 -> 136 -> 137 -> 138 -> 139 -> 140 -> 141 -> 169 -> 168 -> 320 -> 319 -> 318 -> 317 -> 316 -> 315 -> 160 -> 161 -> 162 -> 163 -> 164 -> 165 -> 166 -> 416 -> 415 -> 414 -> 413 -> 412 -> 411 -> 417 -> 418 -> 419 -> 420 -> 171 -> 194 -> 195 -> 274 -> 196 -> 197 -> 198 -> 397 -> 396 -> 395 -> 394 -> 393 -> 254 -> 284 -> 285 -> 286 -> 287 -> 199 -> 288 -> 289 -> 290 -> 291 -> 292 -> 293 -> 294 -> 295 -> 296 -> 297 -> 298 -> 299 -> 300 -> 301 -> 302 -> 303 -> 304 -> 305 -> 272 -> 271 -> 270 -> 269 -> 268 -> 267 -> 266 -> 265 -> 264 -> 263 -> 262 -> 261 -> 260 -> 259 -> 258 -> 257 -> 443 -> 442 -> 204 -> 205 -> 206 -> 207 -> 208 -> 209 -> 210 -> 211 -> 212 -> 213 -> 214 -> 215 -> 216 -> 217 -> 218 -> 219 -> 220 -> 221 -> 332 -> 333 -> 334 -> 341 -> 342 -> 343 -> 344 -> 335 -> 336 -> 337 -> 338 -> 339 -> 340 -> 203 -> 202 -> 201 -> 331 -> 330 -> 329 -> 328 -> 327 -> 388 -> 387 -> 373 -> 386 -> 385 -> 384 -> 383 -> 372 -> 371 -> 370 -> 369 -> 368 -> 367 -> 366 -> 365 -> 364 -> 363 -> 146 -> 423 -> 424 -> 407 -> 425 -> 426 -> 427 -> 428 -> 429 -> 200 -> 430 -> 69 -> 70 -> 71 -> 72 -> 73 -> 81 -> 82 -> 83 -> 84 -> 85 -> 86 -> 87 -> 88 -> 89 -> 90 -> 74 -> 75 -> 76 -> 77 -> 78 -> 79 -> 80 -> 431 -> 432 -> 433 -> 434 -> 435 -> 436 -> 437 -> 438 -> 439 -> 440 -> 441 -> 398 -> 399 -> 400 -> 401 -> 402 -> 403 -> 404 -> 405 -> 406 -> 273 -> 237 -> 236 -> 235 -> 234 -> 233 -> 232 -> 231 -> 230 -> 229 -> 228 -> 227 -> 226 -> 256 -> 255 -> 253 -> 252 -> 170 -> 25 -> 26 -> 27 -> 28 -> 29 -> 30 -> 31 -> 32 -> 33 -> 35 -> 36 -> 37 -> 34 -> 62 -> 63 -> 64 -> 65 -> 68 -> 67 -> 66 -> 108 -> 107 -> 106 -> 151 -> 150 -> 149 -> 148 -> 147 -> 422 -> 421 -> 251 -> 250 -> 249 -> 225 -> 410 -> 409 -> 408 -> 224 -> 223 -> 222 -> 159 -> 158 -> 157 -> 156 -> 155 -> 154 -> 153 -> 152 -> 314 -> 313 -> 312 -> 311 -> 310 -> 309 -> 281 -> 280 -> 275 -> 276 -> 277 -> 278 -> 279 -> 308 -> 306 -> 307 -> 345 -> 346 -> 347 -> 348 -> 349 -> 350 -> 351 -> 352 -> 353 -> 354 -> 355 -> 356 -> 377 -> 378 -> 379 -> 380 -> 381 -> 382 -> 374 -> 375 -> 376 -> 357 -> 358 -> 359 -> 360 -> 361 -> 389 -> 392 -> 391 -> 390 -> 326 -> 325 -> 324 -> 323 -> 322 -> 321 -> 167 -> 282 -> 283 -> 248 -> 189 -> 188 -> 187 -> 186 -> 185 -> 184 -> 183 -> 182 -> 181 -> 180 -> 238 -> 239 -> 240 -> 241 -> 242 -> 243 -> 244 -> 245 -> 246 -> 93 -> 94 -> 95 -> 96 -> 97 -> 98 -> 99 -> 100 -> 101 -> 102 -> 103 -> 104 -> 247 -> 179 -> 178 -> 177 -> 9 -> 8 -> 7 -> 6 -> 5 -> 4 -> 3 -> 2 -> 1 -> 0\n",
      "\n"
     ]
    },
    {
     "data": {
      "application/javascript": [
       "\n",
       "        if (window._pyforest_update_imports_cell) { window._pyforest_update_imports_cell('from sklearn.manifold import TSNE\\nimport pandas as pd\\nimport re'); }\n",
       "    "
      ],
      "text/plain": [
       "<IPython.core.display.Javascript object>"
      ]
     },
     "metadata": {},
     "output_type": "display_data"
    }
   ],
   "source": [
    "# [START import]\n",
    "from __future__ import print_function\n",
    "from ortools.constraint_solver import routing_enums_pb2\n",
    "from ortools.constraint_solver import pywrapcp\n",
    "# [END import]\n",
    "\n",
    "# [START data_model]\n",
    "def create_data_model(matrix_times_sq):\n",
    "    \"\"\"Stores the data for the problem.\"\"\"\n",
    "    data = {}\n",
    "    data['distance_matrix'] = matrix_times_sq\n",
    "    data['num_vehicles'] = 1\n",
    "    data['depot'] = 0\n",
    "    return data\n",
    "    # [END data_model]\n",
    "\n",
    "\n",
    "# [START solution_printer]\n",
    "def print_solution(manager, routing, solution):\n",
    "    \"\"\"Prints solution on console.\"\"\"\n",
    "    total_seconds = solution.ObjectiveValue()\n",
    "    print('Objective: {} seconds'.format(total_seconds))\n",
    "    index = routing.Start(0)\n",
    "    plan_output = 'Route for vehicle 0:\\n'\n",
    "    route_distance = 0\n",
    "    while not routing.IsEnd(index):\n",
    "        plan_output += ' {} ->'.format(manager.IndexToNode(index))\n",
    "        previous_index = index\n",
    "        index = solution.Value(routing.NextVar(index))\n",
    "        route_distance += routing.GetArcCostForVehicle(previous_index, index, 0)\n",
    "    plan_output += ' {}\\n'.format(manager.IndexToNode(index))\n",
    "    print(plan_output)\n",
    "    plan_output += 'Route distance: {}miles\\n'.format(route_distance)\n",
    "    return total_seconds, plan_output\n",
    "    # [END solution_printer]\n",
    "\n",
    "\n",
    "def main():\n",
    "    \"\"\"Entry point of the program.\"\"\"\n",
    "    # Instantiate the data problem.\n",
    "    # [START data]\n",
    "    data = create_data_model(matrix_times_sq)\n",
    "    # [END data]\n",
    "\n",
    "    # Create the routing index manager.\n",
    "    # [START index_manager]\n",
    "    manager = pywrapcp.RoutingIndexManager(len(data['distance_matrix']),\n",
    "                                           data['num_vehicles'], data['depot'])\n",
    "    # [END index_manager]\n",
    "\n",
    "    # Create Routing Model.\n",
    "    # [START routing_model]\n",
    "    routing = pywrapcp.RoutingModel(manager)\n",
    "\n",
    "    # [END routing_model]\n",
    "\n",
    "    # [START transit_callback]\n",
    "    def distance_callback(from_index, to_index):\n",
    "        \"\"\"Returns the distance between the two nodes.\"\"\"\n",
    "        # Convert from routing variable Index to distance matrix NodeIndex.\n",
    "        from_node = manager.IndexToNode(from_index)\n",
    "        to_node = manager.IndexToNode(to_index)\n",
    "        return data['distance_matrix'][from_node][to_node]\n",
    "\n",
    "    transit_callback_index = routing.RegisterTransitCallback(distance_callback)\n",
    "    # [END transit_callback]\n",
    "\n",
    "    # Define cost of each arc.\n",
    "    # [START arc_cost]\n",
    "    routing.SetArcCostEvaluatorOfAllVehicles(transit_callback_index)\n",
    "    # [END arc_cost]\n",
    "\n",
    "    # Setting first solution heuristic.\n",
    "    # [START parameters]\n",
    "    search_parameters = pywrapcp.DefaultRoutingSearchParameters()\n",
    "    search_parameters.first_solution_strategy = (\n",
    "        routing_enums_pb2.FirstSolutionStrategy.PATH_CHEAPEST_ARC)\n",
    "    # [END parameters]\n",
    "\n",
    "    # Solve the problem.\n",
    "    # [START solve]\n",
    "    solution = routing.SolveWithParameters(search_parameters)\n",
    "    # [END solve]\n",
    "\n",
    "    # Print solution on console.\n",
    "    # [START print_solution]\n",
    "    if solution:\n",
    "        seconds, route_list = print_solution(manager, routing, solution)\n",
    "    route_list_text_match = re.match(\".+vehicle\\s0:\\\\n\\s(.+0)\\\\n\", route_list)\n",
    "    stops_as_text = route_list_text_match.group(1)\n",
    "    list_of_stops = stops_as_text.split(\" -> \")\n",
    "    \n",
    "    return seconds, list_of_stops\n",
    "    # [END print_solution]\n",
    "\n",
    "\n",
    "if __name__ == '__main__':\n",
    "    seconds, list_of_stops = main()\n",
    "    \n",
    "# [END program]"
   ]
  },
  {
   "cell_type": "code",
   "execution_count": 519,
   "metadata": {
    "ExecuteTime": {
     "end_time": "2020-07-27T17:48:17.705500Z",
     "start_time": "2020-07-27T17:48:17.527481Z"
    }
   },
   "outputs": [],
   "source": [
    "data_times_sq = results_to_df(seconds, list_of_stops, \"127_725_902_R16\")"
   ]
  },
  {
   "cell_type": "code",
   "execution_count": 520,
   "metadata": {
    "ExecuteTime": {
     "end_time": "2020-07-27T17:48:26.594293Z",
     "start_time": "2020-07-27T17:48:26.585908Z"
    }
   },
   "outputs": [],
   "source": [
    "TSP_solutions_df.loc[2] = data_times_sq"
   ]
  },
  {
   "cell_type": "markdown",
   "metadata": {
    "ExecuteTime": {
     "end_time": "2020-07-27T17:48:29.130414Z",
     "start_time": "2020-07-27T17:48:29.113703Z"
    }
   },
   "source": [
    "##### Barclays Ctr"
   ]
  },
  {
   "cell_type": "code",
   "execution_count": 522,
   "metadata": {
    "ExecuteTime": {
     "end_time": "2020-07-27T17:49:28.248212Z",
     "start_time": "2020-07-27T17:49:28.244330Z"
    }
   },
   "outputs": [],
   "source": [
    "dict_barclays = make_station_first_in_matrix(dist_matrix_dictionary, '235_D24_R31')\n",
    "matrix_barclays = make_dict_a_matrix(dict_barclays)"
   ]
  },
  {
   "cell_type": "code",
   "execution_count": 523,
   "metadata": {
    "ExecuteTime": {
     "end_time": "2020-07-27T17:49:57.052827Z",
     "start_time": "2020-07-27T17:49:52.533363Z"
    },
    "code_folding": [
     0
    ]
   },
   "outputs": [
    {
     "name": "stdout",
     "output_type": "stream",
     "text": [
      "Objective: 63660 seconds\n",
      "Route for vehicle 0:\n",
      " 0 -> 69 -> 68 -> 67 -> 66 -> 65 -> 64 -> 63 -> 62 -> 61 -> 60 -> 59 -> 92 -> 91 -> 58 -> 57 -> 56 -> 55 -> 54 -> 53 -> 52 -> 51 -> 50 -> 49 -> 48 -> 47 -> 46 -> 45 -> 44 -> 43 -> 42 -> 41 -> 40 -> 39 -> 38 -> 37 -> 36 -> 35 -> 34 -> 33 -> 32 -> 31 -> 30 -> 29 -> 28 -> 27 -> 26 -> 25 -> 24 -> 23 -> 22 -> 21 -> 20 -> 19 -> 18 -> 17 -> 16 -> 15 -> 14 -> 13 -> 12 -> 11 -> 10 -> 176 -> 175 -> 174 -> 173 -> 172 -> 180 -> 181 -> 182 -> 183 -> 184 -> 185 -> 186 -> 187 -> 188 -> 170 -> 142 -> 143 -> 144 -> 145 -> 108 -> 107 -> 106 -> 151 -> 150 -> 149 -> 148 -> 147 -> 422 -> 421 -> 251 -> 250 -> 249 -> 225 -> 410 -> 409 -> 408 -> 224 -> 223 -> 222 -> 160 -> 315 -> 316 -> 317 -> 318 -> 319 -> 320 -> 417 -> 418 -> 419 -> 420 -> 171 -> 252 -> 253 -> 194 -> 195 -> 274 -> 196 -> 197 -> 198 -> 397 -> 396 -> 395 -> 394 -> 393 -> 254 -> 284 -> 285 -> 286 -> 255 -> 362 -> 193 -> 192 -> 191 -> 190 -> 189 -> 248 -> 283 -> 282 -> 167 -> 321 -> 322 -> 323 -> 324 -> 325 -> 326 -> 390 -> 391 -> 392 -> 327 -> 328 -> 329 -> 330 -> 331 -> 201 -> 202 -> 203 -> 340 -> 339 -> 338 -> 337 -> 336 -> 335 -> 344 -> 343 -> 342 -> 341 -> 334 -> 333 -> 332 -> 221 -> 220 -> 219 -> 218 -> 217 -> 216 -> 215 -> 214 -> 213 -> 212 -> 211 -> 210 -> 209 -> 208 -> 207 -> 206 -> 205 -> 204 -> 442 -> 443 -> 257 -> 258 -> 259 -> 260 -> 261 -> 262 -> 263 -> 264 -> 265 -> 266 -> 267 -> 268 -> 269 -> 270 -> 271 -> 272 -> 305 -> 304 -> 303 -> 302 -> 301 -> 300 -> 299 -> 298 -> 297 -> 296 -> 295 -> 294 -> 293 -> 292 -> 291 -> 290 -> 289 -> 288 -> 199 -> 287 -> 256 -> 226 -> 227 -> 228 -> 229 -> 230 -> 231 -> 232 -> 233 -> 234 -> 235 -> 236 -> 237 -> 273 -> 406 -> 405 -> 404 -> 403 -> 402 -> 401 -> 400 -> 399 -> 398 -> 441 -> 440 -> 439 -> 438 -> 437 -> 436 -> 435 -> 434 -> 433 -> 432 -> 431 -> 80 -> 79 -> 78 -> 77 -> 76 -> 75 -> 74 -> 90 -> 89 -> 88 -> 87 -> 86 -> 85 -> 84 -> 83 -> 82 -> 81 -> 73 -> 72 -> 71 -> 70 -> 430 -> 200 -> 429 -> 428 -> 427 -> 426 -> 425 -> 407 -> 424 -> 423 -> 146 -> 363 -> 364 -> 365 -> 366 -> 367 -> 368 -> 369 -> 370 -> 371 -> 372 -> 383 -> 384 -> 385 -> 386 -> 373 -> 387 -> 388 -> 389 -> 361 -> 360 -> 359 -> 358 -> 357 -> 376 -> 375 -> 374 -> 382 -> 381 -> 380 -> 379 -> 378 -> 377 -> 356 -> 355 -> 354 -> 353 -> 352 -> 351 -> 350 -> 349 -> 348 -> 347 -> 346 -> 345 -> 307 -> 306 -> 308 -> 279 -> 278 -> 277 -> 276 -> 275 -> 280 -> 281 -> 309 -> 310 -> 311 -> 312 -> 313 -> 314 -> 159 -> 158 -> 157 -> 156 -> 155 -> 154 -> 153 -> 152 -> 161 -> 162 -> 163 -> 164 -> 165 -> 166 -> 416 -> 415 -> 414 -> 413 -> 412 -> 411 -> 168 -> 169 -> 141 -> 140 -> 139 -> 138 -> 137 -> 136 -> 135 -> 134 -> 133 -> 132 -> 114 -> 115 -> 116 -> 117 -> 118 -> 119 -> 120 -> 121 -> 122 -> 123 -> 124 -> 125 -> 126 -> 127 -> 128 -> 129 -> 130 -> 131 -> 105 -> 113 -> 112 -> 111 -> 110 -> 109 -> 104 -> 103 -> 102 -> 101 -> 100 -> 99 -> 98 -> 97 -> 96 -> 95 -> 94 -> 93 -> 246 -> 245 -> 244 -> 243 -> 242 -> 241 -> 240 -> 239 -> 238 -> 247 -> 179 -> 178 -> 177 -> 9 -> 8 -> 7 -> 6 -> 5 -> 4 -> 3 -> 2 -> 1 -> 0\n",
      "\n"
     ]
    },
    {
     "data": {
      "application/javascript": [
       "\n",
       "        if (window._pyforest_update_imports_cell) { window._pyforest_update_imports_cell('from sklearn.manifold import TSNE\\nimport pandas as pd\\nimport re'); }\n",
       "    "
      ],
      "text/plain": [
       "<IPython.core.display.Javascript object>"
      ]
     },
     "metadata": {},
     "output_type": "display_data"
    }
   ],
   "source": [
    "# [START import]\n",
    "from __future__ import print_function\n",
    "from ortools.constraint_solver import routing_enums_pb2\n",
    "from ortools.constraint_solver import pywrapcp\n",
    "# [END import]\n",
    "\n",
    "# [START data_model]\n",
    "def create_data_model(matrix_barclays):\n",
    "    \"\"\"Stores the data for the problem.\"\"\"\n",
    "    data = {}\n",
    "    data['distance_matrix'] = matrix_barclays\n",
    "    data['num_vehicles'] = 1\n",
    "    data['depot'] = 0\n",
    "    return data\n",
    "    # [END data_model]\n",
    "\n",
    "\n",
    "# [START solution_printer]\n",
    "def print_solution(manager, routing, solution):\n",
    "    \"\"\"Prints solution on console.\"\"\"\n",
    "    total_seconds = solution.ObjectiveValue()\n",
    "    print('Objective: {} seconds'.format(total_seconds))\n",
    "    index = routing.Start(0)\n",
    "    plan_output = 'Route for vehicle 0:\\n'\n",
    "    route_distance = 0\n",
    "    while not routing.IsEnd(index):\n",
    "        plan_output += ' {} ->'.format(manager.IndexToNode(index))\n",
    "        previous_index = index\n",
    "        index = solution.Value(routing.NextVar(index))\n",
    "        route_distance += routing.GetArcCostForVehicle(previous_index, index, 0)\n",
    "    plan_output += ' {}\\n'.format(manager.IndexToNode(index))\n",
    "    print(plan_output)\n",
    "    plan_output += 'Route distance: {}miles\\n'.format(route_distance)\n",
    "    return total_seconds, plan_output\n",
    "    # [END solution_printer]\n",
    "\n",
    "\n",
    "def main():\n",
    "    \"\"\"Entry point of the program.\"\"\"\n",
    "    # Instantiate the data problem.\n",
    "    # [START data]\n",
    "    data = create_data_model(matrix_barclays)\n",
    "    # [END data]\n",
    "\n",
    "    # Create the routing index manager.\n",
    "    # [START index_manager]\n",
    "    manager = pywrapcp.RoutingIndexManager(len(data['distance_matrix']),\n",
    "                                           data['num_vehicles'], data['depot'])\n",
    "    # [END index_manager]\n",
    "\n",
    "    # Create Routing Model.\n",
    "    # [START routing_model]\n",
    "    routing = pywrapcp.RoutingModel(manager)\n",
    "\n",
    "    # [END routing_model]\n",
    "\n",
    "    # [START transit_callback]\n",
    "    def distance_callback(from_index, to_index):\n",
    "        \"\"\"Returns the distance between the two nodes.\"\"\"\n",
    "        # Convert from routing variable Index to distance matrix NodeIndex.\n",
    "        from_node = manager.IndexToNode(from_index)\n",
    "        to_node = manager.IndexToNode(to_index)\n",
    "        return data['distance_matrix'][from_node][to_node]\n",
    "\n",
    "    transit_callback_index = routing.RegisterTransitCallback(distance_callback)\n",
    "    # [END transit_callback]\n",
    "\n",
    "    # Define cost of each arc.\n",
    "    # [START arc_cost]\n",
    "    routing.SetArcCostEvaluatorOfAllVehicles(transit_callback_index)\n",
    "    # [END arc_cost]\n",
    "\n",
    "    # Setting first solution heuristic.\n",
    "    # [START parameters]\n",
    "    search_parameters = pywrapcp.DefaultRoutingSearchParameters()\n",
    "    search_parameters.first_solution_strategy = (\n",
    "        routing_enums_pb2.FirstSolutionStrategy.PATH_CHEAPEST_ARC)\n",
    "    # [END parameters]\n",
    "\n",
    "    # Solve the problem.\n",
    "    # [START solve]\n",
    "    solution = routing.SolveWithParameters(search_parameters)\n",
    "    # [END solve]\n",
    "\n",
    "    # Print solution on console.\n",
    "    # [START print_solution]\n",
    "    if solution:\n",
    "        seconds, route_list = print_solution(manager, routing, solution)\n",
    "    route_list_text_match = re.match(\".+vehicle\\s0:\\\\n\\s(.+0)\\\\n\", route_list)\n",
    "    stops_as_text = route_list_text_match.group(1)\n",
    "    list_of_stops = stops_as_text.split(\" -> \")\n",
    "    \n",
    "    return seconds, list_of_stops\n",
    "    # [END print_solution]\n",
    "\n",
    "\n",
    "if __name__ == '__main__':\n",
    "    seconds, list_of_stops = main()\n",
    "    \n",
    "# [END program]"
   ]
  },
  {
   "cell_type": "code",
   "execution_count": 524,
   "metadata": {
    "ExecuteTime": {
     "end_time": "2020-07-27T17:50:18.829829Z",
     "start_time": "2020-07-27T17:50:18.652422Z"
    }
   },
   "outputs": [],
   "source": [
    "data_barclays = results_to_df(seconds, list_of_stops, \"235_D24_R31\")"
   ]
  },
  {
   "cell_type": "code",
   "execution_count": 525,
   "metadata": {
    "ExecuteTime": {
     "end_time": "2020-07-27T17:50:27.229686Z",
     "start_time": "2020-07-27T17:50:27.221470Z"
    }
   },
   "outputs": [],
   "source": [
    "TSP_solutions_df.loc[3] = data_barclays"
   ]
  },
  {
   "cell_type": "code",
   "execution_count": 526,
   "metadata": {
    "ExecuteTime": {
     "end_time": "2020-07-27T17:50:29.410723Z",
     "start_time": "2020-07-27T17:50:29.392363Z"
    }
   },
   "outputs": [
    {
     "data": {
      "text/html": [
       "<div>\n",
       "<style scoped>\n",
       "    .dataframe tbody tr th:only-of-type {\n",
       "        vertical-align: middle;\n",
       "    }\n",
       "\n",
       "    .dataframe tbody tr th {\n",
       "        vertical-align: top;\n",
       "    }\n",
       "\n",
       "    .dataframe thead th {\n",
       "        text-align: right;\n",
       "    }\n",
       "</style>\n",
       "<table border=\"1\" class=\"dataframe\">\n",
       "  <thead>\n",
       "    <tr style=\"text-align: right;\">\n",
       "      <th></th>\n",
       "      <th>Starting_station</th>\n",
       "      <th>Station_id_route</th>\n",
       "      <th>Station_name_route</th>\n",
       "      <th>Time_seconds</th>\n",
       "      <th>Time_hours</th>\n",
       "    </tr>\n",
       "  </thead>\n",
       "  <tbody>\n",
       "    <tr>\n",
       "      <th>0</th>\n",
       "      <td>716</td>\n",
       "      <td>[716, 715, 714, 713, 712, 711, 710_G14, 709, 7...</td>\n",
       "      <td>[33 St, 40 St, 46 St, 52 St, Woodside - 61 St,...</td>\n",
       "      <td>45750</td>\n",
       "      <td>12.71</td>\n",
       "    </tr>\n",
       "    <tr>\n",
       "      <th>1</th>\n",
       "      <td>635_L03_R20</td>\n",
       "      <td>[635_L03_R20, 634, 633, 632, 631_723_901, 630,...</td>\n",
       "      <td>[14 St - Union Sq / Union Sq - 14 St / 14 St -...</td>\n",
       "      <td>48030</td>\n",
       "      <td>13.34</td>\n",
       "    </tr>\n",
       "    <tr>\n",
       "      <th>2</th>\n",
       "      <td>127_725_902_R16</td>\n",
       "      <td>[127_725_902_R16, 126, 125_A24, 124, 123, 122,...</td>\n",
       "      <td>[Times Sq - 42 St / Times Sq - 42 St / Times S...</td>\n",
       "      <td>70410</td>\n",
       "      <td>19.56</td>\n",
       "    </tr>\n",
       "    <tr>\n",
       "      <th>3</th>\n",
       "      <td>235_D24_R31</td>\n",
       "      <td>[235_D24_R31, 234, 233, 232_423, 231, 230, 229...</td>\n",
       "      <td>[Atlantic Av - Barclays Ctr / Atlantic Av - Ba...</td>\n",
       "      <td>63660</td>\n",
       "      <td>17.68</td>\n",
       "    </tr>\n",
       "  </tbody>\n",
       "</table>\n",
       "</div>"
      ],
      "text/plain": [
       "  Starting_station                                   Station_id_route  \\\n",
       "0              716  [716, 715, 714, 713, 712, 711, 710_G14, 709, 7...   \n",
       "1      635_L03_R20  [635_L03_R20, 634, 633, 632, 631_723_901, 630,...   \n",
       "2  127_725_902_R16  [127_725_902_R16, 126, 125_A24, 124, 123, 122,...   \n",
       "3      235_D24_R31  [235_D24_R31, 234, 233, 232_423, 231, 230, 229...   \n",
       "\n",
       "                                  Station_name_route Time_seconds  Time_hours  \n",
       "0  [33 St, 40 St, 46 St, 52 St, Woodside - 61 St,...        45750       12.71  \n",
       "1  [14 St - Union Sq / Union Sq - 14 St / 14 St -...        48030       13.34  \n",
       "2  [Times Sq - 42 St / Times Sq - 42 St / Times S...        70410       19.56  \n",
       "3  [Atlantic Av - Barclays Ctr / Atlantic Av - Ba...        63660       17.68  "
      ]
     },
     "execution_count": 526,
     "metadata": {},
     "output_type": "execute_result"
    }
   ],
   "source": [
    "TSP_solutions_df"
   ]
  },
  {
   "cell_type": "markdown",
   "metadata": {},
   "source": [
    "### Edge node (control)"
   ]
  },
  {
   "cell_type": "markdown",
   "metadata": {},
   "source": [
    "#### Far Rockaway"
   ]
  },
  {
   "cell_type": "code",
   "execution_count": 528,
   "metadata": {
    "ExecuteTime": {
     "end_time": "2020-07-27T17:51:54.137095Z",
     "start_time": "2020-07-27T17:51:54.124049Z"
    }
   },
   "outputs": [
    {
     "data": {
      "text/html": [
       "<div>\n",
       "<style scoped>\n",
       "    .dataframe tbody tr th:only-of-type {\n",
       "        vertical-align: middle;\n",
       "    }\n",
       "\n",
       "    .dataframe tbody tr th {\n",
       "        vertical-align: top;\n",
       "    }\n",
       "\n",
       "    .dataframe thead th {\n",
       "        text-align: right;\n",
       "    }\n",
       "</style>\n",
       "<table border=\"1\" class=\"dataframe\">\n",
       "  <thead>\n",
       "    <tr style=\"text-align: right;\">\n",
       "      <th></th>\n",
       "      <th>stop_id</th>\n",
       "      <th>stop_name</th>\n",
       "      <th>stop_lat</th>\n",
       "      <th>stop_lon</th>\n",
       "      <th>location_type</th>\n",
       "      <th>parent_station</th>\n",
       "    </tr>\n",
       "  </thead>\n",
       "  <tbody>\n",
       "    <tr>\n",
       "      <th>1071</th>\n",
       "      <td>H11</td>\n",
       "      <td>Far Rockaway - Mott Av</td>\n",
       "      <td>40.603995</td>\n",
       "      <td>-73.755405</td>\n",
       "      <td>1</td>\n",
       "      <td>NaN</td>\n",
       "    </tr>\n",
       "  </tbody>\n",
       "</table>\n",
       "</div>"
      ],
      "text/plain": [
       "     stop_id               stop_name   stop_lat   stop_lon  location_type  \\\n",
       "1071     H11  Far Rockaway - Mott Av  40.603995 -73.755405              1   \n",
       "\n",
       "      parent_station  \n",
       "1071             NaN  "
      ]
     },
     "execution_count": 528,
     "metadata": {},
     "output_type": "execute_result"
    }
   ],
   "source": [
    "# starting from what I hypothesize to be the worst place to start and end the subway challenge from\n",
    "non_unique_stations_df[non_unique_stations_df['stop_name'].str.contains(\"Far Rockaway\")]"
   ]
  },
  {
   "cell_type": "code",
   "execution_count": 529,
   "metadata": {
    "ExecuteTime": {
     "end_time": "2020-07-27T17:52:20.931626Z",
     "start_time": "2020-07-27T17:52:20.927588Z"
    }
   },
   "outputs": [],
   "source": [
    "dict_rockaway = make_station_first_in_matrix(dist_matrix_dictionary, 'H11')\n",
    "matrix_rockaway = make_dict_a_matrix(dict_rockaway)"
   ]
  },
  {
   "cell_type": "code",
   "execution_count": 530,
   "metadata": {
    "ExecuteTime": {
     "end_time": "2020-07-27T17:52:57.216978Z",
     "start_time": "2020-07-27T17:52:48.053665Z"
    },
    "code_folding": [
     0
    ]
   },
   "outputs": [
    {
     "name": "stdout",
     "output_type": "stream",
     "text": [
      "Objective: 19500 seconds\n",
      "Route for vehicle 0:\n",
      " 0 -> 340 -> 339 -> 338 -> 337 -> 336 -> 335 -> 341 -> 342 -> 343 -> 344 -> 334 -> 333 -> 332 -> 331 -> 330 -> 329 -> 328 -> 327 -> 326 -> 325 -> 324 -> 323 -> 322 -> 321 -> 320 -> 319 -> 318 -> 317 -> 316 -> 315 -> 314 -> 313 -> 312 -> 311 -> 310 -> 309 -> 308 -> 307 -> 306 -> 305 -> 304 -> 303 -> 302 -> 301 -> 300 -> 299 -> 298 -> 297 -> 296 -> 295 -> 294 -> 293 -> 292 -> 291 -> 290 -> 289 -> 288 -> 287 -> 286 -> 285 -> 284 -> 283 -> 282 -> 281 -> 280 -> 279 -> 278 -> 277 -> 276 -> 275 -> 274 -> 273 -> 272 -> 271 -> 270 -> 269 -> 268 -> 267 -> 266 -> 265 -> 264 -> 263 -> 262 -> 261 -> 260 -> 259 -> 258 -> 257 -> 256 -> 255 -> 254 -> 253 -> 252 -> 251 -> 250 -> 249 -> 248 -> 247 -> 246 -> 245 -> 244 -> 243 -> 242 -> 241 -> 240 -> 239 -> 238 -> 237 -> 236 -> 235 -> 234 -> 233 -> 232 -> 231 -> 230 -> 229 -> 228 -> 227 -> 226 -> 225 -> 408 -> 409 -> 410 -> 224 -> 223 -> 222 -> 221 -> 220 -> 219 -> 218 -> 217 -> 216 -> 215 -> 214 -> 213 -> 212 -> 211 -> 210 -> 209 -> 208 -> 207 -> 206 -> 205 -> 443 -> 442 -> 204 -> 203 -> 202 -> 201 -> 200 -> 199 -> 198 -> 197 -> 196 -> 195 -> 194 -> 193 -> 192 -> 191 -> 190 -> 189 -> 188 -> 187 -> 186 -> 185 -> 184 -> 183 -> 182 -> 181 -> 180 -> 179 -> 178 -> 177 -> 176 -> 175 -> 174 -> 173 -> 172 -> 171 -> 170 -> 169 -> 168 -> 167 -> 166 -> 165 -> 164 -> 163 -> 162 -> 161 -> 160 -> 159 -> 158 -> 157 -> 156 -> 155 -> 154 -> 153 -> 152 -> 151 -> 150 -> 149 -> 148 -> 147 -> 146 -> 145 -> 144 -> 143 -> 142 -> 141 -> 140 -> 139 -> 138 -> 137 -> 136 -> 135 -> 134 -> 133 -> 132 -> 131 -> 130 -> 129 -> 128 -> 127 -> 126 -> 125 -> 124 -> 123 -> 122 -> 121 -> 120 -> 119 -> 118 -> 117 -> 116 -> 115 -> 114 -> 113 -> 112 -> 111 -> 110 -> 109 -> 108 -> 107 -> 106 -> 105 -> 104 -> 103 -> 102 -> 101 -> 100 -> 99 -> 98 -> 97 -> 96 -> 95 -> 94 -> 93 -> 92 -> 91 -> 90 -> 89 -> 88 -> 87 -> 86 -> 85 -> 84 -> 83 -> 82 -> 81 -> 80 -> 79 -> 78 -> 77 -> 76 -> 75 -> 74 -> 73 -> 72 -> 71 -> 70 -> 69 -> 68 -> 67 -> 66 -> 65 -> 64 -> 63 -> 62 -> 61 -> 60 -> 59 -> 58 -> 57 -> 56 -> 55 -> 54 -> 53 -> 52 -> 51 -> 50 -> 49 -> 48 -> 47 -> 46 -> 45 -> 44 -> 43 -> 42 -> 41 -> 40 -> 39 -> 38 -> 37 -> 36 -> 35 -> 34 -> 33 -> 32 -> 31 -> 30 -> 29 -> 28 -> 27 -> 26 -> 25 -> 421 -> 422 -> 423 -> 424 -> 407 -> 425 -> 426 -> 427 -> 428 -> 429 -> 430 -> 431 -> 432 -> 433 -> 434 -> 435 -> 436 -> 437 -> 438 -> 439 -> 440 -> 441 -> 398 -> 399 -> 400 -> 401 -> 402 -> 403 -> 404 -> 405 -> 406 -> 397 -> 396 -> 395 -> 394 -> 393 -> 362 -> 363 -> 364 -> 365 -> 366 -> 367 -> 368 -> 369 -> 370 -> 371 -> 372 -> 383 -> 384 -> 385 -> 386 -> 373 -> 374 -> 375 -> 376 -> 357 -> 356 -> 355 -> 354 -> 353 -> 352 -> 351 -> 346 -> 345 -> 347 -> 348 -> 349 -> 350 -> 377 -> 378 -> 379 -> 380 -> 381 -> 382 -> 358 -> 359 -> 360 -> 361 -> 389 -> 388 -> 387 -> 392 -> 391 -> 390 -> 411 -> 412 -> 413 -> 414 -> 415 -> 416 -> 417 -> 418 -> 419 -> 420 -> 24 -> 23 -> 22 -> 21 -> 20 -> 19 -> 18 -> 17 -> 16 -> 15 -> 14 -> 13 -> 12 -> 11 -> 10 -> 9 -> 8 -> 7 -> 6 -> 5 -> 4 -> 3 -> 2 -> 1 -> 0\n",
      "\n"
     ]
    },
    {
     "data": {
      "application/javascript": [
       "\n",
       "        if (window._pyforest_update_imports_cell) { window._pyforest_update_imports_cell('from sklearn.manifold import TSNE\\nimport pandas as pd\\nimport re'); }\n",
       "    "
      ],
      "text/plain": [
       "<IPython.core.display.Javascript object>"
      ]
     },
     "metadata": {},
     "output_type": "display_data"
    }
   ],
   "source": [
    "# [START import]\n",
    "from __future__ import print_function\n",
    "from ortools.constraint_solver import routing_enums_pb2\n",
    "from ortools.constraint_solver import pywrapcp\n",
    "# [END import]\n",
    "\n",
    "# [START data_model]\n",
    "def create_data_model(matrix_rockaway):\n",
    "    \"\"\"Stores the data for the problem.\"\"\"\n",
    "    data = {}\n",
    "    data['distance_matrix'] = matrix_rockaway\n",
    "    data['num_vehicles'] = 1\n",
    "    data['depot'] = 0\n",
    "    return data\n",
    "    # [END data_model]\n",
    "\n",
    "\n",
    "# [START solution_printer]\n",
    "def print_solution(manager, routing, solution):\n",
    "    \"\"\"Prints solution on console.\"\"\"\n",
    "    total_seconds = solution.ObjectiveValue()\n",
    "    print('Objective: {} seconds'.format(total_seconds))\n",
    "    index = routing.Start(0)\n",
    "    plan_output = 'Route for vehicle 0:\\n'\n",
    "    route_distance = 0\n",
    "    while not routing.IsEnd(index):\n",
    "        plan_output += ' {} ->'.format(manager.IndexToNode(index))\n",
    "        previous_index = index\n",
    "        index = solution.Value(routing.NextVar(index))\n",
    "        route_distance += routing.GetArcCostForVehicle(previous_index, index, 0)\n",
    "    plan_output += ' {}\\n'.format(manager.IndexToNode(index))\n",
    "    print(plan_output)\n",
    "    plan_output += 'Route distance: {}miles\\n'.format(route_distance)\n",
    "    return total_seconds, plan_output\n",
    "    # [END solution_printer]\n",
    "\n",
    "\n",
    "def main():\n",
    "    \"\"\"Entry point of the program.\"\"\"\n",
    "    # Instantiate the data problem.\n",
    "    # [START data]\n",
    "    data = create_data_model(matrix_rockaway)\n",
    "    # [END data]\n",
    "\n",
    "    # Create the routing index manager.\n",
    "    # [START index_manager]\n",
    "    manager = pywrapcp.RoutingIndexManager(len(data['distance_matrix']),\n",
    "                                           data['num_vehicles'], data['depot'])\n",
    "    # [END index_manager]\n",
    "\n",
    "    # Create Routing Model.\n",
    "    # [START routing_model]\n",
    "    routing = pywrapcp.RoutingModel(manager)\n",
    "\n",
    "    # [END routing_model]\n",
    "\n",
    "    # [START transit_callback]\n",
    "    def distance_callback(from_index, to_index):\n",
    "        \"\"\"Returns the distance between the two nodes.\"\"\"\n",
    "        # Convert from routing variable Index to distance matrix NodeIndex.\n",
    "        from_node = manager.IndexToNode(from_index)\n",
    "        to_node = manager.IndexToNode(to_index)\n",
    "        return data['distance_matrix'][from_node][to_node]\n",
    "\n",
    "    transit_callback_index = routing.RegisterTransitCallback(distance_callback)\n",
    "    # [END transit_callback]\n",
    "\n",
    "    # Define cost of each arc.\n",
    "    # [START arc_cost]\n",
    "    routing.SetArcCostEvaluatorOfAllVehicles(transit_callback_index)\n",
    "    # [END arc_cost]\n",
    "\n",
    "    # Setting first solution heuristic.\n",
    "    # [START parameters]\n",
    "    search_parameters = pywrapcp.DefaultRoutingSearchParameters()\n",
    "    search_parameters.first_solution_strategy = (\n",
    "        routing_enums_pb2.FirstSolutionStrategy.PATH_CHEAPEST_ARC)\n",
    "    # [END parameters]\n",
    "\n",
    "    # Solve the problem.\n",
    "    # [START solve]\n",
    "    solution = routing.SolveWithParameters(search_parameters)\n",
    "    # [END solve]\n",
    "\n",
    "    # Print solution on console.\n",
    "    # [START print_solution]\n",
    "    if solution:\n",
    "        seconds, route_list = print_solution(manager, routing, solution)\n",
    "    route_list_text_match = re.match(\".+vehicle\\s0:\\\\n\\s(.+0)\\\\n\", route_list)\n",
    "    stops_as_text = route_list_text_match.group(1)\n",
    "    list_of_stops = stops_as_text.split(\" -> \")\n",
    "    \n",
    "    return seconds, list_of_stops\n",
    "    # [END print_solution]\n",
    "\n",
    "\n",
    "if __name__ == '__main__':\n",
    "    seconds, list_of_stops = main()\n",
    "    \n",
    "# [END program]"
   ]
  },
  {
   "cell_type": "code",
   "execution_count": 531,
   "metadata": {
    "ExecuteTime": {
     "end_time": "2020-07-27T17:53:16.580306Z",
     "start_time": "2020-07-27T17:53:16.404624Z"
    }
   },
   "outputs": [],
   "source": [
    "data_rockaway = results_to_df(seconds, list_of_stops, \"H11\")"
   ]
  },
  {
   "cell_type": "code",
   "execution_count": 532,
   "metadata": {
    "ExecuteTime": {
     "end_time": "2020-07-27T17:53:25.203082Z",
     "start_time": "2020-07-27T17:53:25.194620Z"
    }
   },
   "outputs": [],
   "source": [
    "TSP_solutions_df.loc[4] = data_rockaway"
   ]
  },
  {
   "cell_type": "code",
   "execution_count": 533,
   "metadata": {
    "ExecuteTime": {
     "end_time": "2020-07-27T17:53:28.161255Z",
     "start_time": "2020-07-27T17:53:28.140938Z"
    }
   },
   "outputs": [
    {
     "data": {
      "text/html": [
       "<div>\n",
       "<style scoped>\n",
       "    .dataframe tbody tr th:only-of-type {\n",
       "        vertical-align: middle;\n",
       "    }\n",
       "\n",
       "    .dataframe tbody tr th {\n",
       "        vertical-align: top;\n",
       "    }\n",
       "\n",
       "    .dataframe thead th {\n",
       "        text-align: right;\n",
       "    }\n",
       "</style>\n",
       "<table border=\"1\" class=\"dataframe\">\n",
       "  <thead>\n",
       "    <tr style=\"text-align: right;\">\n",
       "      <th></th>\n",
       "      <th>Starting_station</th>\n",
       "      <th>Station_id_route</th>\n",
       "      <th>Station_name_route</th>\n",
       "      <th>Time_seconds</th>\n",
       "      <th>Time_hours</th>\n",
       "    </tr>\n",
       "  </thead>\n",
       "  <tbody>\n",
       "    <tr>\n",
       "      <th>0</th>\n",
       "      <td>716</td>\n",
       "      <td>[716, 715, 714, 713, 712, 711, 710_G14, 709, 7...</td>\n",
       "      <td>[33 St, 40 St, 46 St, 52 St, Woodside - 61 St,...</td>\n",
       "      <td>45750</td>\n",
       "      <td>12.71</td>\n",
       "    </tr>\n",
       "    <tr>\n",
       "      <th>1</th>\n",
       "      <td>635_L03_R20</td>\n",
       "      <td>[635_L03_R20, 634, 633, 632, 631_723_901, 630,...</td>\n",
       "      <td>[14 St - Union Sq / Union Sq - 14 St / 14 St -...</td>\n",
       "      <td>48030</td>\n",
       "      <td>13.34</td>\n",
       "    </tr>\n",
       "    <tr>\n",
       "      <th>2</th>\n",
       "      <td>127_725_902_R16</td>\n",
       "      <td>[127_725_902_R16, 126, 125_A24, 124, 123, 122,...</td>\n",
       "      <td>[Times Sq - 42 St / Times Sq - 42 St / Times S...</td>\n",
       "      <td>70410</td>\n",
       "      <td>19.56</td>\n",
       "    </tr>\n",
       "    <tr>\n",
       "      <th>3</th>\n",
       "      <td>235_D24_R31</td>\n",
       "      <td>[235_D24_R31, 234, 233, 232_423, 231, 230, 229...</td>\n",
       "      <td>[Atlantic Av - Barclays Ctr / Atlantic Av - Ba...</td>\n",
       "      <td>63660</td>\n",
       "      <td>17.68</td>\n",
       "    </tr>\n",
       "    <tr>\n",
       "      <th>4</th>\n",
       "      <td>H11</td>\n",
       "      <td>[H11, H10, H09, H08, H07, H06, H04_H19, H12, H...</td>\n",
       "      <td>[Far Rockaway - Mott Av, Beach 25 St, Beach 36...</td>\n",
       "      <td>19500</td>\n",
       "      <td>5.42</td>\n",
       "    </tr>\n",
       "  </tbody>\n",
       "</table>\n",
       "</div>"
      ],
      "text/plain": [
       "  Starting_station                                   Station_id_route  \\\n",
       "0              716  [716, 715, 714, 713, 712, 711, 710_G14, 709, 7...   \n",
       "1      635_L03_R20  [635_L03_R20, 634, 633, 632, 631_723_901, 630,...   \n",
       "2  127_725_902_R16  [127_725_902_R16, 126, 125_A24, 124, 123, 122,...   \n",
       "3      235_D24_R31  [235_D24_R31, 234, 233, 232_423, 231, 230, 229...   \n",
       "4              H11  [H11, H10, H09, H08, H07, H06, H04_H19, H12, H...   \n",
       "\n",
       "                                  Station_name_route Time_seconds  Time_hours  \n",
       "0  [33 St, 40 St, 46 St, 52 St, Woodside - 61 St,...        45750       12.71  \n",
       "1  [14 St - Union Sq / Union Sq - 14 St / 14 St -...        48030       13.34  \n",
       "2  [Times Sq - 42 St / Times Sq - 42 St / Times S...        70410       19.56  \n",
       "3  [Atlantic Av - Barclays Ctr / Atlantic Av - Ba...        63660       17.68  \n",
       "4  [Far Rockaway - Mott Av, Beach 25 St, Beach 36...        19500        5.42  "
      ]
     },
     "execution_count": 533,
     "metadata": {},
     "output_type": "execute_result"
    }
   ],
   "source": [
    "TSP_solutions_df"
   ]
  },
  {
   "cell_type": "code",
   "execution_count": 540,
   "metadata": {
    "ExecuteTime": {
     "end_time": "2020-07-27T17:56:27.930163Z",
     "start_time": "2020-07-27T17:56:27.923604Z"
    }
   },
   "outputs": [
    {
     "data": {
      "text/plain": [
       "['Marble Hill - 225 St',\n",
       " '231 St',\n",
       " '238 St',\n",
       " 'Van Cortlandt Park - 242 St',\n",
       " 'Far Rockaway - Mott Av']"
      ]
     },
     "execution_count": 540,
     "metadata": {},
     "output_type": "execute_result"
    }
   ],
   "source": [
    "TSP_solutions_df['Station_name_route'][4][-5:]"
   ]
  },
  {
   "cell_type": "markdown",
   "metadata": {},
   "source": [
    "#### Pelham Bay"
   ]
  },
  {
   "cell_type": "code",
   "execution_count": 542,
   "metadata": {
    "ExecuteTime": {
     "end_time": "2020-07-27T18:03:15.357594Z",
     "start_time": "2020-07-27T18:03:15.345184Z"
    }
   },
   "outputs": [
    {
     "data": {
      "text/html": [
       "<div>\n",
       "<style scoped>\n",
       "    .dataframe tbody tr th:only-of-type {\n",
       "        vertical-align: middle;\n",
       "    }\n",
       "\n",
       "    .dataframe tbody tr th {\n",
       "        vertical-align: top;\n",
       "    }\n",
       "\n",
       "    .dataframe thead th {\n",
       "        text-align: right;\n",
       "    }\n",
       "</style>\n",
       "<table border=\"1\" class=\"dataframe\">\n",
       "  <thead>\n",
       "    <tr style=\"text-align: right;\">\n",
       "      <th></th>\n",
       "      <th>stop_id</th>\n",
       "      <th>stop_name</th>\n",
       "      <th>stop_lat</th>\n",
       "      <th>stop_lon</th>\n",
       "      <th>location_type</th>\n",
       "      <th>parent_station</th>\n",
       "    </tr>\n",
       "  </thead>\n",
       "  <tbody>\n",
       "    <tr>\n",
       "      <th>351</th>\n",
       "      <td>601</td>\n",
       "      <td>Pelham Bay Park</td>\n",
       "      <td>40.852462</td>\n",
       "      <td>-73.828121</td>\n",
       "      <td>1</td>\n",
       "      <td>NaN</td>\n",
       "    </tr>\n",
       "  </tbody>\n",
       "</table>\n",
       "</div>"
      ],
      "text/plain": [
       "    stop_id        stop_name   stop_lat   stop_lon  location_type  \\\n",
       "351     601  Pelham Bay Park  40.852462 -73.828121              1   \n",
       "\n",
       "     parent_station  \n",
       "351             NaN  "
      ]
     },
     "execution_count": 542,
     "metadata": {},
     "output_type": "execute_result"
    }
   ],
   "source": [
    "# starting from what I hypothesize to be the worst place to start and end the subway challenge from\n",
    "non_unique_stations_df[non_unique_stations_df['stop_name'].str.contains(\"Pelham Bay\")]"
   ]
  },
  {
   "cell_type": "code",
   "execution_count": 543,
   "metadata": {
    "ExecuteTime": {
     "end_time": "2020-07-27T18:04:24.227028Z",
     "start_time": "2020-07-27T18:04:24.222757Z"
    }
   },
   "outputs": [],
   "source": [
    "dict_pelham = make_station_first_in_matrix(dist_matrix_dictionary, '601')\n",
    "matrix_pelham = make_dict_a_matrix(dict_pelham)"
   ]
  },
  {
   "cell_type": "code",
   "execution_count": 544,
   "metadata": {
    "ExecuteTime": {
     "end_time": "2020-07-27T18:04:53.796602Z",
     "start_time": "2020-07-27T18:04:50.251323Z"
    },
    "code_folding": [
     0
    ]
   },
   "outputs": [
    {
     "name": "stdout",
     "output_type": "stream",
     "text": [
      "Objective: 52290 seconds\n",
      "Route for vehicle 0:\n",
      " 0 -> 114 -> 113 -> 112 -> 111 -> 110 -> 109 -> 108 -> 107 -> 106 -> 105 -> 104 -> 103 -> 102 -> 101 -> 100 -> 99 -> 98 -> 97 -> 96 -> 95 -> 94 -> 93 -> 92 -> 91 -> 90 -> 89 -> 88 -> 87 -> 86 -> 85 -> 84 -> 83 -> 82 -> 81 -> 80 -> 79 -> 78 -> 77 -> 76 -> 75 -> 74 -> 73 -> 72 -> 71 -> 70 -> 69 -> 68 -> 67 -> 66 -> 65 -> 64 -> 63 -> 62 -> 61 -> 60 -> 59 -> 58 -> 57 -> 56 -> 55 -> 54 -> 53 -> 52 -> 51 -> 50 -> 49 -> 48 -> 47 -> 46 -> 45 -> 44 -> 43 -> 42 -> 41 -> 40 -> 39 -> 38 -> 37 -> 36 -> 35 -> 34 -> 33 -> 32 -> 31 -> 30 -> 29 -> 28 -> 27 -> 26 -> 25 -> 24 -> 23 -> 22 -> 21 -> 20 -> 19 -> 18 -> 17 -> 16 -> 15 -> 14 -> 13 -> 12 -> 11 -> 10 -> 176 -> 175 -> 174 -> 173 -> 172 -> 238 -> 239 -> 240 -> 241 -> 242 -> 243 -> 244 -> 245 -> 246 -> 115 -> 116 -> 117 -> 118 -> 119 -> 120 -> 121 -> 122 -> 123 -> 124 -> 125 -> 126 -> 127 -> 128 -> 129 -> 130 -> 131 -> 132 -> 133 -> 134 -> 135 -> 136 -> 137 -> 138 -> 139 -> 140 -> 141 -> 142 -> 143 -> 144 -> 145 -> 151 -> 150 -> 149 -> 148 -> 147 -> 362 -> 193 -> 192 -> 191 -> 190 -> 189 -> 248 -> 283 -> 282 -> 167 -> 321 -> 322 -> 323 -> 324 -> 325 -> 326 -> 390 -> 391 -> 392 -> 389 -> 361 -> 360 -> 358 -> 359 -> 388 -> 387 -> 327 -> 328 -> 329 -> 330 -> 331 -> 201 -> 202 -> 203 -> 340 -> 339 -> 338 -> 337 -> 336 -> 335 -> 344 -> 343 -> 342 -> 341 -> 334 -> 333 -> 332 -> 221 -> 220 -> 219 -> 218 -> 217 -> 216 -> 215 -> 214 -> 213 -> 212 -> 211 -> 210 -> 209 -> 208 -> 207 -> 206 -> 205 -> 204 -> 442 -> 443 -> 257 -> 258 -> 259 -> 260 -> 261 -> 262 -> 263 -> 264 -> 265 -> 266 -> 267 -> 268 -> 269 -> 270 -> 271 -> 272 -> 305 -> 304 -> 303 -> 302 -> 301 -> 300 -> 299 -> 298 -> 297 -> 296 -> 295 -> 294 -> 293 -> 292 -> 291 -> 290 -> 289 -> 288 -> 287 -> 199 -> 431 -> 432 -> 433 -> 434 -> 435 -> 436 -> 437 -> 438 -> 439 -> 440 -> 441 -> 398 -> 399 -> 400 -> 401 -> 402 -> 403 -> 404 -> 405 -> 406 -> 273 -> 237 -> 236 -> 235 -> 234 -> 233 -> 232 -> 231 -> 230 -> 229 -> 228 -> 227 -> 226 -> 256 -> 430 -> 200 -> 429 -> 428 -> 427 -> 426 -> 425 -> 407 -> 424 -> 423 -> 146 -> 363 -> 364 -> 365 -> 366 -> 367 -> 368 -> 369 -> 370 -> 371 -> 372 -> 383 -> 384 -> 385 -> 386 -> 373 -> 374 -> 375 -> 376 -> 357 -> 382 -> 381 -> 380 -> 379 -> 378 -> 377 -> 356 -> 355 -> 354 -> 353 -> 352 -> 351 -> 350 -> 349 -> 348 -> 347 -> 346 -> 345 -> 307 -> 306 -> 308 -> 279 -> 278 -> 277 -> 276 -> 275 -> 280 -> 281 -> 309 -> 310 -> 311 -> 312 -> 313 -> 314 -> 222 -> 223 -> 224 -> 408 -> 409 -> 410 -> 225 -> 249 -> 250 -> 422 -> 421 -> 251 -> 252 -> 253 -> 194 -> 195 -> 274 -> 196 -> 197 -> 198 -> 397 -> 396 -> 395 -> 394 -> 393 -> 255 -> 254 -> 284 -> 285 -> 286 -> 420 -> 419 -> 418 -> 417 -> 166 -> 416 -> 415 -> 414 -> 413 -> 412 -> 411 -> 165 -> 164 -> 163 -> 162 -> 161 -> 160 -> 159 -> 158 -> 157 -> 156 -> 155 -> 154 -> 153 -> 152 -> 315 -> 316 -> 317 -> 318 -> 319 -> 320 -> 168 -> 169 -> 170 -> 171 -> 188 -> 187 -> 186 -> 185 -> 184 -> 183 -> 182 -> 181 -> 180 -> 247 -> 179 -> 178 -> 177 -> 9 -> 8 -> 7 -> 6 -> 5 -> 4 -> 3 -> 2 -> 1 -> 0\n",
      "\n"
     ]
    },
    {
     "data": {
      "application/javascript": [
       "\n",
       "        if (window._pyforest_update_imports_cell) { window._pyforest_update_imports_cell('from sklearn.manifold import TSNE\\nimport pandas as pd\\nimport re'); }\n",
       "    "
      ],
      "text/plain": [
       "<IPython.core.display.Javascript object>"
      ]
     },
     "metadata": {},
     "output_type": "display_data"
    }
   ],
   "source": [
    "# [START import]\n",
    "from __future__ import print_function\n",
    "from ortools.constraint_solver import routing_enums_pb2\n",
    "from ortools.constraint_solver import pywrapcp\n",
    "# [END import]\n",
    "\n",
    "# [START data_model]\n",
    "def create_data_model(matrix_pelham):\n",
    "    \"\"\"Stores the data for the problem.\"\"\"\n",
    "    data = {}\n",
    "    data['distance_matrix'] = matrix_pelham\n",
    "    data['num_vehicles'] = 1\n",
    "    data['depot'] = 0\n",
    "    return data\n",
    "    # [END data_model]\n",
    "\n",
    "\n",
    "# [START solution_printer]\n",
    "def print_solution(manager, routing, solution):\n",
    "    \"\"\"Prints solution on console.\"\"\"\n",
    "    total_seconds = solution.ObjectiveValue()\n",
    "    print('Objective: {} seconds'.format(total_seconds))\n",
    "    index = routing.Start(0)\n",
    "    plan_output = 'Route for vehicle 0:\\n'\n",
    "    route_distance = 0\n",
    "    while not routing.IsEnd(index):\n",
    "        plan_output += ' {} ->'.format(manager.IndexToNode(index))\n",
    "        previous_index = index\n",
    "        index = solution.Value(routing.NextVar(index))\n",
    "        route_distance += routing.GetArcCostForVehicle(previous_index, index, 0)\n",
    "    plan_output += ' {}\\n'.format(manager.IndexToNode(index))\n",
    "    print(plan_output)\n",
    "    plan_output += 'Route distance: {}miles\\n'.format(route_distance)\n",
    "    return total_seconds, plan_output\n",
    "    # [END solution_printer]\n",
    "\n",
    "\n",
    "def main():\n",
    "    \"\"\"Entry point of the program.\"\"\"\n",
    "    # Instantiate the data problem.\n",
    "    # [START data]\n",
    "    data = create_data_model(matrix_pelham)\n",
    "    # [END data]\n",
    "\n",
    "    # Create the routing index manager.\n",
    "    # [START index_manager]\n",
    "    manager = pywrapcp.RoutingIndexManager(len(data['distance_matrix']),\n",
    "                                           data['num_vehicles'], data['depot'])\n",
    "    # [END index_manager]\n",
    "\n",
    "    # Create Routing Model.\n",
    "    # [START routing_model]\n",
    "    routing = pywrapcp.RoutingModel(manager)\n",
    "\n",
    "    # [END routing_model]\n",
    "\n",
    "    # [START transit_callback]\n",
    "    def distance_callback(from_index, to_index):\n",
    "        \"\"\"Returns the distance between the two nodes.\"\"\"\n",
    "        # Convert from routing variable Index to distance matrix NodeIndex.\n",
    "        from_node = manager.IndexToNode(from_index)\n",
    "        to_node = manager.IndexToNode(to_index)\n",
    "        return data['distance_matrix'][from_node][to_node]\n",
    "\n",
    "    transit_callback_index = routing.RegisterTransitCallback(distance_callback)\n",
    "    # [END transit_callback]\n",
    "\n",
    "    # Define cost of each arc.\n",
    "    # [START arc_cost]\n",
    "    routing.SetArcCostEvaluatorOfAllVehicles(transit_callback_index)\n",
    "    # [END arc_cost]\n",
    "\n",
    "    # Setting first solution heuristic.\n",
    "    # [START parameters]\n",
    "    search_parameters = pywrapcp.DefaultRoutingSearchParameters()\n",
    "    search_parameters.first_solution_strategy = (\n",
    "        routing_enums_pb2.FirstSolutionStrategy.PATH_CHEAPEST_ARC)\n",
    "    # [END parameters]\n",
    "\n",
    "    # Solve the problem.\n",
    "    # [START solve]\n",
    "    solution = routing.SolveWithParameters(search_parameters)\n",
    "    # [END solve]\n",
    "\n",
    "    # Print solution on console.\n",
    "    # [START print_solution]\n",
    "    if solution:\n",
    "        seconds, route_list = print_solution(manager, routing, solution)\n",
    "    route_list_text_match = re.match(\".+vehicle\\s0:\\\\n\\s(.+0)\\\\n\", route_list)\n",
    "    stops_as_text = route_list_text_match.group(1)\n",
    "    list_of_stops = stops_as_text.split(\" -> \")\n",
    "    \n",
    "    return seconds, list_of_stops\n",
    "    # [END print_solution]\n",
    "\n",
    "\n",
    "if __name__ == '__main__':\n",
    "    seconds, list_of_stops = main()\n",
    "    \n",
    "# [END program]"
   ]
  },
  {
   "cell_type": "code",
   "execution_count": 545,
   "metadata": {
    "ExecuteTime": {
     "end_time": "2020-07-27T18:05:10.821583Z",
     "start_time": "2020-07-27T18:05:10.647844Z"
    }
   },
   "outputs": [],
   "source": [
    "data_pelham = results_to_df(seconds, list_of_stops, \"601\")"
   ]
  },
  {
   "cell_type": "code",
   "execution_count": 546,
   "metadata": {
    "ExecuteTime": {
     "end_time": "2020-07-27T18:05:19.169206Z",
     "start_time": "2020-07-27T18:05:19.160902Z"
    }
   },
   "outputs": [],
   "source": [
    "TSP_solutions_df.loc[5] = data_pelham"
   ]
  },
  {
   "cell_type": "code",
   "execution_count": 547,
   "metadata": {
    "ExecuteTime": {
     "end_time": "2020-07-27T18:05:24.066555Z",
     "start_time": "2020-07-27T18:05:24.044364Z"
    }
   },
   "outputs": [
    {
     "data": {
      "text/html": [
       "<div>\n",
       "<style scoped>\n",
       "    .dataframe tbody tr th:only-of-type {\n",
       "        vertical-align: middle;\n",
       "    }\n",
       "\n",
       "    .dataframe tbody tr th {\n",
       "        vertical-align: top;\n",
       "    }\n",
       "\n",
       "    .dataframe thead th {\n",
       "        text-align: right;\n",
       "    }\n",
       "</style>\n",
       "<table border=\"1\" class=\"dataframe\">\n",
       "  <thead>\n",
       "    <tr style=\"text-align: right;\">\n",
       "      <th></th>\n",
       "      <th>Starting_station</th>\n",
       "      <th>Station_id_route</th>\n",
       "      <th>Station_name_route</th>\n",
       "      <th>Time_seconds</th>\n",
       "      <th>Time_hours</th>\n",
       "    </tr>\n",
       "  </thead>\n",
       "  <tbody>\n",
       "    <tr>\n",
       "      <th>0</th>\n",
       "      <td>716</td>\n",
       "      <td>[716, 715, 714, 713, 712, 711, 710_G14, 709, 7...</td>\n",
       "      <td>[33 St, 40 St, 46 St, 52 St, Woodside - 61 St,...</td>\n",
       "      <td>45750</td>\n",
       "      <td>12.71</td>\n",
       "    </tr>\n",
       "    <tr>\n",
       "      <th>1</th>\n",
       "      <td>635_L03_R20</td>\n",
       "      <td>[635_L03_R20, 634, 633, 632, 631_723_901, 630,...</td>\n",
       "      <td>[14 St - Union Sq / Union Sq - 14 St / 14 St -...</td>\n",
       "      <td>48030</td>\n",
       "      <td>13.34</td>\n",
       "    </tr>\n",
       "    <tr>\n",
       "      <th>2</th>\n",
       "      <td>127_725_902_R16</td>\n",
       "      <td>[127_725_902_R16, 126, 125_A24, 124, 123, 122,...</td>\n",
       "      <td>[Times Sq - 42 St / Times Sq - 42 St / Times S...</td>\n",
       "      <td>70410</td>\n",
       "      <td>19.56</td>\n",
       "    </tr>\n",
       "    <tr>\n",
       "      <th>3</th>\n",
       "      <td>235_D24_R31</td>\n",
       "      <td>[235_D24_R31, 234, 233, 232_423, 231, 230, 229...</td>\n",
       "      <td>[Atlantic Av - Barclays Ctr / Atlantic Av - Ba...</td>\n",
       "      <td>63660</td>\n",
       "      <td>17.68</td>\n",
       "    </tr>\n",
       "    <tr>\n",
       "      <th>4</th>\n",
       "      <td>H11</td>\n",
       "      <td>[H11, H10, H09, H08, H07, H06, H04_H19, H12, H...</td>\n",
       "      <td>[Far Rockaway - Mott Av, Beach 25 St, Beach 36...</td>\n",
       "      <td>19500</td>\n",
       "      <td>5.42</td>\n",
       "    </tr>\n",
       "    <tr>\n",
       "      <th>5</th>\n",
       "      <td>601</td>\n",
       "      <td>[601, 505, 504, 503, 502, 501, 420, 419, 418, ...</td>\n",
       "      <td>[Pelham Bay Park, Morris Park, Pelham Pkwy, Gu...</td>\n",
       "      <td>52290</td>\n",
       "      <td>14.53</td>\n",
       "    </tr>\n",
       "  </tbody>\n",
       "</table>\n",
       "</div>"
      ],
      "text/plain": [
       "  Starting_station                                   Station_id_route  \\\n",
       "0              716  [716, 715, 714, 713, 712, 711, 710_G14, 709, 7...   \n",
       "1      635_L03_R20  [635_L03_R20, 634, 633, 632, 631_723_901, 630,...   \n",
       "2  127_725_902_R16  [127_725_902_R16, 126, 125_A24, 124, 123, 122,...   \n",
       "3      235_D24_R31  [235_D24_R31, 234, 233, 232_423, 231, 230, 229...   \n",
       "4              H11  [H11, H10, H09, H08, H07, H06, H04_H19, H12, H...   \n",
       "5              601  [601, 505, 504, 503, 502, 501, 420, 419, 418, ...   \n",
       "\n",
       "                                  Station_name_route Time_seconds  Time_hours  \n",
       "0  [33 St, 40 St, 46 St, 52 St, Woodside - 61 St,...        45750       12.71  \n",
       "1  [14 St - Union Sq / Union Sq - 14 St / 14 St -...        48030       13.34  \n",
       "2  [Times Sq - 42 St / Times Sq - 42 St / Times S...        70410       19.56  \n",
       "3  [Atlantic Av - Barclays Ctr / Atlantic Av - Ba...        63660       17.68  \n",
       "4  [Far Rockaway - Mott Av, Beach 25 St, Beach 36...        19500        5.42  \n",
       "5  [Pelham Bay Park, Morris Park, Pelham Pkwy, Gu...        52290       14.53  "
      ]
     },
     "execution_count": 547,
     "metadata": {},
     "output_type": "execute_result"
    }
   ],
   "source": [
    "TSP_solutions_df"
   ]
  },
  {
   "cell_type": "markdown",
   "metadata": {},
   "source": [
    "## Saving df "
   ]
  },
  {
   "cell_type": "code",
   "execution_count": 548,
   "metadata": {
    "ExecuteTime": {
     "end_time": "2020-07-27T18:09:26.668332Z",
     "start_time": "2020-07-27T18:09:26.656668Z"
    }
   },
   "outputs": [],
   "source": [
    "# TSP_solutions_df.to_csv(\"./saved_data/TSP_solutions_df.csv\")"
   ]
  },
  {
   "cell_type": "code",
   "execution_count": null,
   "metadata": {},
   "outputs": [],
   "source": []
  }
 ],
 "metadata": {
  "kernelspec": {
   "display_name": "Python [conda env:learn-env] *",
   "language": "python",
   "name": "conda-env-learn-env-py"
  },
  "language_info": {
   "codemirror_mode": {
    "name": "ipython",
    "version": 3
   },
   "file_extension": ".py",
   "mimetype": "text/x-python",
   "name": "python",
   "nbconvert_exporter": "python",
   "pygments_lexer": "ipython3",
   "version": "3.6.9"
  },
  "toc": {
   "base_numbering": 1,
   "nav_menu": {},
   "number_sections": true,
   "sideBar": true,
   "skip_h1_title": false,
   "title_cell": "Table of Contents",
   "title_sidebar": "Contents",
   "toc_cell": false,
   "toc_position": {
    "height": "calc(100% - 180px)",
    "left": "10px",
    "top": "150px",
    "width": "281px"
   },
   "toc_section_display": true,
   "toc_window_display": true
  },
  "varInspector": {
   "cols": {
    "lenName": 16,
    "lenType": 16,
    "lenVar": 40
   },
   "kernels_config": {
    "python": {
     "delete_cmd_postfix": "",
     "delete_cmd_prefix": "del ",
     "library": "var_list.py",
     "varRefreshCmd": "print(var_dic_list())"
    },
    "r": {
     "delete_cmd_postfix": ") ",
     "delete_cmd_prefix": "rm(",
     "library": "var_list.r",
     "varRefreshCmd": "cat(var_dic_list()) "
    }
   },
   "types_to_exclude": [
    "module",
    "function",
    "builtin_function_or_method",
    "instance",
    "_Feature"
   ],
   "window_display": false
  }
 },
 "nbformat": 4,
 "nbformat_minor": 2
}
