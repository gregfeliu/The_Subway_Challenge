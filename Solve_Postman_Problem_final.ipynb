{
 "cells": [
  {
   "cell_type": "markdown",
   "metadata": {},
   "source": [
    "import pickle\n",
    "import matplotlib.pyplot as plt\n",
    "import pandas as pd\n",
    "# ^^^ pyforest auto-imports - don't write above this line\n",
    "# Imports"
   ]
  },
  {
   "cell_type": "code",
   "execution_count": 123,
   "metadata": {
    "ExecuteTime": {
     "end_time": "2020-08-05T17:17:54.832926Z",
     "start_time": "2020-08-05T17:17:54.825218Z"
    }
   },
   "outputs": [],
   "source": [
    "import folium\n",
    "from collections import Counter\n",
    "import networkx as nx\n",
    "import itertools\n",
    "import time\n",
    "import dijkstar\n",
    "from OR_tools_tsp_solution import *\n",
    "from create_data_model_or import *\n",
    "%matplotlib inline\n",
    "import random\n",
    "import os"
   ]
  },
  {
   "cell_type": "markdown",
   "metadata": {},
   "source": [
    "## My Data"
   ]
  },
  {
   "cell_type": "code",
   "execution_count": 2,
   "metadata": {
    "ExecuteTime": {
     "end_time": "2020-08-05T14:22:17.308565Z",
     "start_time": "2020-08-05T14:22:17.291022Z"
    }
   },
   "outputs": [
    {
     "data": {
      "application/javascript": [
       "\n",
       "        if (window._pyforest_update_imports_cell) { window._pyforest_update_imports_cell('import pandas as pd'); }\n",
       "    "
      ],
      "text/plain": [
       "<IPython.core.display.Javascript object>"
      ]
     },
     "metadata": {},
     "output_type": "display_data"
    },
    {
     "data": {
      "application/javascript": [
       "\n",
       "        if (window._pyforest_update_imports_cell) { window._pyforest_update_imports_cell('import pandas as pd'); }\n",
       "    "
      ],
      "text/plain": [
       "<IPython.core.display.Javascript object>"
      ]
     },
     "metadata": {},
     "output_type": "display_data"
    }
   ],
   "source": [
    "stations_df = pd.read_csv(\"./saved_data/final_station_df.csv\", index_col = 0)\n",
    "non_unique_stations_df = pd.read_csv(\"./saved_data/non_unique_mta_stations.csv\", index_col=0)"
   ]
  },
  {
   "cell_type": "code",
   "execution_count": 3,
   "metadata": {
    "ExecuteTime": {
     "end_time": "2020-08-05T14:22:17.322199Z",
     "start_time": "2020-08-05T14:22:17.310198Z"
    }
   },
   "outputs": [
    {
     "data": {
      "application/javascript": [
       "\n",
       "        if (window._pyforest_update_imports_cell) { window._pyforest_update_imports_cell('import pandas as pd'); }\n",
       "    "
      ],
      "text/plain": [
       "<IPython.core.display.Javascript object>"
      ]
     },
     "metadata": {},
     "output_type": "display_data"
    },
    {
     "data": {
      "application/javascript": [
       "\n",
       "        if (window._pyforest_update_imports_cell) { window._pyforest_update_imports_cell('import pandas as pd'); }\n",
       "    "
      ],
      "text/plain": [
       "<IPython.core.display.Javascript object>"
      ]
     },
     "metadata": {},
     "output_type": "display_data"
    }
   ],
   "source": [
    "my_edgelist = pd.read_csv('./saved_data/edge_list_df_no_req.csv', index_col=0)\n",
    "node_list_df = pd.read_csv(\"./saved_data/nodelist_nyc_subway.csv\", index_col=0).reset_index()"
   ]
  },
  {
   "cell_type": "markdown",
   "metadata": {},
   "source": [
    "### Checking my data"
   ]
  },
  {
   "cell_type": "code",
   "execution_count": 4,
   "metadata": {
    "ExecuteTime": {
     "end_time": "2020-08-05T14:22:17.326896Z",
     "start_time": "2020-08-05T14:22:17.324078Z"
    }
   },
   "outputs": [],
   "source": [
    "# every node is in node_list_df\n",
    "node1 = my_edgelist.node1.tolist()\n",
    "node2 = my_edgelist.node2.tolist()"
   ]
  },
  {
   "cell_type": "code",
   "execution_count": 5,
   "metadata": {
    "ExecuteTime": {
     "end_time": "2020-08-05T14:22:17.332757Z",
     "start_time": "2020-08-05T14:22:17.330404Z"
    }
   },
   "outputs": [],
   "source": [
    "all_nodes_edgelist = set(node1 + node2)"
   ]
  },
  {
   "cell_type": "code",
   "execution_count": 6,
   "metadata": {
    "ExecuteTime": {
     "end_time": "2020-08-05T14:22:17.338790Z",
     "start_time": "2020-08-05T14:22:17.336071Z"
    }
   },
   "outputs": [],
   "source": [
    "for x in node_list_df['station_id']:\n",
    "    if x not in all_nodes_edgelist:\n",
    "        print(x)"
   ]
  },
  {
   "cell_type": "markdown",
   "metadata": {},
   "source": [
    "## Visualizing my Data"
   ]
  },
  {
   "cell_type": "code",
   "execution_count": 7,
   "metadata": {
    "ExecuteTime": {
     "end_time": "2020-08-05T14:22:17.343198Z",
     "start_time": "2020-08-05T14:22:17.340575Z"
    }
   },
   "outputs": [],
   "source": [
    "g = nx.Graph()"
   ]
  },
  {
   "cell_type": "code",
   "execution_count": 8,
   "metadata": {
    "ExecuteTime": {
     "end_time": "2020-08-05T14:22:17.479055Z",
     "start_time": "2020-08-05T14:22:17.345053Z"
    }
   },
   "outputs": [],
   "source": [
    "for i, elrow in my_edgelist.iterrows():\n",
    "    # g.add_edge(elrow[0], elrow[1], attr_dict=elrow[2:].to_dict())  # deprecated after NX 1.11\n",
    "    g.add_edge(elrow[0], elrow[1], **elrow[2:].to_dict())"
   ]
  },
  {
   "cell_type": "code",
   "execution_count": 9,
   "metadata": {
    "ExecuteTime": {
     "end_time": "2020-08-05T14:22:17.582889Z",
     "start_time": "2020-08-05T14:22:17.480764Z"
    }
   },
   "outputs": [],
   "source": [
    "for i, nlrow in node_list_df.iterrows():\n",
    "    nx.set_node_attributes(g, {nlrow['station_id']:  nlrow[1:].to_dict()})  "
   ]
  },
  {
   "cell_type": "code",
   "execution_count": 10,
   "metadata": {
    "ExecuteTime": {
     "end_time": "2020-08-05T14:22:17.588175Z",
     "start_time": "2020-08-05T14:22:17.584758Z"
    }
   },
   "outputs": [
    {
     "name": "stdout",
     "output_type": "stream",
     "text": [
      "# of edges: 542\n",
      "# of nodes: 444\n"
     ]
    }
   ],
   "source": [
    "print('# of edges: {}'.format(g.number_of_edges()))\n",
    "print('# of nodes: {}'.format(g.number_of_nodes()))\n",
    "# list(g.nodes(data=True))[0:2] "
   ]
  },
  {
   "cell_type": "code",
   "execution_count": 11,
   "metadata": {
    "ExecuteTime": {
     "end_time": "2020-08-05T14:22:17.592654Z",
     "start_time": "2020-08-05T14:22:17.589862Z"
    }
   },
   "outputs": [],
   "source": [
    "node_positions_as_dict = {x[0]: x[1] for x in list(g.nodes(data=True))}"
   ]
  },
  {
   "cell_type": "code",
   "execution_count": 12,
   "metadata": {
    "ExecuteTime": {
     "end_time": "2020-08-05T14:22:17.596866Z",
     "start_time": "2020-08-05T14:22:17.594362Z"
    }
   },
   "outputs": [],
   "source": [
    "node_positions_final = {key: value for key, value in node_positions_as_dict.items()}"
   ]
  },
  {
   "cell_type": "code",
   "execution_count": 13,
   "metadata": {
    "ExecuteTime": {
     "end_time": "2020-08-05T14:22:17.601348Z",
     "start_time": "2020-08-05T14:22:17.598624Z"
    }
   },
   "outputs": [],
   "source": [
    "test_node_positions = {node[0]: (node[1]) for node in g.nodes(data=True)}"
   ]
  },
  {
   "cell_type": "markdown",
   "metadata": {},
   "source": [
    "### Checking for stops without coords"
   ]
  },
  {
   "cell_type": "code",
   "execution_count": 14,
   "metadata": {
    "ExecuteTime": {
     "end_time": "2020-08-05T14:22:17.605458Z",
     "start_time": "2020-08-05T14:22:17.603034Z"
    }
   },
   "outputs": [],
   "source": [
    "for key, value in test_node_positions.items():\n",
    "    if value == {}:\n",
    "        print(key)    "
   ]
  },
  {
   "cell_type": "code",
   "execution_count": 15,
   "metadata": {
    "ExecuteTime": {
     "end_time": "2020-08-05T14:22:17.610652Z",
     "start_time": "2020-08-05T14:22:17.607403Z"
    }
   },
   "outputs": [
    {
     "data": {
      "text/plain": [
       "{'X': 40.865491, 'Y': -73.92727099999998}"
      ]
     },
     "execution_count": 15,
     "metadata": {},
     "output_type": "execute_result"
    }
   ],
   "source": [
    "test_node_positions['A03']"
   ]
  },
  {
   "cell_type": "code",
   "execution_count": 16,
   "metadata": {
    "ExecuteTime": {
     "end_time": "2020-08-05T14:22:17.614223Z",
     "start_time": "2020-08-05T14:22:17.612189Z"
    }
   },
   "outputs": [],
   "source": [
    "# test_node_positions"
   ]
  },
  {
   "cell_type": "code",
   "execution_count": 17,
   "metadata": {
    "ExecuteTime": {
     "end_time": "2020-08-05T14:22:17.618970Z",
     "start_time": "2020-08-05T14:22:17.615886Z"
    }
   },
   "outputs": [],
   "source": [
    "node_positions = {node[0]: (node[1]['Y'], node[1]['X']) for node in list(g.nodes(data=True))}\n",
    "# dict(list(node_positions.items())[0:5])"
   ]
  },
  {
   "cell_type": "code",
   "execution_count": 18,
   "metadata": {
    "ExecuteTime": {
     "end_time": "2020-08-05T14:22:17.911993Z",
     "start_time": "2020-08-05T14:22:17.620692Z"
    }
   },
   "outputs": [
    {
     "data": {
      "application/javascript": [
       "\n",
       "        if (window._pyforest_update_imports_cell) { window._pyforest_update_imports_cell('import matplotlib.pyplot as plt\\nimport pandas as pd'); }\n",
       "    "
      ],
      "text/plain": [
       "<IPython.core.display.Javascript object>"
      ]
     },
     "metadata": {},
     "output_type": "display_data"
    },
    {
     "data": {
      "application/javascript": [
       "\n",
       "        if (window._pyforest_update_imports_cell) { window._pyforest_update_imports_cell('import matplotlib.pyplot as plt\\nimport pandas as pd'); }\n",
       "    "
      ],
      "text/plain": [
       "<IPython.core.display.Javascript object>"
      ]
     },
     "metadata": {},
     "output_type": "display_data"
    },
    {
     "data": {
      "text/plain": [
       "Text(0.5, 1.0, 'Graph Representation of NYC Subway Network')"
      ]
     },
     "execution_count": 18,
     "metadata": {},
     "output_type": "execute_result"
    },
    {
     "data": {
      "image/png": "[encoded data removed]",
      "text/plain": [
       "<Figure size 864x576 with 1 Axes>"
      ]
     },
     "metadata": {},
     "output_type": "display_data"
    }
   ],
   "source": [
    "plt.figure(figsize=(12, 8))\n",
    "nx.draw(g, pos=node_positions, edge_color='red', node_size=10, node_color='black')\n",
    "plt.title('Graph Representation of NYC Subway Network', size=15)\n",
    "# plt.savefig(\"./saved_data/graph_of_nyc_stops.png\", bbox_inches='tight')"
   ]
  },
  {
   "cell_type": "markdown",
   "metadata": {},
   "source": [
    "# Applying to All the Data"
   ]
  },
  {
   "cell_type": "markdown",
   "metadata": {},
   "source": [
    "## Functions I will use"
   ]
  },
  {
   "cell_type": "code",
   "execution_count": 19,
   "metadata": {
    "ExecuteTime": {
     "end_time": "2020-08-05T14:22:17.919532Z",
     "start_time": "2020-08-05T14:22:17.913516Z"
    }
   },
   "outputs": [],
   "source": [
    "def get_indirect_distance(dijkstar_graph, nodelist):\n",
    "    distance_matrix = []\n",
    "    for i in range(len(nodelist)):\n",
    "        start_node = nodelist['station_id'][i]\n",
    "        one_node_tree = []\n",
    "        for num in range(i, len(nodelist)):\n",
    "            dest_node = nodelist['station_id'][num]\n",
    "            path = dijkstar.find_path(dijkstar_graph, start_node, dest_node)\n",
    "            path_distance = path.total_cost\n",
    "            one_node_tree.append(path_distance)\n",
    "        distance_matrix.append(one_node_tree)  # top right triangle of matrix\n",
    "    for i in range(len(distance_matrix)):\n",
    "        for x in range(i, len(distance_matrix)):\n",
    "            if distance_matrix[i][x] != 0:\n",
    "                distance_matrix[x].insert(i, distance_matrix[i][x])\n",
    "    return distance_matrix"
   ]
  },
  {
   "cell_type": "code",
   "execution_count": 20,
   "metadata": {
    "ExecuteTime": {
     "end_time": "2020-08-05T14:22:17.924180Z",
     "start_time": "2020-08-05T14:22:17.921128Z"
    }
   },
   "outputs": [],
   "source": [
    "def get_time_in_hrs(seconds):\n",
    "    minutes = seconds / 60\n",
    "    hours = minutes / 60\n",
    "    remainder_hour = hours % 1\n",
    "    final_minutes = round((remainder_hour * 60), 2)\n",
    "    return round(hours, 2), f\"The entire route takes {hours - remainder_hour} hours, {final_minutes} minutes\""
   ]
  },
  {
   "cell_type": "code",
   "execution_count": 21,
   "metadata": {
    "ExecuteTime": {
     "end_time": "2020-08-05T14:22:17.930647Z",
     "start_time": "2020-08-05T14:22:17.925893Z"
    },
    "code_folding": [
     0
    ]
   },
   "outputs": [],
   "source": [
    "def tsp_station_ids(list_of_stops, nodelist, starting_stop = '101'):\n",
    "    if starting_stop == '101':\n",
    "        nodes = nodelist['station_id']\n",
    "        list_of_nodes = [nodes[int(x)] for x in list_of_stops]\n",
    "    elif starting_stop != '101':\n",
    "        desired_row = nodelist[nodelist['station_id'] == starting_stop].index\n",
    "        idx = [desired_row[0]] + [i for i in range(len(nodelist)) if i != desired_row]\n",
    "        modified_nodelist = nodelist.iloc[idx].reset_index(drop=True)\n",
    "        nodes = modified_nodelist['station_id']\n",
    "        list_of_nodes = [nodes[int(x)] for x in list_of_stops]\n",
    "    return list_of_nodes"
   ]
  },
  {
   "cell_type": "code",
   "execution_count": 22,
   "metadata": {
    "ExecuteTime": {
     "end_time": "2020-08-05T14:22:17.936642Z",
     "start_time": "2020-08-05T14:22:17.932249Z"
    }
   },
   "outputs": [],
   "source": [
    "def get_station_names(stations_df, tsp_station_ids):\n",
    "    full_list = []\n",
    "    for mta_station in tsp_station_ids:\n",
    "        single_stations = mta_station.split(\"_\")\n",
    "        station_string = \"\"\n",
    "        counter = 0\n",
    "        for station in single_stations:\n",
    "            row = stations_df.index[stations_df['stop_id'].str.contains(station)].tolist()\n",
    "            for item in row:\n",
    "                name = stations_df['stop_name'][item]\n",
    "                if counter >= 1:\n",
    "                    station_string += \" / \" + name\n",
    "                    counter += 1\n",
    "                elif counter == 0:\n",
    "                    station_string += name\n",
    "                    counter += 1\n",
    "        full_list.append(station_string)\n",
    "    return full_list"
   ]
  },
  {
   "cell_type": "markdown",
   "metadata": {},
   "source": [
    "## Making Distance Matrix"
   ]
  },
  {
   "cell_type": "markdown",
   "metadata": {},
   "source": [
    "### Original functions used"
   ]
  },
  {
   "cell_type": "code",
   "execution_count": 58,
   "metadata": {
    "ExecuteTime": {
     "end_time": "2020-08-05T14:37:45.161463Z",
     "start_time": "2020-08-05T14:37:14.080440Z"
    },
    "code_folding": []
   },
   "outputs": [],
   "source": [
    "nyc_graph = dijkstar.Graph(undirected=True)\n",
    "nyc_zipped_edges = list(zip(my_edgelist['node1'], my_edgelist['node2'], my_edgelist['distance']))\n",
    "for x in nyc_zipped_edges:\n",
    "    nyc_graph.add_edge(x[0], x[1], x[2])\n",
    "nyc_dist_matrix = get_indirect_distance(nyc_graph, node_list_df)\n",
    "matrix_station_zip = list(zip(node_list_df['station_id'], nyc_dist_matrix))\n",
    "dist_matrix_dictionary = {key:value for key, value in matrix_station_zip}"
   ]
  },
  {
   "cell_type": "markdown",
   "metadata": {},
   "source": [
    "### Loading Saved data"
   ]
  },
  {
   "cell_type": "code",
   "execution_count": 24,
   "metadata": {
    "ExecuteTime": {
     "end_time": "2020-08-05T14:22:17.954801Z",
     "start_time": "2020-08-05T14:22:17.942426Z"
    }
   },
   "outputs": [
    {
     "data": {
      "application/javascript": [
       "\n",
       "        if (window._pyforest_update_imports_cell) { window._pyforest_update_imports_cell('import pickle\\nimport matplotlib.pyplot as plt\\nimport pandas as pd'); }\n",
       "    "
      ],
      "text/plain": [
       "<IPython.core.display.Javascript object>"
      ]
     },
     "metadata": {},
     "output_type": "display_data"
    }
   ],
   "source": [
    "with open(\"./saved_data/Distance_matrix_as_dict.pickle\", \"rb\") as f:\n",
    "    nyc_dist_matrix_dict = pickle.load(f)"
   ]
  },
  {
   "cell_type": "markdown",
   "metadata": {},
   "source": [
    "### Function to put desired station first "
   ]
  },
  {
   "cell_type": "code",
   "execution_count": 25,
   "metadata": {
    "ExecuteTime": {
     "end_time": "2020-08-05T14:22:17.960037Z",
     "start_time": "2020-08-05T14:22:17.956664Z"
    }
   },
   "outputs": [],
   "source": [
    "def make_station_first_in_matrix(matrix_dict, desired_stations_id):\n",
    "    new_dict = {desired_stations_id: matrix_dict[desired_stations_id]}\n",
    "#     new_dict.update({desired_stations_id: matrix_dict[desired_stations_id]})\n",
    "    for x in matrix_dict:\n",
    "        if x not in new_dict:\n",
    "            new_dict.update({x: matrix_dict[x]})\n",
    "    return new_dict"
   ]
  },
  {
   "cell_type": "markdown",
   "metadata": {},
   "source": [
    "### Turning Dict into matrix"
   ]
  },
  {
   "cell_type": "code",
   "execution_count": 26,
   "metadata": {
    "ExecuteTime": {
     "end_time": "2020-08-05T14:22:17.966189Z",
     "start_time": "2020-08-05T14:22:17.961811Z"
    }
   },
   "outputs": [],
   "source": [
    "def make_dict_a_matrix(dictionary):\n",
    "    matrix_values = [value for value in dictionary.values()]\n",
    "    return matrix_values"
   ]
  },
  {
   "cell_type": "markdown",
   "metadata": {},
   "source": [
    "### Save Matrix Dict"
   ]
  },
  {
   "cell_type": "code",
   "execution_count": 27,
   "metadata": {
    "ExecuteTime": {
     "end_time": "2020-08-05T14:22:17.969808Z",
     "start_time": "2020-08-05T14:22:17.967778Z"
    }
   },
   "outputs": [],
   "source": [
    "# with open(\"./saved_data/Distance_matrix_as_dict.pickle\", 'wb+') as f:\n",
    "#     pickle.dump(orig_dist_matrix, f)"
   ]
  },
  {
   "cell_type": "markdown",
   "metadata": {},
   "source": [
    "# Finding Fastest TSP by Starting Station "
   ]
  },
  {
   "cell_type": "markdown",
   "metadata": {},
   "source": [
    "## Making DataFrame"
   ]
  },
  {
   "cell_type": "code",
   "execution_count": 28,
   "metadata": {
    "ExecuteTime": {
     "end_time": "2020-08-05T14:22:44.431885Z",
     "start_time": "2020-08-05T14:22:44.424600Z"
    }
   },
   "outputs": [
    {
     "data": {
      "application/javascript": [
       "\n",
       "        if (window._pyforest_update_imports_cell) { window._pyforest_update_imports_cell('import pickle\\nimport matplotlib.pyplot as plt\\nimport pandas as pd'); }\n",
       "    "
      ],
      "text/plain": [
       "<IPython.core.display.Javascript object>"
      ]
     },
     "metadata": {},
     "output_type": "display_data"
    }
   ],
   "source": [
    "TSP_solutions_df = pd.DataFrame(columns = ['Starting_station', \"Station_id_route\", \"Station_name_route\",\n",
    "                                          'Time_seconds', \"Time_hours\"])"
   ]
  },
  {
   "cell_type": "markdown",
   "metadata": {},
   "source": [
    "## Formulas for adding to DataFrame"
   ]
  },
  {
   "cell_type": "code",
   "execution_count": 29,
   "metadata": {
    "ExecuteTime": {
     "end_time": "2020-08-05T14:22:45.429524Z",
     "start_time": "2020-08-05T14:22:45.424121Z"
    }
   },
   "outputs": [],
   "source": [
    "def shift_station_to_first_in_matrix(matrix_dict, desired_stations_id):\n",
    "    index_value = list(matrix_dict.keys()).index(desired_stations_id)\n",
    "    index_and_lower_keys = list(matrix_dict.keys())[index_value:]\n",
    "    everything_shifted_dict = {key: value[index_value:]+value[:index_value] for key, value in matrix_dict.items()}\n",
    "    # get the values for the matrix\n",
    "    return_list = [value for key, value in everything_shifted_dict.items() if key in index_and_lower_keys]\n",
    "    return_list2 = [value for key, value in everything_shifted_dict.items() if key not in index_and_lower_keys]\n",
    "    return_list.extend(return_list2)\n",
    "    # get the keys for each row \n",
    "    return_keys = [key for key, value in everything_shifted_dict.items() if key in index_and_lower_keys]\n",
    "    return_keys2 = [key for key, value in everything_shifted_dict.items() if key not in index_and_lower_keys]\n",
    "    return_keys.extend(return_keys2)\n",
    "#     return_dict = {}\n",
    "#     for key, value in everything_shifted_dict.items():\n",
    "#         if key in index_and_lower_keys:\n",
    "#             return_dict[key] =  value\n",
    "#     for key, value in everything_shifted_dict.items():\n",
    "#         if key not in index_and_lower_keys:\n",
    "#             return_dict[key] =  value\n",
    "    return return_list, return_keys"
   ]
  },
  {
   "cell_type": "code",
   "execution_count": 30,
   "metadata": {
    "ExecuteTime": {
     "end_time": "2020-08-05T14:22:46.425342Z",
     "start_time": "2020-08-05T14:22:46.421682Z"
    }
   },
   "outputs": [],
   "source": [
    "def list_of_tsp_station_ids(stop_list, stop_dict_keys):\n",
    "    station_ids_in_order = []\n",
    "#     stop_dict_keys = list(stop_dict.keys())\n",
    "    for x in stop_list[:-1]:\n",
    "        station_ids_in_order.append(stop_dict_keys[int(x)])\n",
    "    station_ids_in_order.append(stop_dict_keys[0])\n",
    "    return station_ids_in_order"
   ]
  },
  {
   "cell_type": "code",
   "execution_count": 31,
   "metadata": {
    "ExecuteTime": {
     "end_time": "2020-08-05T14:22:47.427140Z",
     "start_time": "2020-08-05T14:22:47.424379Z"
    }
   },
   "outputs": [],
   "source": [
    "# https://github.com/google/or-tools/issues/1260\n",
    "def run_or_tools(dist_matrix):\n",
    "    data_model = create_data_model(dist_matrix)\n",
    "    seconds, list_of_stops = tsp(data_model)\n",
    "    return seconds, list_of_stops"
   ]
  },
  {
   "cell_type": "code",
   "execution_count": 32,
   "metadata": {
    "ExecuteTime": {
     "end_time": "2020-08-05T14:22:48.422308Z",
     "start_time": "2020-08-05T14:22:48.417370Z"
    }
   },
   "outputs": [],
   "source": [
    "def results_to_df(original_stop, stations_df=non_unique_stations_df, nodelistdf=node_list_df,\n",
    "                  dist_matrix_dict=nyc_dist_matrix_dict, final_df=TSP_solutions_df):\n",
    "    stop_dict = make_station_first_in_matrix(dist_matrix_dict, original_stop)\n",
    "    stop_dist_matrix = make_dict_a_matrix(stop_dict)\n",
    "    time, stop_list = run_or_tools(stop_dist_matrix)\n",
    "    time_in_hours, time_message = get_time_in_hrs(time)\n",
    "    tsp_stations = tsp_station_ids(stop_list, nodelistdf, starting_stop=original_stop)\n",
    "    station_names = get_station_names(stations_df, tsp_stations)\n",
    "    data = [original_stop, tsp_stations, station_names, time, time_in_hours]\n",
    "#     data_as_series = pd.Series(data, index = final_df.columns)\n",
    "#     final_df = final_df.append(pd.DataFrame([data], columns = final_df.columns), ignore_index=True, \n",
    "#                                verify_integrity=True)\n",
    "    if original_stop not in list(final_df.Starting_station):\n",
    "        final_df.loc[len(final_df)] = data\n",
    "    return final_df"
   ]
  },
  {
   "cell_type": "code",
   "execution_count": 33,
   "metadata": {
    "ExecuteTime": {
     "end_time": "2020-08-05T14:22:49.419063Z",
     "start_time": "2020-08-05T14:22:49.414994Z"
    }
   },
   "outputs": [],
   "source": [
    "def results_to_df2(original_stop, stations_df=non_unique_stations_df,\n",
    "                  dist_matrix_dict=nyc_dist_matrix_dict, final_df=TSP_solutions_df):\n",
    "    stop_dist_matrix, stop_dist_keys = shift_station_to_first_in_matrix(dist_matrix_dict, original_stop)\n",
    "    time, stop_list = run_or_tools(stop_dist_matrix)\n",
    "    time_in_hours, time_message = get_time_in_hrs(time)\n",
    "    tsp_stations = list_of_tsp_station_ids(stop_list, stop_dist_keys)\n",
    "    station_names = get_station_names(stations_df, tsp_stations)\n",
    "    data = [original_stop, tsp_stations, station_names, time, time_in_hours]\n",
    "    if original_stop not in list(final_df.Starting_station):\n",
    "        final_df.loc[len(final_df)] = data\n",
    "    return final_df"
   ]
  },
  {
   "cell_type": "markdown",
   "metadata": {},
   "source": [
    "## Choosing which stations to test"
   ]
  },
  {
   "cell_type": "markdown",
   "metadata": {},
   "source": [
    "### Geographic center"
   ]
  },
  {
   "cell_type": "code",
   "execution_count": 34,
   "metadata": {
    "ExecuteTime": {
     "end_time": "2020-08-05T14:22:50.481059Z",
     "start_time": "2020-08-05T14:22:50.478194Z"
    }
   },
   "outputs": [],
   "source": [
    "lat_mean = node_list_df.X.mean()\n",
    "lon_mean = node_list_df.Y.mean()"
   ]
  },
  {
   "cell_type": "code",
   "execution_count": 35,
   "metadata": {
    "ExecuteTime": {
     "end_time": "2020-08-05T14:22:51.534466Z",
     "start_time": "2020-08-05T14:22:51.530531Z"
    }
   },
   "outputs": [],
   "source": [
    "absolute_difference_function = lambda list_value : abs(list_value[0] - lat_mean) + abs(list_value[1] - lon_mean)\n",
    "closest_values = min(list(zip(node_list_df['X'], node_list_df['Y'])), key=absolute_difference_function)"
   ]
  },
  {
   "cell_type": "code",
   "execution_count": 36,
   "metadata": {
    "ExecuteTime": {
     "end_time": "2020-08-05T14:22:52.548430Z",
     "start_time": "2020-08-05T14:22:52.545352Z"
    }
   },
   "outputs": [
    {
     "data": {
      "text/plain": [
       "(40.744587, -73.93099699999998)"
      ]
     },
     "execution_count": 36,
     "metadata": {},
     "output_type": "execute_result"
    }
   ],
   "source": [
    "closest_values"
   ]
  },
  {
   "cell_type": "code",
   "execution_count": 37,
   "metadata": {
    "ExecuteTime": {
     "end_time": "2020-08-05T14:22:53.559097Z",
     "start_time": "2020-08-05T14:22:53.549056Z"
    }
   },
   "outputs": [
    {
     "data": {
      "text/html": [
       "<div>\n",
       "<style scoped>\n",
       "    .dataframe tbody tr th:only-of-type {\n",
       "        vertical-align: middle;\n",
       "    }\n",
       "\n",
       "    .dataframe tbody tr th {\n",
       "        vertical-align: top;\n",
       "    }\n",
       "\n",
       "    .dataframe thead th {\n",
       "        text-align: right;\n",
       "    }\n",
       "</style>\n",
       "<table border=\"1\" class=\"dataframe\">\n",
       "  <thead>\n",
       "    <tr style=\"text-align: right;\">\n",
       "      <th></th>\n",
       "      <th>station_id</th>\n",
       "      <th>X</th>\n",
       "      <th>Y</th>\n",
       "    </tr>\n",
       "  </thead>\n",
       "  <tbody>\n",
       "    <tr>\n",
       "      <th>165</th>\n",
       "      <td>716</td>\n",
       "      <td>40.744587</td>\n",
       "      <td>-73.930997</td>\n",
       "    </tr>\n",
       "  </tbody>\n",
       "</table>\n",
       "</div>"
      ],
      "text/plain": [
       "    station_id          X          Y\n",
       "165        716  40.744587 -73.930997"
      ]
     },
     "execution_count": 37,
     "metadata": {},
     "output_type": "execute_result"
    }
   ],
   "source": [
    "node_list_df[(node_list_df['X'] == closest_values[0]) & (node_list_df['Y'] == closest_values[1])]"
   ]
  },
  {
   "cell_type": "code",
   "execution_count": 38,
   "metadata": {
    "ExecuteTime": {
     "end_time": "2020-08-05T14:22:54.565819Z",
     "start_time": "2020-08-05T14:22:54.557499Z"
    }
   },
   "outputs": [
    {
     "data": {
      "text/html": [
       "<div>\n",
       "<style scoped>\n",
       "    .dataframe tbody tr th:only-of-type {\n",
       "        vertical-align: middle;\n",
       "    }\n",
       "\n",
       "    .dataframe tbody tr th {\n",
       "        vertical-align: top;\n",
       "    }\n",
       "\n",
       "    .dataframe thead th {\n",
       "        text-align: right;\n",
       "    }\n",
       "</style>\n",
       "<table border=\"1\" class=\"dataframe\">\n",
       "  <thead>\n",
       "    <tr style=\"text-align: right;\">\n",
       "      <th></th>\n",
       "      <th>stop_id</th>\n",
       "      <th>stop_name</th>\n",
       "      <th>stop_lat</th>\n",
       "      <th>stop_lon</th>\n",
       "      <th>location_type</th>\n",
       "      <th>parent_station</th>\n",
       "    </tr>\n",
       "  </thead>\n",
       "  <tbody>\n",
       "    <tr>\n",
       "      <th>504</th>\n",
       "      <td>716</td>\n",
       "      <td>33 St</td>\n",
       "      <td>40.744587</td>\n",
       "      <td>-73.930997</td>\n",
       "      <td>1</td>\n",
       "      <td>NaN</td>\n",
       "    </tr>\n",
       "  </tbody>\n",
       "</table>\n",
       "</div>"
      ],
      "text/plain": [
       "    stop_id stop_name   stop_lat   stop_lon  location_type  parent_station\n",
       "504     716     33 St  40.744587 -73.930997              1             NaN"
      ]
     },
     "execution_count": 38,
     "metadata": {},
     "output_type": "execute_result"
    }
   ],
   "source": [
    "non_unique_stations_df[non_unique_stations_df['stop_id'].str.contains('716')]"
   ]
  },
  {
   "cell_type": "markdown",
   "metadata": {},
   "source": [
    "#### Running Formulas"
   ]
  },
  {
   "cell_type": "code",
   "execution_count": 39,
   "metadata": {
    "ExecuteTime": {
     "end_time": "2020-08-05T14:22:58.846671Z",
     "start_time": "2020-08-05T14:22:55.982889Z"
    }
   },
   "outputs": [
    {
     "name": "stdout",
     "output_type": "stream",
     "text": [
      "Objective: 73020 miles\n"
     ]
    }
   ],
   "source": [
    "TSP_solutions_df = results_to_df2('716')"
   ]
  },
  {
   "cell_type": "markdown",
   "metadata": {},
   "source": [
    "### Most Connections"
   ]
  },
  {
   "cell_type": "markdown",
   "metadata": {},
   "source": [
    "#### Finding most_connected Stations"
   ]
  },
  {
   "cell_type": "code",
   "execution_count": 40,
   "metadata": {
    "ExecuteTime": {
     "end_time": "2020-08-05T14:23:02.506785Z",
     "start_time": "2020-08-05T14:23:02.493619Z"
    }
   },
   "outputs": [
    {
     "data": {
      "text/plain": [
       "10"
      ]
     },
     "execution_count": 40,
     "metadata": {},
     "output_type": "execute_result"
    }
   ],
   "source": [
    "all_nodes_edglist_list = node1 + node2\n",
    "node_count_dict = {i: all_nodes_edglist_list.count(i) for i in all_nodes_edgelist}\n",
    "max(list(node_count_dict.values()))"
   ]
  },
  {
   "cell_type": "markdown",
   "metadata": {},
   "source": [
    "#### Appears 10 times"
   ]
  },
  {
   "cell_type": "code",
   "execution_count": 41,
   "metadata": {
    "ExecuteTime": {
     "end_time": "2020-08-05T14:23:03.606779Z",
     "start_time": "2020-08-05T14:23:03.602561Z"
    }
   },
   "outputs": [
    {
     "data": {
      "text/plain": [
       "['635_L03_R20']"
      ]
     },
     "execution_count": 41,
     "metadata": {},
     "output_type": "execute_result"
    }
   ],
   "source": [
    "most_connected_station = [k for k, v in Counter(node_count_dict.items()) if v > 9]\n",
    "most_connected_station"
   ]
  },
  {
   "cell_type": "code",
   "execution_count": 42,
   "metadata": {
    "ExecuteTime": {
     "end_time": "2020-08-05T14:23:04.674592Z",
     "start_time": "2020-08-05T14:23:04.665630Z"
    }
   },
   "outputs": [
    {
     "data": {
      "text/html": [
       "<div>\n",
       "<style scoped>\n",
       "    .dataframe tbody tr th:only-of-type {\n",
       "        vertical-align: middle;\n",
       "    }\n",
       "\n",
       "    .dataframe tbody tr th {\n",
       "        vertical-align: top;\n",
       "    }\n",
       "\n",
       "    .dataframe thead th {\n",
       "        text-align: right;\n",
       "    }\n",
       "</style>\n",
       "<table border=\"1\" class=\"dataframe\">\n",
       "  <thead>\n",
       "    <tr style=\"text-align: right;\">\n",
       "      <th></th>\n",
       "      <th>stop_id</th>\n",
       "      <th>stop_name</th>\n",
       "      <th>stop_lat</th>\n",
       "      <th>stop_lon</th>\n",
       "      <th>location_type</th>\n",
       "      <th>parent_station</th>\n",
       "    </tr>\n",
       "  </thead>\n",
       "  <tbody>\n",
       "    <tr>\n",
       "      <th>447</th>\n",
       "      <td>635</td>\n",
       "      <td>14 St - Union Sq</td>\n",
       "      <td>40.734673</td>\n",
       "      <td>-73.989951</td>\n",
       "      <td>1</td>\n",
       "      <td>NaN</td>\n",
       "    </tr>\n",
       "  </tbody>\n",
       "</table>\n",
       "</div>"
      ],
      "text/plain": [
       "    stop_id         stop_name   stop_lat   stop_lon  location_type  \\\n",
       "447     635  14 St - Union Sq  40.734673 -73.989951              1   \n",
       "\n",
       "     parent_station  \n",
       "447             NaN  "
      ]
     },
     "execution_count": 42,
     "metadata": {},
     "output_type": "execute_result"
    }
   ],
   "source": [
    "non_unique_stations_df[non_unique_stations_df['stop_id'].str.contains(\"635\")]"
   ]
  },
  {
   "cell_type": "markdown",
   "metadata": {},
   "source": [
    "##### Solving it"
   ]
  },
  {
   "cell_type": "code",
   "execution_count": 43,
   "metadata": {
    "ExecuteTime": {
     "end_time": "2020-08-05T14:23:12.687225Z",
     "start_time": "2020-08-05T14:23:09.135374Z"
    }
   },
   "outputs": [
    {
     "name": "stdout",
     "output_type": "stream",
     "text": [
      "Objective: 72570 miles\n"
     ]
    }
   ],
   "source": [
    "TSP_solutions_df = results_to_df2(\"635_L03_R20\")"
   ]
  },
  {
   "cell_type": "markdown",
   "metadata": {},
   "source": [
    "#### Appears 9 times"
   ]
  },
  {
   "cell_type": "code",
   "execution_count": 44,
   "metadata": {
    "ExecuteTime": {
     "end_time": "2020-08-05T14:23:17.546883Z",
     "start_time": "2020-08-05T14:23:17.542027Z"
    }
   },
   "outputs": [
    {
     "data": {
      "text/plain": [
       "['127_725_902_R16', '235_D24_R31']"
      ]
     },
     "execution_count": 44,
     "metadata": {},
     "output_type": "execute_result"
    }
   ],
   "source": [
    "most_connected_station_9 = [k for k, v in Counter(node_count_dict.items()) if v == 9]\n",
    "most_connected_station_9"
   ]
  },
  {
   "cell_type": "code",
   "execution_count": 45,
   "metadata": {
    "ExecuteTime": {
     "end_time": "2020-08-05T14:23:18.680024Z",
     "start_time": "2020-08-05T14:23:18.671467Z"
    }
   },
   "outputs": [
    {
     "data": {
      "text/html": [
       "<div>\n",
       "<style scoped>\n",
       "    .dataframe tbody tr th:only-of-type {\n",
       "        vertical-align: middle;\n",
       "    }\n",
       "\n",
       "    .dataframe tbody tr th {\n",
       "        vertical-align: top;\n",
       "    }\n",
       "\n",
       "    .dataframe thead th {\n",
       "        text-align: right;\n",
       "    }\n",
       "</style>\n",
       "<table border=\"1\" class=\"dataframe\">\n",
       "  <thead>\n",
       "    <tr style=\"text-align: right;\">\n",
       "      <th></th>\n",
       "      <th>stop_id</th>\n",
       "      <th>stop_name</th>\n",
       "      <th>stop_lat</th>\n",
       "      <th>stop_lon</th>\n",
       "      <th>location_type</th>\n",
       "      <th>parent_station</th>\n",
       "    </tr>\n",
       "  </thead>\n",
       "  <tbody>\n",
       "    <tr>\n",
       "      <th>72</th>\n",
       "      <td>127</td>\n",
       "      <td>Times Sq - 42 St</td>\n",
       "      <td>40.75529</td>\n",
       "      <td>-73.987495</td>\n",
       "      <td>1</td>\n",
       "      <td>NaN</td>\n",
       "    </tr>\n",
       "  </tbody>\n",
       "</table>\n",
       "</div>"
      ],
      "text/plain": [
       "   stop_id         stop_name  stop_lat   stop_lon  location_type  \\\n",
       "72     127  Times Sq - 42 St  40.75529 -73.987495              1   \n",
       "\n",
       "    parent_station  \n",
       "72             NaN  "
      ]
     },
     "execution_count": 45,
     "metadata": {},
     "output_type": "execute_result"
    }
   ],
   "source": [
    "non_unique_stations_df[non_unique_stations_df['stop_id'].str.contains(\"127\")]"
   ]
  },
  {
   "cell_type": "code",
   "execution_count": 46,
   "metadata": {
    "ExecuteTime": {
     "end_time": "2020-08-05T14:23:19.793098Z",
     "start_time": "2020-08-05T14:23:19.784373Z"
    }
   },
   "outputs": [
    {
     "data": {
      "text/html": [
       "<div>\n",
       "<style scoped>\n",
       "    .dataframe tbody tr th:only-of-type {\n",
       "        vertical-align: middle;\n",
       "    }\n",
       "\n",
       "    .dataframe tbody tr th {\n",
       "        vertical-align: top;\n",
       "    }\n",
       "\n",
       "    .dataframe thead th {\n",
       "        text-align: right;\n",
       "    }\n",
       "</style>\n",
       "<table border=\"1\" class=\"dataframe\">\n",
       "  <thead>\n",
       "    <tr style=\"text-align: right;\">\n",
       "      <th></th>\n",
       "      <th>stop_id</th>\n",
       "      <th>stop_name</th>\n",
       "      <th>stop_lat</th>\n",
       "      <th>stop_lon</th>\n",
       "      <th>location_type</th>\n",
       "      <th>parent_station</th>\n",
       "    </tr>\n",
       "  </thead>\n",
       "  <tbody>\n",
       "    <tr>\n",
       "      <th>210</th>\n",
       "      <td>235</td>\n",
       "      <td>Atlantic Av - Barclays Ctr</td>\n",
       "      <td>40.684359</td>\n",
       "      <td>-73.977666</td>\n",
       "      <td>1</td>\n",
       "      <td>NaN</td>\n",
       "    </tr>\n",
       "  </tbody>\n",
       "</table>\n",
       "</div>"
      ],
      "text/plain": [
       "    stop_id                   stop_name   stop_lat   stop_lon  location_type  \\\n",
       "210     235  Atlantic Av - Barclays Ctr  40.684359 -73.977666              1   \n",
       "\n",
       "     parent_station  \n",
       "210             NaN  "
      ]
     },
     "execution_count": 46,
     "metadata": {},
     "output_type": "execute_result"
    }
   ],
   "source": [
    "non_unique_stations_df[non_unique_stations_df['stop_id'].str.contains(\"235\")]"
   ]
  },
  {
   "cell_type": "markdown",
   "metadata": {},
   "source": [
    "##### Running formulas "
   ]
  },
  {
   "cell_type": "code",
   "execution_count": 48,
   "metadata": {
    "ExecuteTime": {
     "end_time": "2020-08-05T14:24:09.125705Z",
     "start_time": "2020-08-05T14:24:01.921908Z"
    }
   },
   "outputs": [
    {
     "name": "stdout",
     "output_type": "stream",
     "text": [
      "Objective: 74460 miles\n",
      "Objective: 72360 miles\n"
     ]
    }
   ],
   "source": [
    "TSP_solutions_df = results_to_df2(\"127_725_902_R16\") # times sq\n",
    "TSP_solutions_df = results_to_df2(\"235_D24_R31\") # barclays centr"
   ]
  },
  {
   "cell_type": "markdown",
   "metadata": {},
   "source": [
    "### Edge nodes (control)"
   ]
  },
  {
   "cell_type": "markdown",
   "metadata": {},
   "source": [
    "#### Far Rockaway"
   ]
  },
  {
   "cell_type": "code",
   "execution_count": 49,
   "metadata": {
    "ExecuteTime": {
     "end_time": "2020-08-05T14:24:11.101808Z",
     "start_time": "2020-08-05T14:24:11.090707Z"
    }
   },
   "outputs": [
    {
     "data": {
      "text/html": [
       "<div>\n",
       "<style scoped>\n",
       "    .dataframe tbody tr th:only-of-type {\n",
       "        vertical-align: middle;\n",
       "    }\n",
       "\n",
       "    .dataframe tbody tr th {\n",
       "        vertical-align: top;\n",
       "    }\n",
       "\n",
       "    .dataframe thead th {\n",
       "        text-align: right;\n",
       "    }\n",
       "</style>\n",
       "<table border=\"1\" class=\"dataframe\">\n",
       "  <thead>\n",
       "    <tr style=\"text-align: right;\">\n",
       "      <th></th>\n",
       "      <th>stop_id</th>\n",
       "      <th>stop_name</th>\n",
       "      <th>stop_lat</th>\n",
       "      <th>stop_lon</th>\n",
       "      <th>location_type</th>\n",
       "      <th>parent_station</th>\n",
       "    </tr>\n",
       "  </thead>\n",
       "  <tbody>\n",
       "    <tr>\n",
       "      <th>1071</th>\n",
       "      <td>H11</td>\n",
       "      <td>Far Rockaway - Mott Av</td>\n",
       "      <td>40.603995</td>\n",
       "      <td>-73.755405</td>\n",
       "      <td>1</td>\n",
       "      <td>NaN</td>\n",
       "    </tr>\n",
       "  </tbody>\n",
       "</table>\n",
       "</div>"
      ],
      "text/plain": [
       "     stop_id               stop_name   stop_lat   stop_lon  location_type  \\\n",
       "1071     H11  Far Rockaway - Mott Av  40.603995 -73.755405              1   \n",
       "\n",
       "      parent_station  \n",
       "1071             NaN  "
      ]
     },
     "execution_count": 49,
     "metadata": {},
     "output_type": "execute_result"
    }
   ],
   "source": [
    "# starting from what I hypothesize to be the worst place to start and end the subway challenge from\n",
    "non_unique_stations_df[non_unique_stations_df['stop_name'].str.contains(\"Far Rockaway\")]"
   ]
  },
  {
   "cell_type": "code",
   "execution_count": 51,
   "metadata": {
    "ExecuteTime": {
     "end_time": "2020-08-05T14:24:25.435418Z",
     "start_time": "2020-08-05T14:24:20.034750Z"
    }
   },
   "outputs": [
    {
     "name": "stdout",
     "output_type": "stream",
     "text": [
      "Objective: 71820 miles\n"
     ]
    }
   ],
   "source": [
    "TSP_solutions_df = results_to_df2(\"H11\")\n",
    "# TSP_solutions_df.loc[4] = data_rockaway"
   ]
  },
  {
   "cell_type": "markdown",
   "metadata": {},
   "source": [
    "#### Pelham Bay"
   ]
  },
  {
   "cell_type": "code",
   "execution_count": 52,
   "metadata": {
    "ExecuteTime": {
     "end_time": "2020-08-05T14:24:31.636681Z",
     "start_time": "2020-08-05T14:24:31.625408Z"
    }
   },
   "outputs": [
    {
     "data": {
      "text/html": [
       "<div>\n",
       "<style scoped>\n",
       "    .dataframe tbody tr th:only-of-type {\n",
       "        vertical-align: middle;\n",
       "    }\n",
       "\n",
       "    .dataframe tbody tr th {\n",
       "        vertical-align: top;\n",
       "    }\n",
       "\n",
       "    .dataframe thead th {\n",
       "        text-align: right;\n",
       "    }\n",
       "</style>\n",
       "<table border=\"1\" class=\"dataframe\">\n",
       "  <thead>\n",
       "    <tr style=\"text-align: right;\">\n",
       "      <th></th>\n",
       "      <th>stop_id</th>\n",
       "      <th>stop_name</th>\n",
       "      <th>stop_lat</th>\n",
       "      <th>stop_lon</th>\n",
       "      <th>location_type</th>\n",
       "      <th>parent_station</th>\n",
       "    </tr>\n",
       "  </thead>\n",
       "  <tbody>\n",
       "    <tr>\n",
       "      <th>351</th>\n",
       "      <td>601</td>\n",
       "      <td>Pelham Bay Park</td>\n",
       "      <td>40.852462</td>\n",
       "      <td>-73.828121</td>\n",
       "      <td>1</td>\n",
       "      <td>NaN</td>\n",
       "    </tr>\n",
       "  </tbody>\n",
       "</table>\n",
       "</div>"
      ],
      "text/plain": [
       "    stop_id        stop_name   stop_lat   stop_lon  location_type  \\\n",
       "351     601  Pelham Bay Park  40.852462 -73.828121              1   \n",
       "\n",
       "     parent_station  \n",
       "351             NaN  "
      ]
     },
     "execution_count": 52,
     "metadata": {},
     "output_type": "execute_result"
    }
   ],
   "source": [
    "# starting from what I hypothesize to be the worst place to start and end the subway challenge from\n",
    "non_unique_stations_df[non_unique_stations_df['stop_name'].str.contains(\"Pelham Bay\")]"
   ]
  },
  {
   "cell_type": "code",
   "execution_count": 53,
   "metadata": {
    "ExecuteTime": {
     "end_time": "2020-08-05T14:24:36.494879Z",
     "start_time": "2020-08-05T14:24:33.003306Z"
    }
   },
   "outputs": [
    {
     "name": "stdout",
     "output_type": "stream",
     "text": [
      "Objective: 73560 miles\n"
     ]
    }
   ],
   "source": [
    "TSP_solutions_df = results_to_df2(\"601\")\n",
    "# TSP_solutions_df.loc[5] = data_pelham"
   ]
  },
  {
   "cell_type": "code",
   "execution_count": 54,
   "metadata": {
    "ExecuteTime": {
     "end_time": "2020-08-05T14:24:37.674742Z",
     "start_time": "2020-08-05T14:24:37.657914Z"
    }
   },
   "outputs": [
    {
     "data": {
      "text/html": [
       "<div>\n",
       "<style scoped>\n",
       "    .dataframe tbody tr th:only-of-type {\n",
       "        vertical-align: middle;\n",
       "    }\n",
       "\n",
       "    .dataframe tbody tr th {\n",
       "        vertical-align: top;\n",
       "    }\n",
       "\n",
       "    .dataframe thead th {\n",
       "        text-align: right;\n",
       "    }\n",
       "</style>\n",
       "<table border=\"1\" class=\"dataframe\">\n",
       "  <thead>\n",
       "    <tr style=\"text-align: right;\">\n",
       "      <th></th>\n",
       "      <th>Starting_station</th>\n",
       "      <th>Station_id_route</th>\n",
       "      <th>Station_name_route</th>\n",
       "      <th>Time_seconds</th>\n",
       "      <th>Time_hours</th>\n",
       "    </tr>\n",
       "  </thead>\n",
       "  <tbody>\n",
       "    <tr>\n",
       "      <th>0</th>\n",
       "      <td>716</td>\n",
       "      <td>[716, 715, 714, 713, 712, 711, B04, B06, B08, ...</td>\n",
       "      <td>[33 St, 40 St, 46 St, 52 St, Woodside - 61 St,...</td>\n",
       "      <td>73020</td>\n",
       "      <td>20.28</td>\n",
       "    </tr>\n",
       "    <tr>\n",
       "      <th>1</th>\n",
       "      <td>635_L03_R20</td>\n",
       "      <td>[635_L03_R20, L02, L01_A31, A30, A28, A27, A25...</td>\n",
       "      <td>[14 St - Union Sq / Union Sq - 14 St / 14 St -...</td>\n",
       "      <td>72570</td>\n",
       "      <td>20.16</td>\n",
       "    </tr>\n",
       "    <tr>\n",
       "      <th>2</th>\n",
       "      <td>127_725_902_R16</td>\n",
       "      <td>[127_725_902_R16, 126, R15, R14, R13, R11, R01...</td>\n",
       "      <td>[Times Sq - 42 St / Times Sq - 42 St / Times S...</td>\n",
       "      <td>74460</td>\n",
       "      <td>20.68</td>\n",
       "    </tr>\n",
       "    <tr>\n",
       "      <th>3</th>\n",
       "      <td>235_D24_R31</td>\n",
       "      <td>[235_D24_R31, 236, 237, 238, 239, 248, 249, 25...</td>\n",
       "      <td>[Atlantic Av - Barclays Ctr / Atlantic Av - Ba...</td>\n",
       "      <td>72360</td>\n",
       "      <td>20.10</td>\n",
       "    </tr>\n",
       "    <tr>\n",
       "      <th>4</th>\n",
       "      <td>H11</td>\n",
       "      <td>[H11, H10, H09, H08, H07, H06, H04_H19, H12, H...</td>\n",
       "      <td>[Far Rockaway - Mott Av, Beach 25 St, Beach 36...</td>\n",
       "      <td>71820</td>\n",
       "      <td>19.95</td>\n",
       "    </tr>\n",
       "    <tr>\n",
       "      <th>5</th>\n",
       "      <td>601</td>\n",
       "      <td>[601, 602, 603, 604, 606, 607, 608, 609, 610, ...</td>\n",
       "      <td>[Pelham Bay Park, Buhre Av, Middletown Rd, Wes...</td>\n",
       "      <td>73560</td>\n",
       "      <td>20.43</td>\n",
       "    </tr>\n",
       "  </tbody>\n",
       "</table>\n",
       "</div>"
      ],
      "text/plain": [
       "  Starting_station                                   Station_id_route  \\\n",
       "0              716  [716, 715, 714, 713, 712, 711, B04, B06, B08, ...   \n",
       "1      635_L03_R20  [635_L03_R20, L02, L01_A31, A30, A28, A27, A25...   \n",
       "2  127_725_902_R16  [127_725_902_R16, 126, R15, R14, R13, R11, R01...   \n",
       "3      235_D24_R31  [235_D24_R31, 236, 237, 238, 239, 248, 249, 25...   \n",
       "4              H11  [H11, H10, H09, H08, H07, H06, H04_H19, H12, H...   \n",
       "5              601  [601, 602, 603, 604, 606, 607, 608, 609, 610, ...   \n",
       "\n",
       "                                  Station_name_route Time_seconds  Time_hours  \n",
       "0  [33 St, 40 St, 46 St, 52 St, Woodside - 61 St,...        73020       20.28  \n",
       "1  [14 St - Union Sq / Union Sq - 14 St / 14 St -...        72570       20.16  \n",
       "2  [Times Sq - 42 St / Times Sq - 42 St / Times S...        74460       20.68  \n",
       "3  [Atlantic Av - Barclays Ctr / Atlantic Av - Ba...        72360       20.10  \n",
       "4  [Far Rockaway - Mott Av, Beach 25 St, Beach 36...        71820       19.95  \n",
       "5  [Pelham Bay Park, Buhre Av, Middletown Rd, Wes...        73560       20.43  "
      ]
     },
     "execution_count": 54,
     "metadata": {},
     "output_type": "execute_result"
    }
   ],
   "source": [
    "TSP_solutions_df"
   ]
  },
  {
   "cell_type": "markdown",
   "metadata": {},
   "source": [
    "## Choosing up to 20 random stations"
   ]
  },
  {
   "cell_type": "code",
   "execution_count": 55,
   "metadata": {
    "ExecuteTime": {
     "end_time": "2020-08-05T14:24:45.103161Z",
     "start_time": "2020-08-05T14:24:45.099770Z"
    }
   },
   "outputs": [],
   "source": [
    "# generating 50 random numbers\n",
    "random_nums = []\n",
    "x = 0\n",
    "while x < 20:\n",
    "    new_num = random.randint(0, len(node_list_df))\n",
    "    random_nums.append(new_num)\n",
    "    x += 1"
   ]
  },
  {
   "cell_type": "code",
   "execution_count": 56,
   "metadata": {
    "ExecuteTime": {
     "end_time": "2020-08-05T14:26:12.482202Z",
     "start_time": "2020-08-05T14:24:48.461977Z"
    }
   },
   "outputs": [
    {
     "name": "stdout",
     "output_type": "stream",
     "text": [
      "Objective: 71880 miles\n",
      "Objective: 71640 miles\n",
      "Objective: 72840 miles\n",
      "Objective: 72570 miles\n",
      "Objective: 75780 miles\n",
      "Objective: 75150 miles\n",
      "Objective: 72300 miles\n",
      "Objective: 71520 miles\n",
      "Objective: 71340 miles\n",
      "Objective: 71820 miles\n",
      "Objective: 72000 miles\n",
      "Objective: 72600 miles\n",
      "Objective: 73830 miles\n",
      "Objective: 72720 miles\n",
      "Objective: 71190 miles\n",
      "Objective: 75930 miles\n",
      "Objective: 72450 miles\n",
      "Objective: 72810 miles\n",
      "Objective: 71160 miles\n"
     ]
    }
   ],
   "source": [
    "for x in random_nums:\n",
    "    station_name = node_list_df.iloc[x]['station_id']\n",
    "    if station_name not in list(TSP_solutions_df.Starting_station):\n",
    "        TSP_solutions_df = results_to_df2(station_name)"
   ]
  },
  {
   "cell_type": "code",
   "execution_count": 57,
   "metadata": {
    "ExecuteTime": {
     "end_time": "2020-08-05T14:28:10.483274Z",
     "start_time": "2020-08-05T14:28:10.431625Z"
    }
   },
   "outputs": [
    {
     "data": {
      "text/html": [
       "<div>\n",
       "<style scoped>\n",
       "    .dataframe tbody tr th:only-of-type {\n",
       "        vertical-align: middle;\n",
       "    }\n",
       "\n",
       "    .dataframe tbody tr th {\n",
       "        vertical-align: top;\n",
       "    }\n",
       "\n",
       "    .dataframe thead th {\n",
       "        text-align: right;\n",
       "    }\n",
       "</style>\n",
       "<table border=\"1\" class=\"dataframe\">\n",
       "  <thead>\n",
       "    <tr style=\"text-align: right;\">\n",
       "      <th></th>\n",
       "      <th>Starting_station</th>\n",
       "      <th>Station_id_route</th>\n",
       "      <th>Station_name_route</th>\n",
       "      <th>Time_seconds</th>\n",
       "      <th>Time_hours</th>\n",
       "    </tr>\n",
       "  </thead>\n",
       "  <tbody>\n",
       "    <tr>\n",
       "      <th>24</th>\n",
       "      <td>R42</td>\n",
       "      <td>[R42, R43, R44, R41, N02, N03, N04, N05, N06, ...</td>\n",
       "      <td>[Bay Ridge Av, 77 St, 86 St, 59 St, 8 Av, Fort...</td>\n",
       "      <td>71160</td>\n",
       "      <td>19.77</td>\n",
       "    </tr>\n",
       "    <tr>\n",
       "      <th>20</th>\n",
       "      <td>214</td>\n",
       "      <td>[214, 213, 212, 211, 210, 209, 208, 207, 206, ...</td>\n",
       "      <td>[West Farms Sq - E Tremont Av, E 180 St, Bronx...</td>\n",
       "      <td>71190</td>\n",
       "      <td>19.77</td>\n",
       "    </tr>\n",
       "    <tr>\n",
       "      <th>14</th>\n",
       "      <td>G19</td>\n",
       "      <td>[G19, G18, G16, G15, 711, 710_G14, 709, 708, 7...</td>\n",
       "      <td>[Steinway St, 46 St, Northern Blvd, 65 St, 69 ...</td>\n",
       "      <td>71340</td>\n",
       "      <td>19.82</td>\n",
       "    </tr>\n",
       "    <tr>\n",
       "      <th>13</th>\n",
       "      <td>D15</td>\n",
       "      <td>[D15, B10, B08, Q03, Q04, Q05, B06, B04, 710_G...</td>\n",
       "      <td>[47-50 Sts - Rockefeller Ctr, 57 St, Lexington...</td>\n",
       "      <td>71520</td>\n",
       "      <td>19.87</td>\n",
       "    </tr>\n",
       "    <tr>\n",
       "      <th>7</th>\n",
       "      <td>402</td>\n",
       "      <td>[402, 405, 406, 407, 408, 409, 410, 411, 412, ...</td>\n",
       "      <td>[Mosholu Pkwy, Bedford Park Blvd - Lehman Coll...</td>\n",
       "      <td>71640</td>\n",
       "      <td>19.90</td>\n",
       "    </tr>\n",
       "    <tr>\n",
       "      <th>15</th>\n",
       "      <td>H10</td>\n",
       "      <td>[H10, H11, H09, H08, H07, H06, H04_H19, H12, H...</td>\n",
       "      <td>[Beach 25 St, Far Rockaway - Mott Av, Beach 36...</td>\n",
       "      <td>71820</td>\n",
       "      <td>19.95</td>\n",
       "    </tr>\n",
       "    <tr>\n",
       "      <th>4</th>\n",
       "      <td>H11</td>\n",
       "      <td>[H11, H10, H09, H08, H07, H06, H04_H19, H12, H...</td>\n",
       "      <td>[Far Rockaway - Mott Av, Beach 25 St, Beach 36...</td>\n",
       "      <td>71820</td>\n",
       "      <td>19.95</td>\n",
       "    </tr>\n",
       "    <tr>\n",
       "      <th>6</th>\n",
       "      <td>A63</td>\n",
       "      <td>[A63, A61, A60, A59, A57, A55, A54, A53, A52, ...</td>\n",
       "      <td>[104 St, Rockaway Blvd, 88 St, 80 St, Grant Av...</td>\n",
       "      <td>71880</td>\n",
       "      <td>19.97</td>\n",
       "    </tr>\n",
       "    <tr>\n",
       "      <th>16</th>\n",
       "      <td>D14</td>\n",
       "      <td>[D14, F12, F11, 719_F09_G22, G24, G26, G28, G2...</td>\n",
       "      <td>[7 Av, 5 Av/53 St, Lexington Av/53 St, Court S...</td>\n",
       "      <td>72000</td>\n",
       "      <td>20.00</td>\n",
       "    </tr>\n",
       "    <tr>\n",
       "      <th>12</th>\n",
       "      <td>B23</td>\n",
       "      <td>[B23, B22, B21, B20, B19, B18, B17, B16, B15, ...</td>\n",
       "      <td>[Bay 50 St, 25 Av, Bay Pkwy, 20 Av, 18 Av, 79 ...</td>\n",
       "      <td>72300</td>\n",
       "      <td>20.08</td>\n",
       "    </tr>\n",
       "    <tr>\n",
       "      <th>3</th>\n",
       "      <td>235_D24_R31</td>\n",
       "      <td>[235_D24_R31, 236, 237, 238, 239, 248, 249, 25...</td>\n",
       "      <td>[Atlantic Av - Barclays Ctr / Atlantic Av - Ba...</td>\n",
       "      <td>72360</td>\n",
       "      <td>20.10</td>\n",
       "    </tr>\n",
       "    <tr>\n",
       "      <th>22</th>\n",
       "      <td>J15</td>\n",
       "      <td>[J15, J16, J17, J19, J20, J21, J22, J23, J24, ...</td>\n",
       "      <td>[Woodhaven Blvd, 85 St - Forest Pkwy, 75 St, C...</td>\n",
       "      <td>72450</td>\n",
       "      <td>20.12</td>\n",
       "    </tr>\n",
       "    <tr>\n",
       "      <th>1</th>\n",
       "      <td>635_L03_R20</td>\n",
       "      <td>[635_L03_R20, L02, L01_A31, A30, A28, A27, A25...</td>\n",
       "      <td>[14 St - Union Sq / Union Sq - 14 St / 14 St -...</td>\n",
       "      <td>72570</td>\n",
       "      <td>20.16</td>\n",
       "    </tr>\n",
       "    <tr>\n",
       "      <th>9</th>\n",
       "      <td>D39</td>\n",
       "      <td>[D39, D40, D41, D42, F39, F38, F36, F35, F34, ...</td>\n",
       "      <td>[Sheepshead Bay, Brighton Beach, Ocean Pkwy, W...</td>\n",
       "      <td>72570</td>\n",
       "      <td>20.16</td>\n",
       "    </tr>\n",
       "    <tr>\n",
       "      <th>17</th>\n",
       "      <td>222_415</td>\n",
       "      <td>[222_415, 414_D11, 413, 412, 411, 410, 409, 40...</td>\n",
       "      <td>[149 St - Grand Concourse / 149 St - Grand Con...</td>\n",
       "      <td>72600</td>\n",
       "      <td>20.17</td>\n",
       "    </tr>\n",
       "    <tr>\n",
       "      <th>19</th>\n",
       "      <td>244</td>\n",
       "      <td>[244, 247, 246, 245, 243, 242, 241, 239, 257, ...</td>\n",
       "      <td>[Church Av, Flatbush Av - Brooklyn College, Ne...</td>\n",
       "      <td>72720</td>\n",
       "      <td>20.20</td>\n",
       "    </tr>\n",
       "    <tr>\n",
       "      <th>23</th>\n",
       "      <td>R18</td>\n",
       "      <td>[R18, R19, L05, L06, L08, L10, L11, L12, L13, ...</td>\n",
       "      <td>[28 St, 23 St, 3 Av, 1 Av, Bedford Av, Lorimer...</td>\n",
       "      <td>72810</td>\n",
       "      <td>20.23</td>\n",
       "    </tr>\n",
       "    <tr>\n",
       "      <th>8</th>\n",
       "      <td>G10</td>\n",
       "      <td>[G10, G09, G08, F07, F06, F01, F02, F03, F04, ...</td>\n",
       "      <td>[63 Dr - Rego Park, 67 Av, Forest Hills - 71 A...</td>\n",
       "      <td>72840</td>\n",
       "      <td>20.23</td>\n",
       "    </tr>\n",
       "    <tr>\n",
       "      <th>0</th>\n",
       "      <td>716</td>\n",
       "      <td>[716, 715, 714, 713, 712, 711, B04, B06, B08, ...</td>\n",
       "      <td>[33 St, 40 St, 46 St, 52 St, Woodside - 61 St,...</td>\n",
       "      <td>73020</td>\n",
       "      <td>20.28</td>\n",
       "    </tr>\n",
       "    <tr>\n",
       "      <th>5</th>\n",
       "      <td>601</td>\n",
       "      <td>[601, 602, 603, 604, 606, 607, 608, 609, 610, ...</td>\n",
       "      <td>[Pelham Bay Park, Buhre Av, Middletown Rd, Wes...</td>\n",
       "      <td>73560</td>\n",
       "      <td>20.43</td>\n",
       "    </tr>\n",
       "    <tr>\n",
       "      <th>18</th>\n",
       "      <td>229</td>\n",
       "      <td>[229, 230, 231, 234, 233, 232_423, 420, 419, 4...</td>\n",
       "      <td>[Fulton St, Wall St, Clark St, Nevins St, Hoyt...</td>\n",
       "      <td>73830</td>\n",
       "      <td>20.51</td>\n",
       "    </tr>\n",
       "    <tr>\n",
       "      <th>2</th>\n",
       "      <td>127_725_902_R16</td>\n",
       "      <td>[127_725_902_R16, 126, R15, R14, R13, R11, R01...</td>\n",
       "      <td>[Times Sq - 42 St / Times Sq - 42 St / Times S...</td>\n",
       "      <td>74460</td>\n",
       "      <td>20.68</td>\n",
       "    </tr>\n",
       "    <tr>\n",
       "      <th>11</th>\n",
       "      <td>D01</td>\n",
       "      <td>[D01, D03, D04, D05, D06, D07, D08, D09, D10, ...</td>\n",
       "      <td>[Norwood - 205 St, Bedford Park Blvd, Kingsbri...</td>\n",
       "      <td>75150</td>\n",
       "      <td>20.88</td>\n",
       "    </tr>\n",
       "    <tr>\n",
       "      <th>10</th>\n",
       "      <td>F27</td>\n",
       "      <td>[F27, F29, F30, F31, F32, F33, F34, F35, F36, ...</td>\n",
       "      <td>[Church Av, Ditmas Av, 18 Av, Avenue I, Bay Pk...</td>\n",
       "      <td>75780</td>\n",
       "      <td>21.05</td>\n",
       "    </tr>\n",
       "    <tr>\n",
       "      <th>21</th>\n",
       "      <td>J24</td>\n",
       "      <td>[J24, J21, J22, J23, L22_J27, L21, L20, L19, L...</td>\n",
       "      <td>[Alabama Av, Norwood Av, Cleveland St, Van Sic...</td>\n",
       "      <td>75930</td>\n",
       "      <td>21.09</td>\n",
       "    </tr>\n",
       "  </tbody>\n",
       "</table>\n",
       "</div>"
      ],
      "text/plain": [
       "   Starting_station                                   Station_id_route  \\\n",
       "24              R42  [R42, R43, R44, R41, N02, N03, N04, N05, N06, ...   \n",
       "20              214  [214, 213, 212, 211, 210, 209, 208, 207, 206, ...   \n",
       "14              G19  [G19, G18, G16, G15, 711, 710_G14, 709, 708, 7...   \n",
       "13              D15  [D15, B10, B08, Q03, Q04, Q05, B06, B04, 710_G...   \n",
       "7               402  [402, 405, 406, 407, 408, 409, 410, 411, 412, ...   \n",
       "15              H10  [H10, H11, H09, H08, H07, H06, H04_H19, H12, H...   \n",
       "4               H11  [H11, H10, H09, H08, H07, H06, H04_H19, H12, H...   \n",
       "6               A63  [A63, A61, A60, A59, A57, A55, A54, A53, A52, ...   \n",
       "16              D14  [D14, F12, F11, 719_F09_G22, G24, G26, G28, G2...   \n",
       "12              B23  [B23, B22, B21, B20, B19, B18, B17, B16, B15, ...   \n",
       "3       235_D24_R31  [235_D24_R31, 236, 237, 238, 239, 248, 249, 25...   \n",
       "22              J15  [J15, J16, J17, J19, J20, J21, J22, J23, J24, ...   \n",
       "1       635_L03_R20  [635_L03_R20, L02, L01_A31, A30, A28, A27, A25...   \n",
       "9               D39  [D39, D40, D41, D42, F39, F38, F36, F35, F34, ...   \n",
       "17          222_415  [222_415, 414_D11, 413, 412, 411, 410, 409, 40...   \n",
       "19              244  [244, 247, 246, 245, 243, 242, 241, 239, 257, ...   \n",
       "23              R18  [R18, R19, L05, L06, L08, L10, L11, L12, L13, ...   \n",
       "8               G10  [G10, G09, G08, F07, F06, F01, F02, F03, F04, ...   \n",
       "0               716  [716, 715, 714, 713, 712, 711, B04, B06, B08, ...   \n",
       "5               601  [601, 602, 603, 604, 606, 607, 608, 609, 610, ...   \n",
       "18              229  [229, 230, 231, 234, 233, 232_423, 420, 419, 4...   \n",
       "2   127_725_902_R16  [127_725_902_R16, 126, R15, R14, R13, R11, R01...   \n",
       "11              D01  [D01, D03, D04, D05, D06, D07, D08, D09, D10, ...   \n",
       "10              F27  [F27, F29, F30, F31, F32, F33, F34, F35, F36, ...   \n",
       "21              J24  [J24, J21, J22, J23, L22_J27, L21, L20, L19, L...   \n",
       "\n",
       "                                   Station_name_route Time_seconds  Time_hours  \n",
       "24  [Bay Ridge Av, 77 St, 86 St, 59 St, 8 Av, Fort...        71160       19.77  \n",
       "20  [West Farms Sq - E Tremont Av, E 180 St, Bronx...        71190       19.77  \n",
       "14  [Steinway St, 46 St, Northern Blvd, 65 St, 69 ...        71340       19.82  \n",
       "13  [47-50 Sts - Rockefeller Ctr, 57 St, Lexington...        71520       19.87  \n",
       "7   [Mosholu Pkwy, Bedford Park Blvd - Lehman Coll...        71640       19.90  \n",
       "15  [Beach 25 St, Far Rockaway - Mott Av, Beach 36...        71820       19.95  \n",
       "4   [Far Rockaway - Mott Av, Beach 25 St, Beach 36...        71820       19.95  \n",
       "6   [104 St, Rockaway Blvd, 88 St, 80 St, Grant Av...        71880       19.97  \n",
       "16  [7 Av, 5 Av/53 St, Lexington Av/53 St, Court S...        72000       20.00  \n",
       "12  [Bay 50 St, 25 Av, Bay Pkwy, 20 Av, 18 Av, 79 ...        72300       20.08  \n",
       "3   [Atlantic Av - Barclays Ctr / Atlantic Av - Ba...        72360       20.10  \n",
       "22  [Woodhaven Blvd, 85 St - Forest Pkwy, 75 St, C...        72450       20.12  \n",
       "1   [14 St - Union Sq / Union Sq - 14 St / 14 St -...        72570       20.16  \n",
       "9   [Sheepshead Bay, Brighton Beach, Ocean Pkwy, W...        72570       20.16  \n",
       "17  [149 St - Grand Concourse / 149 St - Grand Con...        72600       20.17  \n",
       "19  [Church Av, Flatbush Av - Brooklyn College, Ne...        72720       20.20  \n",
       "23  [28 St, 23 St, 3 Av, 1 Av, Bedford Av, Lorimer...        72810       20.23  \n",
       "8   [63 Dr - Rego Park, 67 Av, Forest Hills - 71 A...        72840       20.23  \n",
       "0   [33 St, 40 St, 46 St, 52 St, Woodside - 61 St,...        73020       20.28  \n",
       "5   [Pelham Bay Park, Buhre Av, Middletown Rd, Wes...        73560       20.43  \n",
       "18  [Fulton St, Wall St, Clark St, Nevins St, Hoyt...        73830       20.51  \n",
       "2   [Times Sq - 42 St / Times Sq - 42 St / Times S...        74460       20.68  \n",
       "11  [Norwood - 205 St, Bedford Park Blvd, Kingsbri...        75150       20.88  \n",
       "10  [Church Av, Ditmas Av, 18 Av, Avenue I, Bay Pk...        75780       21.05  \n",
       "21  [Alabama Av, Norwood Av, Cleveland St, Van Sic...        75930       21.09  "
      ]
     },
     "execution_count": 57,
     "metadata": {},
     "output_type": "execute_result"
    }
   ],
   "source": [
    "TSP_solutions_df.sort_values(by='Time_seconds')"
   ]
  },
  {
   "cell_type": "markdown",
   "metadata": {},
   "source": [
    "## Saving df "
   ]
  },
  {
   "cell_type": "code",
   "execution_count": 74,
   "metadata": {
    "ExecuteTime": {
     "end_time": "2020-08-05T14:45:44.641839Z",
     "start_time": "2020-08-05T14:45:44.639479Z"
    }
   },
   "outputs": [],
   "source": [
    "# TSP_solutions_df.to_csv(\"./saved_data/TSP_solutions_df.csv\")"
   ]
  },
  {
   "cell_type": "markdown",
   "metadata": {},
   "source": [
    "# Plotting Stations "
   ]
  },
  {
   "cell_type": "code",
   "execution_count": 104,
   "metadata": {
    "ExecuteTime": {
     "end_time": "2020-08-05T16:08:06.700239Z",
     "start_time": "2020-08-05T16:08:06.693068Z"
    }
   },
   "outputs": [],
   "source": [
    "base_map = folium.folium.Map([40.7128, -74.0061], zoom_start=10, tiles='cartodbpositron') # city hall coords"
   ]
  },
  {
   "cell_type": "markdown",
   "metadata": {},
   "source": [
    "## Getting all coordinates for TSP_solutions_df"
   ]
  },
  {
   "cell_type": "code",
   "execution_count": 91,
   "metadata": {
    "ExecuteTime": {
     "end_time": "2020-08-05T16:05:16.320092Z",
     "start_time": "2020-08-05T16:05:16.313060Z"
    }
   },
   "outputs": [],
   "source": [
    "tsp_station_coords = []\n",
    "for x in range(len(TSP_solutions_df)):\n",
    "    station = TSP_solutions_df['Starting_station'][x]\n",
    "    station_index = list(node_list_df['station_id']).index(station)\n",
    "    station_coords = [node_list_df['X'][station_index], node_list_df['Y'][station_index]]\n",
    "    tsp_station_coords.append(station_coords)"
   ]
  },
  {
   "cell_type": "code",
   "execution_count": 109,
   "metadata": {
    "ExecuteTime": {
     "end_time": "2020-08-05T16:08:48.344710Z",
     "start_time": "2020-08-05T16:08:48.334692Z"
    },
    "code_folding": [
     2,
     10
    ]
   },
   "outputs": [],
   "source": [
    "for idx, coord in enumerate(tsp_station_coords):\n",
    "    if TSP_solutions_df['Time_hrs_no_return'][idx] < 19.75:\n",
    "        folium.Circle(\n",
    "            location = (coord[0], coord[1]),\n",
    "            radius = 100, \n",
    "            popup = coord,\n",
    "            color='green',\n",
    "            fill=False,\n",
    "        ).add_to(base_map)\n",
    "    else:\n",
    "        folium.Circle(\n",
    "                location = (coord[0], coord[1]),\n",
    "                radius = 100, \n",
    "                popup = coord,\n",
    "                color='crimson',\n",
    "                fill=False,\n",
    "            ).add_to(base_map)"
   ]
  },
  {
   "cell_type": "code",
   "execution_count": 110,
   "metadata": {
    "ExecuteTime": {
     "end_time": "2020-08-05T16:08:51.376961Z",
     "start_time": "2020-08-05T16:08:51.289507Z"
    }
   },
   "outputs": [
    {
     "data": {
      "text/html": [
       "<div style=\"width:100%;\"><div style=\"position:relative;width:100%;height:0;padding-bottom:60%;\"><iframe src=\"data:text/html;charset=utf-8;base64,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\" style=\"position:absolute;width:100%;height:100%;left:0;top:0;border:none !important;\" allowfullscreen webkitallowfullscreen mozallowfullscreen></iframe></div></div>"
      ],
      "text/plain": [
       "<folium.folium.Map at 0x7fc34b5f8710>"
      ]
     },
     "execution_count": 110,
     "metadata": {},
     "output_type": "execute_result"
    }
   ],
   "source": [
    "# looks like some of the outer stations work best\n",
    "base_map"
   ]
  },
  {
   "cell_type": "markdown",
   "metadata": {},
   "source": [
    "# Checking Every station"
   ]
  },
  {
   "cell_type": "code",
   "execution_count": 120,
   "metadata": {
    "ExecuteTime": {
     "end_time": "2020-08-05T16:15:08.695241Z",
     "start_time": "2020-08-05T16:15:08.690485Z"
    }
   },
   "outputs": [],
   "source": [
    "# TSP_solutions_df.drop(columns=['Time_sec_no_return', 'Time_hrs_no_return'], inplace=True)"
   ]
  },
  {
   "cell_type": "code",
   "execution_count": 122,
   "metadata": {
    "ExecuteTime": {
     "end_time": "2020-08-05T17:17:52.147708Z",
     "start_time": "2020-08-05T16:15:54.222720Z"
    }
   },
   "outputs": [
    {
     "name": "stdout",
     "output_type": "stream",
     "text": [
      "Objective: 71070 miles\n",
      "Objective: 71070 miles\n",
      "Objective: 71070 miles\n",
      "Objective: 71070 miles\n",
      "Objective: 72030 miles\n",
      "Objective: 71070 miles\n",
      "Objective: 71070 miles\n",
      "Objective: 71070 miles\n",
      "Objective: 71070 miles\n",
      "Objective: 73890 miles\n",
      "Objective: 71070 miles\n",
      "Objective: 72990 miles\n",
      "Objective: 73320 miles\n",
      "Objective: 72660 miles\n",
      "Objective: 72930 miles\n",
      "Objective: 72930 miles\n",
      "Objective: 71520 miles\n",
      "Objective: 71520 miles\n",
      "Objective: 71880 miles\n",
      "Objective: 75150 miles\n",
      "Objective: 72480 miles\n",
      "Objective: 74970 miles\n",
      "Objective: 74970 miles\n",
      "Objective: 72720 miles\n",
      "Objective: 73020 miles\n",
      "Objective: 75570 miles\n",
      "Objective: 75570 miles\n",
      "Objective: 75570 miles\n",
      "Objective: 75570 miles\n",
      "Objective: 75570 miles\n",
      "Objective: 75570 miles\n",
      "Objective: 73290 miles\n",
      "Objective: 72570 miles\n",
      "Objective: 74640 miles\n",
      "Objective: 72570 miles\n",
      "Objective: 75210 miles\n",
      "Objective: 72570 miles\n",
      "Objective: 72900 miles\n",
      "Objective: 72900 miles\n",
      "Objective: 72210 miles\n",
      "Objective: 72900 miles\n",
      "Objective: 72900 miles\n",
      "Objective: 72900 miles\n",
      "Objective: 72210 miles\n",
      "Objective: 72900 miles\n",
      "Objective: 72210 miles\n",
      "Objective: 72900 miles\n",
      "Objective: 71190 miles\n",
      "Objective: 71190 miles\n",
      "Objective: 73140 miles\n",
      "Objective: 73140 miles\n",
      "Objective: 71190 miles\n",
      "Objective: 71190 miles\n",
      "Objective: 71190 miles\n",
      "Objective: 71190 miles\n",
      "Objective: 71640 miles\n",
      "Objective: 71550 miles\n",
      "Objective: 72570 miles\n",
      "Objective: 72330 miles\n",
      "Objective: 74790 miles\n",
      "Objective: 73260 miles\n",
      "Objective: 73140 miles\n",
      "Objective: 72780 miles\n",
      "Objective: 74730 miles\n",
      "Objective: 73950 miles\n",
      "Objective: 73530 miles\n",
      "Objective: 73530 miles\n",
      "Objective: 73530 miles\n",
      "Objective: 72960 miles\n",
      "Objective: 72720 miles\n",
      "Objective: 73020 miles\n",
      "Objective: 72960 miles\n",
      "Objective: 72720 miles\n",
      "Objective: 72600 miles\n",
      "Objective: 72720 miles\n",
      "Objective: 72720 miles\n",
      "Objective: 72960 miles\n",
      "Objective: 72720 miles\n",
      "Objective: 72720 miles\n",
      "Objective: 72600 miles\n",
      "Objective: 72720 miles\n",
      "Objective: 72960 miles\n",
      "Objective: 72720 miles\n",
      "Objective: 72960 miles\n",
      "Objective: 72720 miles\n",
      "Objective: 71340 miles\n",
      "Objective: 71340 miles\n",
      "Objective: 73440 miles\n",
      "Objective: 73440 miles\n",
      "Objective: 71640 miles\n",
      "Objective: 73440 miles\n",
      "Objective: 73440 miles\n",
      "Objective: 73440 miles\n",
      "Objective: 72270 miles\n",
      "Objective: 73440 miles\n",
      "Objective: 73440 miles\n",
      "Objective: 73440 miles\n",
      "Objective: 73890 miles\n",
      "Objective: 71340 miles\n",
      "Objective: 75120 miles\n",
      "Objective: 72660 miles\n",
      "Objective: 72600 miles\n",
      "Objective: 72900 miles\n",
      "Objective: 72900 miles\n",
      "Objective: 72900 miles\n",
      "Objective: 72180 miles\n",
      "Objective: 72900 miles\n",
      "Objective: 73560 miles\n",
      "Objective: 73560 miles\n",
      "Objective: 73560 miles\n",
      "Objective: 73560 miles\n",
      "Objective: 73560 miles\n",
      "Objective: 73560 miles\n",
      "Objective: 72390 miles\n",
      "Objective: 73560 miles\n",
      "Objective: 73560 miles\n",
      "Objective: 73560 miles\n",
      "Objective: 73560 miles\n",
      "Objective: 72390 miles\n",
      "Objective: 73560 miles\n",
      "Objective: 72390 miles\n",
      "Objective: 73560 miles\n",
      "Objective: 73560 miles\n",
      "Objective: 73560 miles\n",
      "Objective: 72750 miles\n",
      "Objective: 72660 miles\n",
      "Objective: 73560 miles\n",
      "Objective: 72390 miles\n",
      "Objective: 72660 miles\n",
      "Objective: 72240 miles\n",
      "Objective: 72660 miles\n",
      "Objective: 73470 miles\n",
      "Objective: 72660 miles\n",
      "Objective: 72660 miles\n",
      "Objective: 73260 miles\n",
      "Objective: 72660 miles\n",
      "Objective: 73260 miles\n",
      "Objective: 73350 miles\n",
      "Objective: 73140 miles\n",
      "Objective: 75660 miles\n",
      "Objective: 73680 miles\n",
      "Objective: 73140 miles\n",
      "Objective: 75660 miles\n",
      "Objective: 72270 miles\n",
      "Objective: 72840 miles\n",
      "Objective: 72810 miles\n",
      "Objective: 72270 miles\n",
      "Objective: 72270 miles\n",
      "Objective: 72270 miles\n",
      "Objective: 72270 miles\n",
      "Objective: 73080 miles\n",
      "Objective: 72450 miles\n",
      "Objective: 72450 miles\n",
      "Objective: 72450 miles\n",
      "Objective: 73380 miles\n",
      "Objective: 73380 miles\n",
      "Objective: 72810 miles\n",
      "Objective: 73590 miles\n",
      "Objective: 72900 miles\n",
      "Objective: 72900 miles\n",
      "Objective: 72510 miles\n",
      "Objective: 73290 miles\n",
      "Objective: 71610 miles\n",
      "Objective: 71610 miles\n",
      "Objective: 71610 miles\n",
      "Objective: 72630 miles\n",
      "Objective: 71610 miles\n",
      "Objective: 71250 miles\n",
      "Objective: 71250 miles\n",
      "Objective: 71250 miles\n",
      "Objective: 73800 miles\n",
      "Objective: 70770 miles\n",
      "Objective: 71880 miles\n",
      "Objective: 75180 miles\n",
      "Objective: 71880 miles\n",
      "Objective: 71880 miles\n",
      "Objective: 71250 miles\n",
      "Objective: 71250 miles\n",
      "Objective: 71250 miles\n",
      "Objective: 72870 miles\n",
      "Objective: 72540 miles\n",
      "Objective: 72870 miles\n",
      "Objective: 72870 miles\n",
      "Objective: 73860 miles\n",
      "Objective: 73380 miles\n",
      "Objective: 72510 miles\n",
      "Objective: 73230 miles\n",
      "Objective: 74460 miles\n",
      "Objective: 73050 miles\n",
      "Objective: 74040 miles\n",
      "Objective: 74040 miles\n",
      "Objective: 72480 miles\n",
      "Objective: 72690 miles\n",
      "Objective: 72480 miles\n",
      "Objective: 71790 miles\n",
      "Objective: 72900 miles\n",
      "Objective: 71940 miles\n",
      "Objective: 72900 miles\n",
      "Objective: 71940 miles\n",
      "Objective: 71880 miles\n",
      "Objective: 71880 miles\n",
      "Objective: 71940 miles\n",
      "Objective: 71880 miles\n",
      "Objective: 71880 miles\n",
      "Objective: 71880 miles\n",
      "Objective: 71880 miles\n",
      "Objective: 71880 miles\n",
      "Objective: 71880 miles\n",
      "Objective: 71880 miles\n",
      "Objective: 71880 miles\n",
      "Objective: 71880 miles\n",
      "Objective: 74520 miles\n",
      "Objective: 74520 miles\n",
      "Objective: 71910 miles\n",
      "Objective: 71550 miles\n",
      "Objective: 71310 miles\n",
      "Objective: 70920 miles\n",
      "Objective: 71940 miles\n",
      "Objective: 72150 miles\n",
      "Objective: 71940 miles\n",
      "Objective: 72150 miles\n",
      "Objective: 71940 miles\n",
      "Objective: 71940 miles\n",
      "Objective: 71940 miles\n",
      "Objective: 71130 miles\n",
      "Objective: 73110 miles\n",
      "Objective: 75150 miles\n",
      "Objective: 75150 miles\n",
      "Objective: 72030 miles\n",
      "Objective: 75150 miles\n",
      "Objective: 72030 miles\n",
      "Objective: 72090 miles\n",
      "Objective: 73530 miles\n",
      "Objective: 70890 miles\n",
      "Objective: 71460 miles\n",
      "Objective: 71520 miles\n",
      "Objective: 72060 miles\n",
      "Objective: 73200 miles\n",
      "Objective: 73470 miles\n",
      "Objective: 71910 miles\n",
      "Objective: 71670 miles\n",
      "Objective: 72810 miles\n",
      "Objective: 73590 miles\n",
      "Objective: 72240 miles\n",
      "Objective: 72570 miles\n",
      "Objective: 72570 miles\n",
      "Objective: 72720 miles\n",
      "Objective: 72570 miles\n",
      "Objective: 72570 miles\n",
      "Objective: 72570 miles\n",
      "Objective: 72570 miles\n",
      "Objective: 72570 miles\n",
      "Objective: 72570 miles\n",
      "Objective: 72720 miles\n",
      "Objective: 72570 miles\n",
      "Objective: 73020 miles\n",
      "Objective: 72660 miles\n",
      "Objective: 72720 miles\n",
      "Objective: 72750 miles\n",
      "Objective: 72540 miles\n",
      "Objective: 72540 miles\n",
      "Objective: 72540 miles\n",
      "Objective: 73260 miles\n",
      "Objective: 72540 miles\n",
      "Objective: 73320 miles\n",
      "Objective: 72840 miles\n",
      "Objective: 71940 miles\n",
      "Objective: 71940 miles\n",
      "Objective: 73920 miles\n",
      "Objective: 74490 miles\n",
      "Objective: 75720 miles\n",
      "Objective: 73680 miles\n",
      "Objective: 72480 miles\n",
      "Objective: 75180 miles\n",
      "Objective: 75180 miles\n",
      "Objective: 75180 miles\n",
      "Objective: 75180 miles\n",
      "Objective: 73800 miles\n",
      "Objective: 74580 miles\n",
      "Objective: 75780 miles\n",
      "Objective: 75780 miles\n",
      "Objective: 75780 miles\n",
      "Objective: 75780 miles\n",
      "Objective: 73440 miles\n",
      "Objective: 73800 miles\n",
      "Objective: 73800 miles\n",
      "Objective: 72480 miles\n",
      "Objective: 73500 miles\n",
      "Objective: 74490 miles\n",
      "Objective: 72450 miles\n",
      "Objective: 72450 miles\n",
      "Objective: 73530 miles\n",
      "Objective: 73260 miles\n",
      "Objective: 73530 miles\n",
      "Objective: 73530 miles\n",
      "Objective: 72840 miles\n",
      "Objective: 73800 miles\n",
      "Objective: 72270 miles\n",
      "Objective: 72270 miles\n",
      "Objective: 72270 miles\n",
      "Objective: 71340 miles\n",
      "Objective: 73680 miles\n",
      "Objective: 72690 miles\n",
      "Objective: 72930 miles\n",
      "Objective: 73650 miles\n",
      "Objective: 72930 miles\n",
      "Objective: 73710 miles\n",
      "Objective: 74190 miles\n",
      "Objective: 74190 miles\n",
      "Objective: 73230 miles\n",
      "Objective: 74190 miles\n",
      "Objective: 74190 miles\n",
      "Objective: 74190 miles\n",
      "Objective: 72480 miles\n",
      "Objective: 72240 miles\n",
      "Objective: 71820 miles\n",
      "Objective: 72240 miles\n",
      "Objective: 72240 miles\n",
      "Objective: 71820 miles\n",
      "Objective: 71880 miles\n",
      "Objective: 71820 miles\n",
      "Objective: 71820 miles\n",
      "Objective: 71880 miles\n",
      "Objective: 71820 miles\n",
      "Objective: 71790 miles\n",
      "Objective: 72120 miles\n",
      "Objective: 73260 miles\n",
      "Objective: 72450 miles\n",
      "Objective: 75960 miles\n",
      "Objective: 73980 miles\n",
      "Objective: 75990 miles\n",
      "Objective: 73260 miles\n",
      "Objective: 75930 miles\n",
      "Objective: 73980 miles\n",
      "Objective: 73830 miles\n",
      "Objective: 72870 miles\n",
      "Objective: 73980 miles\n",
      "Objective: 73980 miles\n",
      "Objective: 73980 miles\n",
      "Objective: 71670 miles\n",
      "Objective: 71850 miles\n",
      "Objective: 74010 miles\n",
      "Objective: 71850 miles\n",
      "Objective: 70980 miles\n",
      "Objective: 71700 miles\n",
      "Objective: 71700 miles\n",
      "Objective: 74400 miles\n",
      "Objective: 74400 miles\n",
      "Objective: 71700 miles\n",
      "Objective: 73410 miles\n",
      "Objective: 73410 miles\n",
      "Objective: 73140 miles\n",
      "Objective: 73710 miles\n",
      "Objective: 73710 miles\n",
      "Objective: 73770 miles\n",
      "Objective: 73770 miles\n",
      "Objective: 73770 miles\n"
     ]
    },
    {
     "name": "stdout",
     "output_type": "stream",
     "text": [
      "Objective: 73770 miles\n",
      "Objective: 73770 miles\n",
      "Objective: 73770 miles\n",
      "Objective: 73410 miles\n",
      "Objective: 73410 miles\n",
      "Objective: 72630 miles\n",
      "Objective: 73410 miles\n",
      "Objective: 74670 miles\n",
      "Objective: 74790 miles\n",
      "Objective: 74670 miles\n",
      "Objective: 72720 miles\n",
      "Objective: 72870 miles\n",
      "Objective: 72990 miles\n",
      "Objective: 73020 miles\n",
      "Objective: 73740 miles\n",
      "Objective: 72810 miles\n",
      "Objective: 72360 miles\n",
      "Objective: 74610 miles\n",
      "Objective: 73620 miles\n",
      "Objective: 74220 miles\n",
      "Objective: 71760 miles\n",
      "Objective: 74220 miles\n",
      "Objective: 74220 miles\n",
      "Objective: 74220 miles\n",
      "Objective: 72990 miles\n",
      "Objective: 73380 miles\n",
      "Objective: 73200 miles\n",
      "Objective: 73080 miles\n",
      "Objective: 71730 miles\n",
      "Objective: 71730 miles\n",
      "Objective: 71730 miles\n",
      "Objective: 71790 miles\n",
      "Objective: 71790 miles\n",
      "Objective: 71790 miles\n",
      "Objective: 71790 miles\n",
      "Objective: 71790 miles\n",
      "Objective: 71790 miles\n",
      "Objective: 73560 miles\n",
      "Objective: 72750 miles\n",
      "Objective: 71910 miles\n",
      "Objective: 73200 miles\n",
      "Objective: 72810 miles\n",
      "Objective: 71040 miles\n",
      "Objective: 71040 miles\n",
      "Objective: 71940 miles\n",
      "Objective: 72960 miles\n",
      "Objective: 71700 miles\n",
      "Objective: 72990 miles\n",
      "Objective: 71880 miles\n",
      "Objective: 71970 miles\n",
      "Objective: 72900 miles\n",
      "Objective: 74400 miles\n",
      "Objective: 71580 miles\n",
      "Objective: 71160 miles\n",
      "Objective: 74460 miles\n",
      "Objective: 70920 miles\n",
      "Objective: 71160 miles\n",
      "Objective: 71160 miles\n",
      "Objective: 72390 miles\n",
      "Objective: 71160 miles\n",
      "Objective: 73380 miles\n",
      "Objective: 72540 miles\n"
     ]
    }
   ],
   "source": [
    "# about 3 seconds per station, 400 stations\n",
    "for x in range(len(node_list_df)):\n",
    "    station_name = node_list_df['station_id'][x]\n",
    "    if station_name not in list(TSP_solutions_df.Starting_station):\n",
    "        TSP_solutions_df = results_to_df2(station_name)"
   ]
  },
  {
   "cell_type": "code",
   "execution_count": 124,
   "metadata": {
    "ExecuteTime": {
     "end_time": "2020-08-05T17:17:57.643086Z",
     "start_time": "2020-08-05T17:17:57.501400Z"
    }
   },
   "outputs": [
    {
     "data": {
      "text/plain": [
       "256"
      ]
     },
     "execution_count": 124,
     "metadata": {},
     "output_type": "execute_result"
    }
   ],
   "source": [
    "os.system('say \"your program has finished\"')"
   ]
  },
  {
   "cell_type": "code",
   "execution_count": null,
   "metadata": {},
   "outputs": [],
   "source": []
  },
  {
   "cell_type": "markdown",
   "metadata": {},
   "source": [
    "#### Calculating time to reach all stations without returning home"
   ]
  },
  {
   "cell_type": "code",
   "execution_count": 125,
   "metadata": {
    "ExecuteTime": {
     "end_time": "2020-08-05T17:22:48.066767Z",
     "start_time": "2020-08-05T17:22:48.020586Z"
    }
   },
   "outputs": [],
   "source": [
    "non_returning_time_in_seconds = []\n",
    "for x in range(len(TSP_solutions_df)):\n",
    "    id_route = TSP_solutions_df['Station_id_route'][x]\n",
    "    original_time = TSP_solutions_df['Time_seconds'][x]\n",
    "    path = dijkstar.find_path(nyc_graph, id_route[-2], id_route[-1])\n",
    "    path_distance = path.total_cost\n",
    "    new_time = original_time - path_distance\n",
    "    non_returning_time_in_seconds.append(new_time)"
   ]
  },
  {
   "cell_type": "code",
   "execution_count": 126,
   "metadata": {
    "ExecuteTime": {
     "end_time": "2020-08-05T17:22:50.770216Z",
     "start_time": "2020-08-05T17:22:50.765041Z"
    }
   },
   "outputs": [],
   "source": [
    "TSP_solutions_df['Time_sec_no_return'] = non_returning_time_in_seconds\n",
    "non_returning_time_in_hrs = [get_time_in_hrs(x)[0] for x in non_returning_time_in_seconds]\n",
    "TSP_solutions_df['Time_hrs_no_return'] = non_returning_time_in_hrs"
   ]
  },
  {
   "cell_type": "code",
   "execution_count": 127,
   "metadata": {
    "ExecuteTime": {
     "end_time": "2020-08-05T17:22:53.524859Z",
     "start_time": "2020-08-05T17:22:53.504292Z"
    }
   },
   "outputs": [
    {
     "data": {
      "text/html": [
       "<div>\n",
       "<style scoped>\n",
       "    .dataframe tbody tr th:only-of-type {\n",
       "        vertical-align: middle;\n",
       "    }\n",
       "\n",
       "    .dataframe tbody tr th {\n",
       "        vertical-align: top;\n",
       "    }\n",
       "\n",
       "    .dataframe thead th {\n",
       "        text-align: right;\n",
       "    }\n",
       "</style>\n",
       "<table border=\"1\" class=\"dataframe\">\n",
       "  <thead>\n",
       "    <tr style=\"text-align: right;\">\n",
       "      <th></th>\n",
       "      <th>Starting_station</th>\n",
       "      <th>Station_id_route</th>\n",
       "      <th>Station_name_route</th>\n",
       "      <th>Time_seconds</th>\n",
       "      <th>Time_hours</th>\n",
       "      <th>Time_sec_no_return</th>\n",
       "      <th>Time_hrs_no_return</th>\n",
       "    </tr>\n",
       "  </thead>\n",
       "  <tbody>\n",
       "    <tr>\n",
       "      <th>4</th>\n",
       "      <td>H11</td>\n",
       "      <td>[H11, H10, H09, H08, H07, H06, H04_H19, H12, H...</td>\n",
       "      <td>[Far Rockaway - Mott Av, Beach 25 St, Beach 36...</td>\n",
       "      <td>71820</td>\n",
       "      <td>19.95</td>\n",
       "      <td>68730</td>\n",
       "      <td>19.09</td>\n",
       "    </tr>\n",
       "    <tr>\n",
       "      <th>15</th>\n",
       "      <td>H10</td>\n",
       "      <td>[H10, H11, H09, H08, H07, H06, H04_H19, H12, H...</td>\n",
       "      <td>[Beach 25 St, Far Rockaway - Mott Av, Beach 36...</td>\n",
       "      <td>71820</td>\n",
       "      <td>19.95</td>\n",
       "      <td>68820</td>\n",
       "      <td>19.12</td>\n",
       "    </tr>\n",
       "    <tr>\n",
       "      <th>343</th>\n",
       "      <td>H08</td>\n",
       "      <td>[H08, H09, H10, H11, H07, H06, H04_H19, H12, H...</td>\n",
       "      <td>[Beach 44 St, Beach 36 St, Beach 25 St, Far Ro...</td>\n",
       "      <td>71820</td>\n",
       "      <td>19.95</td>\n",
       "      <td>69030</td>\n",
       "      <td>19.18</td>\n",
       "    </tr>\n",
       "    <tr>\n",
       "      <th>224</th>\n",
       "      <td>A50</td>\n",
       "      <td>[A50, A49, A48, A47, A46, A45_S01, A44, A43, A...</td>\n",
       "      <td>[Rockaway Av, Ralph Av, Utica Av, Kingston - T...</td>\n",
       "      <td>71880</td>\n",
       "      <td>19.97</td>\n",
       "      <td>69240</td>\n",
       "      <td>19.23</td>\n",
       "    </tr>\n",
       "    <tr>\n",
       "      <th>348</th>\n",
       "      <td>H15</td>\n",
       "      <td>[H15, H14, H13, H12, H04_H19, H06, H07, H08, H...</td>\n",
       "      <td>[Rockaway Park - Beach 116 St, Beach 105 St, B...</td>\n",
       "      <td>71820</td>\n",
       "      <td>19.95</td>\n",
       "      <td>69300</td>\n",
       "      <td>19.25</td>\n",
       "    </tr>\n",
       "    <tr>\n",
       "      <th>225</th>\n",
       "      <td>A51</td>\n",
       "      <td>[A51, A50, A49, A48, A47, A46, A45_S01, A44, A...</td>\n",
       "      <td>[Broadway Jct, Rockaway Av, Ralph Av, Utica Av...</td>\n",
       "      <td>71880</td>\n",
       "      <td>19.97</td>\n",
       "      <td>69330</td>\n",
       "      <td>19.26</td>\n",
       "    </tr>\n",
       "    <tr>\n",
       "      <th>346</th>\n",
       "      <td>H13</td>\n",
       "      <td>[H13, H14, H15, H12, H04_H19, H06, H07, H08, H...</td>\n",
       "      <td>[Beach 98 St, Beach 105 St, Rockaway Park - Be...</td>\n",
       "      <td>71820</td>\n",
       "      <td>19.95</td>\n",
       "      <td>69480</td>\n",
       "      <td>19.30</td>\n",
       "    </tr>\n",
       "  </tbody>\n",
       "</table>\n",
       "</div>"
      ],
      "text/plain": [
       "    Starting_station                                   Station_id_route  \\\n",
       "4                H11  [H11, H10, H09, H08, H07, H06, H04_H19, H12, H...   \n",
       "15               H10  [H10, H11, H09, H08, H07, H06, H04_H19, H12, H...   \n",
       "343              H08  [H08, H09, H10, H11, H07, H06, H04_H19, H12, H...   \n",
       "224              A50  [A50, A49, A48, A47, A46, A45_S01, A44, A43, A...   \n",
       "348              H15  [H15, H14, H13, H12, H04_H19, H06, H07, H08, H...   \n",
       "225              A51  [A51, A50, A49, A48, A47, A46, A45_S01, A44, A...   \n",
       "346              H13  [H13, H14, H15, H12, H04_H19, H06, H07, H08, H...   \n",
       "\n",
       "                                    Station_name_route Time_seconds  \\\n",
       "4    [Far Rockaway - Mott Av, Beach 25 St, Beach 36...        71820   \n",
       "15   [Beach 25 St, Far Rockaway - Mott Av, Beach 36...        71820   \n",
       "343  [Beach 44 St, Beach 36 St, Beach 25 St, Far Ro...        71820   \n",
       "224  [Rockaway Av, Ralph Av, Utica Av, Kingston - T...        71880   \n",
       "348  [Rockaway Park - Beach 116 St, Beach 105 St, B...        71820   \n",
       "225  [Broadway Jct, Rockaway Av, Ralph Av, Utica Av...        71880   \n",
       "346  [Beach 98 St, Beach 105 St, Rockaway Park - Be...        71820   \n",
       "\n",
       "     Time_hours  Time_sec_no_return  Time_hrs_no_return  \n",
       "4         19.95               68730               19.09  \n",
       "15        19.95               68820               19.12  \n",
       "343       19.95               69030               19.18  \n",
       "224       19.97               69240               19.23  \n",
       "348       19.95               69300               19.25  \n",
       "225       19.97               69330               19.26  \n",
       "346       19.95               69480               19.30  "
      ]
     },
     "execution_count": 127,
     "metadata": {},
     "output_type": "execute_result"
    }
   ],
   "source": [
    "TSP_solutions_df.sort_values(by='Time_sec_no_return').head(7)"
   ]
  },
  {
   "cell_type": "code",
   "execution_count": 128,
   "metadata": {
    "ExecuteTime": {
     "end_time": "2020-08-05T17:23:15.742559Z",
     "start_time": "2020-08-05T17:23:15.717504Z"
    }
   },
   "outputs": [
    {
     "data": {
      "text/html": [
       "<div>\n",
       "<style scoped>\n",
       "    .dataframe tbody tr th:only-of-type {\n",
       "        vertical-align: middle;\n",
       "    }\n",
       "\n",
       "    .dataframe tbody tr th {\n",
       "        vertical-align: top;\n",
       "    }\n",
       "\n",
       "    .dataframe thead th {\n",
       "        text-align: right;\n",
       "    }\n",
       "</style>\n",
       "<table border=\"1\" class=\"dataframe\">\n",
       "  <thead>\n",
       "    <tr style=\"text-align: right;\">\n",
       "      <th></th>\n",
       "      <th>Starting_station</th>\n",
       "      <th>Station_id_route</th>\n",
       "      <th>Station_name_route</th>\n",
       "      <th>Time_seconds</th>\n",
       "      <th>Time_hours</th>\n",
       "      <th>Time_sec_no_return</th>\n",
       "      <th>Time_hrs_no_return</th>\n",
       "    </tr>\n",
       "  </thead>\n",
       "  <tbody>\n",
       "    <tr>\n",
       "      <th>196</th>\n",
       "      <td>A15</td>\n",
       "      <td>[A15, A16, A17, A18, A19, A20, A21, A22, 125_A...</td>\n",
       "      <td>[125 St, 116 St, Cathedral Pkwy (110 St), 103 ...</td>\n",
       "      <td>70770</td>\n",
       "      <td>19.66</td>\n",
       "      <td>70680</td>\n",
       "      <td>19.63</td>\n",
       "    </tr>\n",
       "    <tr>\n",
       "      <th>258</th>\n",
       "      <td>D10</td>\n",
       "      <td>[D10, D09, D08, D07, D06, D05, D04, D03, D01, ...</td>\n",
       "      <td>[167 St, 170 St, 174-175 Sts, Tremont Av, 182-...</td>\n",
       "      <td>70890</td>\n",
       "      <td>19.69</td>\n",
       "      <td>70740</td>\n",
       "      <td>19.65</td>\n",
       "    </tr>\n",
       "    <tr>\n",
       "      <th>241</th>\n",
       "      <td>B13</td>\n",
       "      <td>[B13, B14, B15, B16, B17, B18, B19, B20, B21, ...</td>\n",
       "      <td>[Fort Hamilton Pkwy, 50 St, 55 St, 62 St, 71 S...</td>\n",
       "      <td>70920</td>\n",
       "      <td>19.70</td>\n",
       "      <td>70800</td>\n",
       "      <td>19.67</td>\n",
       "    </tr>\n",
       "    <tr>\n",
       "      <th>437</th>\n",
       "      <td>R39</td>\n",
       "      <td>[R39, R40, R41, R42, R43, R44, N02, N03, N04, ...</td>\n",
       "      <td>[45 St, 53 St, 59 St, Bay Ridge Av, 77 St, 86 ...</td>\n",
       "      <td>70920</td>\n",
       "      <td>19.70</td>\n",
       "      <td>70170</td>\n",
       "      <td>19.49</td>\n",
       "    </tr>\n",
       "    <tr>\n",
       "      <th>368</th>\n",
       "      <td>L10</td>\n",
       "      <td>[L10, L08, L06, L05, R21, R22, Q01_R23, R24, R...</td>\n",
       "      <td>[Lorimer St, Bedford Av, 1 Av, 3 Av, 8 St - NY...</td>\n",
       "      <td>70980</td>\n",
       "      <td>19.72</td>\n",
       "      <td>70800</td>\n",
       "      <td>19.67</td>\n",
       "    </tr>\n",
       "    <tr>\n",
       "      <th>424</th>\n",
       "      <td>R21</td>\n",
       "      <td>[R21, 635_L03_R20, L05, L06, L08, L10, L11, L1...</td>\n",
       "      <td>[8 St - NYU, 14 St - Union Sq / Union Sq - 14 ...</td>\n",
       "      <td>71040</td>\n",
       "      <td>19.73</td>\n",
       "      <td>70950</td>\n",
       "      <td>19.71</td>\n",
       "    </tr>\n",
       "    <tr>\n",
       "      <th>425</th>\n",
       "      <td>R22</td>\n",
       "      <td>[R22, R21, 635_L03_R20, L05, L06, L08, L10, L1...</td>\n",
       "      <td>[Prince St, 8 St - NYU, 14 St - Union Sq / Uni...</td>\n",
       "      <td>71040</td>\n",
       "      <td>19.73</td>\n",
       "      <td>70950</td>\n",
       "      <td>19.71</td>\n",
       "    </tr>\n",
       "  </tbody>\n",
       "</table>\n",
       "</div>"
      ],
      "text/plain": [
       "    Starting_station                                   Station_id_route  \\\n",
       "196              A15  [A15, A16, A17, A18, A19, A20, A21, A22, 125_A...   \n",
       "258              D10  [D10, D09, D08, D07, D06, D05, D04, D03, D01, ...   \n",
       "241              B13  [B13, B14, B15, B16, B17, B18, B19, B20, B21, ...   \n",
       "437              R39  [R39, R40, R41, R42, R43, R44, N02, N03, N04, ...   \n",
       "368              L10  [L10, L08, L06, L05, R21, R22, Q01_R23, R24, R...   \n",
       "424              R21  [R21, 635_L03_R20, L05, L06, L08, L10, L11, L1...   \n",
       "425              R22  [R22, R21, 635_L03_R20, L05, L06, L08, L10, L1...   \n",
       "\n",
       "                                    Station_name_route Time_seconds  \\\n",
       "196  [125 St, 116 St, Cathedral Pkwy (110 St), 103 ...        70770   \n",
       "258  [167 St, 170 St, 174-175 Sts, Tremont Av, 182-...        70890   \n",
       "241  [Fort Hamilton Pkwy, 50 St, 55 St, 62 St, 71 S...        70920   \n",
       "437  [45 St, 53 St, 59 St, Bay Ridge Av, 77 St, 86 ...        70920   \n",
       "368  [Lorimer St, Bedford Av, 1 Av, 3 Av, 8 St - NY...        70980   \n",
       "424  [8 St - NYU, 14 St - Union Sq / Union Sq - 14 ...        71040   \n",
       "425  [Prince St, 8 St - NYU, 14 St - Union Sq / Uni...        71040   \n",
       "\n",
       "     Time_hours  Time_sec_no_return  Time_hrs_no_return  \n",
       "196       19.66               70680               19.63  \n",
       "258       19.69               70740               19.65  \n",
       "241       19.70               70800               19.67  \n",
       "437       19.70               70170               19.49  \n",
       "368       19.72               70800               19.67  \n",
       "424       19.73               70950               19.71  \n",
       "425       19.73               70950               19.71  "
      ]
     },
     "execution_count": 128,
     "metadata": {},
     "output_type": "execute_result"
    }
   ],
   "source": [
    "TSP_solutions_df.sort_values(by='Time_seconds').head(7)"
   ]
  },
  {
   "cell_type": "code",
   "execution_count": null,
   "metadata": {},
   "outputs": [],
   "source": []
  }
 ],
 "metadata": {
  "kernelspec": {
   "display_name": "Python [conda env:learn-env] *",
   "language": "python",
   "name": "conda-env-learn-env-py"
  },
  "language_info": {
   "codemirror_mode": {
    "name": "ipython",
    "version": 3
   },
   "file_extension": ".py",
   "mimetype": "text/x-python",
   "name": "python",
   "nbconvert_exporter": "python",
   "pygments_lexer": "ipython3",
   "version": "3.6.9"
  },
  "toc": {
   "base_numbering": 1,
   "nav_menu": {},
   "number_sections": true,
   "sideBar": true,
   "skip_h1_title": false,
   "title_cell": "Table of Contents",
   "title_sidebar": "Contents",
   "toc_cell": false,
   "toc_position": {
    "height": "calc(100% - 180px)",
    "left": "10px",
    "top": "150px",
    "width": "324px"
   },
   "toc_section_display": true,
   "toc_window_display": true
  },
  "varInspector": {
   "cols": {
    "lenName": 16,
    "lenType": 16,
    "lenVar": 40
   },
   "kernels_config": {
    "python": {
     "delete_cmd_postfix": "",
     "delete_cmd_prefix": "del ",
     "library": "var_list.py",
     "varRefreshCmd": "print(var_dic_list())"
    },
    "r": {
     "delete_cmd_postfix": ") ",
     "delete_cmd_prefix": "rm(",
     "library": "var_list.r",
     "varRefreshCmd": "cat(var_dic_list()) "
    }
   },
   "types_to_exclude": [
    "module",
    "function",
    "builtin_function_or_method",
    "instance",
    "_Feature"
   ],
   "window_display": false
  }
 },
 "nbformat": 4,
 "nbformat_minor": 2
}
