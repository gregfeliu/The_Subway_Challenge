{
 "cells": [
  {
   "cell_type": "markdown",
   "metadata": {},
   "source": [
    "from pyspark import SparkContext\n",
    "from sklearn.manifold import TSNE\n",
    "import pandas as pd\n",
    "from sklearn.feature_extraction.text import TfidfVectorizer\n",
    "from pathlib import Path\n",
    "from sklearn.ensemble import GradientBoostingClassifier\n",
    "from sklearn.ensemble import RandomForestRegressor\n",
    "from sklearn.preprocessing import OneHotEncoder\n",
    "import matplotlib.pyplot as plt\n",
    "from sklearn.ensemble import GradientBoostingRegressor\n",
    "from sklearn.ensemble import RandomForestClassifier\n",
    "import altair as alt\n",
    "# ^^^ pyforest auto-imports - don't write above this line\n",
    "# Imports"
   ]
  },
  {
   "cell_type": "code",
   "execution_count": 813,
   "metadata": {},
   "outputs": [],
   "source": [
    "# pip install dwave_networkx"
   ]
  },
  {
   "cell_type": "code",
   "execution_count": 814,
   "metadata": {},
   "outputs": [],
   "source": [
    "# pip install --upgrade networkx"
   ]
  },
  {
   "cell_type": "code",
   "execution_count": 815,
   "metadata": {},
   "outputs": [],
   "source": [
    "import folium\n",
    "from collections import Counter\n",
    "import postman_problems\n",
    "from postman_problems.solver import cpp\n",
    "from postman_problems.stats import calculate_postman_solution_stats\n",
    "import networkx as nx\n",
    "import itertools\n",
    "import dwave_networkx as dnx\n",
    "import dimod"
   ]
  },
  {
   "cell_type": "markdown",
   "metadata": {},
   "source": [
    "## His Data"
   ]
  },
  {
   "cell_type": "code",
   "execution_count": 816,
   "metadata": {},
   "outputs": [
    {
     "data": {
      "application/javascript": [
       "\n",
       "        if (window._pyforest_update_imports_cell) { window._pyforest_update_imports_cell('from pyspark import SparkContext\\nfrom sklearn.manifold import TSNE\\nimport pandas as pd\\nfrom sklearn.feature_extraction.text import TfidfVectorizer\\nfrom pathlib import Path\\nfrom sklearn.ensemble import GradientBoostingClassifier\\nfrom sklearn.ensemble import RandomForestRegressor\\nfrom sklearn.preprocessing import OneHotEncoder\\nimport matplotlib.pyplot as plt\\nfrom sklearn.ensemble import GradientBoostingRegressor\\nfrom sklearn.ensemble import RandomForestClassifier\\nimport altair as alt'); }\n",
       "    "
      ],
      "text/plain": [
       "<IPython.core.display.Javascript object>"
      ]
     },
     "metadata": {},
     "output_type": "display_data"
    }
   ],
   "source": [
    "sleeping_edgelist = pd.read_csv(\"/Users/gregfeliu/opt/anaconda3/envs/learn-env/lib/python3.6/site-packages/postman_problems/examples/sleeping_giant/edgelist_sleeping_giant.csv\")"
   ]
  },
  {
   "cell_type": "code",
   "execution_count": 817,
   "metadata": {},
   "outputs": [
    {
     "data": {
      "application/javascript": [
       "\n",
       "        if (window._pyforest_update_imports_cell) { window._pyforest_update_imports_cell('from pyspark import SparkContext\\nfrom sklearn.manifold import TSNE\\nimport pandas as pd\\nfrom sklearn.feature_extraction.text import TfidfVectorizer\\nfrom pathlib import Path\\nfrom sklearn.ensemble import GradientBoostingClassifier\\nfrom sklearn.ensemble import RandomForestRegressor\\nfrom sklearn.preprocessing import OneHotEncoder\\nimport matplotlib.pyplot as plt\\nfrom sklearn.ensemble import GradientBoostingRegressor\\nfrom sklearn.ensemble import RandomForestClassifier\\nimport altair as alt'); }\n",
       "    "
      ],
      "text/plain": [
       "<IPython.core.display.Javascript object>"
      ]
     },
     "metadata": {},
     "output_type": "display_data"
    }
   ],
   "source": [
    "seven_bridges_edgelist = pd.read_csv('./examples/edgelist_seven_bridges.csv')"
   ]
  },
  {
   "cell_type": "markdown",
   "metadata": {},
   "source": [
    "## My Data"
   ]
  },
  {
   "cell_type": "code",
   "execution_count": 818,
   "metadata": {},
   "outputs": [
    {
     "data": {
      "application/javascript": [
       "\n",
       "        if (window._pyforest_update_imports_cell) { window._pyforest_update_imports_cell('from pyspark import SparkContext\\nfrom sklearn.manifold import TSNE\\nimport pandas as pd\\nfrom sklearn.feature_extraction.text import TfidfVectorizer\\nfrom pathlib import Path\\nfrom sklearn.ensemble import GradientBoostingClassifier\\nfrom sklearn.ensemble import RandomForestRegressor\\nfrom sklearn.preprocessing import OneHotEncoder\\nimport matplotlib.pyplot as plt\\nfrom sklearn.ensemble import GradientBoostingRegressor\\nfrom sklearn.ensemble import RandomForestClassifier\\nimport altair as alt'); }\n",
       "    "
      ],
      "text/plain": [
       "<IPython.core.display.Javascript object>"
      ]
     },
     "metadata": {},
     "output_type": "display_data"
    }
   ],
   "source": [
    "stations_df = pd.read_csv(\"./saved_data/final_station_df.csv\", index_col = 0)"
   ]
  },
  {
   "cell_type": "code",
   "execution_count": 819,
   "metadata": {},
   "outputs": [
    {
     "data": {
      "application/javascript": [
       "\n",
       "        if (window._pyforest_update_imports_cell) { window._pyforest_update_imports_cell('from pyspark import SparkContext\\nfrom sklearn.manifold import TSNE\\nimport pandas as pd\\nfrom sklearn.feature_extraction.text import TfidfVectorizer\\nfrom pathlib import Path\\nfrom sklearn.ensemble import GradientBoostingClassifier\\nfrom sklearn.ensemble import RandomForestRegressor\\nfrom sklearn.preprocessing import OneHotEncoder\\nimport matplotlib.pyplot as plt\\nfrom sklearn.ensemble import GradientBoostingRegressor\\nfrom sklearn.ensemble import RandomForestClassifier\\nimport altair as alt'); }\n",
       "    "
      ],
      "text/plain": [
       "<IPython.core.display.Javascript object>"
      ]
     },
     "metadata": {},
     "output_type": "display_data"
    }
   ],
   "source": [
    "non_unique_stations_df = pd.read_csv(\"./saved_data/non_unique_mta_stations.csv\", index_col=0)"
   ]
  },
  {
   "cell_type": "code",
   "execution_count": 820,
   "metadata": {},
   "outputs": [
    {
     "data": {
      "application/javascript": [
       "\n",
       "        if (window._pyforest_update_imports_cell) { window._pyforest_update_imports_cell('from pyspark import SparkContext\\nfrom sklearn.manifold import TSNE\\nimport pandas as pd\\nfrom sklearn.feature_extraction.text import TfidfVectorizer\\nfrom pathlib import Path\\nfrom sklearn.ensemble import GradientBoostingClassifier\\nfrom sklearn.ensemble import RandomForestRegressor\\nfrom sklearn.preprocessing import OneHotEncoder\\nimport matplotlib.pyplot as plt\\nfrom sklearn.ensemble import GradientBoostingRegressor\\nfrom sklearn.ensemble import RandomForestClassifier\\nimport altair as alt'); }\n",
       "    "
      ],
      "text/plain": [
       "<IPython.core.display.Javascript object>"
      ]
     },
     "metadata": {},
     "output_type": "display_data"
    }
   ],
   "source": [
    "my_edgelist = pd.read_csv('./saved_data/edge_list_df_no_req.csv', index_col=0)"
   ]
  },
  {
   "cell_type": "code",
   "execution_count": 821,
   "metadata": {},
   "outputs": [],
   "source": [
    "my_edgelist['trail'] = 'nyc'"
   ]
  },
  {
   "cell_type": "code",
   "execution_count": 822,
   "metadata": {},
   "outputs": [
    {
     "data": {
      "application/javascript": [
       "\n",
       "        if (window._pyforest_update_imports_cell) { window._pyforest_update_imports_cell('from pyspark import SparkContext\\nfrom sklearn.manifold import TSNE\\nimport pandas as pd\\nfrom sklearn.feature_extraction.text import TfidfVectorizer\\nfrom pathlib import Path\\nfrom sklearn.ensemble import GradientBoostingClassifier\\nfrom sklearn.ensemble import RandomForestRegressor\\nfrom sklearn.preprocessing import OneHotEncoder\\nimport matplotlib.pyplot as plt\\nfrom sklearn.ensemble import GradientBoostingRegressor\\nfrom sklearn.ensemble import RandomForestClassifier\\nimport altair as alt'); }\n",
       "    "
      ],
      "text/plain": [
       "<IPython.core.display.Javascript object>"
      ]
     },
     "metadata": {},
     "output_type": "display_data"
    }
   ],
   "source": [
    "node_list_df = pd.read_csv(\"./saved_data/nodelist_nyc_subway.csv\", index_col=0)"
   ]
  },
  {
   "cell_type": "code",
   "execution_count": 823,
   "metadata": {},
   "outputs": [],
   "source": [
    "node_list_df.reset_index(inplace=True)"
   ]
  },
  {
   "cell_type": "markdown",
   "metadata": {},
   "source": [
    "### Which nodes in edgelist are different from nodelist?... None (now)"
   ]
  },
  {
   "cell_type": "code",
   "execution_count": 824,
   "metadata": {},
   "outputs": [
    {
     "data": {
      "text/plain": [
       "461"
      ]
     },
     "execution_count": 824,
     "metadata": {},
     "output_type": "execute_result"
    }
   ],
   "source": [
    "node1 = list(my_edgelist['node1'].unique())\n",
    "node2 = list(my_edgelist['node2'].unique())\n",
    "len(set(node1 + node2))"
   ]
  },
  {
   "cell_type": "code",
   "execution_count": 825,
   "metadata": {},
   "outputs": [
    {
     "data": {
      "text/plain": [
       "(461, 3)"
      ]
     },
     "execution_count": 825,
     "metadata": {},
     "output_type": "execute_result"
    }
   ],
   "source": [
    "node_list_df.shape"
   ]
  },
  {
   "cell_type": "code",
   "execution_count": 826,
   "metadata": {},
   "outputs": [
    {
     "data": {
      "text/plain": [
       "461"
      ]
     },
     "execution_count": 826,
     "metadata": {},
     "output_type": "execute_result"
    }
   ],
   "source": [
    "node_list_df.station_id.nunique()"
   ]
  },
  {
   "cell_type": "code",
   "execution_count": 827,
   "metadata": {},
   "outputs": [
    {
     "data": {
      "text/plain": [
       "Index(['station_id', 'X', 'Y'], dtype='object')"
      ]
     },
     "execution_count": 827,
     "metadata": {},
     "output_type": "execute_result"
    }
   ],
   "source": [
    "node_list_df.columns"
   ]
  },
  {
   "cell_type": "code",
   "execution_count": 828,
   "metadata": {},
   "outputs": [
    {
     "name": "stdout",
     "output_type": "stream",
     "text": [
      "112_A09\n",
      "125_A24\n",
      "127_R16\n",
      "140_142\n",
      "222_415\n",
      "414_D11\n",
      "710_G14\n",
      "718_R09\n",
      "A12_D13\n",
      "A32_D20\n",
      "A38_M22\n",
      "D17_R17\n",
      "D43_N12\n",
      "H01_H02\n",
      "H04_H19\n",
      "M20_Q01\n"
     ]
    }
   ],
   "source": [
    "for x in node_list_df['station_id']:\n",
    "    if len(x) > 4:\n",
    "        print(x)"
   ]
  },
  {
   "cell_type": "code",
   "execution_count": 829,
   "metadata": {},
   "outputs": [],
   "source": [
    "for x in my_edgelist['node1']:\n",
    "    if 'A13' in x:\n",
    "        print(x)"
   ]
  },
  {
   "cell_type": "code",
   "execution_count": 830,
   "metadata": {},
   "outputs": [],
   "source": [
    "edgelist_nodes = set(node1 + node2)"
   ]
  },
  {
   "cell_type": "code",
   "execution_count": 831,
   "metadata": {},
   "outputs": [],
   "source": [
    "nodelist_nodes = set(node_list_df['station_id'].unique())"
   ]
  },
  {
   "cell_type": "code",
   "execution_count": 832,
   "metadata": {},
   "outputs": [
    {
     "data": {
      "text/plain": [
       "set()"
      ]
     },
     "execution_count": 832,
     "metadata": {},
     "output_type": "execute_result"
    }
   ],
   "source": [
    "edgelist_nodes - nodelist_nodes"
   ]
  },
  {
   "cell_type": "code",
   "execution_count": 833,
   "metadata": {},
   "outputs": [
    {
     "data": {
      "text/plain": [
       "set()"
      ]
     },
     "execution_count": 833,
     "metadata": {},
     "output_type": "execute_result"
    }
   ],
   "source": [
    "nodelist_nodes - edgelist_nodes"
   ]
  },
  {
   "cell_type": "markdown",
   "metadata": {},
   "source": [
    "# Example"
   ]
  },
  {
   "cell_type": "code",
   "execution_count": 834,
   "metadata": {},
   "outputs": [
    {
     "name": "stdout",
     "output_type": "stream",
     "text": [
      "('D', 'C', 0, {'trail': 'g', 'distance': 3, 'id': 6, 'augmented': True})\n",
      "('C', 'A', 1, {'trail': 'd', 'distance': 10, 'id': 3})\n",
      "('A', 'C', 0, {'trail': 'c', 'distance': 2, 'id': 2})\n",
      "('C', 'D', 0, {'trail': 'g', 'distance': 3, 'id': 6})\n",
      "('D', 'B', 0, {'trail': 'f', 'distance': 9, 'id': 5})\n",
      "('B', 'A', 0, {'trail': 'a', 'distance': 3, 'id': 0, 'augmented': True})\n",
      "('A', 'B', 1, {'trail': 'b', 'distance': 5, 'id': 1})\n",
      "('B', 'A', 0, {'trail': 'a', 'distance': 3, 'id': 0})\n",
      "('A', 'D', 0, {'trail': 'e', 'distance': 1, 'id': 4})\n",
      "distance_walked 39\n",
      "distance_doublebacked 6\n",
      "distance_walked_once 33\n",
      "distance_walked_optional 0\n",
      "distance_walked_required 39\n",
      "edges_walked 9\n",
      "edges_doublebacked 2\n",
      "edges_walked_once 7\n",
      "edges_walked_optional 0\n",
      "edges_walked_required 9\n"
     ]
    }
   ],
   "source": [
    "# find CPP solution\n",
    "circuit, graph = cpp(edgelist_filename='./examples/edgelist_seven_bridges.csv', start_node='D')\n",
    "\n",
    "# print solution route\n",
    "for e in circuit:\n",
    "    print(e)\n",
    "\n",
    "# print solution summary stats\n",
    "for k, v in calculate_postman_solution_stats(circuit).items():\n",
    "    print(k, v)"
   ]
  },
  {
   "cell_type": "markdown",
   "metadata": {},
   "source": [
    "# Applied to my data"
   ]
  },
  {
   "cell_type": "markdown",
   "metadata": {},
   "source": [
    "## Visualize nodes"
   ]
  },
  {
   "cell_type": "code",
   "execution_count": 835,
   "metadata": {},
   "outputs": [],
   "source": [
    "g = nx.Graph()"
   ]
  },
  {
   "cell_type": "code",
   "execution_count": 836,
   "metadata": {},
   "outputs": [],
   "source": [
    "for i, elrow in my_edgelist.iterrows():\n",
    "    # g.add_edge(elrow[0], elrow[1], attr_dict=elrow[2:].to_dict())  # deprecated after NX 1.11\n",
    "    g.add_edge(elrow[0], elrow[1], **elrow[2:].to_dict())"
   ]
  },
  {
   "cell_type": "code",
   "execution_count": 837,
   "metadata": {},
   "outputs": [
    {
     "data": {
      "text/plain": [
       "<networkx.classes.graph.Graph at 0x7fec29f35828>"
      ]
     },
     "execution_count": 837,
     "metadata": {},
     "output_type": "execute_result"
    }
   ],
   "source": [
    "g"
   ]
  },
  {
   "cell_type": "code",
   "execution_count": 838,
   "metadata": {},
   "outputs": [
    {
     "data": {
      "text/plain": [
       "Index(['station_id', 'X', 'Y'], dtype='object')"
      ]
     },
     "execution_count": 838,
     "metadata": {},
     "output_type": "execute_result"
    }
   ],
   "source": [
    "node_list_df.columns"
   ]
  },
  {
   "cell_type": "code",
   "execution_count": 839,
   "metadata": {},
   "outputs": [
    {
     "data": {
      "text/html": [
       "<div>\n",
       "<style scoped>\n",
       "    .dataframe tbody tr th:only-of-type {\n",
       "        vertical-align: middle;\n",
       "    }\n",
       "\n",
       "    .dataframe tbody tr th {\n",
       "        vertical-align: top;\n",
       "    }\n",
       "\n",
       "    .dataframe thead th {\n",
       "        text-align: right;\n",
       "    }\n",
       "</style>\n",
       "<table border=\"1\" class=\"dataframe\">\n",
       "  <thead>\n",
       "    <tr style=\"text-align: right;\">\n",
       "      <th></th>\n",
       "      <th>station_id</th>\n",
       "      <th>X</th>\n",
       "      <th>Y</th>\n",
       "    </tr>\n",
       "  </thead>\n",
       "  <tbody>\n",
       "  </tbody>\n",
       "</table>\n",
       "</div>"
      ],
      "text/plain": [
       "Empty DataFrame\n",
       "Columns: [station_id, X, Y]\n",
       "Index: []"
      ]
     },
     "execution_count": 839,
     "metadata": {},
     "output_type": "execute_result"
    }
   ],
   "source": [
    "node_list_df[node_list_df['station_id'] == '140']"
   ]
  },
  {
   "cell_type": "code",
   "execution_count": 840,
   "metadata": {},
   "outputs": [],
   "source": [
    "for i, nlrow in node_list_df.iterrows():\n",
    "    nx.set_node_attributes(g, {nlrow['station_id']:  nlrow[1:].to_dict()})  "
   ]
  },
  {
   "cell_type": "code",
   "execution_count": 841,
   "metadata": {},
   "outputs": [
    {
     "name": "stdout",
     "output_type": "stream",
     "text": [
      "# of edges: 544\n",
      "# of nodes: 461\n"
     ]
    }
   ],
   "source": [
    "print('# of edges: {}'.format(g.number_of_edges()))\n",
    "print('# of nodes: {}'.format(g.number_of_nodes()))"
   ]
  },
  {
   "cell_type": "code",
   "execution_count": 842,
   "metadata": {},
   "outputs": [
    {
     "data": {
      "text/plain": [
       "[('101', {'X': 40.889248, 'Y': -73.898583}),\n",
       " ('103', {'X': 40.884667, 'Y': -73.90087}),\n",
       " ('104', {'X': 40.878856, 'Y': -73.904834}),\n",
       " ('106', {'X': 40.874561, 'Y': -73.90983100000003}),\n",
       " ('107', {'X': 40.869444, 'Y': -73.915279}),\n",
       " ('108', {'X': 40.864621, 'Y': -73.91882199999998}),\n",
       " ('109', {'X': 40.860531, 'Y': -73.925536}),\n",
       " ('110', {'X': 40.855225, 'Y': -73.929412}),\n",
       " ('111', {'X': 40.849505, 'Y': -73.933596}),\n",
       " ('112_A09', {'X': 40.840556, 'Y': -73.94013299999997})]"
      ]
     },
     "execution_count": 842,
     "metadata": {},
     "output_type": "execute_result"
    }
   ],
   "source": [
    "list(g.nodes(data=True))[0:10] "
   ]
  },
  {
   "cell_type": "code",
   "execution_count": 843,
   "metadata": {},
   "outputs": [],
   "source": [
    "# for x in list(g.nodes(data=True)):\n",
    "#     print(x[1]['Y'])\n",
    "node_positions_as_dict = {x[0]: x[1] for x in list(g.nodes(data=True))}"
   ]
  },
  {
   "cell_type": "code",
   "execution_count": 844,
   "metadata": {},
   "outputs": [
    {
     "data": {
      "text/plain": [
       "40.889248"
      ]
     },
     "execution_count": 844,
     "metadata": {},
     "output_type": "execute_result"
    }
   ],
   "source": [
    "node_positions_as_dict['101']['X']"
   ]
  },
  {
   "cell_type": "code",
   "execution_count": 845,
   "metadata": {},
   "outputs": [],
   "source": [
    "node_positions_final = {key: value for key, value in node_positions_as_dict.items()}"
   ]
  },
  {
   "cell_type": "code",
   "execution_count": 846,
   "metadata": {},
   "outputs": [
    {
     "data": {
      "text/plain": [
       "40.889248"
      ]
     },
     "execution_count": 846,
     "metadata": {},
     "output_type": "execute_result"
    }
   ],
   "source": [
    "node_positions_final['101']['X']"
   ]
  },
  {
   "cell_type": "code",
   "execution_count": 847,
   "metadata": {},
   "outputs": [],
   "source": [
    "test_node_positions = {node[0]: (node[1]) for node in g.nodes(data=True)}"
   ]
  },
  {
   "cell_type": "code",
   "execution_count": 848,
   "metadata": {},
   "outputs": [],
   "source": [
    "for key, value in test_node_positions.items():\n",
    "    if value == {}:\n",
    "        print(key)    "
   ]
  },
  {
   "cell_type": "code",
   "execution_count": 849,
   "metadata": {},
   "outputs": [
    {
     "data": {
      "text/plain": [
       "(461, 3)"
      ]
     },
     "execution_count": 849,
     "metadata": {},
     "output_type": "execute_result"
    }
   ],
   "source": [
    "node_list_df.shape"
   ]
  },
  {
   "cell_type": "code",
   "execution_count": 850,
   "metadata": {},
   "outputs": [
    {
     "data": {
      "text/plain": [
       "{'X': 40.701411, 'Y': -74.013205}"
      ]
     },
     "execution_count": 850,
     "metadata": {},
     "output_type": "execute_result"
    }
   ],
   "source": [
    "test_node_positions['140_142']"
   ]
  },
  {
   "cell_type": "code",
   "execution_count": 851,
   "metadata": {},
   "outputs": [
    {
     "ename": "KeyError",
     "evalue": "'142'",
     "output_type": "error",
     "traceback": [
      "\u001b[0;31m---------------------------------------------------------------------------\u001b[0m",
      "\u001b[0;31mKeyError\u001b[0m                                  Traceback (most recent call last)",
      "\u001b[0;32m<ipython-input-851-622c26fc216c>\u001b[0m in \u001b[0;36m<module>\u001b[0;34m\u001b[0m\n\u001b[0;32m----> 1\u001b[0;31m \u001b[0mtest_node_positions\u001b[0m\u001b[0;34m[\u001b[0m\u001b[0;34m'142'\u001b[0m\u001b[0;34m]\u001b[0m\u001b[0;34m\u001b[0m\u001b[0;34m\u001b[0m\u001b[0m\n\u001b[0m",
      "\u001b[0;31mKeyError\u001b[0m: '142'"
     ]
    }
   ],
   "source": [
    "test_node_positions['142']"
   ]
  },
  {
   "cell_type": "code",
   "execution_count": 852,
   "metadata": {},
   "outputs": [
    {
     "data": {
      "text/plain": [
       "{'101': {'X': 40.889248, 'Y': -73.898583},\n",
       " '103': {'X': 40.884667, 'Y': -73.90087},\n",
       " '104': {'X': 40.878856, 'Y': -73.904834},\n",
       " '106': {'X': 40.874561, 'Y': -73.90983100000003},\n",
       " '107': {'X': 40.869444, 'Y': -73.915279},\n",
       " '108': {'X': 40.864621, 'Y': -73.91882199999998},\n",
       " '109': {'X': 40.860531, 'Y': -73.925536},\n",
       " '110': {'X': 40.855225, 'Y': -73.929412},\n",
       " '111': {'X': 40.849505, 'Y': -73.933596},\n",
       " '112_A09': {'X': 40.840556, 'Y': -73.94013299999997},\n",
       " '113': {'X': 40.834041, 'Y': -73.94489},\n",
       " '114': {'X': 40.826551, 'Y': -73.95036},\n",
       " '115': {'X': 40.822008, 'Y': -73.953676},\n",
       " '116': {'X': 40.815581, 'Y': -73.958372},\n",
       " '117': {'X': 40.807722, 'Y': -73.96410999999998},\n",
       " '118': {'X': 40.803967, 'Y': -73.966847},\n",
       " '119': {'X': 40.799446, 'Y': -73.968379},\n",
       " '120': {'X': 40.793919, 'Y': -73.972323},\n",
       " '123': {'X': 40.778453000000006, 'Y': -73.98196999999998},\n",
       " '121': {'X': 40.788644, 'Y': -73.976218},\n",
       " '227': {'X': 40.799075, 'Y': -73.95182199999998},\n",
       " '122': {'X': 40.783934, 'Y': -73.979917},\n",
       " '127_R16': {'X': 40.75529, 'Y': -73.987495},\n",
       " '124': {'X': 40.77344, 'Y': -73.982209},\n",
       " '125_A24': {'X': 40.768247, 'Y': -73.98192900000002},\n",
       " '126': {'X': 40.76172800000001, 'Y': -73.98384899999998},\n",
       " '128': {'X': 40.750373, 'Y': -73.991057},\n",
       " '129': {'X': 40.747215, 'Y': -73.993365},\n",
       " '132': {'X': 40.737826, 'Y': -74.000201},\n",
       " '130': {'X': 40.744081, 'Y': -73.995657},\n",
       " '131': {'X': 40.74104000000001, 'Y': -73.99787099999998},\n",
       " '137': {'X': 40.715478, 'Y': -74.009266},\n",
       " '133': {'X': 40.733422, 'Y': -74.00290600000002},\n",
       " '134': {'X': 40.728251, 'Y': -74.005367},\n",
       " '135': {'X': 40.722854, 'Y': -74.006277},\n",
       " '136': {'X': 40.719318, 'Y': -74.006886},\n",
       " '228': {'X': 40.713051, 'Y': -74.008811},\n",
       " '138': {'X': 40.711835, 'Y': -74.012188},\n",
       " '139': {'X': 40.707513, 'Y': -74.01378299999998},\n",
       " '140_142': {'X': 40.701411, 'Y': -74.013205},\n",
       " '201': {'X': 40.903125, 'Y': -73.85061999999998},\n",
       " '204': {'X': 40.898379, 'Y': -73.854376},\n",
       " '205': {'X': 40.893193, 'Y': -73.857473},\n",
       " '206': {'X': 40.888022, 'Y': -73.860341},\n",
       " '207': {'X': 40.883895, 'Y': -73.862633},\n",
       " '208': {'X': 40.87785, 'Y': -73.866256},\n",
       " '209': {'X': 40.871356, 'Y': -73.867164},\n",
       " '210': {'X': 40.865462, 'Y': -73.867352},\n",
       " '211': {'X': 40.857192, 'Y': -73.867615},\n",
       " '212': {'X': 40.84882800000001, 'Y': -73.86845699999998},\n",
       " '213': {'X': 40.841894, 'Y': -73.873488},\n",
       " '505': {'X': 40.854364, 'Y': -73.860495},\n",
       " '221': {'X': 40.816109, 'Y': -73.917757},\n",
       " '214': {'X': 40.84029500000001, 'Y': -73.880049},\n",
       " '215': {'X': 40.837288, 'Y': -73.887734},\n",
       " '216': {'X': 40.829993, 'Y': -73.891865},\n",
       " '217': {'X': 40.824073, 'Y': -73.893064},\n",
       " '218': {'X': 40.822181, 'Y': -73.896736},\n",
       " '219': {'X': 40.819585, 'Y': -73.90177},\n",
       " '220': {'X': 40.81649, 'Y': -73.90780699999998},\n",
       " '222_415': {'X': 40.81841, 'Y': -73.92671800000002},\n",
       " '224': {'X': 40.814229, 'Y': -73.94077},\n",
       " '416': {'X': 40.813224, 'Y': -73.929849},\n",
       " '302': {'X': 40.820421, 'Y': -73.936245},\n",
       " '225': {'X': 40.807754, 'Y': -73.945495},\n",
       " '226': {'X': 40.802098, 'Y': -73.949625},\n",
       " '229': {'X': 40.709416, 'Y': -74.006571},\n",
       " '230': {'X': 40.70682100000001, 'Y': -74.0091},\n",
       " '231': {'X': 40.697466, 'Y': -73.993086},\n",
       " '232': {'X': 40.693219, 'Y': -73.989998},\n",
       " '233': {'X': 40.690545, 'Y': -73.985065},\n",
       " '234': {'X': 40.688246, 'Y': -73.980492},\n",
       " '423': {'X': 40.692404, 'Y': -73.990151},\n",
       " '235': {'X': 40.684359, 'Y': -73.977666},\n",
       " '239': {'X': 40.670682, 'Y': -73.95813100000002},\n",
       " '236': {'X': 40.680829, 'Y': -73.975098},\n",
       " '237': {'X': 40.675235, 'Y': -73.971046},\n",
       " '238': {'X': 40.671987, 'Y': -73.964375},\n",
       " '250': {'X': 40.668897, 'Y': -73.93294200000003},\n",
       " '241': {'X': 40.667883, 'Y': -73.950683},\n",
       " '248': {'X': 40.669847, 'Y': -73.950466},\n",
       " '242': {'X': 40.662742, 'Y': -73.95085},\n",
       " '243': {'X': 40.656652, 'Y': -73.9502},\n",
       " '244': {'X': 40.650843, 'Y': -73.949575},\n",
       " '245': {'X': 40.645098, 'Y': -73.948959},\n",
       " '246': {'X': 40.639967, 'Y': -73.948411},\n",
       " '247': {'X': 40.632836, 'Y': -73.947642},\n",
       " '249': {'X': 40.669399, 'Y': -73.942161},\n",
       " '251': {'X': 40.664717, 'Y': -73.92260999999998},\n",
       " '252': {'X': 40.661453, 'Y': -73.916327},\n",
       " '253': {'X': 40.662549, 'Y': -73.908946},\n",
       " '254': {'X': 40.663515, 'Y': -73.902447},\n",
       " '255': {'X': 40.664635, 'Y': -73.89489499999998},\n",
       " '256': {'X': 40.665449, 'Y': -73.889395},\n",
       " '257': {'X': 40.666235, 'Y': -73.884079},\n",
       " '301': {'X': 40.82388, 'Y': -73.93647},\n",
       " '401': {'X': 40.886037, 'Y': -73.878751},\n",
       " '402': {'X': 40.87975, 'Y': -73.88465500000002},\n",
       " '405': {'X': 40.873412, 'Y': -73.890064},\n",
       " '406': {'X': 40.86776, 'Y': -73.89717399999998},\n",
       " '407': {'X': 40.862803, 'Y': -73.901034},\n",
       " '408': {'X': 40.858407, 'Y': -73.903879},\n",
       " '409': {'X': 40.853453, 'Y': -73.907684},\n",
       " '410': {'X': 40.84848, 'Y': -73.911794},\n",
       " '411': {'X': 40.844434, 'Y': -73.91468499999998},\n",
       " '412': {'X': 40.840075, 'Y': -73.91779100000002},\n",
       " '413': {'X': 40.835537, 'Y': -73.9214},\n",
       " '414_D11': {'X': 40.827994, 'Y': -73.925831},\n",
       " '621': {'X': 40.804138, 'Y': -73.93759399999998},\n",
       " '418': {'X': 40.710368, 'Y': -74.009509},\n",
       " '640': {'X': 40.713065, 'Y': -74.004131},\n",
       " '419': {'X': 40.707557, 'Y': -74.011862},\n",
       " '420': {'X': 40.704817, 'Y': -74.014065},\n",
       " '501': {'X': 40.8883, 'Y': -73.830834},\n",
       " '502': {'X': 40.878663, 'Y': -73.83859100000002},\n",
       " '503': {'X': 40.869526, 'Y': -73.846384},\n",
       " '504': {'X': 40.858985, 'Y': -73.85535899999998},\n",
       " '601': {'X': 40.852462, 'Y': -73.828121},\n",
       " '602': {'X': 40.84681, 'Y': -73.83256899999998},\n",
       " '603': {'X': 40.843863, 'Y': -73.836322},\n",
       " '604': {'X': 40.839892, 'Y': -73.842952},\n",
       " '606': {'X': 40.836488, 'Y': -73.847036},\n",
       " '607': {'X': 40.834255, 'Y': -73.85122199999998},\n",
       " '608': {'X': 40.833226, 'Y': -73.860816},\n",
       " '609': {'X': 40.831509, 'Y': -73.86761800000002},\n",
       " '613': {'X': 40.820948, 'Y': -73.890549},\n",
       " '610': {'X': 40.829521, 'Y': -73.874516},\n",
       " '611': {'X': 40.828584, 'Y': -73.879159},\n",
       " '612': {'X': 40.826525, 'Y': -73.88628299999998},\n",
       " '619': {'X': 40.810476, 'Y': -73.926138},\n",
       " '614': {'X': 40.816104, 'Y': -73.896435},\n",
       " '615': {'X': 40.812118, 'Y': -73.904098},\n",
       " '616': {'X': 40.808719, 'Y': -73.907657},\n",
       " '617': {'X': 40.805368, 'Y': -73.91404200000002},\n",
       " '618': {'X': 40.807566, 'Y': -73.91924},\n",
       " '622': {'X': 40.798629, 'Y': -73.94161700000002},\n",
       " '626': {'X': 40.779492, 'Y': -73.955589},\n",
       " '623': {'X': 40.79502, 'Y': -73.94425},\n",
       " '624': {'X': 40.7906, 'Y': -73.947478},\n",
       " '625': {'X': 40.785672, 'Y': -73.95107},\n",
       " '629': {'X': 40.762526, 'Y': -73.967967},\n",
       " '627': {'X': 40.77362, 'Y': -73.959874},\n",
       " '628': {'X': 40.768141, 'Y': -73.96387},\n",
       " '631': {'X': 40.751776, 'Y': -73.976848},\n",
       " '630': {'X': 40.757107, 'Y': -73.97192},\n",
       " '635': {'X': 40.734673, 'Y': -73.989951},\n",
       " '632': {'X': 40.746081, 'Y': -73.982076},\n",
       " '633': {'X': 40.74307, 'Y': -73.984264},\n",
       " '634': {'X': 40.739864, 'Y': -73.986599},\n",
       " '636': {'X': 40.730054, 'Y': -73.99107},\n",
       " '637': {'X': 40.725915, 'Y': -73.994659},\n",
       " '638': {'X': 40.722301, 'Y': -73.997141},\n",
       " '639': {'X': 40.718803, 'Y': -74.00019300000002},\n",
       " '701': {'X': 40.7596, 'Y': -73.83003000000002},\n",
       " '702': {'X': 40.754622, 'Y': -73.845625},\n",
       " '707': {'X': 40.749145, 'Y': -73.869527},\n",
       " '705': {'X': 40.75173, 'Y': -73.855334},\n",
       " '706': {'X': 40.749865, 'Y': -73.8627},\n",
       " '708': {'X': 40.74840800000001, 'Y': -73.876613},\n",
       " '712': {'X': 40.74563, 'Y': -73.902984},\n",
       " '709': {'X': 40.74765900000001, 'Y': -73.883697},\n",
       " '710_G14': {'X': 40.746848, 'Y': -73.89139399999998},\n",
       " '711': {'X': 40.746325, 'Y': -73.896403},\n",
       " '713': {'X': 40.744149, 'Y': -73.912549},\n",
       " '718_R09': {'X': 40.750582, 'Y': -73.940202},\n",
       " '714': {'X': 40.743132, 'Y': -73.918435},\n",
       " '715': {'X': 40.743781, 'Y': -73.92401600000002},\n",
       " '716': {'X': 40.744587, 'Y': -73.93099699999998},\n",
       " '719': {'X': 40.747023, 'Y': -73.945264},\n",
       " '720': {'X': 40.742216, 'Y': -73.948916},\n",
       " '721': {'X': 40.742626, 'Y': -73.953581},\n",
       " '723': {'X': 40.751431, 'Y': -73.97604100000002},\n",
       " '724': {'X': 40.753821, 'Y': -73.98196300000002},\n",
       " '725': {'X': 40.755477, 'Y': -73.987691},\n",
       " '726': {'X': 40.755882, 'Y': -74.00191},\n",
       " '901': {'X': 40.752769, 'Y': -73.979189},\n",
       " '902': {'X': 40.755983, 'Y': -73.98622900000002},\n",
       " 'A02': {'X': 40.868072, 'Y': -73.919899},\n",
       " 'A03': {'X': 40.865491, 'Y': -73.92727099999998},\n",
       " 'A05': {'X': 40.859022, 'Y': -73.93418},\n",
       " 'A06': {'X': 40.851695, 'Y': -73.937969},\n",
       " 'A07': {'X': 40.847391, 'Y': -73.939704},\n",
       " 'A12_D13': {'X': 40.824783, 'Y': -73.944216},\n",
       " 'A10': {'X': 40.836013, 'Y': -73.939892},\n",
       " 'A11': {'X': 40.830518, 'Y': -73.941514},\n",
       " 'A14': {'X': 40.817894, 'Y': -73.947649},\n",
       " 'A15': {'X': 40.811109, 'Y': -73.952343},\n",
       " 'A16': {'X': 40.805085, 'Y': -73.954882},\n",
       " 'A17': {'X': 40.800603, 'Y': -73.958161},\n",
       " 'A18': {'X': 40.796092, 'Y': -73.961454},\n",
       " 'A19': {'X': 40.791642, 'Y': -73.96469599999998},\n",
       " 'A20': {'X': 40.785868, 'Y': -73.96891600000002},\n",
       " 'A21': {'X': 40.781433, 'Y': -73.972143},\n",
       " 'A22': {'X': 40.775594, 'Y': -73.97641},\n",
       " 'A27': {'X': 40.757308, 'Y': -73.989735},\n",
       " 'A25': {'X': 40.762456, 'Y': -73.985984},\n",
       " 'D14': {'X': 40.762862, 'Y': -73.981637},\n",
       " 'A28': {'X': 40.752287, 'Y': -73.993391},\n",
       " 'A30': {'X': 40.745906, 'Y': -73.998041},\n",
       " 'A31': {'X': 40.740893, 'Y': -74.00169},\n",
       " 'A32_D20': {'X': 40.732338, 'Y': -74.000495},\n",
       " 'A34': {'X': 40.720824, 'Y': -74.005229},\n",
       " 'A33': {'X': 40.726227, 'Y': -74.003739},\n",
       " 'A36': {'X': 40.714111, 'Y': -74.008585},\n",
       " 'E01': {'X': 40.712582, 'Y': -74.009781},\n",
       " 'A38_M22': {'X': 40.710197, 'Y': -74.00769100000002},\n",
       " 'A40': {'X': 40.699337, 'Y': -73.990531},\n",
       " 'A41': {'X': 40.692338, 'Y': -73.987342},\n",
       " 'F18': {'X': 40.701397, 'Y': -73.986751},\n",
       " 'F20': {'X': 40.686145, 'Y': -73.99086199999998},\n",
       " 'A42': {'X': 40.688484, 'Y': -73.985001},\n",
       " 'G36': {'X': 40.687119, 'Y': -73.975375},\n",
       " 'A43': {'X': 40.686113, 'Y': -73.973946},\n",
       " 'A46': {'X': 40.680438, 'Y': -73.95042600000002},\n",
       " 'A44': {'X': 40.683263, 'Y': -73.965838},\n",
       " 'A45': {'X': 40.68138, 'Y': -73.956848},\n",
       " 'A47': {'X': 40.679921, 'Y': -73.94085799999998},\n",
       " 'A48': {'X': 40.679364, 'Y': -73.930729},\n",
       " 'A49': {'X': 40.678822, 'Y': -73.92078599999998},\n",
       " 'A51': {'X': 40.678334, 'Y': -73.905316},\n",
       " 'A50': {'X': 40.67834000000001, 'Y': -73.911946},\n",
       " 'A52': {'X': 40.674542, 'Y': -73.896548},\n",
       " 'A55': {'X': 40.67537700000001, 'Y': -73.872106},\n",
       " 'A53': {'X': 40.67271, 'Y': -73.89035799999998},\n",
       " 'A54': {'X': 40.67413, 'Y': -73.88075},\n",
       " 'A57': {'X': 40.677044, 'Y': -73.86505},\n",
       " 'A59': {'X': 40.679371, 'Y': -73.858992},\n",
       " 'A60': {'X': 40.679843, 'Y': -73.85146999999998},\n",
       " 'A61': {'X': 40.680429, 'Y': -73.843853},\n",
       " 'A63': {'X': 40.681711, 'Y': -73.837683},\n",
       " 'H01_H02': {'X': 40.66823400000001, 'Y': -73.834058},\n",
       " 'A64': {'X': 40.684331, 'Y': -73.832163},\n",
       " 'A65': {'X': 40.685951, 'Y': -73.82579799999998},\n",
       " 'B04': {'X': 40.754203, 'Y': -73.942836},\n",
       " 'B06': {'X': 40.759145, 'Y': -73.95326},\n",
       " 'B08': {'X': 40.764629, 'Y': -73.966113},\n",
       " 'Q03': {'X': 40.768799, 'Y': -73.958424},\n",
       " 'R14': {'X': 40.764664, 'Y': -73.98065799999998},\n",
       " 'B10': {'X': 40.763972, 'Y': -73.97745},\n",
       " 'D15': {'X': 40.758663, 'Y': -73.981329},\n",
       " 'B12': {'X': 40.646292, 'Y': -73.994324},\n",
       " 'R36': {'X': 40.655144, 'Y': -74.00354899999998},\n",
       " 'B13': {'X': 40.640914, 'Y': -73.994304},\n",
       " 'B14': {'X': 40.63626, 'Y': -73.994791},\n",
       " 'B15': {'X': 40.631435, 'Y': -73.995476},\n",
       " 'B16': {'X': 40.626472, 'Y': -73.996895},\n",
       " 'B17': {'X': 40.61958900000001, 'Y': -73.998864},\n",
       " 'B18': {'X': 40.613501, 'Y': -74.00061},\n",
       " 'B19': {'X': 40.607954, 'Y': -74.001736},\n",
       " 'B20': {'X': 40.604556, 'Y': -73.998168},\n",
       " 'B21': {'X': 40.601875, 'Y': -73.993728},\n",
       " 'B22': {'X': 40.597704, 'Y': -73.986829},\n",
       " 'B23': {'X': 40.588841, 'Y': -73.983765},\n",
       " 'D43_N12': {'X': 40.577422, 'Y': -73.98123299999997},\n",
       " 'D01': {'X': 40.874811, 'Y': -73.878855},\n",
       " 'D03': {'X': 40.873244, 'Y': -73.88713800000002},\n",
       " 'D04': {'X': 40.866978, 'Y': -73.893509},\n",
       " 'D05': {'X': 40.861296, 'Y': -73.897749},\n",
       " 'D07': {'X': 40.85041, 'Y': -73.905227},\n",
       " 'D06': {'X': 40.856093, 'Y': -73.900741},\n",
       " 'D08': {'X': 40.8459, 'Y': -73.910136},\n",
       " 'D09': {'X': 40.839306, 'Y': -73.9134},\n",
       " 'D10': {'X': 40.833771, 'Y': -73.91844},\n",
       " 'D12': {'X': 40.830135, 'Y': -73.938209},\n",
       " 'F12': {'X': 40.760167, 'Y': -73.975224},\n",
       " 'D16': {'X': 40.754222, 'Y': -73.984569},\n",
       " 'D17_R17': {'X': 40.749719, 'Y': -73.98782299999998},\n",
       " 'D18': {'X': 40.74287800000001, 'Y': -73.99282099999998},\n",
       " 'D19': {'X': 40.738228, 'Y': -73.996209},\n",
       " 'D21': {'X': 40.725297, 'Y': -73.996204},\n",
       " 'M18': {'X': 40.718315, 'Y': -73.987437},\n",
       " 'F14': {'X': 40.723402, 'Y': -73.989938},\n",
       " 'D22': {'X': 40.718267, 'Y': -73.993753},\n",
       " 'R31': {'X': 40.683666, 'Y': -73.97881},\n",
       " 'R30': {'X': 40.690635, 'Y': -73.981824},\n",
       " 'D24': {'X': 40.68446, 'Y': -73.97689},\n",
       " 'D25': {'X': 40.67705, 'Y': -73.972367},\n",
       " 'D26': {'X': 40.661614, 'Y': -73.962246},\n",
       " 'D27': {'X': 40.655292, 'Y': -73.961495},\n",
       " 'S04': {'X': 40.670343, 'Y': -73.959245},\n",
       " 'D28': {'X': 40.650527, 'Y': -73.962982},\n",
       " 'D31': {'X': 40.635082, 'Y': -73.962793},\n",
       " 'D29': {'X': 40.644031, 'Y': -73.964492},\n",
       " 'D30': {'X': 40.64092700000001, 'Y': -73.963891},\n",
       " 'D35': {'X': 40.60867, 'Y': -73.957734},\n",
       " 'D32': {'X': 40.62927, 'Y': -73.961639},\n",
       " 'D33': {'X': 40.625039, 'Y': -73.960803},\n",
       " 'D34': {'X': 40.617618, 'Y': -73.959399},\n",
       " 'D37': {'X': 40.5993, 'Y': -73.955929},\n",
       " 'D39': {'X': 40.586896, 'Y': -73.954155},\n",
       " 'D38': {'X': 40.595246, 'Y': -73.955161},\n",
       " 'D40': {'X': 40.577621, 'Y': -73.961376},\n",
       " 'D41': {'X': 40.576312, 'Y': -73.968501},\n",
       " 'D42': {'X': 40.576127, 'Y': -73.975939},\n",
       " 'F39': {'X': 40.581011, 'Y': -73.974574},\n",
       " 'N10': {'X': 40.592721, 'Y': -73.97823000000002},\n",
       " 'F01': {'X': 40.712646, 'Y': -73.783817},\n",
       " 'F02': {'X': 40.71047, 'Y': -73.793604},\n",
       " 'F03': {'X': 40.707564, 'Y': -73.803326},\n",
       " 'F06': {'X': 40.714441, 'Y': -73.831008},\n",
       " 'F04': {'X': 40.70546, 'Y': -73.81070799999998},\n",
       " 'F05': {'X': 40.709179, 'Y': -73.820574},\n",
       " 'G07': {'X': 40.702566, 'Y': -73.816859},\n",
       " 'G08': {'X': 40.721691, 'Y': -73.844521},\n",
       " 'F07': {'X': 40.718331, 'Y': -73.837324},\n",
       " 'F09': {'X': 40.747846, 'Y': -73.946},\n",
       " 'F11': {'X': 40.757552, 'Y': -73.96905500000003},\n",
       " 'G21': {'X': 40.748973, 'Y': -73.93724300000002},\n",
       " 'F15': {'X': 40.718611, 'Y': -73.988114},\n",
       " 'F16': {'X': 40.713715, 'Y': -73.990173},\n",
       " 'F24': {'X': 40.666271, 'Y': -73.980305},\n",
       " 'F21': {'X': 40.680303, 'Y': -73.995048},\n",
       " 'F22': {'X': 40.67358, 'Y': -73.995959},\n",
       " 'F23': {'X': 40.670272, 'Y': -73.989779},\n",
       " 'F27': {'X': 40.644041, 'Y': -73.979678},\n",
       " 'F25': {'X': 40.66036500000001, 'Y': -73.979493},\n",
       " 'F26': {'X': 40.650782, 'Y': -73.975776},\n",
       " 'F29': {'X': 40.636119, 'Y': -73.978172},\n",
       " 'F30': {'X': 40.629755, 'Y': -73.97697099999998},\n",
       " 'F31': {'X': 40.625322, 'Y': -73.976127},\n",
       " 'F32': {'X': 40.620769, 'Y': -73.975264},\n",
       " 'F33': {'X': 40.61514, 'Y': -73.974197},\n",
       " 'F34': {'X': 40.608944, 'Y': -73.973022},\n",
       " 'F35': {'X': 40.603217, 'Y': -73.97236099999998},\n",
       " 'F36': {'X': 40.596063, 'Y': -73.973357},\n",
       " 'F38': {'X': 40.58962, 'Y': -73.97425},\n",
       " 'G05': {'X': 40.702147, 'Y': -73.801109},\n",
       " 'G06': {'X': 40.700486, 'Y': -73.807969},\n",
       " 'J13': {'X': 40.697418, 'Y': -73.836345},\n",
       " 'J12': {'X': 40.700492, 'Y': -73.828294},\n",
       " 'G09': {'X': 40.726523, 'Y': -73.852719},\n",
       " 'G10': {'X': 40.729846, 'Y': -73.861604},\n",
       " 'G11': {'X': 40.733106, 'Y': -73.869229},\n",
       " 'G12': {'X': 40.737015, 'Y': -73.877223},\n",
       " 'G13': {'X': 40.742454, 'Y': -73.882017},\n",
       " 'G15': {'X': 40.749669, 'Y': -73.898453},\n",
       " 'G16': {'X': 40.752885, 'Y': -73.906006},\n",
       " 'G18': {'X': 40.756312, 'Y': -73.913333},\n",
       " 'G19': {'X': 40.756879, 'Y': -73.92074000000002},\n",
       " 'G20': {'X': 40.752039, 'Y': -73.928781},\n",
       " 'R11': {'X': 40.76266, 'Y': -73.967258},\n",
       " 'G22': {'X': 40.746554, 'Y': -73.943832},\n",
       " 'G24': {'X': 40.744065, 'Y': -73.949724},\n",
       " 'G26': {'X': 40.731352, 'Y': -73.954449},\n",
       " 'G28': {'X': 40.724635, 'Y': -73.951277},\n",
       " 'G29': {'X': 40.712792, 'Y': -73.951418},\n",
       " 'G30': {'X': 40.706092, 'Y': -73.95030799999998},\n",
       " 'G31': {'X': 40.700377, 'Y': -73.950234},\n",
       " 'G32': {'X': 40.694568, 'Y': -73.949046},\n",
       " 'G33': {'X': 40.689627, 'Y': -73.95352199999998},\n",
       " 'G34': {'X': 40.688873, 'Y': -73.96007},\n",
       " 'G35': {'X': 40.688089, 'Y': -73.96683900000002},\n",
       " 'H03': {'X': 40.660476, 'Y': -73.830301},\n",
       " 'H04_H19': {'X': 40.608382, 'Y': -73.815925},\n",
       " 'H06': {'X': 40.590927, 'Y': -73.796924},\n",
       " 'H12': {'X': 40.588034, 'Y': -73.813641},\n",
       " 'H07': {'X': 40.592374, 'Y': -73.788522},\n",
       " 'H08': {'X': 40.592943, 'Y': -73.776013},\n",
       " 'H09': {'X': 40.595398, 'Y': -73.768175},\n",
       " 'H10': {'X': 40.600066, 'Y': -73.761353},\n",
       " 'H11': {'X': 40.603995, 'Y': -73.75540500000002},\n",
       " 'H13': {'X': 40.585307, 'Y': -73.82055799999998},\n",
       " 'H14': {'X': 40.583209, 'Y': -73.827559},\n",
       " 'H15': {'X': 40.580903, 'Y': -73.835592},\n",
       " 'J14': {'X': 40.69517800000001, 'Y': -73.84433},\n",
       " 'J15': {'X': 40.693879, 'Y': -73.851576},\n",
       " 'J17': {'X': 40.691324, 'Y': -73.867139},\n",
       " 'J16': {'X': 40.692435, 'Y': -73.86001},\n",
       " 'J19': {'X': 40.689941, 'Y': -73.87255},\n",
       " 'J20': {'X': 40.683194, 'Y': -73.873785},\n",
       " 'J21': {'X': 40.68141, 'Y': -73.880039},\n",
       " 'J22': {'X': 40.679947, 'Y': -73.884639},\n",
       " 'J23': {'X': 40.678024, 'Y': -73.891688},\n",
       " 'J24': {'X': 40.676992, 'Y': -73.89865400000002},\n",
       " 'J27': {'X': 40.679498, 'Y': -73.904512},\n",
       " 'J29': {'X': 40.68637, 'Y': -73.91655899999998},\n",
       " 'J28': {'X': 40.682893, 'Y': -73.91045600000002},\n",
       " 'J30': {'X': 40.68963, 'Y': -73.92227},\n",
       " 'J31': {'X': 40.693342, 'Y': -73.928814},\n",
       " 'M11': {'X': 40.697207, 'Y': -73.93565699999998},\n",
       " 'L01': {'X': 40.739777, 'Y': -74.002578},\n",
       " 'L02': {'X': 40.737335, 'Y': -73.996786},\n",
       " 'L03': {'X': 40.734789, 'Y': -73.99073},\n",
       " 'L05': {'X': 40.732849, 'Y': -73.986122},\n",
       " 'L06': {'X': 40.730953, 'Y': -73.981628},\n",
       " 'L08': {'X': 40.717304, 'Y': -73.956872},\n",
       " 'L10': {'X': 40.714063, 'Y': -73.950275},\n",
       " 'L11': {'X': 40.714565, 'Y': -73.944053},\n",
       " 'L12': {'X': 40.711926, 'Y': -73.94067},\n",
       " 'L13': {'X': 40.707739, 'Y': -73.93985},\n",
       " 'L14': {'X': 40.706152, 'Y': -73.93314699999998},\n",
       " 'L15': {'X': 40.706607, 'Y': -73.922913},\n",
       " 'L16': {'X': 40.703811, 'Y': -73.918425},\n",
       " 'L17': {'X': 40.699814, 'Y': -73.911586},\n",
       " 'L19': {'X': 40.695602, 'Y': -73.904084},\n",
       " 'L20': {'X': 40.688764, 'Y': -73.904046},\n",
       " 'L21': {'X': 40.682829, 'Y': -73.905249},\n",
       " 'L22': {'X': 40.678856, 'Y': -73.90324},\n",
       " 'L24': {'X': 40.675345, 'Y': -73.903097},\n",
       " 'L25': {'X': 40.669367, 'Y': -73.901975},\n",
       " 'L26': {'X': 40.664038, 'Y': -73.900571},\n",
       " 'L27': {'X': 40.65873300000001, 'Y': -73.899232},\n",
       " 'L28': {'X': 40.650573, 'Y': -73.899485},\n",
       " 'L29': {'X': 40.646654, 'Y': -73.90185},\n",
       " 'M01': {'X': 40.711396, 'Y': -73.889601},\n",
       " 'M04': {'X': 40.706186, 'Y': -73.895877},\n",
       " 'M05': {'X': 40.704423, 'Y': -73.903077},\n",
       " 'M06': {'X': 40.702762, 'Y': -73.90774},\n",
       " 'M08': {'X': 40.69943, 'Y': -73.912385},\n",
       " 'M09': {'X': 40.698664, 'Y': -73.91971099999998},\n",
       " 'M10': {'X': 40.697857, 'Y': -73.927397},\n",
       " 'M16': {'X': 40.708359, 'Y': -73.957757},\n",
       " 'M12': {'X': 40.70026, 'Y': -73.941126},\n",
       " 'M13': {'X': 40.703869, 'Y': -73.947408},\n",
       " 'M14': {'X': 40.70687, 'Y': -73.95343100000002},\n",
       " 'M19': {'X': 40.72028, 'Y': -73.993915},\n",
       " 'M20_Q01': {'X': 40.718092, 'Y': -73.999892},\n",
       " 'M21': {'X': 40.713243, 'Y': -74.003401},\n",
       " 'M23': {'X': 40.706476, 'Y': -74.01105600000002},\n",
       " 'N02': {'X': 40.635064, 'Y': -74.011719},\n",
       " 'R41': {'X': 40.641362, 'Y': -74.017881},\n",
       " 'N03': {'X': 40.631386, 'Y': -74.005351},\n",
       " 'N04': {'X': 40.624842, 'Y': -73.996353},\n",
       " 'N05': {'X': 40.620671, 'Y': -73.990414},\n",
       " 'N06': {'X': 40.61741, 'Y': -73.985026},\n",
       " 'N07': {'X': 40.611815, 'Y': -73.981848},\n",
       " 'N08': {'X': 40.603923, 'Y': -73.98035300000002},\n",
       " 'N09': {'X': 40.597473, 'Y': -73.979137},\n",
       " 'R22': {'X': 40.724329, 'Y': -73.997702},\n",
       " 'R20': {'X': 40.735736, 'Y': -73.99056800000002},\n",
       " 'Q04': {'X': 40.777891, 'Y': -73.951787},\n",
       " 'Q05': {'X': 40.784318, 'Y': -73.947152},\n",
       " 'R01': {'X': 40.775036, 'Y': -73.91203399999998},\n",
       " 'R03': {'X': 40.770258, 'Y': -73.917843},\n",
       " 'R04': {'X': 40.766779, 'Y': -73.921479},\n",
       " 'R05': {'X': 40.76182, 'Y': -73.925508},\n",
       " 'R06': {'X': 40.756804, 'Y': -73.929575},\n",
       " 'R08': {'X': 40.752882, 'Y': -73.932755},\n",
       " 'R13': {'X': 40.764811, 'Y': -73.973347},\n",
       " 'R15': {'X': 40.759901, 'Y': -73.984139},\n",
       " 'R18': {'X': 40.745494, 'Y': -73.988691},\n",
       " 'R19': {'X': 40.741303, 'Y': -73.98934399999997},\n",
       " 'R21': {'X': 40.730328, 'Y': -73.99262900000002},\n",
       " 'R23': {'X': 40.719527, 'Y': -74.001775},\n",
       " 'R24': {'X': 40.713282, 'Y': -74.006978},\n",
       " 'R25': {'X': 40.710668, 'Y': -74.01102900000002},\n",
       " 'R26': {'X': 40.70722, 'Y': -74.01334200000002},\n",
       " 'R27': {'X': 40.703087, 'Y': -74.01299399999998},\n",
       " 'R28': {'X': 40.6941, 'Y': -73.991777},\n",
       " 'R29': {'X': 40.69218, 'Y': -73.98594200000002},\n",
       " 'R32': {'X': 40.677316, 'Y': -73.98311},\n",
       " 'R33': {'X': 40.670847, 'Y': -73.988302},\n",
       " 'R34': {'X': 40.665414, 'Y': -73.99287199999998},\n",
       " 'R35': {'X': 40.660397, 'Y': -73.998091},\n",
       " 'R39': {'X': 40.648939, 'Y': -74.010006},\n",
       " 'R40': {'X': 40.645069, 'Y': -74.014034},\n",
       " 'R42': {'X': 40.634967, 'Y': -74.023377},\n",
       " 'R43': {'X': 40.629742, 'Y': -74.02551},\n",
       " 'R44': {'X': 40.622687, 'Y': -74.028398},\n",
       " 'S01': {'X': 40.680596, 'Y': -73.955827},\n",
       " 'S03': {'X': 40.674772, 'Y': -73.957624}}"
      ]
     },
     "execution_count": 852,
     "metadata": {},
     "output_type": "execute_result"
    }
   ],
   "source": [
    "test_node_positions"
   ]
  },
  {
   "cell_type": "code",
   "execution_count": 853,
   "metadata": {},
   "outputs": [],
   "source": [
    "node_positions = {node[0]: (node[1]['Y'], node[1]['X']) for node in list(g.nodes(data=True))}\n",
    "# Preview of node_positions with a bit of hack (there is no head/slice method for dictionaries).\n",
    "# dict(list(node_positions.items())[0:5])"
   ]
  },
  {
   "cell_type": "code",
   "execution_count": 854,
   "metadata": {},
   "outputs": [
    {
     "data": {
      "application/javascript": [
       "\n",
       "        if (window._pyforest_update_imports_cell) { window._pyforest_update_imports_cell('from pyspark import SparkContext\\nfrom sklearn.manifold import TSNE\\nimport pandas as pd\\nfrom sklearn.feature_extraction.text import TfidfVectorizer\\nfrom pathlib import Path\\nfrom sklearn.ensemble import GradientBoostingClassifier\\nfrom sklearn.ensemble import RandomForestRegressor\\nfrom sklearn.preprocessing import OneHotEncoder\\nimport matplotlib.pyplot as plt\\nfrom sklearn.ensemble import GradientBoostingRegressor\\nfrom sklearn.ensemble import RandomForestClassifier\\nimport altair as alt'); }\n",
       "    "
      ],
      "text/plain": [
       "<IPython.core.display.Javascript object>"
      ]
     },
     "metadata": {},
     "output_type": "display_data"
    },
    {
     "name": "stderr",
     "output_type": "stream",
     "text": [
      "/Users/gregfeliu/opt/anaconda3/envs/learn-env/lib/python3.6/site-packages/networkx/drawing/nx_pylab.py:518: MatplotlibDeprecationWarning: \n",
      "The iterable function was deprecated in Matplotlib 3.1 and will be removed in 3.3. Use np.iterable instead.\n",
      "  The minimum margin (gap) at the end of the edge at the target.\n"
     ]
    },
    {
     "ename": "AttributeError",
     "evalue": "module 'matplotlib.cbook' has no attribute 'is_numlike'",
     "output_type": "error",
     "traceback": [
      "\u001b[0;31m---------------------------------------------------------------------------\u001b[0m",
      "\u001b[0;31mAttributeError\u001b[0m                            Traceback (most recent call last)",
      "\u001b[0;32m<ipython-input-854-e89d4433c52c>\u001b[0m in \u001b[0;36m<module>\u001b[0;34m\u001b[0m\n\u001b[1;32m      1\u001b[0m \u001b[0mplt\u001b[0m\u001b[0;34m.\u001b[0m\u001b[0mfigure\u001b[0m\u001b[0;34m(\u001b[0m\u001b[0mfigsize\u001b[0m\u001b[0;34m=\u001b[0m\u001b[0;34m(\u001b[0m\u001b[0;36m12\u001b[0m\u001b[0;34m,\u001b[0m \u001b[0;36m8\u001b[0m\u001b[0;34m)\u001b[0m\u001b[0;34m)\u001b[0m\u001b[0;34m\u001b[0m\u001b[0;34m\u001b[0m\u001b[0m\n\u001b[0;32m----> 2\u001b[0;31m \u001b[0mnx\u001b[0m\u001b[0;34m.\u001b[0m\u001b[0mdraw\u001b[0m\u001b[0;34m(\u001b[0m\u001b[0mg\u001b[0m\u001b[0;34m,\u001b[0m \u001b[0mpos\u001b[0m\u001b[0;34m=\u001b[0m\u001b[0mnode_positions\u001b[0m\u001b[0;34m,\u001b[0m \u001b[0medge_color\u001b[0m\u001b[0;34m=\u001b[0m\u001b[0;34m'red'\u001b[0m\u001b[0;34m,\u001b[0m \u001b[0mnode_size\u001b[0m\u001b[0;34m=\u001b[0m\u001b[0;36m10\u001b[0m\u001b[0;34m,\u001b[0m \u001b[0mnode_color\u001b[0m\u001b[0;34m=\u001b[0m\u001b[0;34m'black'\u001b[0m\u001b[0;34m)\u001b[0m\u001b[0;34m\u001b[0m\u001b[0;34m\u001b[0m\u001b[0m\n\u001b[0m\u001b[1;32m      3\u001b[0m \u001b[0mplt\u001b[0m\u001b[0;34m.\u001b[0m\u001b[0mtitle\u001b[0m\u001b[0;34m(\u001b[0m\u001b[0;34m'Graph Representation of Sleeping Giant Trail Map'\u001b[0m\u001b[0;34m,\u001b[0m \u001b[0msize\u001b[0m\u001b[0;34m=\u001b[0m\u001b[0;36m15\u001b[0m\u001b[0;34m)\u001b[0m\u001b[0;34m\u001b[0m\u001b[0;34m\u001b[0m\u001b[0m\n\u001b[1;32m      4\u001b[0m \u001b[0mplt\u001b[0m\u001b[0;34m.\u001b[0m\u001b[0mshow\u001b[0m\u001b[0;34m(\u001b[0m\u001b[0;34m)\u001b[0m\u001b[0;34m\u001b[0m\u001b[0;34m\u001b[0m\u001b[0m\n",
      "\u001b[0;32m~/opt/anaconda3/envs/learn-env/lib/python3.6/site-packages/networkx/drawing/nx_pylab.py\u001b[0m in \u001b[0;36mdraw\u001b[0;34m(G, pos, ax, **kwds)\u001b[0m\n\u001b[1;32m    124\u001b[0m \u001b[0;34m\u001b[0m\u001b[0m\n\u001b[1;32m    125\u001b[0m     \u001b[0mdraw_networkx\u001b[0m\u001b[0;34m(\u001b[0m\u001b[0mG\u001b[0m\u001b[0;34m,\u001b[0m \u001b[0mpos\u001b[0m\u001b[0;34m=\u001b[0m\u001b[0mpos\u001b[0m\u001b[0;34m,\u001b[0m \u001b[0max\u001b[0m\u001b[0;34m=\u001b[0m\u001b[0max\u001b[0m\u001b[0;34m,\u001b[0m \u001b[0;34m**\u001b[0m\u001b[0mkwds\u001b[0m\u001b[0;34m)\u001b[0m\u001b[0;34m\u001b[0m\u001b[0;34m\u001b[0m\u001b[0m\n\u001b[0;32m--> 126\u001b[0;31m     \u001b[0max\u001b[0m\u001b[0;34m.\u001b[0m\u001b[0mset_axis_off\u001b[0m\u001b[0;34m(\u001b[0m\u001b[0;34m)\u001b[0m\u001b[0;34m\u001b[0m\u001b[0;34m\u001b[0m\u001b[0m\n\u001b[0m\u001b[1;32m    127\u001b[0m     \u001b[0mplt\u001b[0m\u001b[0;34m.\u001b[0m\u001b[0mdraw_if_interactive\u001b[0m\u001b[0;34m(\u001b[0m\u001b[0;34m)\u001b[0m\u001b[0;34m\u001b[0m\u001b[0;34m\u001b[0m\u001b[0m\n\u001b[1;32m    128\u001b[0m     \u001b[0;32mreturn\u001b[0m\u001b[0;34m\u001b[0m\u001b[0;34m\u001b[0m\u001b[0m\n",
      "\u001b[0;32m~/opt/anaconda3/envs/learn-env/lib/python3.6/site-packages/networkx/drawing/nx_pylab.py\u001b[0m in \u001b[0;36mdraw_networkx\u001b[0;34m(G, pos, arrows, with_labels, **kwds)\u001b[0m\n\u001b[1;32m    267\u001b[0m     \u001b[0;32mexcept\u001b[0m \u001b[0mRuntimeError\u001b[0m\u001b[0;34m:\u001b[0m\u001b[0;34m\u001b[0m\u001b[0;34m\u001b[0m\u001b[0m\n\u001b[1;32m    268\u001b[0m         \u001b[0mprint\u001b[0m\u001b[0;34m(\u001b[0m\u001b[0;34m\"Matplotlib unable to open display\"\u001b[0m\u001b[0;34m)\u001b[0m\u001b[0;34m\u001b[0m\u001b[0;34m\u001b[0m\u001b[0m\n\u001b[0;32m--> 269\u001b[0;31m         \u001b[0;32mraise\u001b[0m\u001b[0;34m\u001b[0m\u001b[0;34m\u001b[0m\u001b[0m\n\u001b[0m\u001b[1;32m    270\u001b[0m \u001b[0;34m\u001b[0m\u001b[0m\n\u001b[1;32m    271\u001b[0m     \u001b[0;32mif\u001b[0m \u001b[0mpos\u001b[0m \u001b[0;32mis\u001b[0m \u001b[0;32mNone\u001b[0m\u001b[0;34m:\u001b[0m\u001b[0;34m\u001b[0m\u001b[0;34m\u001b[0m\u001b[0m\n",
      "\u001b[0;32m~/opt/anaconda3/envs/learn-env/lib/python3.6/site-packages/networkx/drawing/nx_pylab.py\u001b[0m in \u001b[0;36mdraw_networkx_edges\u001b[0;34m(G, pos, edgelist, width, edge_color, style, alpha, edge_cmap, edge_vmin, edge_vmax, ax, arrows, label, **kwds)\u001b[0m\n\u001b[1;32m    563\u001b[0m         \u001b[0;32mfrom\u001b[0m \u001b[0mmatplotlib\u001b[0m\u001b[0;34m.\u001b[0m\u001b[0mcollections\u001b[0m \u001b[0;32mimport\u001b[0m \u001b[0mLineCollection\u001b[0m\u001b[0;34m\u001b[0m\u001b[0;34m\u001b[0m\u001b[0m\n\u001b[1;32m    564\u001b[0m         \u001b[0;32mfrom\u001b[0m \u001b[0mmatplotlib\u001b[0m\u001b[0;34m.\u001b[0m\u001b[0mpatches\u001b[0m \u001b[0;32mimport\u001b[0m \u001b[0mFancyArrowPatch\u001b[0m\u001b[0;34m\u001b[0m\u001b[0;34m\u001b[0m\u001b[0m\n\u001b[0;32m--> 565\u001b[0;31m         \u001b[0;32mimport\u001b[0m \u001b[0mnumpy\u001b[0m \u001b[0;32mas\u001b[0m \u001b[0mnp\u001b[0m\u001b[0;34m\u001b[0m\u001b[0;34m\u001b[0m\u001b[0m\n\u001b[0m\u001b[1;32m    566\u001b[0m     \u001b[0;32mexcept\u001b[0m \u001b[0mImportError\u001b[0m\u001b[0;34m:\u001b[0m\u001b[0;34m\u001b[0m\u001b[0;34m\u001b[0m\u001b[0m\n\u001b[1;32m    567\u001b[0m         \u001b[0;32mraise\u001b[0m \u001b[0mImportError\u001b[0m\u001b[0;34m(\u001b[0m\u001b[0;34m\"Matplotlib required for draw()\"\u001b[0m\u001b[0;34m)\u001b[0m\u001b[0;34m\u001b[0m\u001b[0;34m\u001b[0m\u001b[0m\n",
      "\u001b[0;31mAttributeError\u001b[0m: module 'matplotlib.cbook' has no attribute 'is_numlike'"
     ]
    },
    {
     "data": {
      "image/png": "[encoded data removed]",
      "text/plain": [
       "<Figure size 864x576 with 1 Axes>"
      ]
     },
     "metadata": {},
     "output_type": "display_data"
    }
   ],
   "source": [
    "plt.figure(figsize=(12, 8))\n",
    "nx.draw(g, pos=node_positions, edge_color='red', node_size=10, node_color='black')\n",
    "plt.title('Graph Representation of Sleeping Giant Trail Map', size=15)\n",
    "plt.show()"
   ]
  },
  {
   "cell_type": "markdown",
   "metadata": {},
   "source": [
    "## Solve Problem"
   ]
  },
  {
   "cell_type": "code",
   "execution_count": 855,
   "metadata": {},
   "outputs": [
    {
     "data": {
      "text/plain": [
       "['101', '112_A09', '125_A24', '128', '140_142']"
      ]
     },
     "execution_count": 855,
     "metadata": {},
     "output_type": "execute_result"
    }
   ],
   "source": [
    "nodes_odd_degree = [v for v, d in g.degree() if d % 2 == 1]\n",
    "nodes_odd_degree[0:5]"
   ]
  },
  {
   "cell_type": "code",
   "execution_count": 856,
   "metadata": {},
   "outputs": [
    {
     "name": "stdout",
     "output_type": "stream",
     "text": [
      "Number of nodes of odd degree: 82\n",
      "Number of total nodes: 461\n"
     ]
    }
   ],
   "source": [
    "print('Number of nodes of odd degree: {}'.format(len(nodes_odd_degree)))\n",
    "print('Number of total nodes: {}'.format(len(g.nodes())))"
   ]
  },
  {
   "cell_type": "code",
   "execution_count": 857,
   "metadata": {},
   "outputs": [
    {
     "data": {
      "text/plain": [
       "[('101', '112_A09'), ('101', '125_A24'), ('101', '128')]"
      ]
     },
     "execution_count": 857,
     "metadata": {},
     "output_type": "execute_result"
    }
   ],
   "source": [
    "# Compute all pairs of odd nodes. in a list of tuples\n",
    "odd_node_pairs = list(itertools.combinations(nodes_odd_degree, 2))\n",
    "# Preview pairs of odd degree nodes\n",
    "odd_node_pairs[0:3]"
   ]
  },
  {
   "cell_type": "code",
   "execution_count": 858,
   "metadata": {},
   "outputs": [
    {
     "name": "stdout",
     "output_type": "stream",
     "text": [
      "Number of pairs: 3321\n"
     ]
    }
   ],
   "source": [
    "print('Number of pairs: {}'.format(len(odd_node_pairs)))"
   ]
  },
  {
   "cell_type": "code",
   "execution_count": 859,
   "metadata": {
    "code_folding": [
     0
    ]
   },
   "outputs": [],
   "source": [
    "def get_shortest_paths_distances(graph, pairs, edge_weight_name):\n",
    "    \"\"\"Compute shortest distance between each pair of nodes in a graph.  Return a dictionary keyed on node pairs (tuples).\"\"\"\n",
    "    distances = {}\n",
    "    for pair in pairs:\n",
    "        distances[pair] = nx.dijkstra_path_length(graph, pair[0], pair[1], weight=edge_weight_name)\n",
    "    return distances"
   ]
  },
  {
   "cell_type": "code",
   "execution_count": 860,
   "metadata": {},
   "outputs": [],
   "source": [
    "# odd_node_pairs_shortest_paths = get_shortest_paths_distances(g, odd_node_pairs, 'distance')\n",
    "# Preview with a bit of hack (there is no head/slice method for dictionaries).\n",
    "# dict(list(odd_node_pairs_shortest_paths.items())[0:10])"
   ]
  },
  {
   "cell_type": "code",
   "execution_count": 861,
   "metadata": {},
   "outputs": [],
   "source": [
    "# find CPP solution\n",
    "# circuit, graph = cpp(edgelist_filename='./saved_data/edge_list_df_no_req.csv', start_node = 'R42', verbose=True)"
   ]
  },
  {
   "cell_type": "markdown",
   "metadata": {},
   "source": [
    "# Attempt using Networkx"
   ]
  },
  {
   "cell_type": "code",
   "execution_count": 862,
   "metadata": {},
   "outputs": [
    {
     "name": "stdout",
     "output_type": "stream",
     "text": [
      "False\n"
     ]
    }
   ],
   "source": [
    "print(nx.is_connected(g))"
   ]
  },
  {
   "cell_type": "code",
   "execution_count": 863,
   "metadata": {},
   "outputs": [
    {
     "name": "stdout",
     "output_type": "stream",
     "text": [
      "<generator object connected_components at 0x7fec278b44c0>\n"
     ]
    }
   ],
   "source": [
    "print(nx.connected_components(g))"
   ]
  },
  {
   "cell_type": "code",
   "execution_count": 864,
   "metadata": {},
   "outputs": [
    {
     "data": {
      "text/plain": [
       "[435, 24, 2]"
      ]
     },
     "execution_count": 864,
     "metadata": {},
     "output_type": "execute_result"
    }
   ],
   "source": [
    "[len(c) for c in sorted(nx.connected_components(g), key=len, reverse=True)]"
   ]
  },
  {
   "cell_type": "code",
   "execution_count": 865,
   "metadata": {},
   "outputs": [
    {
     "data": {
      "text/plain": [
       "3"
      ]
     },
     "execution_count": 865,
     "metadata": {},
     "output_type": "execute_result"
    }
   ],
   "source": [
    "# so I have 7 \"islands\" in my graph\n",
    "nx.number_connected_components(g)"
   ]
  },
  {
   "cell_type": "code",
   "execution_count": 866,
   "metadata": {},
   "outputs": [
    {
     "data": {
      "text/plain": [
       "[]"
      ]
     },
     "execution_count": 866,
     "metadata": {},
     "output_type": "execute_result"
    }
   ],
   "source": [
    "# no \"island\" nodes\n",
    "[len(c) for c in sorted(nx.isolates(g), key=len, reverse=True)]"
   ]
  },
  {
   "cell_type": "code",
   "execution_count": 867,
   "metadata": {},
   "outputs": [],
   "source": [
    "chain_decomp = [len(c) for c in sorted(nx.algorithms.chains.chain_decomposition(g), key=len, reverse=True)]\n",
    "one_chain = [x for x in chain_decomp if x == 1]"
   ]
  },
  {
   "cell_type": "code",
   "execution_count": 868,
   "metadata": {},
   "outputs": [],
   "source": [
    "# https://stackoverflow.com/questions/20012579/is-there-an-easy-way-to-prune-disconnected-networks-in-a-networkx-graph\n",
    "# Generate connected components and select the largest:\n",
    "largest_component = max(nx.connected_components(g), key=len)\n",
    "# Create a subgraph of G consisting only of this component:\n",
    "g2 = g.subgraph(largest_component)"
   ]
  },
  {
   "cell_type": "code",
   "execution_count": 869,
   "metadata": {},
   "outputs": [],
   "source": [
    "# largest_component"
   ]
  },
  {
   "cell_type": "code",
   "execution_count": 870,
   "metadata": {},
   "outputs": [
    {
     "data": {
      "text/plain": [
       "{'901', '902'}"
      ]
     },
     "execution_count": 870,
     "metadata": {},
     "output_type": "execute_result"
    }
   ],
   "source": [
    "## I need to fix the L and 42st shuttle connections!!!\n",
    "min(nx.connected_components(g), key=len)"
   ]
  },
  {
   "cell_type": "code",
   "execution_count": 874,
   "metadata": {},
   "outputs": [],
   "source": [
    "all_connected_components = list(nx.connected_components(g))"
   ]
  },
  {
   "cell_type": "code",
   "execution_count": 877,
   "metadata": {},
   "outputs": [],
   "source": [
    "# all_connected_components[2]"
   ]
  },
  {
   "cell_type": "code",
   "execution_count": 871,
   "metadata": {},
   "outputs": [
    {
     "data": {
      "text/html": [
       "<div>\n",
       "<style scoped>\n",
       "    .dataframe tbody tr th:only-of-type {\n",
       "        vertical-align: middle;\n",
       "    }\n",
       "\n",
       "    .dataframe tbody tr th {\n",
       "        vertical-align: top;\n",
       "    }\n",
       "\n",
       "    .dataframe thead th {\n",
       "        text-align: right;\n",
       "    }\n",
       "</style>\n",
       "<table border=\"1\" class=\"dataframe\">\n",
       "  <thead>\n",
       "    <tr style=\"text-align: right;\">\n",
       "      <th></th>\n",
       "      <th>stop_id</th>\n",
       "      <th>stop_name</th>\n",
       "      <th>stop_lat</th>\n",
       "      <th>stop_lon</th>\n",
       "      <th>location_type</th>\n",
       "      <th>parent_station</th>\n",
       "    </tr>\n",
       "  </thead>\n",
       "  <tbody>\n",
       "    <tr>\n",
       "      <th>534</th>\n",
       "      <td>902</td>\n",
       "      <td>Times Sq - 42 St</td>\n",
       "      <td>40.755983</td>\n",
       "      <td>-73.986229</td>\n",
       "      <td>1</td>\n",
       "      <td>NaN</td>\n",
       "    </tr>\n",
       "  </tbody>\n",
       "</table>\n",
       "</div>"
      ],
      "text/plain": [
       "    stop_id         stop_name   stop_lat   stop_lon  location_type  \\\n",
       "534     902  Times Sq - 42 St  40.755983 -73.986229              1   \n",
       "\n",
       "     parent_station  \n",
       "534             NaN  "
      ]
     },
     "execution_count": 871,
     "metadata": {},
     "output_type": "execute_result"
    }
   ],
   "source": [
    "non_unique_stations_df[non_unique_stations_df['stop_id'] == '902']"
   ]
  },
  {
   "cell_type": "code",
   "execution_count": null,
   "metadata": {},
   "outputs": [],
   "source": [
    "my_edgelist[my_edgelist['node2'] == '902']"
   ]
  },
  {
   "cell_type": "code",
   "execution_count": null,
   "metadata": {},
   "outputs": [],
   "source": [
    "non_unique_stations_df[non_unique_stations_df['stop_name'].str.contains(\"Central\")]"
   ]
  },
  {
   "cell_type": "code",
   "execution_count": null,
   "metadata": {},
   "outputs": [],
   "source": [
    "len(non_unique_stations_df)"
   ]
  },
  {
   "cell_type": "markdown",
   "metadata": {},
   "source": [
    "## TSP"
   ]
  },
  {
   "cell_type": "code",
   "execution_count": null,
   "metadata": {},
   "outputs": [],
   "source": [
    "nx_solution = dnx.traveling_salesperson(g, sampler=dimod.ExactSolver())"
   ]
  },
  {
   "cell_type": "markdown",
   "metadata": {},
   "source": [
    "# Attempt using Dijkstar"
   ]
  },
  {
   "cell_type": "code",
   "execution_count": null,
   "metadata": {},
   "outputs": [],
   "source": []
  }
 ],
 "metadata": {
  "kernelspec": {
   "display_name": "Python [conda env:learn-env] *",
   "language": "python",
   "name": "conda-env-learn-env-py"
  },
  "language_info": {
   "codemirror_mode": {
    "name": "ipython",
    "version": 3
   },
   "file_extension": ".py",
   "mimetype": "text/x-python",
   "name": "python",
   "nbconvert_exporter": "python",
   "pygments_lexer": "ipython3",
   "version": "3.6.9"
  },
  "toc": {
   "base_numbering": 1,
   "nav_menu": {},
   "number_sections": true,
   "sideBar": true,
   "skip_h1_title": false,
   "title_cell": "Table of Contents",
   "title_sidebar": "Contents",
   "toc_cell": false,
   "toc_position": {
    "height": "calc(100% - 180px)",
    "left": "10px",
    "top": "150px",
    "width": "384px"
   },
   "toc_section_display": true,
   "toc_window_display": true
  },
  "varInspector": {
   "cols": {
    "lenName": 16,
    "lenType": 16,
    "lenVar": 40
   },
   "kernels_config": {
    "python": {
     "delete_cmd_postfix": "",
     "delete_cmd_prefix": "del ",
     "library": "var_list.py",
     "varRefreshCmd": "print(var_dic_list())"
    },
    "r": {
     "delete_cmd_postfix": ") ",
     "delete_cmd_prefix": "rm(",
     "library": "var_list.r",
     "varRefreshCmd": "cat(var_dic_list()) "
    }
   },
   "types_to_exclude": [
    "module",
    "function",
    "builtin_function_or_method",
    "instance",
    "_Feature"
   ],
   "window_display": false
  }
 },
 "nbformat": 4,
 "nbformat_minor": 2
}
